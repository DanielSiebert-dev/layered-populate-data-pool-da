{
 "cells": [
  {
   "cell_type": "code",
   "execution_count": 27,
   "id": "58d64671",
   "metadata": {},
   "outputs": [],
   "source": [
    "import pandas as pd\n",
    "import geopandas as gpd\n",
    "from pathlib import Path"
   ]
  },
  {
   "cell_type": "code",
   "execution_count": 28,
   "id": "b1309451",
   "metadata": {},
   "outputs": [
    {
     "name": "stdout",
     "output_type": "stream",
     "text": [
      "Requirement already satisfied: pandas in g:\\data_analysys\\progs\\anaconda\\lib\\site-packages (2.3.2)\n",
      "Requirement already satisfied: numpy>=1.26.0 in g:\\data_analysys\\progs\\anaconda\\lib\\site-packages (from pandas) (2.1.3)\n",
      "Requirement already satisfied: python-dateutil>=2.8.2 in g:\\data_analysys\\progs\\anaconda\\lib\\site-packages (from pandas) (2.9.0.post0)\n",
      "Requirement already satisfied: pytz>=2020.1 in g:\\data_analysys\\progs\\anaconda\\lib\\site-packages (from pandas) (2024.1)\n",
      "Requirement already satisfied: tzdata>=2022.7 in g:\\data_analysys\\progs\\anaconda\\lib\\site-packages (from pandas) (2025.2)\n",
      "Requirement already satisfied: six>=1.5 in g:\\data_analysys\\progs\\anaconda\\lib\\site-packages (from python-dateutil>=2.8.2->pandas) (1.17.0)\n",
      "Note: you may need to restart the kernel to use updated packages.\n"
     ]
    }
   ],
   "source": [
    "pip install --upgrade pandas"
   ]
  },
  {
   "cell_type": "code",
   "execution_count": 29,
   "id": "6c6fbf0a",
   "metadata": {},
   "outputs": [
    {
     "name": "stdout",
     "output_type": "stream",
     "text": [
      "New columns have been added successfully! ✅\n",
      "     city district neighborhood\n",
      "0  Berlin    Mitte        Mitte\n",
      "1  Berlin    Mitte        Mitte\n",
      "2  Berlin    Mitte        Mitte\n",
      "3  Berlin    Mitte        Mitte\n",
      "4  Berlin    Mitte        Mitte\n"
     ]
    }
   ],
   "source": [
    "# --- 1. Load Your Data ---\n",
    "\n",
    "# Path to the CSV file we are enriching\n",
    "csv_path = Path('../clean/deutschepost_clean.csv')\n",
    "df = pd.read_csv(csv_path)\n",
    "\n",
    "# Path to the GeoJSON file (in the same 'scripts' folder)\n",
    "geojson_path = 'lor_ortsteile.geojson'\n",
    "gdf_polygons = gpd.read_file(geojson_path)\n",
    "\n",
    "\n",
    "# --- 2. Create GeoDataFrames ---\n",
    "\n",
    "# Convert your DataFrame of post offices into a GeoDataFrame\n",
    "gdf_points = gpd.GeoDataFrame(\n",
    "    df, geometry=gpd.points_from_xy(df.longitude, df.latitude), crs=\"EPSG:4326\"\n",
    ")\n",
    "\n",
    "# Ensure both GeoDataFrames use the same Coordinate Reference System (CRS)\n",
    "gdf_polygons = gdf_polygons.to_crs(gdf_points.crs)\n",
    "\n",
    "\n",
    "# --- 3. Perform the Spatial Join ---\n",
    "\n",
    "# This finds which polygon (neighborhood) each point is in\n",
    "gdf_joined = gpd.sjoin(gdf_points, gdf_polygons, how=\"left\", predicate='within')\n",
    "\n",
    "\n",
    "# --- 4. Add the New Columns to Your Original DataFrame ---\n",
    "\n",
    "# We use the final column names we identified\n",
    "district_col_name = 'BEZIRK'\n",
    "neighborhood_col_name = 'OTEIL'\n",
    "\n",
    "# Add the new columns from the joined data back to your original DataFrame\n",
    "df['district'] = gdf_joined[district_col_name].reset_index(drop=True)\n",
    "df['neighborhood'] = gdf_joined[neighborhood_col_name].reset_index(drop=True)\n",
    "\n",
    "\n",
    "# --- 5. Check the Result ---\n",
    "print(\"New columns have been added successfully! ✅\")\n",
    "# The redundant 'neighborhood_id' column has been removed from the check\n",
    "print(df[['city', 'district', 'neighborhood']].head())\n",
    "\n",
    "\n"
   ]
  },
  {
   "cell_type": "markdown",
   "id": "0d69e22c",
   "metadata": {},
   "source": [
    "Now we need to add a column district_id and neighborhood_id from database tables layered-populate-data-pool-da\\post_offices\\sources\\districts.csv and layered-populate-data-pool-da\\post_offices\\sources\\neighborhoods.csv "
   ]
  },
  {
   "cell_type": "code",
   "execution_count": 30,
   "id": "5718cec3",
   "metadata": {},
   "outputs": [
    {
     "name": "stdout",
     "output_type": "stream",
     "text": [
      "--- Districts Table Info ---\n",
      "<class 'pandas.core.frame.DataFrame'>\n",
      "RangeIndex: 12 entries, 0 to 11\n",
      "Data columns (total 3 columns):\n",
      " #   Column       Non-Null Count  Dtype \n",
      "---  ------       --------------  ----- \n",
      " 0   district_id  12 non-null     int64 \n",
      " 1   district     12 non-null     object\n",
      " 2   geometry     12 non-null     object\n",
      "dtypes: int64(1), object(2)\n",
      "memory usage: 420.0+ bytes\n",
      "\n",
      "--- Districts Table Head ---\n",
      "   district_id                    district  \\\n",
      "0     11012012               Reinickendorf   \n",
      "1     11004004  Charlottenburg-Wilmersdorf   \n",
      "2     11009009            Treptow-Köpenick   \n",
      "3     11003003                      Pankow   \n",
      "4     11008008                    Neukölln   \n",
      "\n",
      "                                            geometry  \n",
      "0  MULTIPOLYGON (((13.320744327762688 52.62659906...  \n",
      "1  MULTIPOLYGON (((13.321109641281137 52.52446299...  \n",
      "2  MULTIPOLYGON (((13.579253945950567 52.39083025...  \n",
      "3  MULTIPOLYGON (((13.504807966473637 52.61959821...  \n",
      "4  MULTIPOLYGON (((13.458320351792578 52.48568825...  \n",
      "\n",
      "==================================================\n",
      "\n",
      "--- Neighborhoods Table Info ---\n",
      "<class 'pandas.core.frame.DataFrame'>\n",
      "RangeIndex: 96 entries, 0 to 95\n",
      "Data columns (total 5 columns):\n",
      " #   Column           Non-Null Count  Dtype \n",
      "---  ------           --------------  ----- \n",
      " 0   district_id      96 non-null     int64 \n",
      " 1   district         96 non-null     object\n",
      " 2   neighborhood_id  96 non-null     int64 \n",
      " 3   neighborhood     96 non-null     object\n",
      " 4   geometry         96 non-null     object\n",
      "dtypes: int64(2), object(3)\n",
      "memory usage: 3.9+ KB\n",
      "\n",
      "--- Neighborhoods Table Head ---\n",
      "   district_id district  neighborhood_id  neighborhood  \\\n",
      "0     11001001    Mitte              101         Mitte   \n",
      "1     11001001    Mitte              102        Moabit   \n",
      "2     11001001    Mitte              103  Hansaviertel   \n",
      "3     11001001    Mitte              104    Tiergarten   \n",
      "4     11001001    Mitte              105       Wedding   \n",
      "\n",
      "                                            geometry  \n",
      "0  MULTIPOLYGON (((13.416490486705102 52.52696152...  \n",
      "1  MULTIPOLYGON (((13.338835973655774 52.51973541...  \n",
      "2  MULTIPOLYGON (((13.343217433986748 52.51556526...  \n",
      "3  MULTIPOLYGON (((13.368793856174213 52.49878098...  \n",
      "4  MULTIPOLYGON (((13.346564518309984 52.53878901...  \n"
     ]
    }
   ],
   "source": [
    "# --- Load the new lookup tables ---\n",
    "\n",
    "districts_path = Path('../sources/districts.csv')\n",
    "neighborhoods_path = Path('../sources/neighborhoods.csv')\n",
    "\n",
    "# Read the CSV files into DataFrames\n",
    "districts_df = pd.read_csv(districts_path)\n",
    "neighborhoods_df = pd.read_csv(neighborhoods_path)\n",
    "\n",
    "# --- Inspect the DataFrames ---\n",
    "\n",
    "print(\"--- Districts Table Info ---\")\n",
    "districts_df.info()\n",
    "print(\"\\n--- Districts Table Head ---\")\n",
    "print(districts_df.head())\n",
    "\n",
    "print(\"\\n\" + \"=\"*50 + \"\\n\") # A separator for clarity\n",
    "\n",
    "print(\"--- Neighborhoods Table Info ---\")\n",
    "neighborhoods_df.info()\n",
    "print(\"\\n--- Neighborhoods Table Head ---\")\n",
    "print(neighborhoods_df.head())"
   ]
  },
  {
   "cell_type": "code",
   "execution_count": 31,
   "id": "d22461ad",
   "metadata": {},
   "outputs": [
    {
     "name": "stdout",
     "output_type": "stream",
     "text": [
      "IDs have been added successfully! ✅\n",
      "  district  district_id neighborhood  neighborhood_id\n",
      "0    Mitte     11001001        Mitte              101\n",
      "1    Mitte     11001001        Mitte              101\n",
      "2    Mitte     11001001        Mitte              101\n",
      "3    Mitte     11001001        Mitte              101\n",
      "4    Mitte     11001001        Mitte              101\n"
     ]
    }
   ],
   "source": [
    "# --- 1. Merge with Districts Table to add 'district_id' ---\n",
    "\n",
    "# We only need the ID and the key from the districts table\n",
    "districts_lookup = districts_df[['district_id', 'district']]\n",
    "\n",
    "# Perform the merge\n",
    "# 'how=\"left\"' keeps all rows from original 'df'\n",
    "df = pd.merge(df, districts_lookup, on='district', how='left')\n",
    "\n",
    "\n",
    "# --- 2. Merge with Neighborhoods Table to add 'neighborhood_id' ---\n",
    "\n",
    "# We only need the ID and the key from the neighborhoods table\n",
    "neighborhoods_lookup = neighborhoods_df[['neighborhood_id', 'neighborhood']]\n",
    "\n",
    "# Perform the second merge\n",
    "df = pd.merge(df, neighborhoods_lookup, on='neighborhood', how='left')\n",
    "\n",
    "\n",
    "# --- 3. Final Check ---\n",
    "print(\"IDs have been added successfully! ✅\")\n",
    "\n",
    "# Display the key columns to verify the result\n",
    "print(df[['district', 'district_id', 'neighborhood', 'neighborhood_id']].head())"
   ]
  },
  {
   "cell_type": "markdown",
   "id": "c61ae945",
   "metadata": {},
   "source": [
    "Now we can drop the 'district' and 'neighborhood' columns, as there's no need to duplicate them in this table"
   ]
  },
  {
   "cell_type": "code",
   "execution_count": 32,
   "id": "9bcc64dd",
   "metadata": {},
   "outputs": [],
   "source": [
    "df=df.drop(columns=['district','neighborhood'])"
   ]
  },
  {
   "cell_type": "code",
   "execution_count": 33,
   "id": "057e8239",
   "metadata": {},
   "outputs": [
    {
     "name": "stdout",
     "output_type": "stream",
     "text": [
      "<class 'pandas.core.frame.DataFrame'>\n",
      "RangeIndex: 244 entries, 0 to 243\n",
      "Data columns (total 13 columns):\n",
      " #   Column           Non-Null Count  Dtype  \n",
      "---  ------           --------------  -----  \n",
      " 0   zip_code         244 non-null    int64  \n",
      " 1   city             244 non-null    object \n",
      " 2   street           244 non-null    object \n",
      " 3   house_no         244 non-null    object \n",
      " 4   location_type    244 non-null    object \n",
      " 5   location_name    234 non-null    object \n",
      " 6   id               244 non-null    int64  \n",
      " 7   closure_periods  244 non-null    object \n",
      " 8   opening_hours    244 non-null    object \n",
      " 9   latitude         244 non-null    float64\n",
      " 10  longitude        244 non-null    float64\n",
      " 11  district_id      244 non-null    int64  \n",
      " 12  neighborhood_id  244 non-null    int64  \n",
      "dtypes: float64(2), int64(4), object(7)\n",
      "memory usage: 24.9+ KB\n"
     ]
    }
   ],
   "source": [
    "df.info()"
   ]
  },
  {
   "cell_type": "markdown",
   "id": "532b7dbc",
   "metadata": {},
   "source": [
    "We need to change some columns names."
   ]
  },
  {
   "cell_type": "code",
   "execution_count": 34,
   "id": "e6903433",
   "metadata": {},
   "outputs": [
    {
     "name": "stdout",
     "output_type": "stream",
     "text": [
      "<class 'pandas.core.frame.DataFrame'>\n",
      "RangeIndex: 244 entries, 0 to 243\n",
      "Data columns (total 13 columns):\n",
      " #   Column           Non-Null Count  Dtype  \n",
      "---  ------           --------------  -----  \n",
      " 0   zip_code         244 non-null    object \n",
      " 1   city             244 non-null    object \n",
      " 2   street           244 non-null    object \n",
      " 3   house_no         244 non-null    object \n",
      " 4   location_type    244 non-null    object \n",
      " 5   location_name    234 non-null    object \n",
      " 6   id               244 non-null    object \n",
      " 7   closure_periods  244 non-null    object \n",
      " 8   opening_hours    244 non-null    object \n",
      " 9   latitude         244 non-null    float64\n",
      " 10  longitude        244 non-null    float64\n",
      " 11  district_id      244 non-null    object \n",
      " 12  neighborhood_id  244 non-null    object \n",
      "dtypes: float64(2), object(11)\n",
      "memory usage: 24.9+ KB\n"
     ]
    }
   ],
   "source": [
    "# Create a list of columns we want to change\n",
    "columns_to_change = ['zip_code', 'id', 'district_id', 'neighborhood_id']\n",
    "\n",
    "# Select these columns and apply the type change\n",
    "df[columns_to_change] = df[columns_to_change].astype(object)\n",
    "df.info()"
   ]
  },
  {
   "cell_type": "code",
   "execution_count": 35,
   "id": "d3d71af0",
   "metadata": {},
   "outputs": [
    {
     "name": "stdout",
     "output_type": "stream",
     "text": [
      "\n",
      "DataFrame successfully saved to '..\\clean\\deutschepost_clean_with_distr.csv'\n"
     ]
    }
   ],
   "source": [
    "#Save the Final Enriched File\n",
    "save_path = Path('../clean/deutschepost_clean_with_distr.csv')\n",
    "df.to_csv(save_path, index=False, encoding='utf-8-sig')\n",
    "print(f\"\\nDataFrame successfully saved to '{save_path}'\")\n"
   ]
  },
  {
   "cell_type": "markdown",
   "id": "fe6798ef",
   "metadata": {},
   "source": [
    "Validation & Quality Checks:\n",
    "  - Check for duplicate rows. \n",
    "  - Check coordinates - location within Berlin boundaries.\n",
    "  - Check final row count."
   ]
  },
  {
   "cell_type": "code",
   "execution_count": null,
   "id": "bf7e2ab9",
   "metadata": {},
   "outputs": [
    {
     "data": {
      "text/plain": [
       "np.int64(0)"
      ]
     },
     "execution_count": 40,
     "metadata": {},
     "output_type": "execute_result"
    }
   ],
   "source": [
    "df.duplicated().sum()"
   ]
  },
  {
   "cell_type": "code",
   "execution_count": null,
   "id": "2e68c0ef",
   "metadata": {},
   "outputs": [
    {
     "data": {
      "text/plain": [
       "np.int64(0)"
      ]
     },
     "execution_count": 42,
     "metadata": {},
     "output_type": "execute_result"
    }
   ],
   "source": [
    "df['district_id'].isnull().sum()\n"
   ]
  },
  {
   "cell_type": "code",
   "execution_count": 43,
   "id": "5f399289",
   "metadata": {},
   "outputs": [
    {
     "data": {
      "text/plain": [
       "np.int64(0)"
      ]
     },
     "execution_count": 43,
     "metadata": {},
     "output_type": "execute_result"
    }
   ],
   "source": [
    "df['neighborhood_id'].isnull().sum()"
   ]
  },
  {
   "cell_type": "code",
   "execution_count": 44,
   "id": "80f0fe31",
   "metadata": {},
   "outputs": [
    {
     "name": "stdout",
     "output_type": "stream",
     "text": [
      "<class 'pandas.core.frame.DataFrame'>\n",
      "RangeIndex: 244 entries, 0 to 243\n",
      "Data columns (total 13 columns):\n",
      " #   Column           Non-Null Count  Dtype  \n",
      "---  ------           --------------  -----  \n",
      " 0   zip_code         244 non-null    object \n",
      " 1   city             244 non-null    object \n",
      " 2   street           244 non-null    object \n",
      " 3   house_no         244 non-null    object \n",
      " 4   location_type    244 non-null    object \n",
      " 5   location_name    234 non-null    object \n",
      " 6   id               244 non-null    object \n",
      " 7   closure_periods  244 non-null    object \n",
      " 8   opening_hours    244 non-null    object \n",
      " 9   latitude         244 non-null    float64\n",
      " 10  longitude        244 non-null    float64\n",
      " 11  district_id      244 non-null    object \n",
      " 12  neighborhood_id  244 non-null    object \n",
      "dtypes: float64(2), object(11)\n",
      "memory usage: 24.9+ KB\n"
     ]
    }
   ],
   "source": [
    "df.info()"
   ]
  }
 ],
 "metadata": {
  "kernelspec": {
   "display_name": "base",
   "language": "python",
   "name": "python3"
  },
  "language_info": {
   "codemirror_mode": {
    "name": "ipython",
    "version": 3
   },
   "file_extension": ".py",
   "mimetype": "text/x-python",
   "name": "python",
   "nbconvert_exporter": "python",
   "pygments_lexer": "ipython3",
   "version": "3.13.5"
  }
 },
 "nbformat": 4,
 "nbformat_minor": 5
}
