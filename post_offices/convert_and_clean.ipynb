{
 "cells": [
  {
   "cell_type": "markdown",
   "id": "4dd18a18",
   "metadata": {},
   "source": [
    "At first we convert a raw .json filr to .csv"
   ]
  },
  {
   "cell_type": "code",
   "execution_count": 1,
   "id": "5b98de46",
   "metadata": {},
   "outputs": [
    {
     "name": "stdout",
     "output_type": "stream",
     "text": [
      "✅ File 'raw_post.json' successfully converted to 'deutschepost_raw.csv'\n"
     ]
    }
   ],
   "source": [
    "import pandas as pd\n",
    "import json\n",
    "from pathlib import Path\n",
    "\n",
    "# --- Path handling for Jupyter Notebooks ---\n",
    "# Get the current working directory (we assume this is now the 'post_offices' folder)\n",
    "CURRENT_DIR = Path.cwd()\n",
    "\n",
    "# Define file paths relative to the notebook's new location\n",
    "json_file_name = CURRENT_DIR / 'sources' / 'raw_post.json'\n",
    "csv_file_name = CURRENT_DIR / 'sources' / 'deutschepost_raw.csv'\n",
    "# -----------------------------------------------------------\n",
    "\n",
    "try:\n",
    "    # Open and load the entire JSON file\n",
    "    with open(json_file_name, encoding='utf-8') as f:\n",
    "        data = json.load(f)\n",
    "\n",
    "    # Use the correct key to access the list of data\n",
    "    list_of_records = data['pfLocations']\n",
    "\n",
    "    # Create a DataFrame from this list\n",
    "    df = pd.DataFrame(list_of_records)\n",
    "    \n",
    "    # Save the DataFrame to CSV\n",
    "    df.to_csv(csv_file_name, index=False, encoding='utf-8-sig')\n",
    "\n",
    "    print(f\"✅ File '{json_file_name.name}' successfully converted to '{csv_file_name.name}'\")\n",
    "\n",
    "except FileNotFoundError:\n",
    "    print(f\"❌ ERROR: File '{json_file_name.name}' not found. Make sure it is in the 'sources' subfolder.\")\n",
    "except KeyError:\n",
    "    print(f\"❌ KEY ERROR: Key 'pfLocations' not found! Please check the JSON file again.\")\n",
    "except Exception as e:\n",
    "    print(f\"❌ An unexpected error occurred: {e}\")"
   ]
  },
  {
   "cell_type": "markdown",
   "id": "95a9d146",
   "metadata": {},
   "source": [
    "Than we're going to extract opening hours and rename days on the week from numbers to names. Also we extracting geo coordinates."
   ]
  },
  {
   "cell_type": "code",
   "execution_count": 6,
   "id": "7bb71ac6",
   "metadata": {},
   "outputs": [
    {
     "name": "stdout",
     "output_type": "stream",
     "text": [
      "✅ Done! Data has been processed and saved to 'deutschepost_raw_opening_hours_geo.csv' in the 'sources' folder.\n"
     ]
    }
   ],
   "source": [
    "import ast # This library safely converts a string into a Python object (a list)\n",
    "\n",
    "# --- SETTINGS (Adapted for Jupyter Notebooks) ---\n",
    "# Get the current working directory (we assume this is the 'post_offices' folder)\n",
    "#CURRENT_DIR = Path.cwd()\n",
    "\n",
    "# Define file names\n",
    "input_file_name = 'deutschepost_raw.csv'\n",
    "output_file_name = 'deutschepost_raw_opening_hours_geo.csv'\n",
    "\n",
    "# Build the full paths relative to the notebook's location\n",
    "# The script looks for the input file in the 'sources' subfolder\n",
    "input_csv_file = CURRENT_DIR / 'sources' / input_file_name\n",
    "output_csv_file = CURRENT_DIR / 'sources' / output_file_name\n",
    "\n",
    "# Name of the column to process\n",
    "column_to_process = 'pfTimeinfos'\n",
    "# --------------------\n",
    "\n",
    "\n",
    "def parse_opening_hours(data_list):\n",
    "    \"\"\"\n",
    "    This function takes a list of dictionaries and extracts\n",
    "    only the opening hours (OPENINGHOUR) for each day of the week.\n",
    "    \"\"\"\n",
    "    # ... (The rest of the function remains unchanged)\n",
    "    if not isinstance(data_list, list):\n",
    "        return {}\n",
    "    \n",
    "    opening_hours = {}\n",
    "    for item in data_list:\n",
    "        if item.get('type') == 'OPENINGHOUR':\n",
    "            weekday = item.get('weekday')\n",
    "            time_from = item.get('timefrom', 'N/A')\n",
    "            time_to = item.get('timeto', 'N/A')\n",
    "            opening_hours[weekday] = f\"{time_from}-{time_to}\"\n",
    "            \n",
    "    return opening_hours\n",
    "\n",
    "# 1. Read the source CSV file\n",
    "df = pd.read_csv(input_csv_file)\n",
    "\n",
    "# 2. Process the column\n",
    "df['opening_hours_dict'] = df[column_to_process].apply(ast.literal_eval).apply(parse_opening_hours)\n",
    "\n",
    "# 3. Convert the dictionary with hours into separate columns\n",
    "hours_df = df['opening_hours_dict'].apply(pd.Series)\n",
    "\n",
    "# 4. Rename the columns for clarity\n",
    "weekday_map = {\n",
    "    1: 'Monday',\n",
    "    2: 'Tuesday',\n",
    "    3: 'Wednesday',\n",
    "    4: 'Thursday',\n",
    "    5: 'Friday',\n",
    "    6: 'Saturday',\n",
    "    7: 'Sunday'\n",
    "}\n",
    "hours_df = hours_df.rename(columns=weekday_map)\n",
    "\n",
    "# 5. Concatenate the new columns with the original DataFrame\n",
    "df_final = pd.concat([df, hours_df], axis=1)\n",
    "\n",
    "# The temporary dictionary column can be dropped if it is not needed\n",
    "df_final = df_final.drop(columns=['opening_hours_dict'])\n",
    "\n",
    "# 6. Save the result to a new file\n",
    "df_final.to_csv(output_csv_file, index=False, encoding='utf-8-sig')\n",
    "\n",
    "print(f\"✅ Done! Data has been processed and saved to '{output_file_name}' in the 'sources' folder.\")"
   ]
  }
 ],
 "metadata": {
  "kernelspec": {
   "display_name": "base",
   "language": "python",
   "name": "python3"
  },
  "language_info": {
   "codemirror_mode": {
    "name": "ipython",
    "version": 3
   },
   "file_extension": ".py",
   "mimetype": "text/x-python",
   "name": "python",
   "nbconvert_exporter": "python",
   "pygments_lexer": "ipython3",
   "version": "3.13.5"
  }
 },
 "nbformat": 4,
 "nbformat_minor": 5
}
