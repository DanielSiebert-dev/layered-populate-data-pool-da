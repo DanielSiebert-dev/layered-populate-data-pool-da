{
 "cells": [
  {
   "cell_type": "code",
   "execution_count": 4,
   "id": "05737bf2",
   "metadata": {},
   "outputs": [],
   "source": [
    "import requests"
   ]
  },
  {
   "cell_type": "code",
   "execution_count": 5,
   "id": "51a83ce9",
   "metadata": {},
   "outputs": [],
   "source": [
    "API_KEY = 'DGDHR5WH42HHOAMFFWXMTQXBPYR2QB3UETEK54IEN0RIKHSF'  # My personal Foursquare API key\n",
    "LOCATION = '52.5200,13.4050'  # Berlin lat,lng\n",
    "RADIUS = 5000  # in meters\n",
    "CATEGORY_ID_BARS = '13003'  # Foursquare category ID for bars (you can find categories in docs)"
   ]
  },
  {
   "cell_type": "code",
   "execution_count": 6,
   "id": "34007f34",
   "metadata": {},
   "outputs": [
    {
     "name": "stdout",
     "output_type": "stream",
     "text": [
      "Error fetching data: 401, {\"message\":\"Invalid request token.\"}\n"
     ]
    }
   ],
   "source": [
    "def fetch_foursquare_places(api_key, location, radius, category_id):\n",
    "    url = 'https://api.foursquare.com/v3/places/search'\n",
    "    headers = {\n",
    "        'Accept': 'application/json',\n",
    "        'Authorization': api_key\n",
    "    }\n",
    "    params = {\n",
    "        'll': location,\n",
    "        'radius': radius,\n",
    "        'categories': category_id,\n",
    "        'limit': 5  # number of results to fetch\n",
    "    }\n",
    "\n",
    "    response = requests.get(url, headers=headers, params=params)\n",
    "    if response.status_code == 200:\n",
    "        return response.json().get('results', [])\n",
    "    else:\n",
    "        print(f\"Error fetching data: {response.status_code}, {response.text}\")\n",
    "        return []\n",
    "\n",
    "if __name__ == \"__main__\":\n",
    "    bars = fetch_foursquare_places(API_KEY, LOCATION, RADIUS, CATEGORY_ID_BARS)\n",
    "    for bar in bars:\n",
    "        print(f\"Name: {bar['name']}\")\n",
    "        print(f\"Address: {', '.join(bar['location'].get('formatted_address', []))}\")\n",
    "        print(f\"Categories: {[cat['name'] for cat in bar.get('categories', [])]}\")\n",
    "        print(f\"Distance: {bar.get('distance', 'N/A')} meters\")\n",
    "        print('---')"
   ]
  }
 ],
 "metadata": {
  "kernelspec": {
   "display_name": "Python 3",
   "language": "python",
   "name": "python3"
  },
  "language_info": {
   "codemirror_mode": {
    "name": "ipython",
    "version": 3
   },
   "file_extension": ".py",
   "mimetype": "text/x-python",
   "name": "python",
   "nbconvert_exporter": "python",
   "pygments_lexer": "ipython3",
   "version": "3.12.3"
  }
 },
 "nbformat": 4,
 "nbformat_minor": 5
}
