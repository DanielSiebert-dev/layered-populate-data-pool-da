{
 "cells": [
  {
   "cell_type": "code",
   "execution_count": null,
   "id": "68964bea",
   "metadata": {},
   "outputs": [],
   "source": [
    "import osmnx as ox\n",
    "import geopandas as gpd\n",
    "\n",
    "# Define place\n",
    "place_name = \"Berlin, Germany\"\n",
    "\n",
    "# Tags for parks and playgrounds\n",
    "tags = {\"leisure\": [\"park\", \"playground\"]}\n",
    "\n",
    "# Fetch features from OSM\n",
    "print(\"Fetching OSM data for Berlin…\")\n",
    "gdf = ox.features_from_place(place_name, tags)\n",
    "\n",
    "# Basic info\n",
    "print(\"✅ Download complete!\")\n",
    "print(\"Total features:\", len(gdf))\n",
    "print(gdf.head())\n",
    "\n",
    "# Save raw output\n",
    "output_path = \"../data/berlin_parks_playgrounds_osm.geojson\"\n",
    "gdf.to_file(output_path, driver=\"GeoJSON\")\n",
    "print(f\"Saved: {output_path}\")\n"
   ]
  }
 ],
 "metadata": {
  "kernelspec": {
   "display_name": "Python 3",
   "language": "python",
   "name": "python3"
  },
  "language_info": {
   "name": "python",
   "version": "3.13.7"
  }
 },
 "nbformat": 4,
 "nbformat_minor": 5
}
