{
 "cells": [
  {
   "cell_type": "markdown",
   "metadata": {},
   "source": [
    "## Berlin Pools Geocoding Script\n",
    "\n",
    "#### This Python script enriches a dataset of Berlin swimming pools (berlin_pools_clean.csv) by performing the following tasks:\n",
    "\n",
    "- Reverse geocoding: Uses latitude and longitude to fetch the official Berlin district (district) for each pool \n",
    "  via the Nominatim API.\n",
    "\n",
    "- District ID creation: Generates a unique integer identifier (district_id) for each district"
   ]
  },
  {
   "cell_type": "code",
   "execution_count": 1,
   "metadata": {},
   "outputs": [],
   "source": [
    "import pandas as pd \n",
    "from geopy.geocoders import Nominatim\n",
    "from time import sleep"
   ]
  },
  {
   "cell_type": "code",
   "execution_count": 9,
   "metadata": {},
   "outputs": [],
   "source": [
    "\n",
    "# Load your pool data\n",
    "df = pd.read_csv(\"berlin_pools_clean.csv\")\n",
    "\n",
    "# Initialize Nominatim geocoder\n",
    "geolocator = Nominatim(user_agent=\"berlin_bezirk_locator\")\n",
    "\n",
    "# Function to get the district from lat/lon\n",
    "def get_bezirk(lat, lon):\n",
    "    try:\n",
    "        location = geolocator.reverse(\n",
    "            (lat, lon),\n",
    "            exactly_one=True,\n",
    "            language='de',\n",
    "            timeout=10  # increased timeout to avoid connection errors\n",
    "        )\n",
    "        sleep(1)  # Stay within API limits (1 request/sec)\n",
    "        if location and location.raw.get(\"address\"):\n",
    "            address = location.raw[\"address\"]\n",
    "            return (\n",
    "                address.get(\"city_district\") or\n",
    "                address.get(\"borough\") or\n",
    "                address.get(\"county\") or\n",
    "                None\n",
    "            )\n",
    "        return None\n",
    "    except Exception as e:\n",
    "        print(f\"Error for coords ({lat}, {lon}): {e}\")\n",
    "        return None\n",
    "\n",
    "# Apply geocoding to each row to get the district name\n",
    "df[\"district\"] = df.apply(\n",
    "    lambda row: get_bezirk(row[\"latitude\"], row[\"longitude\"])\n",
    "    if pd.notnull(row[\"latitude\"]) and pd.notnull(row[\"longitude\"]) else None,\n",
    "    axis=1\n",
    ")\n",
    "\n",
    "# Create a unique district_id column as int\n",
    "district_mapping = {district: idx + 1 for idx, district in enumerate(df['district'].dropna().unique())}\n",
    "df['district_id'] = df['district'].map(district_mapping).astype(int)\n",
    "\n",
    "# Save updated file\n",
    "df.to_csv(\"berlin_pools.csv\", index=False)\n",
    "\n"
   ]
  }
 ],
 "metadata": {
  "kernelspec": {
   "display_name": "Python 3",
   "language": "python",
   "name": "python3"
  },
  "language_info": {
   "codemirror_mode": {
    "name": "ipython",
    "version": 3
   },
   "file_extension": ".py",
   "mimetype": "text/x-python",
   "name": "python",
   "nbconvert_exporter": "python",
   "pygments_lexer": "ipython3",
   "version": "3.13.3"
  }
 },
 "nbformat": 4,
 "nbformat_minor": 2
}
