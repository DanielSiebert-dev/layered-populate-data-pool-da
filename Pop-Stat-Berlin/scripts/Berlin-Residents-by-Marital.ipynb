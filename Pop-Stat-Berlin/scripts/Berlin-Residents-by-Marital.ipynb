{
 "cells": [
  {
   "cell_type": "code",
   "execution_count": 1,
   "id": "568b62b9-18a1-47bc-9ee8-afc6f07a6bc0",
   "metadata": {},
   "outputs": [],
   "source": [
    "import pandas as pd"
   ]
  },
  {
   "cell_type": "code",
   "execution_count": 2,
   "id": "a09271ce-9a47-4211-8e0f-ee336398df03",
   "metadata": {},
   "outputs": [],
   "source": [
    "# Load raw data\n",
    "df = pd.read_csv(r'C:\\Users\\oytun\\Downloads\\Berlin_pop_stat - Berlin Residents by marital status.csv')"
   ]
  },
  {
   "cell_type": "code",
   "execution_count": 3,
   "id": "16136a63-e4e3-4ba1-bd0a-350fd5e68e4c",
   "metadata": {},
   "outputs": [
    {
     "data": {
      "text/html": [
       "<div>\n",
       "<style scoped>\n",
       "    .dataframe tbody tr th:only-of-type {\n",
       "        vertical-align: middle;\n",
       "    }\n",
       "\n",
       "    .dataframe tbody tr th {\n",
       "        vertical-align: top;\n",
       "    }\n",
       "\n",
       "    .dataframe thead th {\n",
       "        text-align: right;\n",
       "    }\n",
       "</style>\n",
       "<table border=\"1\" class=\"dataframe\">\n",
       "  <thead>\n",
       "    <tr style=\"text-align: right;\">\n",
       "      <th></th>\n",
       "      <th>neighbourhood</th>\n",
       "      <th>total_residents</th>\n",
       "      <th>single</th>\n",
       "      <th>married</th>\n",
       "      <th>widowed</th>\n",
       "      <th>\\ndivorced</th>\n",
       "      <th>civil_partnership</th>\n",
       "    </tr>\n",
       "  </thead>\n",
       "  <tbody>\n",
       "    <tr>\n",
       "      <th>0</th>\n",
       "      <td>Mitte</td>\n",
       "      <td>397004</td>\n",
       "      <td>240196</td>\n",
       "      <td>113277</td>\n",
       "      <td>13119</td>\n",
       "      <td>28623</td>\n",
       "      <td>1789</td>\n",
       "    </tr>\n",
       "    <tr>\n",
       "      <th>1</th>\n",
       "      <td>Friedrichshain-Kreuzberg</td>\n",
       "      <td>292624</td>\n",
       "      <td>188392</td>\n",
       "      <td>76076</td>\n",
       "      <td>7369</td>\n",
       "      <td>19227</td>\n",
       "      <td>1560</td>\n",
       "    </tr>\n",
       "    <tr>\n",
       "      <th>2</th>\n",
       "      <td>Pankow</td>\n",
       "      <td>427276</td>\n",
       "      <td>246687</td>\n",
       "      <td>130125</td>\n",
       "      <td>17014</td>\n",
       "      <td>31848</td>\n",
       "      <td>1602</td>\n",
       "    </tr>\n",
       "    <tr>\n",
       "      <th>3</th>\n",
       "      <td>Charlottenburg-Wilmersdorf</td>\n",
       "      <td>343500</td>\n",
       "      <td>176967</td>\n",
       "      <td>114706</td>\n",
       "      <td>17823</td>\n",
       "      <td>32281</td>\n",
       "      <td>1723</td>\n",
       "    </tr>\n",
       "    <tr>\n",
       "      <th>4</th>\n",
       "      <td>Spandau</td>\n",
       "      <td>259277</td>\n",
       "      <td>125965</td>\n",
       "      <td>93781</td>\n",
       "      <td>15779</td>\n",
       "      <td>23333</td>\n",
       "      <td>419</td>\n",
       "    </tr>\n",
       "  </tbody>\n",
       "</table>\n",
       "</div>"
      ],
      "text/plain": [
       "                neighbourhood  total_residents  single  married  widowed  \\\n",
       "0                       Mitte           397004  240196   113277    13119   \n",
       "1    Friedrichshain-Kreuzberg           292624  188392    76076     7369   \n",
       "2                      Pankow           427276  246687   130125    17014   \n",
       "3  Charlottenburg-Wilmersdorf           343500  176967   114706    17823   \n",
       "4                     Spandau           259277  125965    93781    15779   \n",
       "\n",
       "   \\ndivorced  civil_partnership  \n",
       "0       28623               1789  \n",
       "1       19227               1560  \n",
       "2       31848               1602  \n",
       "3       32281               1723  \n",
       "4       23333                419  "
      ]
     },
     "execution_count": 3,
     "metadata": {},
     "output_type": "execute_result"
    }
   ],
   "source": [
    "df.head()"
   ]
  },
  {
   "cell_type": "code",
   "execution_count": 4,
   "id": "88d33e71-4574-42df-a548-721924442c4b",
   "metadata": {},
   "outputs": [
    {
     "name": "stdout",
     "output_type": "stream",
     "text": [
      "<class 'pandas.core.frame.DataFrame'>\n",
      "RangeIndex: 13 entries, 0 to 12\n",
      "Data columns (total 7 columns):\n",
      " #   Column             Non-Null Count  Dtype \n",
      "---  ------             --------------  ----- \n",
      " 0   neighbourhood      13 non-null     object\n",
      " 1   total_residents    13 non-null     int64 \n",
      " 2   single             13 non-null     int64 \n",
      " 3   married            13 non-null     int64 \n",
      " 4   widowed            13 non-null     int64 \n",
      " 5   \n",
      "divorced          13 non-null     int64 \n",
      " 6   civil_partnership  13 non-null     int64 \n",
      "dtypes: int64(6), object(1)\n",
      "memory usage: 860.0+ bytes\n"
     ]
    }
   ],
   "source": [
    "df.info()"
   ]
  },
  {
   "cell_type": "code",
   "execution_count": 5,
   "id": "9599f3ec-6854-4717-a0cb-59ab4d571bf0",
   "metadata": {},
   "outputs": [
    {
     "data": {
      "text/plain": [
       "neighbourhood        0\n",
       "total_residents      0\n",
       "single               0\n",
       "married              0\n",
       "widowed              0\n",
       "\\ndivorced           0\n",
       "civil_partnership    0\n",
       "dtype: int64"
      ]
     },
     "execution_count": 5,
     "metadata": {},
     "output_type": "execute_result"
    }
   ],
   "source": [
    "df.isnull().sum()"
   ]
  },
  {
   "cell_type": "code",
   "execution_count": 6,
   "id": "24556793-a008-40fa-843d-fbe7e86edd2a",
   "metadata": {},
   "outputs": [
    {
     "data": {
      "text/plain": [
       "Index(['neighbourhood', 'total_residents', 'single', 'married', 'widowed',\n",
       "       '\\ndivorced', 'civil_partnership'],\n",
       "      dtype='object')"
      ]
     },
     "execution_count": 6,
     "metadata": {},
     "output_type": "execute_result"
    }
   ],
   "source": [
    "df.columns"
   ]
  },
  {
   "cell_type": "code",
   "execution_count": 7,
   "id": "3cdbde5a-4cd4-4505-abaa-eb0fbcd1cf59",
   "metadata": {},
   "outputs": [],
   "source": [
    "df.columns = df.columns.str.replace('\\n', '', regex=True)"
   ]
  },
  {
   "cell_type": "code",
   "execution_count": 8,
   "id": "1ed42fd8-6c96-446b-9d88-9f83c90b6968",
   "metadata": {},
   "outputs": [
    {
     "data": {
      "text/plain": [
       "Index(['neighbourhood', 'total_residents', 'single', 'married', 'widowed',\n",
       "       'divorced', 'civil_partnership'],\n",
       "      dtype='object')"
      ]
     },
     "execution_count": 8,
     "metadata": {},
     "output_type": "execute_result"
    }
   ],
   "source": [
    "df.columns"
   ]
  },
  {
   "cell_type": "code",
   "execution_count": 9,
   "id": "9b251b1c-364e-4b6c-8971-6bc6b0ec2e78",
   "metadata": {},
   "outputs": [],
   "source": [
    "df.columns = df.columns.str.replace('\\n', '', regex=True) \\\n",
    "                       .str.replace('-', '', regex=True) \\\n",
    "                       .str.lower()"
   ]
  },
  {
   "cell_type": "code",
   "execution_count": 10,
   "id": "ce1c1b51-533e-4429-bf72-5687c2e53649",
   "metadata": {},
   "outputs": [
    {
     "data": {
      "text/plain": [
       "Index(['neighbourhood', 'total_residents', 'single', 'married', 'widowed',\n",
       "       'divorced', 'civil_partnership'],\n",
       "      dtype='object')"
      ]
     },
     "execution_count": 10,
     "metadata": {},
     "output_type": "execute_result"
    }
   ],
   "source": [
    "df.columns"
   ]
  },
  {
   "cell_type": "code",
   "execution_count": 11,
   "id": "f11cfa66-a975-4470-a122-fa0efed4aa40",
   "metadata": {},
   "outputs": [
    {
     "data": {
      "text/html": [
       "<div>\n",
       "<style scoped>\n",
       "    .dataframe tbody tr th:only-of-type {\n",
       "        vertical-align: middle;\n",
       "    }\n",
       "\n",
       "    .dataframe tbody tr th {\n",
       "        vertical-align: top;\n",
       "    }\n",
       "\n",
       "    .dataframe thead th {\n",
       "        text-align: right;\n",
       "    }\n",
       "</style>\n",
       "<table border=\"1\" class=\"dataframe\">\n",
       "  <thead>\n",
       "    <tr style=\"text-align: right;\">\n",
       "      <th></th>\n",
       "      <th>neighbourhood</th>\n",
       "      <th>total_residents</th>\n",
       "      <th>single</th>\n",
       "      <th>married</th>\n",
       "      <th>widowed</th>\n",
       "      <th>divorced</th>\n",
       "      <th>civil_partnership</th>\n",
       "    </tr>\n",
       "  </thead>\n",
       "  <tbody>\n",
       "    <tr>\n",
       "      <th>0</th>\n",
       "      <td>Mitte</td>\n",
       "      <td>397004</td>\n",
       "      <td>240196</td>\n",
       "      <td>113277</td>\n",
       "      <td>13119</td>\n",
       "      <td>28623</td>\n",
       "      <td>1789</td>\n",
       "    </tr>\n",
       "    <tr>\n",
       "      <th>1</th>\n",
       "      <td>Friedrichshain-Kreuzberg</td>\n",
       "      <td>292624</td>\n",
       "      <td>188392</td>\n",
       "      <td>76076</td>\n",
       "      <td>7369</td>\n",
       "      <td>19227</td>\n",
       "      <td>1560</td>\n",
       "    </tr>\n",
       "    <tr>\n",
       "      <th>2</th>\n",
       "      <td>Pankow</td>\n",
       "      <td>427276</td>\n",
       "      <td>246687</td>\n",
       "      <td>130125</td>\n",
       "      <td>17014</td>\n",
       "      <td>31848</td>\n",
       "      <td>1602</td>\n",
       "    </tr>\n",
       "    <tr>\n",
       "      <th>3</th>\n",
       "      <td>Charlottenburg-Wilmersdorf</td>\n",
       "      <td>343500</td>\n",
       "      <td>176967</td>\n",
       "      <td>114706</td>\n",
       "      <td>17823</td>\n",
       "      <td>32281</td>\n",
       "      <td>1723</td>\n",
       "    </tr>\n",
       "    <tr>\n",
       "      <th>4</th>\n",
       "      <td>Spandau</td>\n",
       "      <td>259277</td>\n",
       "      <td>125965</td>\n",
       "      <td>93781</td>\n",
       "      <td>15779</td>\n",
       "      <td>23333</td>\n",
       "      <td>419</td>\n",
       "    </tr>\n",
       "    <tr>\n",
       "      <th>5</th>\n",
       "      <td>Steglitz-Zehlendorf</td>\n",
       "      <td>310044</td>\n",
       "      <td>143312</td>\n",
       "      <td>118049</td>\n",
       "      <td>20117</td>\n",
       "      <td>27789</td>\n",
       "      <td>777</td>\n",
       "    </tr>\n",
       "    <tr>\n",
       "      <th>6</th>\n",
       "      <td>Tempelhof-Schöneberg</td>\n",
       "      <td>356959</td>\n",
       "      <td>183234</td>\n",
       "      <td>121863</td>\n",
       "      <td>19149</td>\n",
       "      <td>30838</td>\n",
       "      <td>1875</td>\n",
       "    </tr>\n",
       "    <tr>\n",
       "      <th>7</th>\n",
       "      <td>Neukölln</td>\n",
       "      <td>329488</td>\n",
       "      <td>180627</td>\n",
       "      <td>105135</td>\n",
       "      <td>16643</td>\n",
       "      <td>26095</td>\n",
       "      <td>988</td>\n",
       "    </tr>\n",
       "    <tr>\n",
       "      <th>8</th>\n",
       "      <td>Treptow-Köpenick</td>\n",
       "      <td>297236</td>\n",
       "      <td>153570</td>\n",
       "      <td>100905</td>\n",
       "      <td>17375</td>\n",
       "      <td>24751</td>\n",
       "      <td>635</td>\n",
       "    </tr>\n",
       "    <tr>\n",
       "      <th>9</th>\n",
       "      <td>Marzahn-Hellersdorf</td>\n",
       "      <td>294091</td>\n",
       "      <td>145307</td>\n",
       "      <td>105385</td>\n",
       "      <td>16190</td>\n",
       "      <td>26757</td>\n",
       "      <td>452</td>\n",
       "    </tr>\n",
       "    <tr>\n",
       "      <th>10</th>\n",
       "      <td>Lichtenberg</td>\n",
       "      <td>315548</td>\n",
       "      <td>174707</td>\n",
       "      <td>97844</td>\n",
       "      <td>16316</td>\n",
       "      <td>25938</td>\n",
       "      <td>743</td>\n",
       "    </tr>\n",
       "    <tr>\n",
       "      <th>11</th>\n",
       "      <td>Reinickendorf</td>\n",
       "      <td>274098</td>\n",
       "      <td>131052</td>\n",
       "      <td>100221</td>\n",
       "      <td>17577</td>\n",
       "      <td>24812</td>\n",
       "      <td>436</td>\n",
       "    </tr>\n",
       "    <tr>\n",
       "      <th>12</th>\n",
       "      <td>Berlin</td>\n",
       "      <td>3897145</td>\n",
       "      <td>2090016</td>\n",
       "      <td>1277367</td>\n",
       "      <td>194471</td>\n",
       "      <td>322292</td>\n",
       "      <td>12999</td>\n",
       "    </tr>\n",
       "  </tbody>\n",
       "</table>\n",
       "</div>"
      ],
      "text/plain": [
       "                 neighbourhood  total_residents   single  married  widowed  \\\n",
       "0                        Mitte           397004   240196   113277    13119   \n",
       "1     Friedrichshain-Kreuzberg           292624   188392    76076     7369   \n",
       "2                       Pankow           427276   246687   130125    17014   \n",
       "3   Charlottenburg-Wilmersdorf           343500   176967   114706    17823   \n",
       "4                      Spandau           259277   125965    93781    15779   \n",
       "5          Steglitz-Zehlendorf           310044   143312   118049    20117   \n",
       "6         Tempelhof-Schöneberg           356959   183234   121863    19149   \n",
       "7                     Neukölln           329488   180627   105135    16643   \n",
       "8             Treptow-Köpenick           297236   153570   100905    17375   \n",
       "9          Marzahn-Hellersdorf           294091   145307   105385    16190   \n",
       "10                 Lichtenberg           315548   174707    97844    16316   \n",
       "11               Reinickendorf           274098   131052   100221    17577   \n",
       "12                      Berlin          3897145  2090016  1277367   194471   \n",
       "\n",
       "    divorced  civil_partnership  \n",
       "0      28623               1789  \n",
       "1      19227               1560  \n",
       "2      31848               1602  \n",
       "3      32281               1723  \n",
       "4      23333                419  \n",
       "5      27789                777  \n",
       "6      30838               1875  \n",
       "7      26095                988  \n",
       "8      24751                635  \n",
       "9      26757                452  \n",
       "10     25938                743  \n",
       "11     24812                436  \n",
       "12    322292              12999  "
      ]
     },
     "execution_count": 11,
     "metadata": {},
     "output_type": "execute_result"
    }
   ],
   "source": [
    "df"
   ]
  },
  {
   "cell_type": "code",
   "execution_count": 12,
   "id": "80f9a99e-85d6-43da-92b2-9ac2a0b237bd",
   "metadata": {},
   "outputs": [
    {
     "data": {
      "text/plain": [
       "neighbourhood        0\n",
       "total_residents      0\n",
       "single               0\n",
       "married              0\n",
       "widowed              0\n",
       "divorced             0\n",
       "civil_partnership    0\n",
       "dtype: int64"
      ]
     },
     "execution_count": 12,
     "metadata": {},
     "output_type": "execute_result"
    }
   ],
   "source": [
    "df.isnull().sum()"
   ]
  },
  {
   "cell_type": "code",
   "execution_count": 13,
   "id": "892ae7a6-72c9-42aa-b6bf-ef19f2e95fd4",
   "metadata": {},
   "outputs": [
    {
     "data": {
      "text/html": [
       "<div>\n",
       "<style scoped>\n",
       "    .dataframe tbody tr th:only-of-type {\n",
       "        vertical-align: middle;\n",
       "    }\n",
       "\n",
       "    .dataframe tbody tr th {\n",
       "        vertical-align: top;\n",
       "    }\n",
       "\n",
       "    .dataframe thead th {\n",
       "        text-align: right;\n",
       "    }\n",
       "</style>\n",
       "<table border=\"1\" class=\"dataframe\">\n",
       "  <thead>\n",
       "    <tr style=\"text-align: right;\">\n",
       "      <th></th>\n",
       "      <th>total_residents</th>\n",
       "      <th>single</th>\n",
       "      <th>married</th>\n",
       "      <th>widowed</th>\n",
       "      <th>divorced</th>\n",
       "      <th>civil_partnership</th>\n",
       "    </tr>\n",
       "  </thead>\n",
       "  <tbody>\n",
       "    <tr>\n",
       "      <th>count</th>\n",
       "      <td>1.300000e+01</td>\n",
       "      <td>1.300000e+01</td>\n",
       "      <td>1.300000e+01</td>\n",
       "      <td>13.000000</td>\n",
       "      <td>13.000000</td>\n",
       "      <td>13.000000</td>\n",
       "    </tr>\n",
       "    <tr>\n",
       "      <th>mean</th>\n",
       "      <td>5.995608e+05</td>\n",
       "      <td>3.215409e+05</td>\n",
       "      <td>1.965180e+05</td>\n",
       "      <td>29918.615385</td>\n",
       "      <td>49583.384615</td>\n",
       "      <td>1999.846154</td>\n",
       "    </tr>\n",
       "    <tr>\n",
       "      <th>std</th>\n",
       "      <td>9.919366e+05</td>\n",
       "      <td>5.326408e+05</td>\n",
       "      <td>3.250467e+05</td>\n",
       "      <td>49541.584614</td>\n",
       "      <td>82017.448101</td>\n",
       "      <td>3351.268264</td>\n",
       "    </tr>\n",
       "    <tr>\n",
       "      <th>min</th>\n",
       "      <td>2.592770e+05</td>\n",
       "      <td>1.259650e+05</td>\n",
       "      <td>7.607600e+04</td>\n",
       "      <td>7369.000000</td>\n",
       "      <td>19227.000000</td>\n",
       "      <td>419.000000</td>\n",
       "    </tr>\n",
       "    <tr>\n",
       "      <th>25%</th>\n",
       "      <td>2.940910e+05</td>\n",
       "      <td>1.453070e+05</td>\n",
       "      <td>1.002210e+05</td>\n",
       "      <td>16190.000000</td>\n",
       "      <td>24812.000000</td>\n",
       "      <td>635.000000</td>\n",
       "    </tr>\n",
       "    <tr>\n",
       "      <th>50%</th>\n",
       "      <td>3.155480e+05</td>\n",
       "      <td>1.769670e+05</td>\n",
       "      <td>1.053850e+05</td>\n",
       "      <td>17014.000000</td>\n",
       "      <td>26757.000000</td>\n",
       "      <td>988.000000</td>\n",
       "    </tr>\n",
       "    <tr>\n",
       "      <th>75%</th>\n",
       "      <td>3.569590e+05</td>\n",
       "      <td>1.883920e+05</td>\n",
       "      <td>1.180490e+05</td>\n",
       "      <td>17823.000000</td>\n",
       "      <td>30838.000000</td>\n",
       "      <td>1723.000000</td>\n",
       "    </tr>\n",
       "    <tr>\n",
       "      <th>max</th>\n",
       "      <td>3.897145e+06</td>\n",
       "      <td>2.090016e+06</td>\n",
       "      <td>1.277367e+06</td>\n",
       "      <td>194471.000000</td>\n",
       "      <td>322292.000000</td>\n",
       "      <td>12999.000000</td>\n",
       "    </tr>\n",
       "  </tbody>\n",
       "</table>\n",
       "</div>"
      ],
      "text/plain": [
       "       total_residents        single       married        widowed  \\\n",
       "count     1.300000e+01  1.300000e+01  1.300000e+01      13.000000   \n",
       "mean      5.995608e+05  3.215409e+05  1.965180e+05   29918.615385   \n",
       "std       9.919366e+05  5.326408e+05  3.250467e+05   49541.584614   \n",
       "min       2.592770e+05  1.259650e+05  7.607600e+04    7369.000000   \n",
       "25%       2.940910e+05  1.453070e+05  1.002210e+05   16190.000000   \n",
       "50%       3.155480e+05  1.769670e+05  1.053850e+05   17014.000000   \n",
       "75%       3.569590e+05  1.883920e+05  1.180490e+05   17823.000000   \n",
       "max       3.897145e+06  2.090016e+06  1.277367e+06  194471.000000   \n",
       "\n",
       "            divorced  civil_partnership  \n",
       "count      13.000000          13.000000  \n",
       "mean    49583.384615        1999.846154  \n",
       "std     82017.448101        3351.268264  \n",
       "min     19227.000000         419.000000  \n",
       "25%     24812.000000         635.000000  \n",
       "50%     26757.000000         988.000000  \n",
       "75%     30838.000000        1723.000000  \n",
       "max    322292.000000       12999.000000  "
      ]
     },
     "execution_count": 13,
     "metadata": {},
     "output_type": "execute_result"
    }
   ],
   "source": [
    "df.describe()"
   ]
  },
  {
   "cell_type": "code",
   "execution_count": 14,
   "id": "3719be7a-ac52-4257-9d39-73fed1aa654d",
   "metadata": {},
   "outputs": [],
   "source": [
    "# Export the cleaned and transformed DataFrame to a CSV file\n",
    "df.to_csv('berlin_residents_by_marital.csv', index=False)"
   ]
  },
  {
   "cell_type": "code",
   "execution_count": null,
   "id": "445287ed-bcf2-48b1-a7ca-b9c24690aba6",
   "metadata": {},
   "outputs": [],
   "source": []
  }
 ],
 "metadata": {
  "kernelspec": {
   "display_name": "Python [conda env:base] *",
   "language": "python",
   "name": "conda-base-py"
  },
  "language_info": {
   "codemirror_mode": {
    "name": "ipython",
    "version": 3
   },
   "file_extension": ".py",
   "mimetype": "text/x-python",
   "name": "python",
   "nbconvert_exporter": "python",
   "pygments_lexer": "ipython3",
   "version": "3.12.7"
  }
 },
 "nbformat": 4,
 "nbformat_minor": 5
}
