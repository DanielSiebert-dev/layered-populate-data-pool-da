{
 "cells": [
  {
   "cell_type": "code",
   "execution_count": 7,
   "id": "cb0c14b8-ba30-4e5c-8d35-f8a62172faaa",
   "metadata": {},
   "outputs": [],
   "source": [
    "import pandas as pd"
   ]
  },
  {
   "cell_type": "code",
   "execution_count": 8,
   "id": "c67216ac-7c60-4c8a-a09c-ddf796a52656",
   "metadata": {},
   "outputs": [],
   "source": [
    "# Load raw data\n",
    "df = pd.read_csv(r\"C:\\Users\\oytun\\Downloads\\Berlin_pop_stats - Districts Residents by Religion other or none.csv\")"
   ]
  },
  {
   "cell_type": "code",
   "execution_count": 9,
   "id": "6f3a9d50-92df-44de-bafe-4ac396b6e5aa",
   "metadata": {},
   "outputs": [
    {
     "data": {
      "text/html": [
       "<div>\n",
       "<style scoped>\n",
       "    .dataframe tbody tr th:only-of-type {\n",
       "        vertical-align: middle;\n",
       "    }\n",
       "\n",
       "    .dataframe tbody tr th {\n",
       "        vertical-align: top;\n",
       "    }\n",
       "\n",
       "    .dataframe thead th {\n",
       "        text-align: right;\n",
       "    }\n",
       "</style>\n",
       "<table border=\"1\" class=\"dataframe\">\n",
       "  <thead>\n",
       "    <tr style=\"text-align: right;\">\n",
       "      <th></th>\n",
       "      <th>neighbourhood</th>\n",
       "      <th>total</th>\n",
       "      <th>Germans</th>\n",
       "      <th>Foreigners</th>\n",
       "    </tr>\n",
       "  </thead>\n",
       "  <tbody>\n",
       "    <tr>\n",
       "      <th>0</th>\n",
       "      <td>Mitte</td>\n",
       "      <td>333248</td>\n",
       "      <td>195765</td>\n",
       "      <td>137483</td>\n",
       "    </tr>\n",
       "    <tr>\n",
       "      <th>1</th>\n",
       "      <td>Friedrichshain-Kreuzberg</td>\n",
       "      <td>251355</td>\n",
       "      <td>166405</td>\n",
       "      <td>84950</td>\n",
       "    </tr>\n",
       "    <tr>\n",
       "      <th>2</th>\n",
       "      <td>Pankow</td>\n",
       "      <td>363021</td>\n",
       "      <td>284308</td>\n",
       "      <td>78713</td>\n",
       "    </tr>\n",
       "    <tr>\n",
       "      <th>3</th>\n",
       "      <td>Charlottenburg-Wilmersdorf</td>\n",
       "      <td>263824</td>\n",
       "      <td>179061</td>\n",
       "      <td>84763</td>\n",
       "    </tr>\n",
       "    <tr>\n",
       "      <th>4</th>\n",
       "      <td>Spandau</td>\n",
       "      <td>198091</td>\n",
       "      <td>135550</td>\n",
       "      <td>62541</td>\n",
       "    </tr>\n",
       "  </tbody>\n",
       "</table>\n",
       "</div>"
      ],
      "text/plain": [
       "                neighbourhood   total  Germans  Foreigners\n",
       "0                       Mitte  333248   195765      137483\n",
       "1    Friedrichshain-Kreuzberg  251355   166405       84950\n",
       "2                      Pankow  363021   284308       78713\n",
       "3  Charlottenburg-Wilmersdorf  263824   179061       84763\n",
       "4                     Spandau  198091   135550       62541"
      ]
     },
     "execution_count": 9,
     "metadata": {},
     "output_type": "execute_result"
    }
   ],
   "source": [
    "df.head()"
   ]
  },
  {
   "cell_type": "code",
   "execution_count": 10,
   "id": "38d3dbaf-eb7d-4f08-bca7-6b2474a8ac05",
   "metadata": {},
   "outputs": [
    {
     "name": "stdout",
     "output_type": "stream",
     "text": [
      "<class 'pandas.core.frame.DataFrame'>\n",
      "RangeIndex: 13 entries, 0 to 12\n",
      "Data columns (total 4 columns):\n",
      " #   Column         Non-Null Count  Dtype \n",
      "---  ------         --------------  ----- \n",
      " 0   neighbourhood  13 non-null     object\n",
      " 1   total          13 non-null     int64 \n",
      " 2   Germans        13 non-null     int64 \n",
      " 3   Foreigners     13 non-null     int64 \n",
      "dtypes: int64(3), object(1)\n",
      "memory usage: 548.0+ bytes\n"
     ]
    }
   ],
   "source": [
    "df.info()"
   ]
  },
  {
   "cell_type": "code",
   "execution_count": 11,
   "id": "cb858b46-92a5-4192-8438-8873aee941de",
   "metadata": {},
   "outputs": [
    {
     "data": {
      "text/plain": [
       "neighbourhood    0\n",
       "total            0\n",
       "Germans          0\n",
       "Foreigners       0\n",
       "dtype: int64"
      ]
     },
     "execution_count": 11,
     "metadata": {},
     "output_type": "execute_result"
    }
   ],
   "source": [
    "df.isnull().sum()"
   ]
  },
  {
   "cell_type": "code",
   "execution_count": 12,
   "id": "23fdcc5a-51b2-4cb7-a36d-458515642a16",
   "metadata": {},
   "outputs": [
    {
     "data": {
      "text/plain": [
       "Index(['neighbourhood', 'total', 'Germans', 'Foreigners'], dtype='object')"
      ]
     },
     "execution_count": 12,
     "metadata": {},
     "output_type": "execute_result"
    }
   ],
   "source": [
    "df.columns"
   ]
  },
  {
   "cell_type": "code",
   "execution_count": 13,
   "id": "b41fe4b9-52aa-4e5c-8031-7a8bd6f4401f",
   "metadata": {},
   "outputs": [],
   "source": [
    "df.columns = df.columns.str.lower()"
   ]
  },
  {
   "cell_type": "code",
   "execution_count": 14,
   "id": "4ae59ca1-c0d2-4f9a-9190-1b0208af4490",
   "metadata": {},
   "outputs": [],
   "source": [
    "# Standardize the 'neighbourhood' names by replacing abbreviated or inconsistent names\n",
    "# with their full, lowercase standardized versions for uniformity across the dataset.\n",
    "df['neighbourhood'] = df['neighbourhood'].replace({\n",
    "    'Friedrichshain-Kreuzberg': 'friedrichshainkreuzberg',\n",
    "    'Charlottenburg-Wilmersdorf': 'charlottenburgwilmersdorf',\n",
    "    'Tempelhof-Schöneberg': 'tempelhofschöneberg',\n",
    "    'Steglitz-Zehlendorf': 'steglitzzehlendorf',\n",
    "    'Marzahn-Hellersdorf': 'marzahnhellersdorf',\n",
    "    'Treptow-Köpenick': 'treptowköpenick',\n",
    "    'Neukölln': 'neukölln',\n",
    "    'Pankow': 'pankow',\n",
    "    'Lichtenberg': 'lichtenberg',\n",
    "    'Reinickendorf': 'reinickendorf',\n",
    "    'Mitte': 'mitte',\n",
    "    'Spandau': 'spandau',\n",
    "    'Berlin': 'berlin'\n",
    "})"
   ]
  },
  {
   "cell_type": "code",
   "execution_count": 17,
   "id": "487c58a1-fb8f-4825-b00a-5beea5bf949d",
   "metadata": {},
   "outputs": [
    {
     "data": {
      "text/plain": [
       "neighbourhood    object\n",
       "total             int64\n",
       "germans           int64\n",
       "foreigners        int64\n",
       "dtype: object"
      ]
     },
     "execution_count": 17,
     "metadata": {},
     "output_type": "execute_result"
    }
   ],
   "source": [
    "df.dtypes"
   ]
  },
  {
   "cell_type": "code",
   "execution_count": 15,
   "id": "d4edce21-9e9e-4681-b129-a20117e1ad2a",
   "metadata": {},
   "outputs": [
    {
     "data": {
      "text/html": [
       "<div>\n",
       "<style scoped>\n",
       "    .dataframe tbody tr th:only-of-type {\n",
       "        vertical-align: middle;\n",
       "    }\n",
       "\n",
       "    .dataframe tbody tr th {\n",
       "        vertical-align: top;\n",
       "    }\n",
       "\n",
       "    .dataframe thead th {\n",
       "        text-align: right;\n",
       "    }\n",
       "</style>\n",
       "<table border=\"1\" class=\"dataframe\">\n",
       "  <thead>\n",
       "    <tr style=\"text-align: right;\">\n",
       "      <th></th>\n",
       "      <th>neighbourhood</th>\n",
       "      <th>total</th>\n",
       "      <th>germans</th>\n",
       "      <th>foreigners</th>\n",
       "    </tr>\n",
       "  </thead>\n",
       "  <tbody>\n",
       "    <tr>\n",
       "      <th>0</th>\n",
       "      <td>mitte</td>\n",
       "      <td>333248</td>\n",
       "      <td>195765</td>\n",
       "      <td>137483</td>\n",
       "    </tr>\n",
       "    <tr>\n",
       "      <th>1</th>\n",
       "      <td>friedrichshainkreuzberg</td>\n",
       "      <td>251355</td>\n",
       "      <td>166405</td>\n",
       "      <td>84950</td>\n",
       "    </tr>\n",
       "    <tr>\n",
       "      <th>2</th>\n",
       "      <td>pankow</td>\n",
       "      <td>363021</td>\n",
       "      <td>284308</td>\n",
       "      <td>78713</td>\n",
       "    </tr>\n",
       "    <tr>\n",
       "      <th>3</th>\n",
       "      <td>charlottenburgwilmersdorf</td>\n",
       "      <td>263824</td>\n",
       "      <td>179061</td>\n",
       "      <td>84763</td>\n",
       "    </tr>\n",
       "    <tr>\n",
       "      <th>4</th>\n",
       "      <td>spandau</td>\n",
       "      <td>198091</td>\n",
       "      <td>135550</td>\n",
       "      <td>62541</td>\n",
       "    </tr>\n",
       "    <tr>\n",
       "      <th>5</th>\n",
       "      <td>steglitzzehlendorf</td>\n",
       "      <td>216895</td>\n",
       "      <td>168085</td>\n",
       "      <td>48810</td>\n",
       "    </tr>\n",
       "    <tr>\n",
       "      <th>6</th>\n",
       "      <td>tempelhofschöneberg</td>\n",
       "      <td>271340</td>\n",
       "      <td>195713</td>\n",
       "      <td>75627</td>\n",
       "    </tr>\n",
       "    <tr>\n",
       "      <th>7</th>\n",
       "      <td>neukölln</td>\n",
       "      <td>266828</td>\n",
       "      <td>179764</td>\n",
       "      <td>87064</td>\n",
       "    </tr>\n",
       "    <tr>\n",
       "      <th>8</th>\n",
       "      <td>treptowköpenick</td>\n",
       "      <td>261973</td>\n",
       "      <td>214232</td>\n",
       "      <td>47741</td>\n",
       "    </tr>\n",
       "    <tr>\n",
       "      <th>9</th>\n",
       "      <td>marzahnhellersdorf</td>\n",
       "      <td>267319</td>\n",
       "      <td>213295</td>\n",
       "      <td>54024</td>\n",
       "    </tr>\n",
       "    <tr>\n",
       "      <th>10</th>\n",
       "      <td>lichtenberg</td>\n",
       "      <td>285666</td>\n",
       "      <td>210577</td>\n",
       "      <td>75089</td>\n",
       "    </tr>\n",
       "    <tr>\n",
       "      <th>11</th>\n",
       "      <td>reinickendorf</td>\n",
       "      <td>205821</td>\n",
       "      <td>146081</td>\n",
       "      <td>59740</td>\n",
       "    </tr>\n",
       "    <tr>\n",
       "      <th>12</th>\n",
       "      <td>berlin</td>\n",
       "      <td>3185381</td>\n",
       "      <td>2288836</td>\n",
       "      <td>896545</td>\n",
       "    </tr>\n",
       "  </tbody>\n",
       "</table>\n",
       "</div>"
      ],
      "text/plain": [
       "                neighbourhood    total  germans  foreigners\n",
       "0                       mitte   333248   195765      137483\n",
       "1     friedrichshainkreuzberg   251355   166405       84950\n",
       "2                      pankow   363021   284308       78713\n",
       "3   charlottenburgwilmersdorf   263824   179061       84763\n",
       "4                     spandau   198091   135550       62541\n",
       "5          steglitzzehlendorf   216895   168085       48810\n",
       "6         tempelhofschöneberg   271340   195713       75627\n",
       "7                    neukölln   266828   179764       87064\n",
       "8             treptowköpenick   261973   214232       47741\n",
       "9          marzahnhellersdorf   267319   213295       54024\n",
       "10                lichtenberg   285666   210577       75089\n",
       "11              reinickendorf   205821   146081       59740\n",
       "12                     berlin  3185381  2288836      896545"
      ]
     },
     "execution_count": 15,
     "metadata": {},
     "output_type": "execute_result"
    }
   ],
   "source": [
    "df"
   ]
  },
  {
   "cell_type": "code",
   "execution_count": 18,
   "id": "cfdca4a1-5573-4844-89dc-6106cf716520",
   "metadata": {},
   "outputs": [
    {
     "data": {
      "text/html": [
       "<div>\n",
       "<style scoped>\n",
       "    .dataframe tbody tr th:only-of-type {\n",
       "        vertical-align: middle;\n",
       "    }\n",
       "\n",
       "    .dataframe tbody tr th {\n",
       "        vertical-align: top;\n",
       "    }\n",
       "\n",
       "    .dataframe thead th {\n",
       "        text-align: right;\n",
       "    }\n",
       "</style>\n",
       "<table border=\"1\" class=\"dataframe\">\n",
       "  <thead>\n",
       "    <tr style=\"text-align: right;\">\n",
       "      <th></th>\n",
       "      <th>total</th>\n",
       "      <th>germans</th>\n",
       "      <th>foreigners</th>\n",
       "    </tr>\n",
       "  </thead>\n",
       "  <tbody>\n",
       "    <tr>\n",
       "      <th>count</th>\n",
       "      <td>1.300000e+01</td>\n",
       "      <td>1.300000e+01</td>\n",
       "      <td>13.000000</td>\n",
       "    </tr>\n",
       "    <tr>\n",
       "      <th>mean</th>\n",
       "      <td>4.900586e+05</td>\n",
       "      <td>3.521286e+05</td>\n",
       "      <td>137930.000000</td>\n",
       "    </tr>\n",
       "    <tr>\n",
       "      <th>std</th>\n",
       "      <td>8.111406e+05</td>\n",
       "      <td>5.831000e+05</td>\n",
       "      <td>229123.149354</td>\n",
       "    </tr>\n",
       "    <tr>\n",
       "      <th>min</th>\n",
       "      <td>1.980910e+05</td>\n",
       "      <td>1.355500e+05</td>\n",
       "      <td>47741.000000</td>\n",
       "    </tr>\n",
       "    <tr>\n",
       "      <th>25%</th>\n",
       "      <td>2.513550e+05</td>\n",
       "      <td>1.680850e+05</td>\n",
       "      <td>59740.000000</td>\n",
       "    </tr>\n",
       "    <tr>\n",
       "      <th>50%</th>\n",
       "      <td>2.668280e+05</td>\n",
       "      <td>1.957130e+05</td>\n",
       "      <td>75627.000000</td>\n",
       "    </tr>\n",
       "    <tr>\n",
       "      <th>75%</th>\n",
       "      <td>2.856660e+05</td>\n",
       "      <td>2.132950e+05</td>\n",
       "      <td>84950.000000</td>\n",
       "    </tr>\n",
       "    <tr>\n",
       "      <th>max</th>\n",
       "      <td>3.185381e+06</td>\n",
       "      <td>2.288836e+06</td>\n",
       "      <td>896545.000000</td>\n",
       "    </tr>\n",
       "  </tbody>\n",
       "</table>\n",
       "</div>"
      ],
      "text/plain": [
       "              total       germans     foreigners\n",
       "count  1.300000e+01  1.300000e+01      13.000000\n",
       "mean   4.900586e+05  3.521286e+05  137930.000000\n",
       "std    8.111406e+05  5.831000e+05  229123.149354\n",
       "min    1.980910e+05  1.355500e+05   47741.000000\n",
       "25%    2.513550e+05  1.680850e+05   59740.000000\n",
       "50%    2.668280e+05  1.957130e+05   75627.000000\n",
       "75%    2.856660e+05  2.132950e+05   84950.000000\n",
       "max    3.185381e+06  2.288836e+06  896545.000000"
      ]
     },
     "execution_count": 18,
     "metadata": {},
     "output_type": "execute_result"
    }
   ],
   "source": [
    "df.describe()"
   ]
  },
  {
   "cell_type": "code",
   "execution_count": 16,
   "id": "955470d0-fbce-4993-96ce-fef567b7dfc2",
   "metadata": {},
   "outputs": [],
   "source": [
    "# Export the cleaned and transformed DataFrame to a CSV file\n",
    "df.to_csv('districts_residents_by_religion_other_or_none.csv', index=False)"
   ]
  },
  {
   "cell_type": "code",
   "execution_count": null,
   "id": "9ce1f7ee-0486-4ebb-bbb5-e8aeba376a6e",
   "metadata": {},
   "outputs": [],
   "source": []
  }
 ],
 "metadata": {
  "kernelspec": {
   "display_name": "Python [conda env:base] *",
   "language": "python",
   "name": "conda-base-py"
  },
  "language_info": {
   "codemirror_mode": {
    "name": "ipython",
    "version": 3
   },
   "file_extension": ".py",
   "mimetype": "text/x-python",
   "name": "python",
   "nbconvert_exporter": "python",
   "pygments_lexer": "ipython3",
   "version": "3.12.7"
  }
 },
 "nbformat": 4,
 "nbformat_minor": 5
}
