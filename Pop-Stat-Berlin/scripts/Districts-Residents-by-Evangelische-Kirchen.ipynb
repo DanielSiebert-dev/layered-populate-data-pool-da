{
 "cells": [
  {
   "cell_type": "code",
   "execution_count": 1,
   "id": "e1651a1a-cc56-45d6-94d6-c3d60d66aad0",
   "metadata": {},
   "outputs": [],
   "source": [
    "import pandas as pd"
   ]
  },
  {
   "cell_type": "code",
   "execution_count": 2,
   "id": "772dc608-d2a5-42d0-87bb-a19c57791712",
   "metadata": {},
   "outputs": [],
   "source": [
    "# Load raw data\n",
    "df = pd.read_csv(r'C:\\Users\\oytun\\Downloads\\Berlin_pop_stats - Districts Residents by Evangelische Kirchen.csv', header=1)"
   ]
  },
  {
   "cell_type": "code",
   "execution_count": 3,
   "id": "f78cacea-fcde-4c17-a45d-2ce7b801361f",
   "metadata": {},
   "outputs": [
    {
     "data": {
      "text/html": [
       "<div>\n",
       "<style scoped>\n",
       "    .dataframe tbody tr th:only-of-type {\n",
       "        vertical-align: middle;\n",
       "    }\n",
       "\n",
       "    .dataframe tbody tr th {\n",
       "        vertical-align: top;\n",
       "    }\n",
       "\n",
       "    .dataframe thead th {\n",
       "        text-align: right;\n",
       "    }\n",
       "</style>\n",
       "<table border=\"1\" class=\"dataframe\">\n",
       "  <thead>\n",
       "    <tr style=\"text-align: right;\">\n",
       "      <th></th>\n",
       "      <th>neighbourhood</th>\n",
       "      <th>total</th>\n",
       "      <th>Germans</th>\n",
       "      <th>Foreigners</th>\n",
       "    </tr>\n",
       "  </thead>\n",
       "  <tbody>\n",
       "    <tr>\n",
       "      <th>0</th>\n",
       "      <td>Mitte</td>\n",
       "      <td>35462</td>\n",
       "      <td>33982</td>\n",
       "      <td>1480</td>\n",
       "    </tr>\n",
       "    <tr>\n",
       "      <th>1</th>\n",
       "      <td>Friedrichshain-Kreuzberg</td>\n",
       "      <td>24175</td>\n",
       "      <td>23425</td>\n",
       "      <td>750</td>\n",
       "    </tr>\n",
       "    <tr>\n",
       "      <th>2</th>\n",
       "      <td>Pankow</td>\n",
       "      <td>40711</td>\n",
       "      <td>39678</td>\n",
       "      <td>1033</td>\n",
       "    </tr>\n",
       "    <tr>\n",
       "      <th>3</th>\n",
       "      <td>Charlottenburg-Wilmersdorf</td>\n",
       "      <td>47787</td>\n",
       "      <td>46518</td>\n",
       "      <td>1269</td>\n",
       "    </tr>\n",
       "    <tr>\n",
       "      <th>4</th>\n",
       "      <td>Spandau</td>\n",
       "      <td>40136</td>\n",
       "      <td>39368</td>\n",
       "      <td>768</td>\n",
       "    </tr>\n",
       "  </tbody>\n",
       "</table>\n",
       "</div>"
      ],
      "text/plain": [
       "                neighbourhood  total  Germans  Foreigners\n",
       "0                       Mitte  35462    33982        1480\n",
       "1    Friedrichshain-Kreuzberg  24175    23425         750\n",
       "2                      Pankow  40711    39678        1033\n",
       "3  Charlottenburg-Wilmersdorf  47787    46518        1269\n",
       "4                     Spandau  40136    39368         768"
      ]
     },
     "execution_count": 3,
     "metadata": {},
     "output_type": "execute_result"
    }
   ],
   "source": [
    "df.head()"
   ]
  },
  {
   "cell_type": "code",
   "execution_count": 4,
   "id": "bdab67a2-4fb1-44f1-955f-a37232ebfe11",
   "metadata": {},
   "outputs": [
    {
     "name": "stdout",
     "output_type": "stream",
     "text": [
      "<class 'pandas.core.frame.DataFrame'>\n",
      "RangeIndex: 13 entries, 0 to 12\n",
      "Data columns (total 4 columns):\n",
      " #   Column         Non-Null Count  Dtype \n",
      "---  ------         --------------  ----- \n",
      " 0   neighbourhood  13 non-null     object\n",
      " 1   total          13 non-null     int64 \n",
      " 2   Germans        13 non-null     int64 \n",
      " 3   Foreigners     13 non-null     int64 \n",
      "dtypes: int64(3), object(1)\n",
      "memory usage: 548.0+ bytes\n"
     ]
    }
   ],
   "source": [
    "df.info()"
   ]
  },
  {
   "cell_type": "code",
   "execution_count": 5,
   "id": "4bc1408c-2b35-4151-a2ea-6e9f4e3bbd25",
   "metadata": {},
   "outputs": [
    {
     "data": {
      "text/plain": [
       "neighbourhood    0\n",
       "total            0\n",
       "Germans          0\n",
       "Foreigners       0\n",
       "dtype: int64"
      ]
     },
     "execution_count": 5,
     "metadata": {},
     "output_type": "execute_result"
    }
   ],
   "source": [
    "df.isnull().sum()"
   ]
  },
  {
   "cell_type": "code",
   "execution_count": 6,
   "id": "cbe65b85-69d8-41fc-91db-e7d5b32926f1",
   "metadata": {},
   "outputs": [
    {
     "data": {
      "text/plain": [
       "Index(['neighbourhood', 'total', 'Germans', 'Foreigners'], dtype='object')"
      ]
     },
     "execution_count": 6,
     "metadata": {},
     "output_type": "execute_result"
    }
   ],
   "source": [
    "df.columns"
   ]
  },
  {
   "cell_type": "code",
   "execution_count": 7,
   "id": "9fca478a-8280-4949-a12d-9ef86e2c7954",
   "metadata": {},
   "outputs": [],
   "source": [
    "df.columns = df.columns.str.lower()"
   ]
  },
  {
   "cell_type": "code",
   "execution_count": 8,
   "id": "3dac1ed9-5c40-43ca-95cf-3adc94ba1f76",
   "metadata": {},
   "outputs": [],
   "source": [
    "# Standardize the 'neighbourhood' names by replacing abbreviated or inconsistent names\n",
    "# with their full, lowercase standardized versions for uniformity across the dataset.\n",
    "df['neighbourhood'] = df['neighbourhood'].replace({\n",
    "    'Friedrichshain-Kreuzberg': 'friedrichshainkreuzberg',\n",
    "    'Charlottenburg-Wilmersdorf': 'charlottenburgwilmersdorf',\n",
    "    'Tempelhof-Schöneberg': 'tempelhofschöneberg',\n",
    "    'Steglitz-Zehlendorf': 'steglitzzehlendorf',\n",
    "    'Marzahn-Hellersdorf': 'marzahnhellersdorf',\n",
    "    'Treptow-Köpenick': 'treptowköpenick',\n",
    "    'Neukölln': 'neukölln',\n",
    "    'Pankow': 'pankow',\n",
    "    'Lichtenberg': 'lichtenberg',\n",
    "    'Reinickendorf': 'reinickendorf',\n",
    "    'Mitte': 'mitte',\n",
    "    'Spandau': 'spandau',\n",
    "    'Berlin': 'berlin'\n",
    "})"
   ]
  },
  {
   "cell_type": "code",
   "execution_count": 9,
   "id": "6f7b2377-7425-40ff-a72b-2db09c9b555d",
   "metadata": {},
   "outputs": [
    {
     "data": {
      "text/plain": [
       "neighbourhood    object\n",
       "total             int64\n",
       "germans           int64\n",
       "foreigners        int64\n",
       "dtype: object"
      ]
     },
     "execution_count": 9,
     "metadata": {},
     "output_type": "execute_result"
    }
   ],
   "source": [
    "df.dtypes"
   ]
  },
  {
   "cell_type": "code",
   "execution_count": 10,
   "id": "15834f5d-fa4d-45d7-9a7b-9972218685c5",
   "metadata": {},
   "outputs": [
    {
     "data": {
      "text/html": [
       "<div>\n",
       "<style scoped>\n",
       "    .dataframe tbody tr th:only-of-type {\n",
       "        vertical-align: middle;\n",
       "    }\n",
       "\n",
       "    .dataframe tbody tr th {\n",
       "        vertical-align: top;\n",
       "    }\n",
       "\n",
       "    .dataframe thead th {\n",
       "        text-align: right;\n",
       "    }\n",
       "</style>\n",
       "<table border=\"1\" class=\"dataframe\">\n",
       "  <thead>\n",
       "    <tr style=\"text-align: right;\">\n",
       "      <th></th>\n",
       "      <th>neighbourhood</th>\n",
       "      <th>total</th>\n",
       "      <th>germans</th>\n",
       "      <th>foreigners</th>\n",
       "    </tr>\n",
       "  </thead>\n",
       "  <tbody>\n",
       "    <tr>\n",
       "      <th>0</th>\n",
       "      <td>mitte</td>\n",
       "      <td>35462</td>\n",
       "      <td>33982</td>\n",
       "      <td>1480</td>\n",
       "    </tr>\n",
       "    <tr>\n",
       "      <th>1</th>\n",
       "      <td>friedrichshainkreuzberg</td>\n",
       "      <td>24175</td>\n",
       "      <td>23425</td>\n",
       "      <td>750</td>\n",
       "    </tr>\n",
       "    <tr>\n",
       "      <th>2</th>\n",
       "      <td>pankow</td>\n",
       "      <td>40711</td>\n",
       "      <td>39678</td>\n",
       "      <td>1033</td>\n",
       "    </tr>\n",
       "    <tr>\n",
       "      <th>3</th>\n",
       "      <td>charlottenburgwilmersdorf</td>\n",
       "      <td>47787</td>\n",
       "      <td>46518</td>\n",
       "      <td>1269</td>\n",
       "    </tr>\n",
       "    <tr>\n",
       "      <th>4</th>\n",
       "      <td>spandau</td>\n",
       "      <td>40136</td>\n",
       "      <td>39368</td>\n",
       "      <td>768</td>\n",
       "    </tr>\n",
       "    <tr>\n",
       "      <th>5</th>\n",
       "      <td>steglitzzehlendorf</td>\n",
       "      <td>62491</td>\n",
       "      <td>61417</td>\n",
       "      <td>1074</td>\n",
       "    </tr>\n",
       "    <tr>\n",
       "      <th>6</th>\n",
       "      <td>tempelhofschöneberg</td>\n",
       "      <td>53818</td>\n",
       "      <td>52894</td>\n",
       "      <td>924</td>\n",
       "    </tr>\n",
       "    <tr>\n",
       "      <th>7</th>\n",
       "      <td>neukölln</td>\n",
       "      <td>39002</td>\n",
       "      <td>38292</td>\n",
       "      <td>710</td>\n",
       "    </tr>\n",
       "    <tr>\n",
       "      <th>8</th>\n",
       "      <td>treptowköpenick</td>\n",
       "      <td>23246</td>\n",
       "      <td>22809</td>\n",
       "      <td>437</td>\n",
       "    </tr>\n",
       "    <tr>\n",
       "      <th>9</th>\n",
       "      <td>marzahnhellersdorf</td>\n",
       "      <td>16846</td>\n",
       "      <td>16238</td>\n",
       "      <td>608</td>\n",
       "    </tr>\n",
       "    <tr>\n",
       "      <th>10</th>\n",
       "      <td>lichtenberg</td>\n",
       "      <td>17894</td>\n",
       "      <td>17132</td>\n",
       "      <td>762</td>\n",
       "    </tr>\n",
       "    <tr>\n",
       "      <th>11</th>\n",
       "      <td>reinickendorf</td>\n",
       "      <td>45554</td>\n",
       "      <td>44765</td>\n",
       "      <td>789</td>\n",
       "    </tr>\n",
       "    <tr>\n",
       "      <th>12</th>\n",
       "      <td>berlin</td>\n",
       "      <td>447122</td>\n",
       "      <td>436518</td>\n",
       "      <td>10604</td>\n",
       "    </tr>\n",
       "  </tbody>\n",
       "</table>\n",
       "</div>"
      ],
      "text/plain": [
       "                neighbourhood   total  germans  foreigners\n",
       "0                       mitte   35462    33982        1480\n",
       "1     friedrichshainkreuzberg   24175    23425         750\n",
       "2                      pankow   40711    39678        1033\n",
       "3   charlottenburgwilmersdorf   47787    46518        1269\n",
       "4                     spandau   40136    39368         768\n",
       "5          steglitzzehlendorf   62491    61417        1074\n",
       "6         tempelhofschöneberg   53818    52894         924\n",
       "7                    neukölln   39002    38292         710\n",
       "8             treptowköpenick   23246    22809         437\n",
       "9          marzahnhellersdorf   16846    16238         608\n",
       "10                lichtenberg   17894    17132         762\n",
       "11              reinickendorf   45554    44765         789\n",
       "12                     berlin  447122   436518       10604"
      ]
     },
     "execution_count": 10,
     "metadata": {},
     "output_type": "execute_result"
    }
   ],
   "source": [
    "df"
   ]
  },
  {
   "cell_type": "code",
   "execution_count": 11,
   "id": "1baadb62-fe45-4f8a-9588-c02438197594",
   "metadata": {},
   "outputs": [
    {
     "data": {
      "text/html": [
       "<div>\n",
       "<style scoped>\n",
       "    .dataframe tbody tr th:only-of-type {\n",
       "        vertical-align: middle;\n",
       "    }\n",
       "\n",
       "    .dataframe tbody tr th {\n",
       "        vertical-align: top;\n",
       "    }\n",
       "\n",
       "    .dataframe thead th {\n",
       "        text-align: right;\n",
       "    }\n",
       "</style>\n",
       "<table border=\"1\" class=\"dataframe\">\n",
       "  <thead>\n",
       "    <tr style=\"text-align: right;\">\n",
       "      <th></th>\n",
       "      <th>total</th>\n",
       "      <th>germans</th>\n",
       "      <th>foreigners</th>\n",
       "    </tr>\n",
       "  </thead>\n",
       "  <tbody>\n",
       "    <tr>\n",
       "      <th>count</th>\n",
       "      <td>13.00000</td>\n",
       "      <td>13.000000</td>\n",
       "      <td>13.000000</td>\n",
       "    </tr>\n",
       "    <tr>\n",
       "      <th>mean</th>\n",
       "      <td>68788.00000</td>\n",
       "      <td>67156.615385</td>\n",
       "      <td>1631.384615</td>\n",
       "    </tr>\n",
       "    <tr>\n",
       "      <th>std</th>\n",
       "      <td>114506.50515</td>\n",
       "      <td>111813.412284</td>\n",
       "      <td>2710.192722</td>\n",
       "    </tr>\n",
       "    <tr>\n",
       "      <th>min</th>\n",
       "      <td>16846.00000</td>\n",
       "      <td>16238.000000</td>\n",
       "      <td>437.000000</td>\n",
       "    </tr>\n",
       "    <tr>\n",
       "      <th>25%</th>\n",
       "      <td>24175.00000</td>\n",
       "      <td>23425.000000</td>\n",
       "      <td>750.000000</td>\n",
       "    </tr>\n",
       "    <tr>\n",
       "      <th>50%</th>\n",
       "      <td>40136.00000</td>\n",
       "      <td>39368.000000</td>\n",
       "      <td>789.000000</td>\n",
       "    </tr>\n",
       "    <tr>\n",
       "      <th>75%</th>\n",
       "      <td>47787.00000</td>\n",
       "      <td>46518.000000</td>\n",
       "      <td>1074.000000</td>\n",
       "    </tr>\n",
       "    <tr>\n",
       "      <th>max</th>\n",
       "      <td>447122.00000</td>\n",
       "      <td>436518.000000</td>\n",
       "      <td>10604.000000</td>\n",
       "    </tr>\n",
       "  </tbody>\n",
       "</table>\n",
       "</div>"
      ],
      "text/plain": [
       "              total        germans    foreigners\n",
       "count      13.00000      13.000000     13.000000\n",
       "mean    68788.00000   67156.615385   1631.384615\n",
       "std    114506.50515  111813.412284   2710.192722\n",
       "min     16846.00000   16238.000000    437.000000\n",
       "25%     24175.00000   23425.000000    750.000000\n",
       "50%     40136.00000   39368.000000    789.000000\n",
       "75%     47787.00000   46518.000000   1074.000000\n",
       "max    447122.00000  436518.000000  10604.000000"
      ]
     },
     "execution_count": 11,
     "metadata": {},
     "output_type": "execute_result"
    }
   ],
   "source": [
    "df.describe()"
   ]
  },
  {
   "cell_type": "code",
   "execution_count": 12,
   "id": "5f08bb21-d5e9-4c90-8b11-23ee6cafb48e",
   "metadata": {},
   "outputs": [],
   "source": [
    "# Export the cleaned and transformed DataFrame to a CSV file\n",
    "df.to_csv('districts_residents_by_evangelische_kirchen.csv', index=False)"
   ]
  },
  {
   "cell_type": "code",
   "execution_count": null,
   "id": "50a8a1a6-acca-4b20-892e-fa58a7cde48b",
   "metadata": {},
   "outputs": [],
   "source": []
  }
 ],
 "metadata": {
  "kernelspec": {
   "display_name": "Python [conda env:base] *",
   "language": "python",
   "name": "conda-base-py"
  },
  "language_info": {
   "codemirror_mode": {
    "name": "ipython",
    "version": 3
   },
   "file_extension": ".py",
   "mimetype": "text/x-python",
   "name": "python",
   "nbconvert_exporter": "python",
   "pygments_lexer": "ipython3",
   "version": "3.12.7"
  }
 },
 "nbformat": 4,
 "nbformat_minor": 5
}
