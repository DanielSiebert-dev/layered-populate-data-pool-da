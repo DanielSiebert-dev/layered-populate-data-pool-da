{
 "cells": [
  {
   "cell_type": "code",
   "execution_count": 1,
   "id": "fb479826-5a4e-488d-8f0f-56c3aca13204",
   "metadata": {},
   "outputs": [],
   "source": [
    "import pandas as pd"
   ]
  },
  {
   "cell_type": "code",
   "execution_count": 2,
   "id": "2f22e46a-e807-4205-9f9b-b6ca8c03267e",
   "metadata": {},
   "outputs": [],
   "source": [
    "# Load raw data\n",
    "df = pd.read_csv(r\"C:\\Users\\oytun\\Downloads\\Berlin_pop_stats - Districts Residents by Römisch-katholische Kirche.csv\")"
   ]
  },
  {
   "cell_type": "code",
   "execution_count": 3,
   "id": "d6acbf29-ac97-4196-8e44-288f8eb13614",
   "metadata": {},
   "outputs": [
    {
     "data": {
      "text/html": [
       "<div>\n",
       "<style scoped>\n",
       "    .dataframe tbody tr th:only-of-type {\n",
       "        vertical-align: middle;\n",
       "    }\n",
       "\n",
       "    .dataframe tbody tr th {\n",
       "        vertical-align: top;\n",
       "    }\n",
       "\n",
       "    .dataframe thead th {\n",
       "        text-align: right;\n",
       "    }\n",
       "</style>\n",
       "<table border=\"1\" class=\"dataframe\">\n",
       "  <thead>\n",
       "    <tr style=\"text-align: right;\">\n",
       "      <th></th>\n",
       "      <th>neighbourhood</th>\n",
       "      <th>total</th>\n",
       "      <th>Germans</th>\n",
       "      <th>Foreigners</th>\n",
       "    </tr>\n",
       "  </thead>\n",
       "  <tbody>\n",
       "    <tr>\n",
       "      <th>0</th>\n",
       "      <td>Mitte</td>\n",
       "      <td>28294</td>\n",
       "      <td>19306</td>\n",
       "      <td>8988</td>\n",
       "    </tr>\n",
       "    <tr>\n",
       "      <th>1</th>\n",
       "      <td>Friedrichshain-Kreuzberg</td>\n",
       "      <td>17094</td>\n",
       "      <td>12802</td>\n",
       "      <td>4292</td>\n",
       "    </tr>\n",
       "    <tr>\n",
       "      <th>2</th>\n",
       "      <td>Pankow</td>\n",
       "      <td>23544</td>\n",
       "      <td>19119</td>\n",
       "      <td>4425</td>\n",
       "    </tr>\n",
       "    <tr>\n",
       "      <th>3</th>\n",
       "      <td>Charlottenburg-Wilmersdorf</td>\n",
       "      <td>31889</td>\n",
       "      <td>24415</td>\n",
       "      <td>7474</td>\n",
       "    </tr>\n",
       "    <tr>\n",
       "      <th>4</th>\n",
       "      <td>Spandau</td>\n",
       "      <td>21050</td>\n",
       "      <td>14996</td>\n",
       "      <td>6054</td>\n",
       "    </tr>\n",
       "  </tbody>\n",
       "</table>\n",
       "</div>"
      ],
      "text/plain": [
       "                neighbourhood  total  Germans  Foreigners\n",
       "0                       Mitte  28294    19306        8988\n",
       "1    Friedrichshain-Kreuzberg  17094    12802        4292\n",
       "2                      Pankow  23544    19119        4425\n",
       "3  Charlottenburg-Wilmersdorf  31889    24415        7474\n",
       "4                     Spandau  21050    14996        6054"
      ]
     },
     "execution_count": 3,
     "metadata": {},
     "output_type": "execute_result"
    }
   ],
   "source": [
    "df.head()"
   ]
  },
  {
   "cell_type": "code",
   "execution_count": 4,
   "id": "582a5a20-ef88-41ec-8cfb-29d6291e216e",
   "metadata": {},
   "outputs": [
    {
     "name": "stdout",
     "output_type": "stream",
     "text": [
      "<class 'pandas.core.frame.DataFrame'>\n",
      "RangeIndex: 13 entries, 0 to 12\n",
      "Data columns (total 4 columns):\n",
      " #   Column         Non-Null Count  Dtype \n",
      "---  ------         --------------  ----- \n",
      " 0   neighbourhood  13 non-null     object\n",
      " 1   total          13 non-null     int64 \n",
      " 2   Germans        13 non-null     int64 \n",
      " 3   Foreigners     13 non-null     int64 \n",
      "dtypes: int64(3), object(1)\n",
      "memory usage: 548.0+ bytes\n"
     ]
    }
   ],
   "source": [
    "df.info()"
   ]
  },
  {
   "cell_type": "code",
   "execution_count": 5,
   "id": "dc06f4b8-6ec9-4f76-9dc2-6f1a8f112c4a",
   "metadata": {},
   "outputs": [
    {
     "data": {
      "text/plain": [
       "neighbourhood    0\n",
       "total            0\n",
       "Germans          0\n",
       "Foreigners       0\n",
       "dtype: int64"
      ]
     },
     "execution_count": 5,
     "metadata": {},
     "output_type": "execute_result"
    }
   ],
   "source": [
    "df.isnull().sum()"
   ]
  },
  {
   "cell_type": "code",
   "execution_count": 6,
   "id": "c6045295-fa79-4033-93fc-e1299412af9c",
   "metadata": {},
   "outputs": [
    {
     "data": {
      "text/plain": [
       "Index(['neighbourhood', 'total', 'Germans', 'Foreigners'], dtype='object')"
      ]
     },
     "execution_count": 6,
     "metadata": {},
     "output_type": "execute_result"
    }
   ],
   "source": [
    "df.columns"
   ]
  },
  {
   "cell_type": "code",
   "execution_count": 7,
   "id": "fae850ab-2218-46d5-b221-74899daae050",
   "metadata": {},
   "outputs": [],
   "source": [
    "df.columns = df.columns.str.lower()"
   ]
  },
  {
   "cell_type": "code",
   "execution_count": 8,
   "id": "5952d4b1-5c14-4506-9d3e-cd7ec5c37f01",
   "metadata": {},
   "outputs": [],
   "source": [
    "# Standardize the 'neighbourhood' names by replacing abbreviated or inconsistent names\n",
    "# with their full, lowercase standardized versions for uniformity across the dataset.\n",
    "df['neighbourhood'] = df['neighbourhood'].replace({\n",
    "    'Friedrichshain-Kreuzberg': 'friedrichshainkreuzberg',\n",
    "    'Charlottenburg-Wilmersdorf': 'charlottenburgwilmersdorf',\n",
    "    'Tempelhof-Schöneberg': 'tempelhofschöneberg',\n",
    "    'Steglitz-Zehlendorf': 'steglitzzehlendorf',\n",
    "    'Marzahn-Hellersdorf': 'marzahnhellersdorf',\n",
    "    'Treptow-Köpenick': 'treptowköpenick',\n",
    "    'Neukölln': 'neukölln',\n",
    "    'Pankow': 'pankow',\n",
    "    'Lichtenberg': 'lichtenberg',\n",
    "    'Reinickendorf': 'reinickendorf',\n",
    "    'Mitte': 'mitte',\n",
    "    'Spandau': 'spandau',\n",
    "    'Berlin': 'berlin'\n",
    "})"
   ]
  },
  {
   "cell_type": "code",
   "execution_count": 9,
   "id": "17d69471-5d98-4f37-8420-6bfaba9b8a30",
   "metadata": {},
   "outputs": [
    {
     "data": {
      "text/plain": [
       "neighbourhood    object\n",
       "total             int64\n",
       "germans           int64\n",
       "foreigners        int64\n",
       "dtype: object"
      ]
     },
     "execution_count": 9,
     "metadata": {},
     "output_type": "execute_result"
    }
   ],
   "source": [
    "df.dtypes"
   ]
  },
  {
   "cell_type": "code",
   "execution_count": 10,
   "id": "f793dc12-aabd-4bba-ab75-a2cc932e381b",
   "metadata": {},
   "outputs": [
    {
     "data": {
      "text/html": [
       "<div>\n",
       "<style scoped>\n",
       "    .dataframe tbody tr th:only-of-type {\n",
       "        vertical-align: middle;\n",
       "    }\n",
       "\n",
       "    .dataframe tbody tr th {\n",
       "        vertical-align: top;\n",
       "    }\n",
       "\n",
       "    .dataframe thead th {\n",
       "        text-align: right;\n",
       "    }\n",
       "</style>\n",
       "<table border=\"1\" class=\"dataframe\">\n",
       "  <thead>\n",
       "    <tr style=\"text-align: right;\">\n",
       "      <th></th>\n",
       "      <th>neighbourhood</th>\n",
       "      <th>total</th>\n",
       "      <th>germans</th>\n",
       "      <th>foreigners</th>\n",
       "    </tr>\n",
       "  </thead>\n",
       "  <tbody>\n",
       "    <tr>\n",
       "      <th>0</th>\n",
       "      <td>mitte</td>\n",
       "      <td>28294</td>\n",
       "      <td>19306</td>\n",
       "      <td>8988</td>\n",
       "    </tr>\n",
       "    <tr>\n",
       "      <th>1</th>\n",
       "      <td>friedrichshainkreuzberg</td>\n",
       "      <td>17094</td>\n",
       "      <td>12802</td>\n",
       "      <td>4292</td>\n",
       "    </tr>\n",
       "    <tr>\n",
       "      <th>2</th>\n",
       "      <td>pankow</td>\n",
       "      <td>23544</td>\n",
       "      <td>19119</td>\n",
       "      <td>4425</td>\n",
       "    </tr>\n",
       "    <tr>\n",
       "      <th>3</th>\n",
       "      <td>charlottenburgwilmersdorf</td>\n",
       "      <td>31889</td>\n",
       "      <td>24415</td>\n",
       "      <td>7474</td>\n",
       "    </tr>\n",
       "    <tr>\n",
       "      <th>4</th>\n",
       "      <td>spandau</td>\n",
       "      <td>21050</td>\n",
       "      <td>14996</td>\n",
       "      <td>6054</td>\n",
       "    </tr>\n",
       "    <tr>\n",
       "      <th>5</th>\n",
       "      <td>steglitzzehlendorf</td>\n",
       "      <td>30658</td>\n",
       "      <td>25204</td>\n",
       "      <td>5454</td>\n",
       "    </tr>\n",
       "    <tr>\n",
       "      <th>6</th>\n",
       "      <td>tempelhofschöneberg</td>\n",
       "      <td>31801</td>\n",
       "      <td>24770</td>\n",
       "      <td>7031</td>\n",
       "    </tr>\n",
       "    <tr>\n",
       "      <th>7</th>\n",
       "      <td>neukölln</td>\n",
       "      <td>23658</td>\n",
       "      <td>17637</td>\n",
       "      <td>6021</td>\n",
       "    </tr>\n",
       "    <tr>\n",
       "      <th>8</th>\n",
       "      <td>treptowköpenick</td>\n",
       "      <td>12017</td>\n",
       "      <td>9359</td>\n",
       "      <td>2658</td>\n",
       "    </tr>\n",
       "    <tr>\n",
       "      <th>9</th>\n",
       "      <td>marzahnhellersdorf</td>\n",
       "      <td>9926</td>\n",
       "      <td>6915</td>\n",
       "      <td>3011</td>\n",
       "    </tr>\n",
       "    <tr>\n",
       "      <th>10</th>\n",
       "      <td>lichtenberg</td>\n",
       "      <td>11988</td>\n",
       "      <td>8137</td>\n",
       "      <td>3851</td>\n",
       "    </tr>\n",
       "    <tr>\n",
       "      <th>11</th>\n",
       "      <td>reinickendorf</td>\n",
       "      <td>22723</td>\n",
       "      <td>17253</td>\n",
       "      <td>5470</td>\n",
       "    </tr>\n",
       "    <tr>\n",
       "      <th>12</th>\n",
       "      <td>berlin</td>\n",
       "      <td>264642</td>\n",
       "      <td>199913</td>\n",
       "      <td>64729</td>\n",
       "    </tr>\n",
       "  </tbody>\n",
       "</table>\n",
       "</div>"
      ],
      "text/plain": [
       "                neighbourhood   total  germans  foreigners\n",
       "0                       mitte   28294    19306        8988\n",
       "1     friedrichshainkreuzberg   17094    12802        4292\n",
       "2                      pankow   23544    19119        4425\n",
       "3   charlottenburgwilmersdorf   31889    24415        7474\n",
       "4                     spandau   21050    14996        6054\n",
       "5          steglitzzehlendorf   30658    25204        5454\n",
       "6         tempelhofschöneberg   31801    24770        7031\n",
       "7                    neukölln   23658    17637        6021\n",
       "8             treptowköpenick   12017     9359        2658\n",
       "9          marzahnhellersdorf    9926     6915        3011\n",
       "10                lichtenberg   11988     8137        3851\n",
       "11              reinickendorf   22723    17253        5470\n",
       "12                     berlin  264642   199913       64729"
      ]
     },
     "execution_count": 10,
     "metadata": {},
     "output_type": "execute_result"
    }
   ],
   "source": [
    "df"
   ]
  },
  {
   "cell_type": "code",
   "execution_count": 11,
   "id": "b09e642e-0787-48b2-9648-07607cf8a2b5",
   "metadata": {},
   "outputs": [
    {
     "data": {
      "text/html": [
       "<div>\n",
       "<style scoped>\n",
       "    .dataframe tbody tr th:only-of-type {\n",
       "        vertical-align: middle;\n",
       "    }\n",
       "\n",
       "    .dataframe tbody tr th {\n",
       "        vertical-align: top;\n",
       "    }\n",
       "\n",
       "    .dataframe thead th {\n",
       "        text-align: right;\n",
       "    }\n",
       "</style>\n",
       "<table border=\"1\" class=\"dataframe\">\n",
       "  <thead>\n",
       "    <tr style=\"text-align: right;\">\n",
       "      <th></th>\n",
       "      <th>total</th>\n",
       "      <th>germans</th>\n",
       "      <th>foreigners</th>\n",
       "    </tr>\n",
       "  </thead>\n",
       "  <tbody>\n",
       "    <tr>\n",
       "      <th>count</th>\n",
       "      <td>13.000000</td>\n",
       "      <td>13.000000</td>\n",
       "      <td>13.000000</td>\n",
       "    </tr>\n",
       "    <tr>\n",
       "      <th>mean</th>\n",
       "      <td>40714.153846</td>\n",
       "      <td>30755.846154</td>\n",
       "      <td>9958.307692</td>\n",
       "    </tr>\n",
       "    <tr>\n",
       "      <th>std</th>\n",
       "      <td>67704.641739</td>\n",
       "      <td>51194.469945</td>\n",
       "      <td>16553.635484</td>\n",
       "    </tr>\n",
       "    <tr>\n",
       "      <th>min</th>\n",
       "      <td>9926.000000</td>\n",
       "      <td>6915.000000</td>\n",
       "      <td>2658.000000</td>\n",
       "    </tr>\n",
       "    <tr>\n",
       "      <th>25%</th>\n",
       "      <td>17094.000000</td>\n",
       "      <td>12802.000000</td>\n",
       "      <td>4292.000000</td>\n",
       "    </tr>\n",
       "    <tr>\n",
       "      <th>50%</th>\n",
       "      <td>23544.000000</td>\n",
       "      <td>17637.000000</td>\n",
       "      <td>5470.000000</td>\n",
       "    </tr>\n",
       "    <tr>\n",
       "      <th>75%</th>\n",
       "      <td>30658.000000</td>\n",
       "      <td>24415.000000</td>\n",
       "      <td>7031.000000</td>\n",
       "    </tr>\n",
       "    <tr>\n",
       "      <th>max</th>\n",
       "      <td>264642.000000</td>\n",
       "      <td>199913.000000</td>\n",
       "      <td>64729.000000</td>\n",
       "    </tr>\n",
       "  </tbody>\n",
       "</table>\n",
       "</div>"
      ],
      "text/plain": [
       "               total        germans    foreigners\n",
       "count      13.000000      13.000000     13.000000\n",
       "mean    40714.153846   30755.846154   9958.307692\n",
       "std     67704.641739   51194.469945  16553.635484\n",
       "min      9926.000000    6915.000000   2658.000000\n",
       "25%     17094.000000   12802.000000   4292.000000\n",
       "50%     23544.000000   17637.000000   5470.000000\n",
       "75%     30658.000000   24415.000000   7031.000000\n",
       "max    264642.000000  199913.000000  64729.000000"
      ]
     },
     "execution_count": 11,
     "metadata": {},
     "output_type": "execute_result"
    }
   ],
   "source": [
    "df.describe()"
   ]
  },
  {
   "cell_type": "code",
   "execution_count": 12,
   "id": "e15af3ad-f8f6-45e5-8d9a-96b5cef0c4b3",
   "metadata": {},
   "outputs": [],
   "source": [
    "# Export the cleaned and transformed DataFrame to a CSV file\n",
    "df.to_csv('districts_residents_by_römisch_katholische_kirche.csv', index=False)"
   ]
  },
  {
   "cell_type": "code",
   "execution_count": null,
   "id": "ee34bdd1-880b-4a5c-8e39-0e5f27c5d8a1",
   "metadata": {},
   "outputs": [],
   "source": []
  }
 ],
 "metadata": {
  "kernelspec": {
   "display_name": "Python [conda env:base] *",
   "language": "python",
   "name": "conda-base-py"
  },
  "language_info": {
   "codemirror_mode": {
    "name": "ipython",
    "version": 3
   },
   "file_extension": ".py",
   "mimetype": "text/x-python",
   "name": "python",
   "nbconvert_exporter": "python",
   "pygments_lexer": "ipython3",
   "version": "3.12.7"
  }
 },
 "nbformat": 4,
 "nbformat_minor": 5
}
