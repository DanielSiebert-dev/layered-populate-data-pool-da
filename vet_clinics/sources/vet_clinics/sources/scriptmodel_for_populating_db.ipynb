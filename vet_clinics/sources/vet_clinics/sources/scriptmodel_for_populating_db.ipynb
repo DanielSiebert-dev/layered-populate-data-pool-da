{
 "cells": [
  {
   "cell_type": "code",
   "execution_count": null,
   "id": "baa824ad",
   "metadata": {},
   "outputs": [],
   "source": []
  },
  {
   "cell_type": "markdown",
   "id": "028da046",
   "metadata": {},
   "source": [
    "\n",
    "## Populate Database"
   ]
  },
  {
   "cell_type": "code",
   "execution_count": null,
   "id": "1bfcf6d0",
   "metadata": {},
   "outputs": [],
   "source": [
    "import psycopg2\n",
    "import pandas as pd\n",
    "from sqlalchemy import create_engine, text\n",
    "import warnings\n",
    "\n",
    "warnings.filterwarnings(\"ignore\")"
   ]
  },
  {
   "cell_type": "code",
   "execution_count": null,
   "id": "96bd342d",
   "metadata": {},
   "outputs": [],
   "source": [
    "\n",
    "\n",
    "user='martin_svitek'\n",
    "password='T67wni047Ugy2uUx'"
   ]
  },
  {
   "cell_type": "code",
   "execution_count": 2,
   "id": "0a44be14",
   "metadata": {},
   "outputs": [
    {
     "ename": "NameError",
     "evalue": "name 'create_engine' is not defined",
     "output_type": "error",
     "traceback": [
      "\u001b[31m---------------------------------------------------------------------------\u001b[39m",
      "\u001b[31mNameError\u001b[39m                                 Traceback (most recent call last)",
      "\u001b[36mCell\u001b[39m\u001b[36m \u001b[39m\u001b[32mIn[2]\u001b[39m\u001b[32m, line 8\u001b[39m\n\u001b[32m      5\u001b[39m schema=\u001b[33m'\u001b[39m\u001b[33mberlin_source_data\u001b[39m\u001b[33m'\u001b[39m\n\u001b[32m      7\u001b[39m \u001b[38;5;66;03m#connection to db after you opened tunnel\u001b[39;00m\n\u001b[32m----> \u001b[39m\u001b[32m8\u001b[39m engine = \u001b[43mcreate_engine\u001b[49m(\u001b[33mf\u001b[39m\u001b[33m'\u001b[39m\u001b[33mpostgresql+psycopg2://\u001b[39m\u001b[38;5;132;01m{\u001b[39;00muser_name\u001b[38;5;132;01m}\u001b[39;00m\u001b[33m:\u001b[39m\u001b[38;5;132;01m{\u001b[39;00mpassword\u001b[38;5;132;01m}\u001b[39;00m\u001b[33m@\u001b[39m\u001b[38;5;132;01m{\u001b[39;00mhost\u001b[38;5;132;01m}\u001b[39;00m\u001b[33m:\u001b[39m\u001b[38;5;132;01m{\u001b[39;00mport\u001b[38;5;132;01m}\u001b[39;00m\u001b[33m/\u001b[39m\u001b[38;5;132;01m{\u001b[39;00mdatabase\u001b[38;5;132;01m}\u001b[39;00m\u001b[33m'\u001b[39m)\n",
      "\u001b[31mNameError\u001b[39m: name 'create_engine' is not defined"
     ]
    }
   ],
   "source": [
    "# Conection\n",
    "host = 'localhost'\n",
    "port = '5433'\n",
    "database = 'layereddb'\n",
    "schema='berlin_source_data'\n",
    "\n",
    "#connection to db after you opened tunnel\n",
    "engine = create_engine(f'postgresql+psycopg2://{user_name}:{password}@{host}:{port}/{database}')"
   ]
  },
  {
   "cell_type": "code",
   "execution_count": 3,
   "id": "515f7f66",
   "metadata": {},
   "outputs": [
    {
     "ename": "NameError",
     "evalue": "name 'engine' is not defined",
     "output_type": "error",
     "traceback": [
      "\u001b[31m---------------------------------------------------------------------------\u001b[39m",
      "\u001b[31mNameError\u001b[39m                                 Traceback (most recent call last)",
      "\u001b[36mCell\u001b[39m\u001b[36m \u001b[39m\u001b[32mIn[3]\u001b[39m\u001b[32m, line 11\u001b[39m\n\u001b[32m      2\u001b[39m create_table_query = \u001b[33mf\u001b[39m\u001b[33m\"\"\"\u001b[39m\n\u001b[32m      3\u001b[39m \u001b[33mCREATE TABLE IF NOT EXISTS \u001b[39m\u001b[38;5;132;01m{\u001b[39;00mschema\u001b[38;5;132;01m}\u001b[39;00m\u001b[33m.test_table_\u001b[39m\u001b[38;5;132;01m{\u001b[39;00muser_name\u001b[38;5;132;01m}\u001b[39;00m\u001b[33m (\u001b[39m\n\u001b[32m      4\u001b[39m \u001b[33m    id INTEGER PRIMARY KEY,\u001b[39m\n\u001b[32m   (...)\u001b[39m\u001b[32m      7\u001b[39m \u001b[33m);\u001b[39m\n\u001b[32m      8\u001b[39m \u001b[33m\"\"\"\u001b[39m\n\u001b[32m     10\u001b[39m \u001b[38;5;66;03m# Execute the query to create empty table\u001b[39;00m\n\u001b[32m---> \u001b[39m\u001b[32m11\u001b[39m \u001b[38;5;28;01mwith\u001b[39;00m \u001b[43mengine\u001b[49m.connect() \u001b[38;5;28;01mas\u001b[39;00m conn:\n\u001b[32m     12\u001b[39m     conn.execute(text(create_table_query))\n\u001b[32m     13\u001b[39m     conn.commit()  \u001b[38;5;66;03m# commit the transaction\u001b[39;00m\n",
      "\u001b[31mNameError\u001b[39m: name 'engine' is not defined"
     ]
    }
   ],
   "source": [
    "#this is where you create table with constraints and references first\n",
    "create_table_query = f\"\"\"\n",
    "CREATE TABLE IF NOT EXISTS {schema}.test_table_{user_name} (\n",
    "    id INTEGER PRIMARY KEY,\n",
    "    name VARCHAR(100) NOT NULL,\n",
    "    score INTEGER\n",
    ");\n",
    "\"\"\"\n",
    "\n",
    "# Execute the query to create empty table\n",
    "with engine.connect() as conn:\n",
    "    conn.execute(text(create_table_query))\n",
    "    conn.commit()  # commit the transaction"
   ]
  },
  {
   "cell_type": "code",
   "execution_count": 4,
   "id": "036a149c",
   "metadata": {},
   "outputs": [
    {
     "ename": "SyntaxError",
     "evalue": "invalid syntax (2366030662.py, line 2)",
     "output_type": "error",
     "traceback": [
      "  \u001b[36mCell\u001b[39m\u001b[36m \u001b[39m\u001b[32mIn[4]\u001b[39m\u001b[32m, line 2\u001b[39m\n\u001b[31m    \u001b[39m\u001b[31mCREATE TABLE IF NOT EXISTS veterinary_clinics (\u001b[39m\n           ^\n\u001b[31mSyntaxError\u001b[39m\u001b[31m:\u001b[39m invalid syntax\n"
     ]
    }
   ],
   "source": [
    "#create vet clinics table if not exists\n",
    "CREATE TABLE IF NOT EXISTS veterinary_clinics (\n",
    "  clinic_id           VARCHAR(64) PRIMARY KEY,              -- e.g. 'node/123' or your stringified OSM id\n",
    "  clinic_name         VARCHAR(200) NOT NULL,\n",
    "  street              VARCHAR(100) NOT NULL,\n",
    "  house_number        VARCHAR(10)  NOT NULL,\n",
    "  postcode            VARCHAR(5),\n",
    "  city                VARCHAR(100) NOT NULL,\n",
    "\n",
    "  district_id         INT REFERENCES districts(district_id) ON UPDATE CASCADE ON DELETE SET NULL,\n",
    "  neighbourhood_id    INT REFERENCES neighbourhoods(neighbourhood_id) ON UPDATE CASCADE ON DELETE SET NULL,\n",
    "\n",
    "  phone_number        VARCHAR(50),\n",
    "  website             VARCHAR(100),\n",
    "  email               VARCHAR(100),\n",
    "  opening_hours       VARCHAR(255),\n",
    "  operator            VARCHAR(100),\n",
    "  speciality          VARCHAR(100),\n",
    "  wheelchair_acces    VARCHAR(50),                          -- normalized: yes|no|limited\n",
    "  full_address        VARCHAR(255),\n",
    "\n",
    "  -- geometries (SRID 4326)\n",
    "  pt_geom             geometry(Point, 4326),\n",
    "  footprint_geom      geometry(Geometry, 4326),             -- Polygon/MultiPolygon if you have it\n",
    "\n",
    " \n",
    ");\n",
    "\n",
    "-- If you already had a table but were missing columns, add them idempotently:\n",
    "ALTER TABLE veterinary_clinics\n",
    "  ADD COLUMN IF NOT EXISTS speciality          VARCHAR(100),\n",
    "  ADD COLUMN IF NOT EXISTS wheelchair_acces    VARCHAR(50),\n",
    "  ADD COLUMN IF NOT EXISTS full_address        VARCHAR(255),\n",
    "  ADD COLUMN IF NOT EXISTS pt_geom             geometry(Point, 4326),\n",
    "  ADD COLUMN IF NOT EXISTS footprint_geom      geometry(Geometry, 4326),\n",
    "  ADD COLUMN IF NOT EXISTS created_at          TIMESTAMP WITH TIME ZONE DEFAULT NOW(),\n",
    "  ADD COLUMN IF NOT EXISTS updated_at          TIMESTAMP WITH TIME ZONE DEFAULT NOW();\n",
    "\n",
    "-- Helpful constraints\n",
    "ALTER TABLE veterinary_clinics\n",
    "  ADD CONSTRAINT IF NOT EXISTS chk_postcode_len\n",
    "    CHECK (postcode IS NULL OR char_length(postcode) = 5),\n",
    "  ADD CONSTRAINT IF NOT EXISTS chk_wheelchair\n",
    "    CHECK (wheelchair_acces IN ('yes','no','limited') OR wheelchair_acces IS NULL);\n",
    "\n",
    "-- De-dup safeguard: if you consider (clinic_name, street, house_number, postcode) unique\n",
    "CREATE UNIQUE INDEX IF NOT EXISTS uq_clinic_name_addr\n",
    "ON veterinary_clinics (lower(clinic_name), lower(street), lower(house_number), postcode);\n",
    "\n",
    "-- Indexes for performance\n",
    "CREATE INDEX IF NOT EXISTS clinics_district_idx     ON veterinary_clinics (district_id);\n",
    "CREATE INDEX IF NOT EXISTS clinics_neighbour_idx    ON veterinary_clinics (neighbourhood_id);\n",
    "CREATE INDEX IF NOT EXISTS clinics_pt_gix           ON veterinary_clinics USING GIST (pt_geom);\n",
    "CREATE INDEX IF NOT EXISTS clinics_footprint_gix    ON veterinary_clinics USING GIST (footprint_geom);\n",
    "CREATE INDEX IF NOT EXISTS clinics_name_trgm_idx    ON veterinary_clinics USING GIN (clinic_name gin_trgm_ops);\n",
    "CREATE INDEX IF NOT EXISTS clinics_address_trgm_idx ON veterinary_clinics USING GIN (full_address gin_trgm_ops);\n",
    "\n",
    "-- Auto-update updated_at\n",
    "CREATE OR REPLACE FUNCTION set_updated_at()\n",
    "RETURNS TRIGGER AS $$\n",
    "BEGIN\n",
    "  NEW.updated_at := NOW();\n",
    "  RETURN NEW;\n",
    "END; $$ LANGUAGE plpgsql;\n",
    "\n",
    "DROP TRIGGER IF EXISTS trg_clinics_updated_at ON veterinary_clinics;\n",
    "CREATE TRIGGER trg_clinics_updated_at\n",
    "BEFORE UPDATE ON veterinary_clinics\n",
    "FOR EACH ROW EXECUTE FUNCTION set_updated_at();\n",
    "\n"
   ]
  },
  {
   "cell_type": "code",
   "execution_count": null,
   "id": "73bfc311",
   "metadata": {},
   "outputs": [],
   "source": []
  }
 ],
 "metadata": {
  "kernelspec": {
   "display_name": "myenv",
   "language": "python",
   "name": "python3"
  },
  "language_info": {
   "codemirror_mode": {
    "name": "ipython",
    "version": 3
   },
   "file_extension": ".py",
   "mimetype": "text/x-python",
   "name": "python",
   "nbconvert_exporter": "python",
   "pygments_lexer": "ipython3",
   "version": "3.11.13"
  }
 },
 "nbformat": 4,
 "nbformat_minor": 5
}
