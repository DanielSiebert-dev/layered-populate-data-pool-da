{
 "cells": [
  {
   "cell_type": "code",
   "execution_count": null,
   "id": "baa824ad",
   "metadata": {},
   "outputs": [],
   "source": []
  },
  {
   "cell_type": "markdown",
   "id": "028da046",
   "metadata": {},
   "source": [
    "\n",
    "## Create Table in Database"
   ]
  },
  {
   "cell_type": "code",
   "execution_count": 15,
   "id": "1bfcf6d0",
   "metadata": {},
   "outputs": [],
   "source": [
    "import psycopg2\n",
    "import pandas as pd\n",
    "from sqlalchemy import create_engine, text\n",
    "import warnings\n",
    "\n",
    "warnings.filterwarnings(\"ignore\")"
   ]
  },
  {
   "cell_type": "code",
   "execution_count": null,
   "id": "0a44be14",
   "metadata": {},
   "outputs": [],
   "source": [
    "# Conection\n",
    "host = 'localhost'\n",
    "port = '5433'\n",
    "database = 'layereddb'\n",
    "schema='berlin_source_data'\n",
    "\n",
    "#connection to db after i opened tunnel\n",
    "engine = create_engine(f'postgresql+psycopg2://{user}:{password}@{host}:{port}/{database}')"
   ]
  },
  {
   "cell_type": "code",
   "execution_count": null,
   "id": "036a149c",
   "metadata": {},
   "outputs": [],
   "source": [
    "#create vet clinics table if not exists\n",
    "creating_vet_clinics_table = f\"\"\" CREATE TABLE IF NOT EXISTS {schema}.veterinary_clinics \n",
    "\n",
    "(\n",
    "  clinic_id           VARCHAR(64) PRIMARY KEY,              -- e.g. 'node/123' or your stringified OSM id\n",
    "  clinic_name         VARCHAR(200) NOT NULL,\n",
    "  street              VARCHAR(100) NOT NULL,\n",
    "  house_number        VARCHAR(10)  NOT NULL,\n",
    "  postcode            VARCHAR(5),\n",
    "  city                VARCHAR(100) NOT NULL,\n",
    "  district_id         VARCHAR(100) REFERENCES {schema}.districts(district_id) ON UPDATE CASCADE ON DELETE SET NULL,\n",
    "  neighbourhood_id    VARCHAR(100),\n",
    "  phone_number        VARCHAR(50),\n",
    "  website             VARCHAR(100),\n",
    "  email               VARCHAR(100),\n",
    "  opening_hours       VARCHAR(255),\n",
    "  operator            VARCHAR(100),\n",
    "  speciality          VARCHAR(100),\n",
    "  wheelchair_acces    VARCHAR(50),                          -- normalized: yes|no|limited\n",
    "  full_address        VARCHAR(255),\n",
    "  -- geometries (SRID 4326)\n",
    "  pt_geom             geometry(Point, 4326),\n",
    "  footprint_geom      geometry(Geometry, 4326)            -- Polygon/MultiPolygon if you have it\n",
    "\n",
    ");\n",
    "\"\"\"\n",
    "\n",
    "with engine.connect() as conn:\n",
    "    conn.execute(text(creating_vet_clinics_table))\n",
    "    conn.commit()  # commit the transaction"
   ]
  },
  {
   "cell_type": "code",
   "execution_count": null,
   "id": "817d2c38",
   "metadata": {},
   "outputs": [],
   "source": [
    "# --- CONFIG ---\n",
    "CSV_PATH   = \"../sources/vets_with_districts_neighborhoods.csv\"   \n",
    "SCHEMA     = \"berlin_source_data\"                       \n",
    "TABLE_NAME = f\"veterinary_clinics\"\n",
    "\n",
    "# --- LOAD & INSERT IN CHUNKS ---\n",
    "chunksize = 50_000  # tune as needed\n",
    "total_rows = 0\n",
    "for i, chunk in enumerate(pd.read_csv(CSV_PATH, chunksize=chunksize)):\n",
    "\n",
    "    chunk.to_sql(\n",
    "        TABLE_NAME,\n",
    "        engine,\n",
    "        schema=SCHEMA,\n",
    "        if_exists=\"append\",\n",
    "        index=False,\n",
    "        method=\"multi\",     # batches multi-row INSERTs\n",
    "    )\n",
    "    total_rows += len(chunk)\n",
    "    print(f\"Inserted chunk {i+1}: {len(chunk):,} rows (total {total_rows:,})\")\n",
    "\n",
    "print(f\"✅ Done. Inserted ~{total_rows:,} rows into {SCHEMA}.{TABLE_NAME}\")\n",
    "\n",
    "# --- VERIFY ---\n",
    "check = pd.read_sql(\n",
    "    f\"SELECT COUNT(*) AS rows FROM {SCHEMA}.{TABLE_NAME};\", engine\n",
    ")\n",
    "print(check)\n"
   ]
  }
 ],
 "metadata": {
  "kernelspec": {
   "display_name": "myenv",
   "language": "python",
   "name": "python3"
  },
  "language_info": {
   "codemirror_mode": {
    "name": "ipython",
    "version": 3
   },
   "file_extension": ".py",
   "mimetype": "text/x-python",
   "name": "python",
   "nbconvert_exporter": "python",
   "pygments_lexer": "ipython3",
   "version": "3.11.13"
  }
 },
 "nbformat": 4,
 "nbformat_minor": 5
}
