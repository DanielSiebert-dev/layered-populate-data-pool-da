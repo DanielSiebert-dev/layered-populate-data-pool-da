{
 "cells": [
  {
   "cell_type": "markdown",
   "id": "013c97ee",
   "metadata": {},
   "source": [
    "## Script to retrieve venues from OpenStreetMap\n",
    "    * Retrieves bars, caffes and restaurants from opsen source database\n",
    "    * Creates data frame inside the root folder named \"berlin_venues\"\n",
    "    * Types of amenities can be modifyed in amenities={\"...\", \"...\"}"
   ]
  },
  {
   "cell_type": "code",
   "execution_count": null,
   "id": "3455617f",
   "metadata": {},
   "outputs": [],
   "source": [
    "import requests\n",
    "import pandas as pd\n",
    "import time\n",
    "import logging"
   ]
  },
  {
   "cell_type": "code",
   "execution_count": null,
   "id": "fd643944",
   "metadata": {},
   "outputs": [
    {
     "name": "stderr",
     "output_type": "stream",
     "text": [
      "2025-08-15 13:03:53,806 - INFO - Fetching venues using Berlin administrative boundary...\n",
      "2025-08-15 13:04:00,002 - INFO - Retrieved 8194 venues from Berlin administrative area\n",
      "2025-08-15 13:04:00,052 - INFO - Saved 8194 venues to berlin_places.csv\n"
     ]
    }
   ],
   "source": [
    "\n",
    "# Logging setup\n",
    "logging.basicConfig(level=logging.INFO, format='%(asctime)s - %(levelname)s - %(message)s')\n",
    "\n",
    "OVERPASS_URL = \"https://overpass-api.de/api/interpreter\"\n",
    "\n",
    "amenities = ['restaurant', 'cafe', 'bar']\n",
    "\n",
    "# Function to fetch data with retries\n",
    "def fetch_with_retries(query, retries=3, delay=5):\n",
    "    for attempt in range(retries):\n",
    "        try:\n",
    "            response = requests.post(OVERPASS_URL, data={'data': query}, timeout=120)\n",
    "            response.raise_for_status()\n",
    "            return response.json()\n",
    "        except Exception as e:\n",
    "            logging.warning(f\"Attempt {attempt+1} failed: {e}\")\n",
    "            time.sleep(delay * (attempt+1))\n",
    "    logging.error(\"All retries failed\")\n",
    "    return None\n",
    "\n",
    "# Function to parse a single venue element\n",
    "def parse_venue(el):\n",
    "    tags = el.get('tags', {})\n",
    "    address = \", \".join(filter(None, [\n",
    "        tags.get('addr:street'),\n",
    "        tags.get('addr:housenumber'),\n",
    "        tags.get('addr:postcode'),\n",
    "        tags.get('addr:city')\n",
    "    ]))\n",
    "    \n",
    "    return {\n",
    "        'name': tags.get('name', 'Unknown'),\n",
    "        'category': tags.get('amenity', 'Unknown'),\n",
    "        'cuisine': tags.get('cuisine', None),\n",
    "        'address': address if address else None,\n",
    "        'lat': el.get('lat') or el.get('center', {}).get('lat'),\n",
    "        'lon': el.get('lon') or el.get('center', {}).get('lon'),\n",
    "        'website': tags.get('website', None),\n",
    "        'phone': tags.get('phone', None),\n",
    "        'opening_hours': tags.get('opening_hours', None),\n",
    "        'takeaway': tags.get('takeaway', None),\n",
    "        'wheelchair': tags.get('wheelchair', None)\n",
    "    }\n",
    "\n",
    "all_records = []\n",
    "\n",
    "# Fetch venues using Berlin administrative boundary\n",
    "logging.info(\"Fetching venues using Berlin administrative boundary...\")\n",
    "\n",
    "query = '''\n",
    "[out:json][timeout:120];\n",
    "area[\"name\"=\"Berlin\"][\"boundary\"=\"administrative\"]->.searchArea;\n",
    "(\n",
    "  node[\"amenity\"~\"^(restaurant|cafe|bar)$\"](area.searchArea);\n",
    "  way[\"amenity\"~\"^(restaurant|cafe|bar)$\"](area.searchArea);\n",
    "  relation[\"amenity\"~\"^(restaurant|cafe|bar)$\"](area.searchArea);\n",
    ");\n",
    "out center;\n",
    "'''\n",
    "\n",
    "data = fetch_with_retries(query)\n",
    "if data:\n",
    "    elements = data.get('elements', [])\n",
    "    logging.info(f\"Retrieved {len(elements)} venues from Berlin administrative area\")\n",
    "    for el in elements:\n",
    "        all_records.append(parse_venue(el))\n",
    "else:\n",
    "    logging.error(\"Failed to fetch data\")\n",
    "\n"
   ]
  },
  {
   "cell_type": "code",
   "execution_count": null,
   "id": "1f317220",
   "metadata": {},
   "outputs": [],
   "source": [
    "# Convert to DataFrame\n",
    "df = pd.DataFrame(all_records)\n",
    "\n",
    "# Save to CSV\n",
    "df.to_csv('berlin_venues_raw.csv', index=False, encoding='utf-8')\n",
    "logging.info(f\"Saved {len(df)} venues to berlin_places.csv\")"
   ]
  }
 ],
 "metadata": {
  "kernelspec": {
   "display_name": "Python 3",
   "language": "python",
   "name": "python3"
  },
  "language_info": {
   "codemirror_mode": {
    "name": "ipython",
    "version": 3
   },
   "file_extension": ".py",
   "mimetype": "text/x-python",
   "name": "python",
   "nbconvert_exporter": "python",
   "pygments_lexer": "ipython3",
   "version": "3.12.3"
  }
 },
 "nbformat": 4,
 "nbformat_minor": 5
}
