{
 "cells": [
  {
   "cell_type": "markdown",
   "id": "34b04851",
   "metadata": {},
   "source": [
    "# 🧪 Step 1: Research & Data Source Discovery"
   ]
  },
  {
   "cell_type": "markdown",
   "id": "8b78905d",
   "metadata": {},
   "source": [
    "**PR Branch Name: supermarkets-data-modelling**\n",
    "\n",
    "This notebook documents the process for Step 1 of the \"Supermarkets in Berlin\" project:\n",
    "\n",
    "- 1.1 Data Source Discovery\n",
    "- 1.2 Modelling & Planning\n",
    "- 1.3 Prepare the /sources Directory\n",
    "- 1.4 Review\n",
    "\n",
    "**Goal:**\n",
    "\n",
    "- Identify and document relevant data sources.\n",
    "- Select key parameters for our use case.\n",
    "- Draft the planned table schema.\n",
    "- Plan cleaning and transformation steps before database population."
   ]
  },
  {
   "cell_type": "markdown",
   "id": "6ec53400",
   "metadata": {},
   "source": [
    "## 1.1 Data Source Discovery\n",
    "\n",
    "Topic: Supermarkets in Berlin\n",
    "\n",
    "**Main source:**\n",
    "\n",
    "- Name: OpenStreetMap (OSM) via OSMnx library\n",
    "- Source and origin: Public crowdsourced geospatial database\n",
    "- Update frequency: Continuous (dynamic)\n",
    "- Data type: Dynamic (API query using shop=supermarket)\n",
    "\n",
    "**Reason for selection:**\n",
    "\n",
    "- Covers all supermarkets in Berlin\n",
    "- Includes coordinates, names, addresses, and other useful attributes\n",
    "- Open, free, and easy to query programmatically\n",
    "\n",
    "**Optional additional sources:**\n",
    "\n",
    "- Name: Berlin Open Data Portal (daten.berlin.de)\n",
    "- Source and origin: Official Berlin city government\n",
    "- Update frequency: Varies per dataset\n",
    "- Data type: Static or semi-static (download as CSV/GeoJSON)\n",
    "- Possible usage: Enrich with official administrative boundaries or extra metadata\n",
    "\n",
    "**Enrichment potential:**\n",
    "\n",
    "Neighborhood/district info from Berlin shapefiles (GeoJSON)\n",
    "Linking to local amenities for spatial context"
   ]
  },
  {
   "cell_type": "markdown",
   "id": "0e35a10e",
   "metadata": {},
   "source": [
    "**📍 Fetch data about supermarkets in Berlin from OpenStreetMap (OSM)**"
   ]
  },
  {
   "cell_type": "code",
   "execution_count": 69,
   "id": "baac39dd",
   "metadata": {},
   "outputs": [],
   "source": [
    "# install libraries\n",
    "# %pip install osmnx geopandas pandas"
   ]
  },
  {
   "cell_type": "code",
   "execution_count": 70,
   "id": "f7791683",
   "metadata": {},
   "outputs": [],
   "source": [
    "# import libraries\n",
    "import osmnx as ox\n",
    "import geopandas as gpd\n",
    "import pandas as pd"
   ]
  },
  {
   "cell_type": "code",
   "execution_count": 71,
   "id": "be7c3b1f",
   "metadata": {},
   "outputs": [],
   "source": [
    "# Give me all places tagged as shop=supermarket.\n",
    "# tags filter for only features with \n",
    "\n",
    "tags = {\"shop\": \"supermarket\"}"
   ]
  },
  {
   "cell_type": "code",
   "execution_count": 72,
   "id": "dd21a7d6",
   "metadata": {},
   "outputs": [],
   "source": [
    "# ✅ Enables caching: Speeds up repeated queries\n",
    "# 🖥 Logs details to the console (helpful for debugging)\n",
    "ox.settings.use_cache = True\n",
    "ox.settings.log_console = True"
   ]
  },
  {
   "cell_type": "code",
   "execution_count": 73,
   "id": "6487850d",
   "metadata": {},
   "outputs": [],
   "source": [
    "# Fetch Supermarkets from Berlin from OSM using the tag \"shop=supermarket\"\n",
    "gdf = ox.features.features_from_place(\"Berlin, Germany\", tags=tags)"
   ]
  },
  {
   "cell_type": "markdown",
   "id": "3cebb9e6",
   "metadata": {},
   "source": [
    "This line queries the OSM Overpass API and returns a GeoDataFrame (gdf) with all supermarkets in Berlin, including their geometry (coordinates) and OSM metadata (like name, address, brand, etc.)."
   ]
  },
  {
   "cell_type": "code",
   "execution_count": 74,
   "id": "3cca8194",
   "metadata": {},
   "outputs": [
    {
     "name": "stdout",
     "output_type": "stream",
     "text": [
      "Number of supermarkets entries fetched: 1358\n"
     ]
    },
    {
     "data": {
      "text/html": [
       "<div>\n",
       "<style scoped>\n",
       "    .dataframe tbody tr th:only-of-type {\n",
       "        vertical-align: middle;\n",
       "    }\n",
       "\n",
       "    .dataframe tbody tr th {\n",
       "        vertical-align: top;\n",
       "    }\n",
       "\n",
       "    .dataframe thead th {\n",
       "        text-align: right;\n",
       "    }\n",
       "</style>\n",
       "<table border=\"1\" class=\"dataframe\">\n",
       "  <thead>\n",
       "    <tr style=\"text-align: right;\">\n",
       "      <th></th>\n",
       "      <th></th>\n",
       "      <th>geometry</th>\n",
       "      <th>addr:city</th>\n",
       "      <th>addr:country</th>\n",
       "      <th>addr:housenumber</th>\n",
       "      <th>addr:postcode</th>\n",
       "      <th>addr:street</th>\n",
       "      <th>addr:suburb</th>\n",
       "      <th>brand</th>\n",
       "      <th>brand:wikidata</th>\n",
       "      <th>brand:wikipedia</th>\n",
       "      <th>...</th>\n",
       "      <th>cash_withdrawal:purchase_minimum</th>\n",
       "      <th>internet</th>\n",
       "      <th>payment:ec</th>\n",
       "      <th>disused:shop</th>\n",
       "      <th>building:part</th>\n",
       "      <th>fee</th>\n",
       "      <th>building:parts</th>\n",
       "      <th>safety:hand_sanitizer:covid19</th>\n",
       "      <th>operator:legal</th>\n",
       "      <th>opening_date</th>\n",
       "    </tr>\n",
       "    <tr>\n",
       "      <th>element</th>\n",
       "      <th>id</th>\n",
       "      <th></th>\n",
       "      <th></th>\n",
       "      <th></th>\n",
       "      <th></th>\n",
       "      <th></th>\n",
       "      <th></th>\n",
       "      <th></th>\n",
       "      <th></th>\n",
       "      <th></th>\n",
       "      <th></th>\n",
       "      <th></th>\n",
       "      <th></th>\n",
       "      <th></th>\n",
       "      <th></th>\n",
       "      <th></th>\n",
       "      <th></th>\n",
       "      <th></th>\n",
       "      <th></th>\n",
       "      <th></th>\n",
       "      <th></th>\n",
       "      <th></th>\n",
       "    </tr>\n",
       "  </thead>\n",
       "  <tbody>\n",
       "    <tr>\n",
       "      <th rowspan=\"3\" valign=\"top\">node</th>\n",
       "      <th>58489979</th>\n",
       "      <td>POINT (13.40737 52.50982)</td>\n",
       "      <td>Berlin</td>\n",
       "      <td>DE</td>\n",
       "      <td>83</td>\n",
       "      <td>10179</td>\n",
       "      <td>Alte Jakobstraße</td>\n",
       "      <td>Mitte</td>\n",
       "      <td>Netto Marken-Discount</td>\n",
       "      <td>Q879858</td>\n",
       "      <td>de:Netto Marken-Discount</td>\n",
       "      <td>...</td>\n",
       "      <td>NaN</td>\n",
       "      <td>NaN</td>\n",
       "      <td>NaN</td>\n",
       "      <td>NaN</td>\n",
       "      <td>NaN</td>\n",
       "      <td>NaN</td>\n",
       "      <td>NaN</td>\n",
       "      <td>NaN</td>\n",
       "      <td>NaN</td>\n",
       "      <td>NaN</td>\n",
       "    </tr>\n",
       "    <tr>\n",
       "      <th>79418658</th>\n",
       "      <td>POINT (13.30855 52.57242)</td>\n",
       "      <td>Berlin</td>\n",
       "      <td>DE</td>\n",
       "      <td>2</td>\n",
       "      <td>13403</td>\n",
       "      <td>Quäkerstraße</td>\n",
       "      <td>Reinickendorf</td>\n",
       "      <td>NaN</td>\n",
       "      <td>NaN</td>\n",
       "      <td>NaN</td>\n",
       "      <td>...</td>\n",
       "      <td>NaN</td>\n",
       "      <td>NaN</td>\n",
       "      <td>NaN</td>\n",
       "      <td>NaN</td>\n",
       "      <td>NaN</td>\n",
       "      <td>NaN</td>\n",
       "      <td>NaN</td>\n",
       "      <td>NaN</td>\n",
       "      <td>NaN</td>\n",
       "      <td>NaN</td>\n",
       "    </tr>\n",
       "    <tr>\n",
       "      <th>79422426</th>\n",
       "      <td>POINT (13.31248 52.57168)</td>\n",
       "      <td>NaN</td>\n",
       "      <td>NaN</td>\n",
       "      <td>NaN</td>\n",
       "      <td>NaN</td>\n",
       "      <td>NaN</td>\n",
       "      <td>NaN</td>\n",
       "      <td>Nahkauf</td>\n",
       "      <td>Q57515238</td>\n",
       "      <td>NaN</td>\n",
       "      <td>...</td>\n",
       "      <td>NaN</td>\n",
       "      <td>NaN</td>\n",
       "      <td>NaN</td>\n",
       "      <td>NaN</td>\n",
       "      <td>NaN</td>\n",
       "      <td>NaN</td>\n",
       "      <td>NaN</td>\n",
       "      <td>NaN</td>\n",
       "      <td>NaN</td>\n",
       "      <td>NaN</td>\n",
       "    </tr>\n",
       "  </tbody>\n",
       "</table>\n",
       "<p>3 rows × 230 columns</p>\n",
       "</div>"
      ],
      "text/plain": [
       "                                   geometry addr:city addr:country  \\\n",
       "element id                                                           \n",
       "node    58489979  POINT (13.40737 52.50982)    Berlin           DE   \n",
       "        79418658  POINT (13.30855 52.57242)    Berlin           DE   \n",
       "        79422426  POINT (13.31248 52.57168)       NaN          NaN   \n",
       "\n",
       "                 addr:housenumber addr:postcode       addr:street  \\\n",
       "element id                                                          \n",
       "node    58489979               83         10179  Alte Jakobstraße   \n",
       "        79418658                2         13403      Quäkerstraße   \n",
       "        79422426              NaN           NaN               NaN   \n",
       "\n",
       "                    addr:suburb                  brand brand:wikidata  \\\n",
       "element id                                                              \n",
       "node    58489979          Mitte  Netto Marken-Discount        Q879858   \n",
       "        79418658  Reinickendorf                    NaN            NaN   \n",
       "        79422426            NaN                Nahkauf      Q57515238   \n",
       "\n",
       "                           brand:wikipedia  ...  \\\n",
       "element id                                  ...   \n",
       "node    58489979  de:Netto Marken-Discount  ...   \n",
       "        79418658                       NaN  ...   \n",
       "        79422426                       NaN  ...   \n",
       "\n",
       "                 cash_withdrawal:purchase_minimum internet payment:ec  \\\n",
       "element id                                                              \n",
       "node    58489979                              NaN      NaN        NaN   \n",
       "        79418658                              NaN      NaN        NaN   \n",
       "        79422426                              NaN      NaN        NaN   \n",
       "\n",
       "                 disused:shop building:part  fee building:parts  \\\n",
       "element id                                                        \n",
       "node    58489979          NaN           NaN  NaN            NaN   \n",
       "        79418658          NaN           NaN  NaN            NaN   \n",
       "        79422426          NaN           NaN  NaN            NaN   \n",
       "\n",
       "                 safety:hand_sanitizer:covid19 operator:legal opening_date  \n",
       "element id                                                                  \n",
       "node    58489979                           NaN            NaN          NaN  \n",
       "        79418658                           NaN            NaN          NaN  \n",
       "        79422426                           NaN            NaN          NaN  \n",
       "\n",
       "[3 rows x 230 columns]"
      ]
     },
     "execution_count": 74,
     "metadata": {},
     "output_type": "execute_result"
    }
   ],
   "source": [
    "# Display basic info\n",
    "\n",
    "print(f\"Number of supermarkets entries fetched: {len(gdf)}\")\n",
    "gdf.head(3)"
   ]
  },
  {
   "cell_type": "code",
   "execution_count": null,
   "id": "3b3be562",
   "metadata": {},
   "outputs": [],
   "source": [
    "#gdf.to_file(\"../sources/raw_supermarkets.geojson\", driver=\"GeoJSON\")"
   ]
  },
  {
   "cell_type": "code",
   "execution_count": null,
   "id": "90d84708",
   "metadata": {},
   "outputs": [],
   "source": [
    "#gdf.to_csv(\"../sources/raw_supermarkets.csv\", index=False)"
   ]
  },
  {
   "cell_type": "code",
   "execution_count": 77,
   "id": "c710930b",
   "metadata": {},
   "outputs": [
    {
     "name": "stdout",
     "output_type": "stream",
     "text": [
      "<class 'geopandas.geodataframe.GeoDataFrame'>\n",
      "MultiIndex: 1358 entries, ('node', np.int64(58489979)) to ('way', np.int64(1429504461))\n",
      "Columns: 230 entries, geometry to opening_date\n",
      "dtypes: geometry(1), object(229)\n",
      "memory usage: 2.4+ MB\n"
     ]
    }
   ],
   "source": [
    "gdf.info()"
   ]
  },
  {
   "cell_type": "code",
   "execution_count": 78,
   "id": "90bff7eb",
   "metadata": {},
   "outputs": [
    {
     "name": "stdout",
     "output_type": "stream",
     "text": [
      "['geometry', 'addr:city', 'addr:country', 'addr:housenumber', 'addr:postcode', 'addr:street', 'addr:suburb', 'brand', 'brand:wikidata', 'brand:wikipedia', 'check_date', 'check_date:opening_hours', 'internet_access', 'name', 'opening_hours', 'payment:mastercard', 'payment:visa', 'shop', 'website', 'wheelchair', 'operator', 'phone', 'layer', 'payment:cards', 'payment:cash', 'payment:contactless', 'atm', 'atm:operator', 'type', 'wheelchair:description', 'contact:website', 'toilets:wheelchair', 'name:fa', 'diet:halal', 'diet:kosher', 'origin', 'diet:gluten_free', 'diet:lactose_free', 'diet:sugar_free', 'organic', 'contact:phone', 'operator:wikidata', 'internet_access:fee', 'level', 'payment:credit_cards', 'payment:girocard', 'email', 'branch', 'source', 'building', 'air_conditioning', 'drink:club-mate', 'payment:debit_cards', 'ref', 'self_checkout', 'stroller', 'toilets', 'payment:maestro', 'brand:website', 'addr:floor', 'diet:vegan', 'diet:vegetarian', 'name:de', 'note', 'currency:EUR', 'access:covid19', 'service:copy', 'kids_area', 'kids_area:fee', 'kids_area:indoor', 'kids_area:outdoor', 'kids_area:supervised', 'loc_name', 'contact:fax', 'owner', 'cash_withdrawal', 'cash_withdrawal:fee', 'payment:american_express', 'payment:ec_cards', 'old_name', 'surveillance', 'delivery:covid19', 'drive_through:covid19', 'source:addr:postcode', 'wheelchair:description:de', 'payment:apple_pay', 'payment:google_pay', 'payment:nfc', 'short_name', 'start_date', 'alt_name', 'payment:coins', 'payment:notes', 'delivery', 'description', 'fair_trade', 'cuisine', 'ref:vatin', 'contact:email', 'identity', 'mode_of_organisation:hierarchy_chef', 'production_input:work:payment', 'regional', 'internet_access:ssid', 'changing_table', 'disused', 'check_date:diet:halal', 'check_date:diet:kosher', 'payment:ep_geldkarte', 'payment:unionpay', 'payment:visa_debit', 'payment:visa_electron', 'amenity', 'baby_feeding', 'bulk_purchase', 'check_date:diet:gluten_free', 'check_date:diet:vegetarian', 'check_date:smoking', 'image', 'indoor_seating', 'outdoor_seating', 'smoking', 'takeaway', 'wikimedia_commons', 'addr:housename', 'contact:facebook', 'name:ar', 'note:de', 'was:name', 'opening_hours:signed', 'fax', 'zero_waste', 'second_hand', 'opening_hours:covid19', 'entrance', 'self_service', 'changing_table:count', 'changing_table:location', 'membership', 'toilets:access', 'source:addr', 'postal_code', 'restaurant', 'payment:phone_app', 'description:de', 'name:ja', 'url', 'cash_withdrawal:purchase_required', 'cash_withdrawal:type', 'surveillance:type', 'designation', 'payment:free', 'addr:place', 'farm_boxes', 'mode_of_organisation:self_managed', 'operator:type', 'payment:credit_card', 'supermarket:type', 'shoes', 'name:en', 'name:zh', 'name:zh-Hans', 'name:zh-Hant', 'contact:instagram', 'contact:twitter', 'opening_hours:bakery', 'width', 'disused:self_checkout', 'disused:self_service', 'payment:diners_club', 'addr:inclusion', 'description:ru', 'description:de:covid19', 'dog', 'payment:sodexo', 'payment:ticket_restaurant', 'payment:v_pay', 'not:brand:wikidata', 'automatic_door', 'payment:app', 'opening', 'parking', 'wikidata', 'wikipedia', 'payment:electronic_purses', 'payment:vpay', 'access', 'payment:qr_code', 'disused:name', 'religion', 'diet:meat', 'indoor', 'room', 'reusable_packaging:accept', 'payment:discover_card', 'payment:jcb', 'addr:door', 'payment:card', 'survey:date', 'payment:sepa', 'old_brand:wikidata', 'building:levels', 'roof:colour', 'roof:levels', 'roof:shape', 'payment:edenred_ticket', 'building:material', 'colour', 'height', 'roof:height', 'roof:orientation', 'building:use', 'building:colour', 'name:ru', 'roof:material', 'payment:mastercard_contactless', 'ele', 'internet_access:password', 'fixme', 'payment:account_cards', 'cash_withdrawal:purchase_minimum', 'internet', 'payment:ec', 'disused:shop', 'building:part', 'fee', 'building:parts', 'safety:hand_sanitizer:covid19', 'operator:legal', 'opening_date']\n"
     ]
    }
   ],
   "source": [
    "print(gdf.columns.tolist())\n"
   ]
  },
  {
   "cell_type": "code",
   "execution_count": 79,
   "id": "803afcea",
   "metadata": {},
   "outputs": [
    {
     "data": {
      "text/plain": [
       "atm\n",
       "yes    3\n",
       "no     1\n",
       "Name: count, dtype: int64"
      ]
     },
     "execution_count": 79,
     "metadata": {},
     "output_type": "execute_result"
    }
   ],
   "source": [
    "gdf['atm'].value_counts()"
   ]
  },
  {
   "cell_type": "code",
   "execution_count": 80,
   "id": "df63404a",
   "metadata": {},
   "outputs": [],
   "source": [
    "# filter columns tat relevant to project\n",
    "columns = [\n",
    "    \"name\", \"addr:street\", \"addr:housenumber\", \"addr:postcode\",\n",
    "    \"addr:city\", \"opening_hours\", \"brand\", \"type\",\"geometry\",\"payment:credit_cards\",\n",
    "    \"payment:debit_cards\", \"payment:cash\", \"payment:contactless\", \"wheelchair\", \"internet_access\",\"layer\"\n",
    "\n",
    "]\n",
    "gdf_superstore = gdf[[col for col in columns if col in gdf.columns]].copy()"
   ]
  },
  {
   "cell_type": "code",
   "execution_count": 81,
   "id": "f7716bb7",
   "metadata": {},
   "outputs": [
    {
     "data": {
      "text/html": [
       "<div>\n",
       "<style scoped>\n",
       "    .dataframe tbody tr th:only-of-type {\n",
       "        vertical-align: middle;\n",
       "    }\n",
       "\n",
       "    .dataframe tbody tr th {\n",
       "        vertical-align: top;\n",
       "    }\n",
       "\n",
       "    .dataframe thead th {\n",
       "        text-align: right;\n",
       "    }\n",
       "</style>\n",
       "<table border=\"1\" class=\"dataframe\">\n",
       "  <thead>\n",
       "    <tr style=\"text-align: right;\">\n",
       "      <th></th>\n",
       "      <th></th>\n",
       "      <th>name</th>\n",
       "      <th>addr:street</th>\n",
       "      <th>addr:housenumber</th>\n",
       "      <th>addr:postcode</th>\n",
       "      <th>addr:city</th>\n",
       "      <th>opening_hours</th>\n",
       "      <th>brand</th>\n",
       "      <th>type</th>\n",
       "      <th>geometry</th>\n",
       "      <th>payment:credit_cards</th>\n",
       "      <th>payment:debit_cards</th>\n",
       "      <th>payment:cash</th>\n",
       "      <th>payment:contactless</th>\n",
       "      <th>wheelchair</th>\n",
       "      <th>internet_access</th>\n",
       "      <th>layer</th>\n",
       "    </tr>\n",
       "    <tr>\n",
       "      <th>element</th>\n",
       "      <th>id</th>\n",
       "      <th></th>\n",
       "      <th></th>\n",
       "      <th></th>\n",
       "      <th></th>\n",
       "      <th></th>\n",
       "      <th></th>\n",
       "      <th></th>\n",
       "      <th></th>\n",
       "      <th></th>\n",
       "      <th></th>\n",
       "      <th></th>\n",
       "      <th></th>\n",
       "      <th></th>\n",
       "      <th></th>\n",
       "      <th></th>\n",
       "      <th></th>\n",
       "    </tr>\n",
       "  </thead>\n",
       "  <tbody>\n",
       "    <tr>\n",
       "      <th rowspan=\"3\" valign=\"top\">node</th>\n",
       "      <th>58489979</th>\n",
       "      <td>Netto Marken-Discount</td>\n",
       "      <td>Alte Jakobstraße</td>\n",
       "      <td>83</td>\n",
       "      <td>10179</td>\n",
       "      <td>Berlin</td>\n",
       "      <td>Mo-Sa 07:00-24:00; Su off</td>\n",
       "      <td>Netto Marken-Discount</td>\n",
       "      <td>NaN</td>\n",
       "      <td>POINT (13.40737 52.50982)</td>\n",
       "      <td>NaN</td>\n",
       "      <td>NaN</td>\n",
       "      <td>NaN</td>\n",
       "      <td>NaN</td>\n",
       "      <td>no</td>\n",
       "      <td>no</td>\n",
       "      <td>NaN</td>\n",
       "    </tr>\n",
       "    <tr>\n",
       "      <th>79418658</th>\n",
       "      <td>Ledo</td>\n",
       "      <td>Quäkerstraße</td>\n",
       "      <td>2</td>\n",
       "      <td>13403</td>\n",
       "      <td>Berlin</td>\n",
       "      <td>Mo-Sa 09:00-20:00</td>\n",
       "      <td>NaN</td>\n",
       "      <td>NaN</td>\n",
       "      <td>POINT (13.30855 52.57242)</td>\n",
       "      <td>NaN</td>\n",
       "      <td>NaN</td>\n",
       "      <td>NaN</td>\n",
       "      <td>NaN</td>\n",
       "      <td>yes</td>\n",
       "      <td>NaN</td>\n",
       "      <td>NaN</td>\n",
       "    </tr>\n",
       "    <tr>\n",
       "      <th>79422426</th>\n",
       "      <td>kiezmarkt</td>\n",
       "      <td>NaN</td>\n",
       "      <td>NaN</td>\n",
       "      <td>NaN</td>\n",
       "      <td>NaN</td>\n",
       "      <td>Mo-Fr 08:00-20:00, Sa 08:00-19:00</td>\n",
       "      <td>Nahkauf</td>\n",
       "      <td>NaN</td>\n",
       "      <td>POINT (13.31248 52.57168)</td>\n",
       "      <td>NaN</td>\n",
       "      <td>NaN</td>\n",
       "      <td>NaN</td>\n",
       "      <td>NaN</td>\n",
       "      <td>yes</td>\n",
       "      <td>NaN</td>\n",
       "      <td>NaN</td>\n",
       "    </tr>\n",
       "  </tbody>\n",
       "</table>\n",
       "</div>"
      ],
      "text/plain": [
       "                                   name       addr:street addr:housenumber  \\\n",
       "element id                                                                   \n",
       "node    58489979  Netto Marken-Discount  Alte Jakobstraße               83   \n",
       "        79418658                   Ledo      Quäkerstraße                2   \n",
       "        79422426              kiezmarkt               NaN              NaN   \n",
       "\n",
       "                 addr:postcode addr:city                      opening_hours  \\\n",
       "element id                                                                    \n",
       "node    58489979         10179    Berlin          Mo-Sa 07:00-24:00; Su off   \n",
       "        79418658         13403    Berlin                  Mo-Sa 09:00-20:00   \n",
       "        79422426           NaN       NaN  Mo-Fr 08:00-20:00, Sa 08:00-19:00   \n",
       "\n",
       "                                  brand type                   geometry  \\\n",
       "element id                                                                \n",
       "node    58489979  Netto Marken-Discount  NaN  POINT (13.40737 52.50982)   \n",
       "        79418658                    NaN  NaN  POINT (13.30855 52.57242)   \n",
       "        79422426                Nahkauf  NaN  POINT (13.31248 52.57168)   \n",
       "\n",
       "                 payment:credit_cards payment:debit_cards payment:cash  \\\n",
       "element id                                                               \n",
       "node    58489979                  NaN                 NaN          NaN   \n",
       "        79418658                  NaN                 NaN          NaN   \n",
       "        79422426                  NaN                 NaN          NaN   \n",
       "\n",
       "                 payment:contactless wheelchair internet_access layer  \n",
       "element id                                                             \n",
       "node    58489979                 NaN         no              no   NaN  \n",
       "        79418658                 NaN        yes             NaN   NaN  \n",
       "        79422426                 NaN        yes             NaN   NaN  "
      ]
     },
     "execution_count": 81,
     "metadata": {},
     "output_type": "execute_result"
    }
   ],
   "source": [
    "gdf_superstore.head(3)"
   ]
  },
  {
   "cell_type": "code",
   "execution_count": 82,
   "id": "bfc92653",
   "metadata": {},
   "outputs": [
    {
     "name": "stdout",
     "output_type": "stream",
     "text": [
      "filtered dataset shape: (1358, 16)\n",
      "<class 'geopandas.geodataframe.GeoDataFrame'>\n",
      "MultiIndex: 1358 entries, ('node', np.int64(58489979)) to ('way', np.int64(1429504461))\n",
      "Data columns (total 16 columns):\n",
      " #   Column                Non-Null Count  Dtype   \n",
      "---  ------                --------------  -----   \n",
      " 0   name                  1355 non-null   object  \n",
      " 1   addr:street           1105 non-null   object  \n",
      " 2   addr:housenumber      1097 non-null   object  \n",
      " 3   addr:postcode         1081 non-null   object  \n",
      " 4   addr:city             1044 non-null   object  \n",
      " 5   opening_hours         1260 non-null   object  \n",
      " 6   brand                 1134 non-null   object  \n",
      " 7   type                  7 non-null      object  \n",
      " 8   geometry              1358 non-null   geometry\n",
      " 9   payment:credit_cards  152 non-null    object  \n",
      " 10  payment:debit_cards   145 non-null    object  \n",
      " 11  payment:cash          169 non-null    object  \n",
      " 12  payment:contactless   37 non-null     object  \n",
      " 13  wheelchair            1213 non-null   object  \n",
      " 14  internet_access       116 non-null    object  \n",
      " 15  layer                 3 non-null      object  \n",
      "dtypes: geometry(1), object(15)\n",
      "memory usage: 217.6+ KB\n"
     ]
    }
   ],
   "source": [
    "print('filtered dataset shape:', gdf_superstore.shape)\n",
    "gdf_superstore.info()"
   ]
  },
  {
   "cell_type": "code",
   "execution_count": 83,
   "id": "aaecf5e6",
   "metadata": {},
   "outputs": [
    {
     "name": "stderr",
     "output_type": "stream",
     "text": [
      "/var/folders/hj/bjtkr_b13175_g6c53_yly7c0000gn/T/ipykernel_24586/2522826528.py:5: UserWarning: Geometry is in a geographic CRS. Results from 'centroid' are likely incorrect. Use 'GeoSeries.to_crs()' to re-project geometries to a projected CRS before this operation.\n",
      "\n",
      "  gdf_superstore[\"latitude\"] = gdf.geometry.centroid.y\n",
      "/var/folders/hj/bjtkr_b13175_g6c53_yly7c0000gn/T/ipykernel_24586/2522826528.py:6: UserWarning: Geometry is in a geographic CRS. Results from 'centroid' are likely incorrect. Use 'GeoSeries.to_crs()' to re-project geometries to a projected CRS before this operation.\n",
      "\n",
      "  gdf_superstore[\"longitude\"] = gdf.geometry.centroid.x\n"
     ]
    }
   ],
   "source": [
    "# Extract Latitude and Longitude\n",
    "gdf_superstore['geometry'] = gdf_superstore['geometry'].apply(lambda geom: geom if geom.geom_type == 'Point' else geom.representative_point())\n",
    "#Extract latitude and longitude\n",
    "\n",
    "gdf_superstore[\"latitude\"] = gdf.geometry.centroid.y\n",
    "gdf_superstore[\"longitude\"] = gdf.geometry.centroid.x"
   ]
  },
  {
   "cell_type": "code",
   "execution_count": 84,
   "id": "ce77cc62",
   "metadata": {},
   "outputs": [],
   "source": [
    "# rename columns for better understanding\n",
    "gdf_superstore = gdf_superstore.rename(columns={\n",
    "    \"addr:street\": \"street\",\n",
    "    \"addr:housenumber\": \"housenumber\",\n",
    "    \"addr:postcode\": \"postcode\",\n",
    "    \"addr:city\": \"city\",\n",
    "    \"payment:credit_cards\": \"payment_credit_card\",\n",
    "    \"payment:debit_cards\": \"payment_debit_cards\",\n",
    "    \"payment:cash\": \"payment_cash\",\n",
    "    \"payment:contactless\": \"payment_contactless\"\n",
    "    })"
   ]
  },
  {
   "cell_type": "code",
   "execution_count": 85,
   "id": "c5873e28",
   "metadata": {},
   "outputs": [
    {
     "name": "stdout",
     "output_type": "stream",
     "text": [
      "<class 'geopandas.geodataframe.GeoDataFrame'>\n",
      "MultiIndex: 1358 entries, ('node', np.int64(58489979)) to ('way', np.int64(1429504461))\n",
      "Data columns (total 18 columns):\n",
      " #   Column               Non-Null Count  Dtype   \n",
      "---  ------               --------------  -----   \n",
      " 0   name                 1355 non-null   object  \n",
      " 1   street               1105 non-null   object  \n",
      " 2   housenumber          1097 non-null   object  \n",
      " 3   postcode             1081 non-null   object  \n",
      " 4   city                 1044 non-null   object  \n",
      " 5   opening_hours        1260 non-null   object  \n",
      " 6   brand                1134 non-null   object  \n",
      " 7   type                 7 non-null      object  \n",
      " 8   geometry             1358 non-null   geometry\n",
      " 9   payment_credit_card  152 non-null    object  \n",
      " 10  payment_debit_cards  145 non-null    object  \n",
      " 11  payment_cash         169 non-null    object  \n",
      " 12  payment_contactless  37 non-null     object  \n",
      " 13  wheelchair           1213 non-null   object  \n",
      " 14  internet_access      116 non-null    object  \n",
      " 15  layer                3 non-null      object  \n",
      " 16  latitude             1358 non-null   float64 \n",
      " 17  longitude            1358 non-null   float64 \n",
      "dtypes: float64(2), geometry(1), object(15)\n",
      "memory usage: 238.8+ KB\n"
     ]
    }
   ],
   "source": [
    "gdf_superstore.info()"
   ]
  },
  {
   "cell_type": "markdown",
   "id": "2dc4b9d4",
   "metadata": {},
   "source": [
    "**⚠️ Data Quality Summary – Berlin Supermarkets Dataset**\n",
    "\n",
    "- ✅ The dataset contains 1358 entries with latitude and longitude for all locations.\n",
    "\n",
    "**📉 Missing Values**\n",
    "\n",
    "- Address-related fields have some missing values:\n",
    "- street (18% missing)\n",
    "- housenumber (19% missing)\n",
    "- postcode (20% missing)\n",
    "- city (23% missing)\n",
    "- Payment method availability is very sparse:\n",
    "- payment_credit_card (only 11% present)\n",
    "- payment_contactless (only 2.7% present)\n",
    "- internet_access and type are also highly incomplete.\n",
    "- brand is missing in ~16% of records.\n",
    "\n",
    "- Accessibility: wheelchair accessibility is available in ~89% of stores – relatively well-covered.\n",
    "\n",
    "⸻\n",
    "\n",
    "**💡 Recommendation**\n",
    "\n",
    "- Consider filling missing address values using reverse geocoding (based on lat/lon).\n",
    "- Treat payment method columns as optional metadata.\n",
    "- Drop or ignore type, layer, and other sparse columns unless specifically needed.\n"
   ]
  },
  {
   "cell_type": "code",
   "execution_count": 86,
   "id": "f432d6e9",
   "metadata": {},
   "outputs": [
    {
     "data": {
      "text/html": [
       "<div>\n",
       "<style scoped>\n",
       "    .dataframe tbody tr th:only-of-type {\n",
       "        vertical-align: middle;\n",
       "    }\n",
       "\n",
       "    .dataframe tbody tr th {\n",
       "        vertical-align: top;\n",
       "    }\n",
       "\n",
       "    .dataframe thead th {\n",
       "        text-align: right;\n",
       "    }\n",
       "</style>\n",
       "<table border=\"1\" class=\"dataframe\">\n",
       "  <thead>\n",
       "    <tr style=\"text-align: right;\">\n",
       "      <th></th>\n",
       "      <th></th>\n",
       "      <th>name</th>\n",
       "      <th>street</th>\n",
       "      <th>housenumber</th>\n",
       "      <th>postcode</th>\n",
       "      <th>city</th>\n",
       "      <th>opening_hours</th>\n",
       "      <th>brand</th>\n",
       "      <th>type</th>\n",
       "      <th>geometry</th>\n",
       "      <th>payment_credit_card</th>\n",
       "      <th>payment_debit_cards</th>\n",
       "      <th>payment_cash</th>\n",
       "      <th>payment_contactless</th>\n",
       "      <th>wheelchair</th>\n",
       "      <th>internet_access</th>\n",
       "      <th>layer</th>\n",
       "      <th>latitude</th>\n",
       "      <th>longitude</th>\n",
       "    </tr>\n",
       "    <tr>\n",
       "      <th>element</th>\n",
       "      <th>id</th>\n",
       "      <th></th>\n",
       "      <th></th>\n",
       "      <th></th>\n",
       "      <th></th>\n",
       "      <th></th>\n",
       "      <th></th>\n",
       "      <th></th>\n",
       "      <th></th>\n",
       "      <th></th>\n",
       "      <th></th>\n",
       "      <th></th>\n",
       "      <th></th>\n",
       "      <th></th>\n",
       "      <th></th>\n",
       "      <th></th>\n",
       "      <th></th>\n",
       "      <th></th>\n",
       "      <th></th>\n",
       "    </tr>\n",
       "  </thead>\n",
       "  <tbody>\n",
       "    <tr>\n",
       "      <th rowspan=\"5\" valign=\"top\">node</th>\n",
       "      <th>58489979</th>\n",
       "      <td>Netto Marken-Discount</td>\n",
       "      <td>Alte Jakobstraße</td>\n",
       "      <td>83</td>\n",
       "      <td>10179</td>\n",
       "      <td>Berlin</td>\n",
       "      <td>Mo-Sa 07:00-24:00; Su off</td>\n",
       "      <td>Netto Marken-Discount</td>\n",
       "      <td>NaN</td>\n",
       "      <td>POINT (13.40737 52.50982)</td>\n",
       "      <td>NaN</td>\n",
       "      <td>NaN</td>\n",
       "      <td>NaN</td>\n",
       "      <td>NaN</td>\n",
       "      <td>no</td>\n",
       "      <td>no</td>\n",
       "      <td>NaN</td>\n",
       "      <td>52.509819</td>\n",
       "      <td>13.407373</td>\n",
       "    </tr>\n",
       "    <tr>\n",
       "      <th>79418658</th>\n",
       "      <td>Ledo</td>\n",
       "      <td>Quäkerstraße</td>\n",
       "      <td>2</td>\n",
       "      <td>13403</td>\n",
       "      <td>Berlin</td>\n",
       "      <td>Mo-Sa 09:00-20:00</td>\n",
       "      <td>NaN</td>\n",
       "      <td>NaN</td>\n",
       "      <td>POINT (13.30855 52.57242)</td>\n",
       "      <td>NaN</td>\n",
       "      <td>NaN</td>\n",
       "      <td>NaN</td>\n",
       "      <td>NaN</td>\n",
       "      <td>yes</td>\n",
       "      <td>NaN</td>\n",
       "      <td>NaN</td>\n",
       "      <td>52.572417</td>\n",
       "      <td>13.308547</td>\n",
       "    </tr>\n",
       "    <tr>\n",
       "      <th>79422426</th>\n",
       "      <td>kiezmarkt</td>\n",
       "      <td>NaN</td>\n",
       "      <td>NaN</td>\n",
       "      <td>NaN</td>\n",
       "      <td>NaN</td>\n",
       "      <td>Mo-Fr 08:00-20:00, Sa 08:00-19:00</td>\n",
       "      <td>Nahkauf</td>\n",
       "      <td>NaN</td>\n",
       "      <td>POINT (13.31248 52.57168)</td>\n",
       "      <td>NaN</td>\n",
       "      <td>NaN</td>\n",
       "      <td>NaN</td>\n",
       "      <td>NaN</td>\n",
       "      <td>yes</td>\n",
       "      <td>NaN</td>\n",
       "      <td>NaN</td>\n",
       "      <td>52.571676</td>\n",
       "      <td>13.312476</td>\n",
       "    </tr>\n",
       "    <tr>\n",
       "      <th>79428988</th>\n",
       "      <td>nah &amp; gut</td>\n",
       "      <td>Scharnweberstraße</td>\n",
       "      <td>100</td>\n",
       "      <td>13405</td>\n",
       "      <td>Berlin</td>\n",
       "      <td>Mo-Sa 07:00-22:00</td>\n",
       "      <td>EDEKA</td>\n",
       "      <td>NaN</td>\n",
       "      <td>POINT (13.31693 52.5664)</td>\n",
       "      <td>NaN</td>\n",
       "      <td>NaN</td>\n",
       "      <td>NaN</td>\n",
       "      <td>NaN</td>\n",
       "      <td>yes</td>\n",
       "      <td>NaN</td>\n",
       "      <td>NaN</td>\n",
       "      <td>52.566403</td>\n",
       "      <td>13.316931</td>\n",
       "    </tr>\n",
       "    <tr>\n",
       "      <th>79438509</th>\n",
       "      <td>Nahkauf</td>\n",
       "      <td>Meller Bogen</td>\n",
       "      <td>2</td>\n",
       "      <td>13403</td>\n",
       "      <td>Berlin</td>\n",
       "      <td>Mo-Sa 07:00-20:00</td>\n",
       "      <td>Nahkauf</td>\n",
       "      <td>NaN</td>\n",
       "      <td>POINT (13.32114 52.57049)</td>\n",
       "      <td>NaN</td>\n",
       "      <td>NaN</td>\n",
       "      <td>yes</td>\n",
       "      <td>yes</td>\n",
       "      <td>limited</td>\n",
       "      <td>NaN</td>\n",
       "      <td>2</td>\n",
       "      <td>52.570486</td>\n",
       "      <td>13.321144</td>\n",
       "    </tr>\n",
       "  </tbody>\n",
       "</table>\n",
       "</div>"
      ],
      "text/plain": [
       "                                   name             street housenumber  \\\n",
       "element id                                                               \n",
       "node    58489979  Netto Marken-Discount   Alte Jakobstraße          83   \n",
       "        79418658                   Ledo       Quäkerstraße           2   \n",
       "        79422426              kiezmarkt                NaN         NaN   \n",
       "        79428988              nah & gut  Scharnweberstraße         100   \n",
       "        79438509                Nahkauf       Meller Bogen           2   \n",
       "\n",
       "                 postcode    city                      opening_hours  \\\n",
       "element id                                                             \n",
       "node    58489979    10179  Berlin          Mo-Sa 07:00-24:00; Su off   \n",
       "        79418658    13403  Berlin                  Mo-Sa 09:00-20:00   \n",
       "        79422426      NaN     NaN  Mo-Fr 08:00-20:00, Sa 08:00-19:00   \n",
       "        79428988    13405  Berlin                  Mo-Sa 07:00-22:00   \n",
       "        79438509    13403  Berlin                  Mo-Sa 07:00-20:00   \n",
       "\n",
       "                                  brand type                   geometry  \\\n",
       "element id                                                                \n",
       "node    58489979  Netto Marken-Discount  NaN  POINT (13.40737 52.50982)   \n",
       "        79418658                    NaN  NaN  POINT (13.30855 52.57242)   \n",
       "        79422426                Nahkauf  NaN  POINT (13.31248 52.57168)   \n",
       "        79428988                  EDEKA  NaN   POINT (13.31693 52.5664)   \n",
       "        79438509                Nahkauf  NaN  POINT (13.32114 52.57049)   \n",
       "\n",
       "                 payment_credit_card payment_debit_cards payment_cash  \\\n",
       "element id                                                              \n",
       "node    58489979                 NaN                 NaN          NaN   \n",
       "        79418658                 NaN                 NaN          NaN   \n",
       "        79422426                 NaN                 NaN          NaN   \n",
       "        79428988                 NaN                 NaN          NaN   \n",
       "        79438509                 NaN                 NaN          yes   \n",
       "\n",
       "                 payment_contactless wheelchair internet_access layer  \\\n",
       "element id                                                              \n",
       "node    58489979                 NaN         no              no   NaN   \n",
       "        79418658                 NaN        yes             NaN   NaN   \n",
       "        79422426                 NaN        yes             NaN   NaN   \n",
       "        79428988                 NaN        yes             NaN   NaN   \n",
       "        79438509                 yes    limited             NaN     2   \n",
       "\n",
       "                   latitude  longitude  \n",
       "element id                              \n",
       "node    58489979  52.509819  13.407373  \n",
       "        79418658  52.572417  13.308547  \n",
       "        79422426  52.571676  13.312476  \n",
       "        79428988  52.566403  13.316931  \n",
       "        79438509  52.570486  13.321144  "
      ]
     },
     "execution_count": 86,
     "metadata": {},
     "output_type": "execute_result"
    }
   ],
   "source": [
    "gdf_superstore.head()"
   ]
  },
  {
   "cell_type": "markdown",
   "id": "42156525",
   "metadata": {},
   "source": [
    "## 1.2 Modelling & Planning\n",
    "\n",
    "**Selected 22 Key Columns**\n",
    "\n",
    " 1.  osm_id \n",
    " 2.  name                 \n",
    " 3.  street               \n",
    " 4.  housenumber           \n",
    " 5.  postcode              \n",
    " 6.  city                   \n",
    " 7.  opening_hours         \n",
    " 8.  brand                  \n",
    " 9.  type                  \n",
    " 10. geometry             \n",
    " 11. payment_credit_card   \n",
    " 12. payment_debit_cards   \n",
    " 13. payment_cash          \n",
    " 14. payment_contactless    \n",
    " 15. wheelchair            \n",
    " 16. internet_access      \n",
    " 17. layer                \n",
    " 18. latitude           \n",
    " 19. longitude \n",
    " 20. neighbourhood\n",
    " 21. district\n",
    " 22. source\n",
    "\n",
    "**How this connects to existing tables:**\n",
    "\n",
    "- Coordinates (latitude, longitude, geom): link to neighbourhood and district polygons.\n",
    "- Neighbourhood & district fields: join with administrative boundaries table.\n",
    "- Source field: ensures traceability."
   ]
  },
  {
   "cell_type": "markdown",
   "id": "42141e45",
   "metadata": {},
   "source": [
    "### 🏪 Planned Schema: `superstore_in_berlin`\n",
    "\n",
    "| Column Name             | Data Type | Description                                      | Example                        |\n",
    "|-------------------------|-----------|--------------------------------------------------|--------------------------------|\n",
    "| `osm_id`                | int       | Unique OSM element ID                            | 58489979                       |\n",
    "| `name`                  | text      | Supermarket or store name                        | Netto Marken-Discount          |\n",
    "| `brand`                 | text      | Brand if available                               | Nahkauf                        |\n",
    "| `street`                | text      | Street name                                      | Alte Jakobstraße               |\n",
    "| `housenumber`           | text      | House number                                     | 83                             |\n",
    "| `postcode`              | text      | Postal code                                      | 10179                          |\n",
    "| `city`                  | text      | City name                                        | Berlin                         |\n",
    "| `opening_hours`         | text      | Opening hours string                             | Mo–Sa 07:00–24:00; Su off      |\n",
    "| `type`                  | text      | Store type if tagged                             | supermarket                    |\n",
    "| `payment_credit_card`   | text      | Accepts credit card                              | yes                            |\n",
    "| `payment_debit_cards`   | text      | Accepts debit cards                              | yes                            |\n",
    "| `payment_cash`          | text      | Accepts cash payment                             | yes                            |\n",
    "| `payment_contactless`   | text      | Accepts contactless payments                     | no                             |\n",
    "| `wheelchair`            | text      | Accessibility info                               | yes                            |\n",
    "| `internet_access`       | text      | Public internet access (e.g., wifi)              | wlan                           |\n",
    "| `layer`                 | text      | Vertical layer (e.g., floor number)              | 1                              |\n",
    "| `latitude`              | float     | Latitude coordinate                              | 52.5200                        |\n",
    "| `longitude`             | float     | Longitude coordinate                             | 13.4050                        |\n",
    "| `geometry`              | geometry  | Full GeoJSON geometry                            | POINT (13.4050 52.5200)        |\n",
    "| `neighbourhood`         | text      | Local neighborhood (optional / derived)          | Kreuzberg                      |\n",
    "| `district`              | text      | Berlin administrative district                   | Friedrichshain-Kreuzberg       |\n",
    "| `source`                | text      | Data source info                                 | OSM                            |"
   ]
  },
  {
   "cell_type": "markdown",
   "id": "e5f27c12",
   "metadata": {},
   "source": [
    "**Transformation Plan**\n",
    "\n",
    "- Fetch data from OSM with filter shop=supershop (Berlin bounding box). ✅\n",
    "- Clean column names → \"addr:street\" : \"street\".✅\n",
    "- Normalize formats (Consider filling missing address values using reverse geocoding (based on lat/lon) ).📌\n",
    "\n",
    "- Enrich with neighbourhood/district via spatial join. 📌\n",
    "\n",
    "- Save cleaned dataset (GeoJSON + CSV).📌\n"
   ]
  },
  {
   "cell_type": "code",
   "execution_count": 87,
   "id": "a8842496",
   "metadata": {},
   "outputs": [],
   "source": [
    "gdf_superstore[\"source\"]=None"
   ]
  },
  {
   "cell_type": "code",
   "execution_count": 88,
   "id": "4d2cd7e8",
   "metadata": {},
   "outputs": [
    {
     "data": {
      "text/html": [
       "<div>\n",
       "<style scoped>\n",
       "    .dataframe tbody tr th:only-of-type {\n",
       "        vertical-align: middle;\n",
       "    }\n",
       "\n",
       "    .dataframe tbody tr th {\n",
       "        vertical-align: top;\n",
       "    }\n",
       "\n",
       "    .dataframe thead th {\n",
       "        text-align: right;\n",
       "    }\n",
       "</style>\n",
       "<table border=\"1\" class=\"dataframe\">\n",
       "  <thead>\n",
       "    <tr style=\"text-align: right;\">\n",
       "      <th></th>\n",
       "      <th></th>\n",
       "      <th>name</th>\n",
       "      <th>street</th>\n",
       "      <th>housenumber</th>\n",
       "      <th>postcode</th>\n",
       "      <th>city</th>\n",
       "      <th>opening_hours</th>\n",
       "      <th>brand</th>\n",
       "      <th>type</th>\n",
       "      <th>geometry</th>\n",
       "      <th>payment_credit_card</th>\n",
       "      <th>payment_debit_cards</th>\n",
       "      <th>payment_cash</th>\n",
       "      <th>payment_contactless</th>\n",
       "      <th>wheelchair</th>\n",
       "      <th>internet_access</th>\n",
       "      <th>layer</th>\n",
       "      <th>latitude</th>\n",
       "      <th>longitude</th>\n",
       "      <th>source</th>\n",
       "    </tr>\n",
       "    <tr>\n",
       "      <th>element</th>\n",
       "      <th>id</th>\n",
       "      <th></th>\n",
       "      <th></th>\n",
       "      <th></th>\n",
       "      <th></th>\n",
       "      <th></th>\n",
       "      <th></th>\n",
       "      <th></th>\n",
       "      <th></th>\n",
       "      <th></th>\n",
       "      <th></th>\n",
       "      <th></th>\n",
       "      <th></th>\n",
       "      <th></th>\n",
       "      <th></th>\n",
       "      <th></th>\n",
       "      <th></th>\n",
       "      <th></th>\n",
       "      <th></th>\n",
       "      <th></th>\n",
       "    </tr>\n",
       "  </thead>\n",
       "  <tbody>\n",
       "    <tr>\n",
       "      <th rowspan=\"3\" valign=\"top\">node</th>\n",
       "      <th>58489979</th>\n",
       "      <td>Netto Marken-Discount</td>\n",
       "      <td>Alte Jakobstraße</td>\n",
       "      <td>83</td>\n",
       "      <td>10179</td>\n",
       "      <td>Berlin</td>\n",
       "      <td>Mo-Sa 07:00-24:00; Su off</td>\n",
       "      <td>Netto Marken-Discount</td>\n",
       "      <td>NaN</td>\n",
       "      <td>POINT (13.40737 52.50982)</td>\n",
       "      <td>NaN</td>\n",
       "      <td>NaN</td>\n",
       "      <td>NaN</td>\n",
       "      <td>NaN</td>\n",
       "      <td>no</td>\n",
       "      <td>no</td>\n",
       "      <td>NaN</td>\n",
       "      <td>52.509819</td>\n",
       "      <td>13.407373</td>\n",
       "      <td>None</td>\n",
       "    </tr>\n",
       "    <tr>\n",
       "      <th>79418658</th>\n",
       "      <td>Ledo</td>\n",
       "      <td>Quäkerstraße</td>\n",
       "      <td>2</td>\n",
       "      <td>13403</td>\n",
       "      <td>Berlin</td>\n",
       "      <td>Mo-Sa 09:00-20:00</td>\n",
       "      <td>NaN</td>\n",
       "      <td>NaN</td>\n",
       "      <td>POINT (13.30855 52.57242)</td>\n",
       "      <td>NaN</td>\n",
       "      <td>NaN</td>\n",
       "      <td>NaN</td>\n",
       "      <td>NaN</td>\n",
       "      <td>yes</td>\n",
       "      <td>NaN</td>\n",
       "      <td>NaN</td>\n",
       "      <td>52.572417</td>\n",
       "      <td>13.308547</td>\n",
       "      <td>None</td>\n",
       "    </tr>\n",
       "    <tr>\n",
       "      <th>79422426</th>\n",
       "      <td>kiezmarkt</td>\n",
       "      <td>NaN</td>\n",
       "      <td>NaN</td>\n",
       "      <td>NaN</td>\n",
       "      <td>NaN</td>\n",
       "      <td>Mo-Fr 08:00-20:00, Sa 08:00-19:00</td>\n",
       "      <td>Nahkauf</td>\n",
       "      <td>NaN</td>\n",
       "      <td>POINT (13.31248 52.57168)</td>\n",
       "      <td>NaN</td>\n",
       "      <td>NaN</td>\n",
       "      <td>NaN</td>\n",
       "      <td>NaN</td>\n",
       "      <td>yes</td>\n",
       "      <td>NaN</td>\n",
       "      <td>NaN</td>\n",
       "      <td>52.571676</td>\n",
       "      <td>13.312476</td>\n",
       "      <td>None</td>\n",
       "    </tr>\n",
       "  </tbody>\n",
       "</table>\n",
       "</div>"
      ],
      "text/plain": [
       "                                   name            street housenumber  \\\n",
       "element id                                                              \n",
       "node    58489979  Netto Marken-Discount  Alte Jakobstraße          83   \n",
       "        79418658                   Ledo      Quäkerstraße           2   \n",
       "        79422426              kiezmarkt               NaN         NaN   \n",
       "\n",
       "                 postcode    city                      opening_hours  \\\n",
       "element id                                                             \n",
       "node    58489979    10179  Berlin          Mo-Sa 07:00-24:00; Su off   \n",
       "        79418658    13403  Berlin                  Mo-Sa 09:00-20:00   \n",
       "        79422426      NaN     NaN  Mo-Fr 08:00-20:00, Sa 08:00-19:00   \n",
       "\n",
       "                                  brand type                   geometry  \\\n",
       "element id                                                                \n",
       "node    58489979  Netto Marken-Discount  NaN  POINT (13.40737 52.50982)   \n",
       "        79418658                    NaN  NaN  POINT (13.30855 52.57242)   \n",
       "        79422426                Nahkauf  NaN  POINT (13.31248 52.57168)   \n",
       "\n",
       "                 payment_credit_card payment_debit_cards payment_cash  \\\n",
       "element id                                                              \n",
       "node    58489979                 NaN                 NaN          NaN   \n",
       "        79418658                 NaN                 NaN          NaN   \n",
       "        79422426                 NaN                 NaN          NaN   \n",
       "\n",
       "                 payment_contactless wheelchair internet_access layer  \\\n",
       "element id                                                              \n",
       "node    58489979                 NaN         no              no   NaN   \n",
       "        79418658                 NaN        yes             NaN   NaN   \n",
       "        79422426                 NaN        yes             NaN   NaN   \n",
       "\n",
       "                   latitude  longitude source  \n",
       "element id                                     \n",
       "node    58489979  52.509819  13.407373   None  \n",
       "        79418658  52.572417  13.308547   None  \n",
       "        79422426  52.571676  13.312476   None  "
      ]
     },
     "execution_count": 88,
     "metadata": {},
     "output_type": "execute_result"
    }
   ],
   "source": [
    "gdf_superstore.head(3)"
   ]
  },
  {
   "cell_type": "markdown",
   "id": "27cdc280",
   "metadata": {},
   "source": [
    "# Step 1 Review and A–F Data Familiarization"
   ]
  },
  {
   "cell_type": "markdown",
   "id": "d0a87215",
   "metadata": {},
   "source": [
    "## A) Quick overview"
   ]
  },
  {
   "cell_type": "code",
   "execution_count": 89,
   "id": "677a9efc",
   "metadata": {},
   "outputs": [
    {
     "name": "stdout",
     "output_type": "stream",
     "text": [
      "Rows, Columns: (1358, 19)\n",
      "\n",
      "Columns: ['name', 'street', 'housenumber', 'postcode', 'city', 'opening_hours', 'brand', 'type', 'geometry', 'payment_credit_card', 'payment_debit_cards', 'payment_cash', 'payment_contactless', 'wheelchair', 'internet_access', 'layer', 'latitude', 'longitude', 'source']\n",
      "data Info\n",
      "\n",
      "<class 'geopandas.geodataframe.GeoDataFrame'>\n",
      "MultiIndex: 1358 entries, ('node', np.int64(58489979)) to ('way', np.int64(1429504461))\n",
      "Data columns (total 19 columns):\n",
      " #   Column               Non-Null Count  Dtype   \n",
      "---  ------               --------------  -----   \n",
      " 0   name                 1355 non-null   object  \n",
      " 1   street               1105 non-null   object  \n",
      " 2   housenumber          1097 non-null   object  \n",
      " 3   postcode             1081 non-null   object  \n",
      " 4   city                 1044 non-null   object  \n",
      " 5   opening_hours        1260 non-null   object  \n",
      " 6   brand                1134 non-null   object  \n",
      " 7   type                 7 non-null      object  \n",
      " 8   geometry             1358 non-null   geometry\n",
      " 9   payment_credit_card  152 non-null    object  \n",
      " 10  payment_debit_cards  145 non-null    object  \n",
      " 11  payment_cash         169 non-null    object  \n",
      " 12  payment_contactless  37 non-null     object  \n",
      " 13  wheelchair           1213 non-null   object  \n",
      " 14  internet_access      116 non-null    object  \n",
      " 15  layer                3 non-null      object  \n",
      " 16  latitude             1358 non-null   float64 \n",
      " 17  longitude            1358 non-null   float64 \n",
      " 18  source               0 non-null      object  \n",
      "dtypes: float64(2), geometry(1), object(16)\n",
      "memory usage: 249.4+ KB\n",
      "None\n"
     ]
    }
   ],
   "source": [
    "print(\"Rows, Columns:\", gdf_superstore.shape)\n",
    "print(\"\\nColumns:\", gdf_superstore.columns.tolist())\n",
    "print(\"data Info\\n\")\n",
    "print(gdf_superstore.info())"
   ]
  },
  {
   "cell_type": "markdown",
   "id": "d897de62",
   "metadata": {},
   "source": [
    "## B) Missing values per column"
   ]
  },
  {
   "cell_type": "code",
   "execution_count": 90,
   "id": "c6b5eb44",
   "metadata": {},
   "outputs": [
    {
     "name": "stdout",
     "output_type": "stream",
     "text": [
      "source                 1358\n",
      "layer                  1355\n",
      "type                   1351\n",
      "payment_contactless    1321\n",
      "internet_access        1242\n",
      "payment_debit_cards    1213\n",
      "payment_credit_card    1206\n",
      "payment_cash           1189\n",
      "city                    314\n",
      "postcode                277\n",
      "housenumber             261\n",
      "street                  253\n",
      "brand                   224\n",
      "wheelchair              145\n",
      "opening_hours            98\n",
      "name                      3\n",
      "geometry                  0\n",
      "latitude                  0\n",
      "longitude                 0\n",
      "dtype: int64\n"
     ]
    }
   ],
   "source": [
    "missing_count = gdf_superstore.isna().sum().sort_values(ascending=False)\n",
    "print(missing_count)"
   ]
  },
  {
   "cell_type": "code",
   "execution_count": 91,
   "id": "60b9fe17",
   "metadata": {},
   "outputs": [
    {
     "name": "stdout",
     "output_type": "stream",
     "text": [
      "1358\n",
      "                     missing_count  missing_pct\n",
      "source                        1358        100.0\n",
      "layer                         1355         99.8\n",
      "type                          1351         99.5\n",
      "payment_contactless           1321         97.3\n",
      "internet_access               1242         91.5\n",
      "payment_debit_cards           1213         89.3\n",
      "payment_credit_card           1206         88.8\n",
      "payment_cash                  1189         87.6\n",
      "city                           314         23.1\n",
      "postcode                       277         20.4\n",
      "housenumber                    261         19.2\n",
      "street                         253         18.6\n",
      "brand                          224         16.5\n",
      "wheelchair                     145         10.7\n",
      "opening_hours                   98          7.2\n",
      "name                             3          0.2\n",
      "geometry                         0          0.0\n",
      "latitude                         0          0.0\n",
      "longitude                        0          0.0\n"
     ]
    }
   ],
   "source": [
    "row_count = len(gdf_superstore)\n",
    "print(row_count)\n",
    "missing = pd.DataFrame({\n",
    "    \"missing_count\": missing_count,\n",
    "    \"missing_pct\": (missing_count / row_count * 100).round(1)\n",
    "}).sort_values(by=\"missing_pct\", ascending=False)\n",
    "\n",
    "print(missing)"
   ]
  },
  {
   "cell_type": "markdown",
   "id": "4e5ba9e2",
   "metadata": {},
   "source": [
    "**✅ Recommendations**\n",
    "\n",
    "- Drop or ignore high-missing fields\n",
    "\n",
    "\t•\tColumns like source, layer, type, payment_*, and internet_access have too many missing values to be meaningful without external enrichment.\n",
    "\n",
    "\t•\tYou can either drop them or keep them for very limited exploratory use.\n",
    "\n",
    "- Enrich moderate-missing fields\n",
    "\n",
    "\t•\tConsider reverse geocoding to infer:\n",
    "\n",
    "\t•\tstreet, housenumber, postcode, and city from latitude/longitude\n",
    "\t\n",
    "\t•\tUse brand clustering or reference lists to fill common brand names.\n",
    "\n",
    "- Fill remaining small gaps\n",
    "\n",
    "\t•\tFor opening_hours, wheelchair, and name, missing values can be flagged or marked as “unknown” for visualizations and charts.\n",
    "\n",
    "- Keep spatial data clean\n",
    "\n",
    "\t•\tEnsure geometry, latitude, and longitude are retained as the core fields for mapping and spatial joins.\n"
   ]
  },
  {
   "cell_type": "markdown",
   "id": "8f448fb8",
   "metadata": {},
   "source": [
    "## C) Distinct values per column"
   ]
  },
  {
   "cell_type": "code",
   "execution_count": 92,
   "id": "8dcf8e05",
   "metadata": {},
   "outputs": [
    {
     "name": "stdout",
     "output_type": "stream",
     "text": [
      "longitude              1358\n",
      "geometry               1358\n",
      "latitude               1358\n",
      "street                  635\n",
      "housenumber             445\n",
      "name                    315\n",
      "opening_hours           239\n",
      "postcode                186\n",
      "brand                    26\n",
      "type                      4\n",
      "wheelchair                3\n",
      "internet_access           3\n",
      "layer                     2\n",
      "payment_credit_card       2\n",
      "payment_debit_cards       2\n",
      "payment_contactless       1\n",
      "payment_cash              1\n",
      "city                      1\n",
      "source                    0\n",
      "dtype: int64\n"
     ]
    }
   ],
   "source": [
    "distinct = gdf_superstore.nunique().sort_values(ascending=False)\n",
    "print(distinct)"
   ]
  },
  {
   "cell_type": "markdown",
   "id": "06e35fcc",
   "metadata": {},
   "source": [
    "## D) Most common values in key columns"
   ]
  },
  {
   "cell_type": "code",
   "execution_count": 93,
   "id": "80403804",
   "metadata": {},
   "outputs": [
    {
     "name": "stdout",
     "output_type": "stream",
     "text": [
      "\n",
      "Top 10 brands:\n",
      "brand\n",
      "Edeka                    163\n",
      "Lidl                     142\n",
      "Netto Marken-Discount    126\n",
      "Rewe                     121\n",
      "Aldi Nord                 96\n",
      "Penny                     71\n",
      "EDEKA                     54\n",
      "Denns BioMarkt            50\n",
      "Bio Company               49\n",
      "Netto                     44\n",
      "Name: count, dtype: int64\n"
     ]
    }
   ],
   "source": [
    "# Goal: Peek at distributions, not just counts.\n",
    "\n",
    "# Example: top 10 brands\n",
    "print(\"\\nTop 10 brands:\")\n",
    "print(gdf_superstore[\"brand\"].value_counts().head(10))"
   ]
  },
  {
   "cell_type": "code",
   "execution_count": 94,
   "id": "8b4abb49",
   "metadata": {},
   "outputs": [
    {
     "name": "stdout",
     "output_type": "stream",
     "text": [
      "\n",
      "Top 10 brands:\n",
      "street\n",
      "Hauptstraße             19\n",
      "Müllerstraße            14\n",
      "Tempelhofer Damm        11\n",
      "Frankfurter Allee       10\n",
      "Wilmersdorfer Straße    10\n",
      "Greifswalder Straße     10\n",
      "Hermannstraße            9\n",
      "Karl-Marx-Straße         9\n",
      "Friedrichstraße          9\n",
      "Landsberger Allee        8\n",
      "Name: count, dtype: int64\n"
     ]
    }
   ],
   "source": [
    "print(\"\\nTop 10 brands:\")\n",
    "print(gdf_superstore[\"street\"].value_counts().head(10))"
   ]
  },
  {
   "cell_type": "code",
   "execution_count": 95,
   "id": "64f2df36",
   "metadata": {},
   "outputs": [
    {
     "name": "stdout",
     "output_type": "stream",
     "text": [
      "\n",
      "Top 10 brands:\n",
      "opening_hours\n",
      "Mo-Sa 07:00-22:00                    254\n",
      "Mo-Sa 07:00-21:00                    247\n",
      "Mo-Sa 08:00-21:00                    100\n",
      "Mo-Sa 08:00-20:00                     88\n",
      "Mo-Sa 07:00-20:00                     59\n",
      "Mo-Sa 07:00-21:00; PH off             31\n",
      "Mo-Sa 07:00-22:00; PH off             25\n",
      "Mo-Sa 07:00-22:00; Su,PH off          23\n",
      "Mo-Sa 08:00-22:00                     22\n",
      "Mo-Fr 07:00-24:00; Sa 07:00-23:30     19\n",
      "Name: count, dtype: int64\n"
     ]
    }
   ],
   "source": [
    "print(\"\\nTop 10 brands:\")\n",
    "print(gdf_superstore[\"opening_hours\"].value_counts().head(10))"
   ]
  },
  {
   "cell_type": "code",
   "execution_count": 96,
   "id": "e15e13e1",
   "metadata": {},
   "outputs": [
    {
     "name": "stdout",
     "output_type": "stream",
     "text": [
      "\n",
      "Top 10 brands:\n",
      "postcode\n",
      "10827    15\n",
      "10365    14\n",
      "10117    13\n",
      "10405    13\n",
      "12683    12\n",
      "10243    12\n",
      "12524    12\n",
      "12555    12\n",
      "10245    12\n",
      "10967    11\n",
      "Name: count, dtype: int64\n"
     ]
    }
   ],
   "source": [
    "print(\"\\nTop 10 brands:\")\n",
    "print(gdf_superstore[\"postcode\"].value_counts().head(10))"
   ]
  },
  {
   "cell_type": "code",
   "execution_count": 97,
   "id": "5d840301",
   "metadata": {},
   "outputs": [
    {
     "name": "stdout",
     "output_type": "stream",
     "text": [
      "\n",
      "Top 10 brands:\n",
      "name\n",
      "Lidl                     142\n",
      "Aldi                     132\n",
      "Netto Marken-Discount    126\n",
      "REWE                     105\n",
      "EDEKA                     82\n",
      "PENNY                     51\n",
      "Denns BioMarkt            50\n",
      "Bio Company               49\n",
      "Netto                     45\n",
      "Kaufland                  35\n",
      "Name: count, dtype: int64\n"
     ]
    }
   ],
   "source": [
    "print(\"\\nTop 10 brands:\")\n",
    "print(gdf_superstore[\"name\"].value_counts().head(10))"
   ]
  },
  {
   "cell_type": "markdown",
   "id": "2baef6e8",
   "metadata": {},
   "source": [
    "## E) Geometry sanity checks"
   ]
  },
  {
   "cell_type": "code",
   "execution_count": 99,
   "id": "c36c3416",
   "metadata": {},
   "outputs": [
    {
     "name": "stdout",
     "output_type": "stream",
     "text": [
      "Point    1358\n",
      "Name: count, dtype: int64\n"
     ]
    }
   ],
   "source": [
    "print(gdf_superstore.geometry.geom_type.value_counts())"
   ]
  },
  {
   "cell_type": "code",
   "execution_count": 101,
   "id": "1e4c6cc6",
   "metadata": {},
   "outputs": [
    {
     "name": "stdout",
     "output_type": "stream",
     "text": [
      "Missing geometries: 0\n"
     ]
    }
   ],
   "source": [
    "print(\"Missing geometries:\", gdf_superstore.geometry.isna().sum())"
   ]
  },
  {
   "cell_type": "markdown",
   "id": "649d0354",
   "metadata": {},
   "source": [
    "## F) Latitude/Longitude checks"
   ]
  },
  {
   "cell_type": "code",
   "execution_count": 103,
   "id": "4d556c3e",
   "metadata": {},
   "outputs": [
    {
     "name": "stdout",
     "output_type": "stream",
     "text": [
      "Latitude range: 52.37918305338519 to 52.64074992624387\n",
      "Longitude range: 13.124876595696755 to 13.7149761\n"
     ]
    }
   ],
   "source": [
    "# Goal: Verify lat/lon look realistic.\n",
    "# Why? If values are way off, something went wrong in conversion.\n",
    "\n",
    "print(\"Latitude range:\", gdf_superstore[\"latitude\"].min(), \"to\", gdf_superstore[\"latitude\"].max())\n",
    "\n",
    "print(\"Longitude range:\", gdf_superstore[\"longitude\"].min(), \"to\", gdf_superstore[\"longitude\"].max())"
   ]
  },
  {
   "cell_type": "markdown",
   "id": "2077f7f8",
   "metadata": {},
   "source": [
    "## 1.3 Prepare the /sources Directory\n",
    "\n",
    "1. Raw Data Files:\n",
    "\n",
    "- banks_raw.geojson (includes geometry)\n",
    "- banks_raw.csv (tabular only, no geometry)\n",
    "\n",
    "2. README.md in /sources will contain:\n",
    "\n",
    "- Data sources used.\n",
    "- Planned transformation steps."
   ]
  },
  {
   "cell_type": "code",
   "execution_count": 104,
   "id": "8962b695",
   "metadata": {},
   "outputs": [
    {
     "name": "stdout",
     "output_type": "stream",
     "text": [
      "Raw data saved to: ../sources/supermarkets_raw.geojson and ../sources/supermarkets_raw.csv\n"
     ]
    }
   ],
   "source": [
    "# Save as GeoJSON (keeps geometry) and CSV\n",
    "\n",
    "raw_geojson_path = \"../sources/supermarkets_raw.geojson\"\n",
    "raw_csv_path = \"../sources/supermarkets_raw.csv\"\n",
    "\n",
    "\n",
    "gdf_superstore.to_file(raw_geojson_path, driver=\"GeoJSON\")\n",
    "gdf_superstore.drop(columns=\"geometry\").to_csv(raw_csv_path, index=False)\n",
    "\n",
    "print(f\"Raw data saved to: {raw_geojson_path} and {raw_csv_path}\")"
   ]
  },
  {
   "cell_type": "markdown",
   "id": "9fb57674",
   "metadata": {},
   "source": [
    "# 1.4 Review\n",
    "\n",
    "- All 22 target columns defined.\n",
    "- Data sources identified and documented.\n",
    "- Schema draft created.\n",
    "- Data fetched and stored in /sources.\n",
    "- Data cleaning & enrichment plan in place."
   ]
  },
  {
   "cell_type": "markdown",
   "id": "f9c30159",
   "metadata": {},
   "source": [
    "# 🛠 Step 2: Data Transformation"
   ]
  }
 ],
 "metadata": {
  "kernelspec": {
   "display_name": "Python 3",
   "language": "python",
   "name": "python3"
  },
  "language_info": {
   "codemirror_mode": {
    "name": "ipython",
    "version": 3
   },
   "file_extension": ".py",
   "mimetype": "text/x-python",
   "name": "python",
   "nbconvert_exporter": "python",
   "pygments_lexer": "ipython3",
   "version": "3.11.12"
  }
 },
 "nbformat": 4,
 "nbformat_minor": 5
}
