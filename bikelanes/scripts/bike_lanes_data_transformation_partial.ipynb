{
 "cells": [
  {
   "cell_type": "markdown",
   "id": "a53a4de8",
   "metadata": {},
   "source": [
    "# Bike Lane Data Transformations"
   ]
  },
  {
   "cell_type": "markdown",
   "id": "26206136",
   "metadata": {},
   "source": [
    "## Purpose & Goal for this notebook"
   ]
  },
  {
   "cell_type": "markdown",
   "id": "527d9eab",
   "metadata": {},
   "source": [
    "The goal for this notebook is to use the OSM dataset as the primary dataset with the other 2 datasets from Geoportal Berlin to verify that OSM fully covers the official bike lanes and that the official bike streets are correctly tagged in OSM.\n",
    "\n",
    "The 2 core tables that are available for me to connect the final cleaned Bike_Lanes table into the ERD are called **`district`** and **`neighborhood`**. Specifically I will integrate the datasets using the `geometry`, `district_id` and `ditricts`. \n",
    "\n",
    "**How this connects to the existing/core tables**\n",
    "\n",
    "- Coordinates (latitude, longitude, geom): link to neighbourhood and district polygons.\n",
    "- Neighbourhood & district fields: join with administrative boundaries table.\n",
    "- Source field: ensures traceability.\n",
    "\n",
    "\n",
    "-------------------------\n",
    "Steps: \n",
    "\n",
    "- Load the necessary Python libraries\n",
    "- Upload the OSM, Fahrradstrassen and radverkehrsanlagen GeoJSON files\n",
    "- Clean data\n",
    "- Standardise column names for consistency\n",
    "- Compare OSM and Datasets from Geoportal Berlin (ie. gaps, mismatches, etc.)\n",
    "- Verify Fahrradstraßen tagging is consistent in the OSM dataset\n",
    "- Create a unified dataset with OSM as the base with validations from the Geoportal Berlin datasets"
   ]
  },
  {
   "cell_type": "markdown",
   "id": "e732b9a9",
   "metadata": {},
   "source": [
    "## 1.  Loading the Libraries & Data"
   ]
  },
  {
   "cell_type": "markdown",
   "id": "65e0dcb6",
   "metadata": {},
   "source": [
    "### Importing Libraries"
   ]
  },
  {
   "cell_type": "code",
   "execution_count": 4,
   "id": "7b8a9ba9",
   "metadata": {},
   "outputs": [],
   "source": [
    "import pandas as pd\n",
    "import geopandas as gpd\n",
    "import numpy as np\n",
    "from shapely.geometry import MultiLineString\n",
    "from geopandas.tools import sjoin_nearest"
   ]
  },
  {
   "cell_type": "markdown",
   "id": "e9ddf256",
   "metadata": {},
   "source": [
    "**Note:**\n",
    "\n",
    "Following the uniformity of the rest of the ERD, the geometry of my table needs to be 'Point' so that lat/long can be extracted.\n",
    "\n",
    "This will also be useful for later calculations of the length of the bike lanes. These lengths are calculated based on the geometry of each lane.\n",
    "\n",
    "Currently, there is a discrepency in the Geometry between the OSM dataset and the Geoportal Berlin (Fahrradstraßen & Radverkehrsanlagen) datasets. Where the geometry from OSM is defined using `polygon` while the Geoportal Berlin datasets are defined as `MultiLineString` values. "
   ]
  },
  {
   "cell_type": "markdown",
   "id": "ab0e9a22",
   "metadata": {},
   "source": [
    "### Loading the Data"
   ]
  },
  {
   "cell_type": "markdown",
   "id": "ca814741",
   "metadata": {},
   "source": [
    "#### Dataset references:"
   ]
  },
  {
   "cell_type": "markdown",
   "id": "f8561ee5",
   "metadata": {},
   "source": [
    "1. **osm** = *OSM dataset*\n",
    "2. **gbf** = *Geoportal Berlin Fahrradstrassen*\n",
    "3. **gbr** = *Geoportal Berlin Radverkehrsanlagen*"
   ]
  },
  {
   "cell_type": "code",
   "execution_count": 5,
   "id": "ce725142",
   "metadata": {},
   "outputs": [],
   "source": [
    "osm = gpd.read_file(\"osm_bikelanes_raw.geojson\")\n",
    "gbf = gpd.read_file(\"fahrradstrassen.geojson\")\n",
    "gbr = gpd.read_file(\"radverkehrsanlagen.geojson\") "
   ]
  },
  {
   "cell_type": "markdown",
   "id": "1239f4bc",
   "metadata": {},
   "source": [
    "### Overview of Raw Data"
   ]
  },
  {
   "cell_type": "code",
   "execution_count": 6,
   "id": "a423e05f",
   "metadata": {},
   "outputs": [
    {
     "name": "stdout",
     "output_type": "stream",
     "text": [
      "OSM: (78865, 1064)\n",
      "Fahrradstraßen: (57, 6)\n",
      "Radverkehrsanlagen: (18641, 13)\n"
     ]
    }
   ],
   "source": [
    "print(\"OSM:\", osm.shape)\n",
    "print(\"Fahrradstraßen:\", gbf.shape)\n",
    "print(\"Radverkehrsanlagen:\", gbr.shape)"
   ]
  },
  {
   "cell_type": "markdown",
   "id": "62e7c33b",
   "metadata": {},
   "source": [
    "#### OSM Dataset Basic Overview"
   ]
  },
  {
   "cell_type": "code",
   "execution_count": 7,
   "id": "2c611a2b",
   "metadata": {},
   "outputs": [
    {
     "name": "stdout",
     "output_type": "stream",
     "text": [
      "OSM Bike Lanes Columns & Data Types\n",
      "<class 'geopandas.geodataframe.GeoDataFrame'>\n",
      "RangeIndex: 78865 entries, 0 to 78864\n",
      "Columns: 1064 entries, id to geometry\n",
      "dtypes: datetime64[ms](22), geometry(1), object(1041)\n",
      "memory usage: 640.2+ MB\n"
     ]
    }
   ],
   "source": [
    "print(\"OSM Bike Lanes Columns & Data Types\")\n",
    "osm.info()"
   ]
  },
  {
   "cell_type": "markdown",
   "id": "190a1f4f",
   "metadata": {},
   "source": [
    "##### Note: \n",
    "With a total of 1064 columns, having 1041 object columns, 22 datetime columns and 1 geometry column this is too much to keep for the purposes of the project. \n",
    "\n",
    "Based on the parameters of the project, the following columns will be isolated to keep the relevant fields: \n",
    "\n",
    "- *`osm_id`*\n",
    "- *`street_name`*\n",
    "- *`geometry`*\n",
    "- *`cycleway`*\n",
    "- *`smoothness`* (condition of bike lane - this column name will be changed to *`condition`*)\n",
    "- *`surface`* (material type of the lane)\n",
    "- *`highway`* (type of road)"
   ]
  },
  {
   "cell_type": "markdown",
   "id": "b7a4b3f1",
   "metadata": {},
   "source": [
    "#### Radsverkehrsanlagen Dataset Basic Overview"
   ]
  },
  {
   "cell_type": "code",
   "execution_count": 8,
   "id": "175fdd4d",
   "metadata": {},
   "outputs": [
    {
     "name": "stdout",
     "output_type": "stream",
     "text": [
      "Radsverkehrsanlagen Columns & Data Types\n",
      "<class 'geopandas.geodataframe.GeoDataFrame'>\n",
      "RangeIndex: 18641 entries, 0 to 18640\n",
      "Data columns (total 13 columns):\n",
      " #   Column     Non-Null Count  Dtype   \n",
      "---  ------     --------------  -----   \n",
      " 0   id         18641 non-null  object  \n",
      " 1   importid   18641 non-null  int32   \n",
      " 2   sobj_kz    18641 non-null  object  \n",
      " 3   segm_segm  18641 non-null  object  \n",
      " 4   segm_bez   2430 non-null   object  \n",
      " 5   stst_str   18641 non-null  object  \n",
      " 6   stor_name  18641 non-null  object  \n",
      " 7   ortstl     18641 non-null  object  \n",
      " 8   rva_typ    18641 non-null  object  \n",
      " 9   sorvt_typ  18641 non-null  object  \n",
      " 10  laenge     18641 non-null  int32   \n",
      " 11  b_pflicht  18641 non-null  object  \n",
      " 12  geometry   18641 non-null  geometry\n",
      "dtypes: geometry(1), int32(2), object(10)\n",
      "memory usage: 1.7+ MB\n"
     ]
    }
   ],
   "source": [
    "print(\"Radsverkehrsanlagen Columns & Data Types\")\n",
    "gbr.info()"
   ]
  },
  {
   "cell_type": "markdown",
   "id": "a3011687",
   "metadata": {},
   "source": [
    "##### Note:\n",
    "\n",
    "As this dataset has come from an official German source, the column names and data are all in German. Below, I have listed the column names as originally shown in the datasource & the English version that I will be using in the final table.\n",
    "Based on the parameters of the project, the following columns will be isolated to keep the relevant fields: \n",
    "\n",
    "- *`geometry`* = *`geometry`*\n",
    "- *`strasse`* = *`street_name`*\n",
    "- *`b_pflicht`* = *`condition`*\n",
    "- *`laenge`* = *`length`*\n",
    "- *`lane_type`*"
   ]
  },
  {
   "cell_type": "markdown",
   "id": "09e7eb67",
   "metadata": {},
   "source": [
    "#### Fahrradstraße Dataset Basic Overview"
   ]
  },
  {
   "cell_type": "code",
   "execution_count": 9,
   "id": "17cf0b2a",
   "metadata": {},
   "outputs": [
    {
     "name": "stdout",
     "output_type": "stream",
     "text": [
      "Fahrradstraße Columns & Data Types\n",
      "<class 'geopandas.geodataframe.GeoDataFrame'>\n",
      "RangeIndex: 57 entries, 0 to 56\n",
      "Data columns (total 6 columns):\n",
      " #   Column     Non-Null Count  Dtype   \n",
      "---  ------     --------------  -----   \n",
      " 0   id         57 non-null     int32   \n",
      " 1   bezirk     57 non-null     object  \n",
      " 2   strasse    57 non-null     object  \n",
      " 3   freigabe   57 non-null     object  \n",
      " 4   abschnitt  33 non-null     object  \n",
      " 5   geometry   57 non-null     geometry\n",
      "dtypes: geometry(1), int32(1), object(4)\n",
      "memory usage: 2.6+ KB\n"
     ]
    }
   ],
   "source": [
    "print(\"Fahrradstraße Columns & Data Types\")\n",
    "gbf.info()"
   ]
  },
  {
   "cell_type": "markdown",
   "id": "d41fa3c7",
   "metadata": {},
   "source": [
    "##### Note:\n",
    "\n",
    "As this dataset has come from an official German source, the column names and data are all in German. Below, I have listed the column names as originally shown in the datasource & the English version that I will be using in the final table.\n",
    "Based on the parameters of the project, the following columns will be isolated to keep the relevant fields: \n",
    "\n",
    "- *`geometry`* = *`geometry`*\n",
    "- *`strasse`* = *`street_name`*"
   ]
  },
  {
   "cell_type": "markdown",
   "id": "f2d58d68",
   "metadata": {},
   "source": [
    "## 2. Normalising the Column Names & Data Types"
   ]
  },
  {
   "cell_type": "markdown",
   "id": "6720f4db",
   "metadata": {},
   "source": [
    "### Ensuring Geometry Type is `Point`"
   ]
  },
  {
   "cell_type": "markdown",
   "id": "eb8b1f22",
   "metadata": {},
   "source": [
    "#### Converting CRS to `(epsg=4326)`"
   ]
  },
  {
   "cell_type": "code",
   "execution_count": 10,
   "id": "e1a5a33b",
   "metadata": {},
   "outputs": [],
   "source": [
    "osm = osm.to_crs(epsg=4326)\n",
    "gbr = gbr.to_crs(epsg=4326)\n",
    "gbf = gbf.to_crs(epsg=4326)"
   ]
  },
  {
   "cell_type": "markdown",
   "id": "74e27028",
   "metadata": {},
   "source": [
    "#### Converting Geometries (`Polygon`/`MultiLineString`) to `Point`"
   ]
  },
  {
   "cell_type": "code",
   "execution_count": 11,
   "id": "350a3a01",
   "metadata": {},
   "outputs": [],
   "source": [
    "for gdf in [osm, gbr, gbf]:\n",
    "    gdf[\"geometry\"] = gdf[\"geometry\"].apply(\n",
    "        lambda geom: geom if geom.geom_type == \"Point\" else geom.representative_point()\n",
    "    )"
   ]
  },
  {
   "cell_type": "code",
   "execution_count": 12,
   "id": "eef2b96d",
   "metadata": {},
   "outputs": [],
   "source": [
    "for gdf in [osm, gbr, gbf]:\n",
    "    gdf[\"latitude\"] = gdf.geometry.y\n",
    "    gdf[\"longitude\"] = gdf.geometry.x"
   ]
  },
  {
   "cell_type": "code",
   "execution_count": 13,
   "id": "db6ac9a3",
   "metadata": {},
   "outputs": [
    {
     "name": "stdout",
     "output_type": "stream",
     "text": [
      "✅ Geometry conversion complete:\n",
      "OSM geometry type: ['Point']\n",
      "Radverkehrsanlagen geometry type: ['Point']\n",
      "Fahrradstraße geometry type: ['Point']\n"
     ]
    }
   ],
   "source": [
    "print(\"✅ Geometry conversion complete:\")\n",
    "print(f\"OSM geometry type: {osm.geometry.geom_type.unique()}\")\n",
    "print(f\"Radverkehrsanlagen geometry type: {gbr.geometry.geom_type.unique()}\")\n",
    "print(f\"Fahrradstraße geometry type: {gbf.geometry.geom_type.unique()}\")"
   ]
  },
  {
   "cell_type": "code",
   "execution_count": 14,
   "id": "de13a4b5",
   "metadata": {},
   "outputs": [
    {
     "data": {
      "text/html": [
       "<div>\n",
       "<style scoped>\n",
       "    .dataframe tbody tr th:only-of-type {\n",
       "        vertical-align: middle;\n",
       "    }\n",
       "\n",
       "    .dataframe tbody tr th {\n",
       "        vertical-align: top;\n",
       "    }\n",
       "\n",
       "    .dataframe thead th {\n",
       "        text-align: right;\n",
       "    }\n",
       "</style>\n",
       "<table border=\"1\" class=\"dataframe\">\n",
       "  <thead>\n",
       "    <tr style=\"text-align: right;\">\n",
       "      <th></th>\n",
       "      <th>id</th>\n",
       "      <th>name</th>\n",
       "      <th>latitude</th>\n",
       "      <th>longitude</th>\n",
       "    </tr>\n",
       "  </thead>\n",
       "  <tbody>\n",
       "    <tr>\n",
       "      <th>0</th>\n",
       "      <td>way/43998936</td>\n",
       "      <td>Fritz-Lang-Platz</td>\n",
       "      <td>52.537608</td>\n",
       "      <td>13.602761</td>\n",
       "    </tr>\n",
       "    <tr>\n",
       "      <th>1</th>\n",
       "      <td>way/517805554</td>\n",
       "      <td>None</td>\n",
       "      <td>52.471086</td>\n",
       "      <td>13.463522</td>\n",
       "    </tr>\n",
       "    <tr>\n",
       "      <th>2</th>\n",
       "      <td>way/1186003574</td>\n",
       "      <td>None</td>\n",
       "      <td>52.589748</td>\n",
       "      <td>13.346163</td>\n",
       "    </tr>\n",
       "    <tr>\n",
       "      <th>3</th>\n",
       "      <td>way/1186011275</td>\n",
       "      <td>None</td>\n",
       "      <td>52.589653</td>\n",
       "      <td>13.345786</td>\n",
       "    </tr>\n",
       "    <tr>\n",
       "      <th>4</th>\n",
       "      <td>way/1187324842</td>\n",
       "      <td>None</td>\n",
       "      <td>52.487710</td>\n",
       "      <td>13.425639</td>\n",
       "    </tr>\n",
       "  </tbody>\n",
       "</table>\n",
       "</div>"
      ],
      "text/plain": [
       "               id              name   latitude  longitude\n",
       "0    way/43998936  Fritz-Lang-Platz  52.537608  13.602761\n",
       "1   way/517805554              None  52.471086  13.463522\n",
       "2  way/1186003574              None  52.589748  13.346163\n",
       "3  way/1186011275              None  52.589653  13.345786\n",
       "4  way/1187324842              None  52.487710  13.425639"
      ]
     },
     "execution_count": 14,
     "metadata": {},
     "output_type": "execute_result"
    }
   ],
   "source": [
    "osm[[\"id\", \"name\", \"latitude\", \"longitude\"]].head()"
   ]
  },
  {
   "cell_type": "markdown",
   "id": "9143c001",
   "metadata": {},
   "source": [
    "### Selecting the relevant columns"
   ]
  },
  {
   "cell_type": "markdown",
   "id": "a26e708d",
   "metadata": {},
   "source": [
    "#### OSM dataset as the base layer: "
   ]
  },
  {
   "cell_type": "code",
   "execution_count": 15,
   "id": "1b1e5704",
   "metadata": {},
   "outputs": [
    {
     "name": "stdout",
     "output_type": "stream",
     "text": [
      "✅ OSM columns selected and renamed:\n",
      "['bikelane_id', 'street_name', 'geometry', 'cycleway', 'condition', 'condition', 'surface', 'highway', 'latitude', 'longitude']\n"
     ]
    },
    {
     "data": {
      "text/html": [
       "<div>\n",
       "<style scoped>\n",
       "    .dataframe tbody tr th:only-of-type {\n",
       "        vertical-align: middle;\n",
       "    }\n",
       "\n",
       "    .dataframe tbody tr th {\n",
       "        vertical-align: top;\n",
       "    }\n",
       "\n",
       "    .dataframe thead th {\n",
       "        text-align: right;\n",
       "    }\n",
       "</style>\n",
       "<table border=\"1\" class=\"dataframe\">\n",
       "  <thead>\n",
       "    <tr style=\"text-align: right;\">\n",
       "      <th></th>\n",
       "      <th>bikelane_id</th>\n",
       "      <th>street_name</th>\n",
       "      <th>geometry</th>\n",
       "      <th>cycleway</th>\n",
       "      <th>condition</th>\n",
       "      <th>condition</th>\n",
       "      <th>surface</th>\n",
       "      <th>highway</th>\n",
       "      <th>latitude</th>\n",
       "      <th>longitude</th>\n",
       "    </tr>\n",
       "  </thead>\n",
       "  <tbody>\n",
       "    <tr>\n",
       "      <th>0</th>\n",
       "      <td>way/43998936</td>\n",
       "      <td>Fritz-Lang-Platz</td>\n",
       "      <td>POINT (13.60276 52.53761)</td>\n",
       "      <td>None</td>\n",
       "      <td>None</td>\n",
       "      <td>good</td>\n",
       "      <td>asphalt</td>\n",
       "      <td>residential</td>\n",
       "      <td>52.537608</td>\n",
       "      <td>13.602761</td>\n",
       "    </tr>\n",
       "    <tr>\n",
       "      <th>1</th>\n",
       "      <td>way/517805554</td>\n",
       "      <td>None</td>\n",
       "      <td>POINT (13.46352 52.47109)</td>\n",
       "      <td>no</td>\n",
       "      <td>None</td>\n",
       "      <td>good</td>\n",
       "      <td>paving_stones</td>\n",
       "      <td>service</td>\n",
       "      <td>52.471086</td>\n",
       "      <td>13.463522</td>\n",
       "    </tr>\n",
       "    <tr>\n",
       "      <th>2</th>\n",
       "      <td>way/1186003574</td>\n",
       "      <td>None</td>\n",
       "      <td>POINT (13.34616 52.58975)</td>\n",
       "      <td>lane</td>\n",
       "      <td>None</td>\n",
       "      <td>None</td>\n",
       "      <td>None</td>\n",
       "      <td>None</td>\n",
       "      <td>52.589748</td>\n",
       "      <td>13.346163</td>\n",
       "    </tr>\n",
       "  </tbody>\n",
       "</table>\n",
       "</div>"
      ],
      "text/plain": [
       "      bikelane_id       street_name                   geometry cycleway  \\\n",
       "0    way/43998936  Fritz-Lang-Platz  POINT (13.60276 52.53761)     None   \n",
       "1   way/517805554              None  POINT (13.46352 52.47109)       no   \n",
       "2  way/1186003574              None  POINT (13.34616 52.58975)     lane   \n",
       "\n",
       "  condition condition        surface      highway   latitude  longitude  \n",
       "0      None      good        asphalt  residential  52.537608  13.602761  \n",
       "1      None      good  paving_stones      service  52.471086  13.463522  \n",
       "2      None      None           None         None  52.589748  13.346163  "
      ]
     },
     "execution_count": 15,
     "metadata": {},
     "output_type": "execute_result"
    }
   ],
   "source": [
    "osm_selected = (\n",
    "    osm.rename(columns={\n",
    "        \"id\": \"bikelane_id\",\n",
    "        \"name\": \"street_name\",\n",
    "        \"smoothness\": \"condition\"  # standardize naming for later integration\n",
    "    })[[\n",
    "        \"bikelane_id\",\n",
    "        \"street_name\",\n",
    "        \"geometry\",\n",
    "        \"cycleway\",\n",
    "        \"condition\",\n",
    "        \"surface\",\n",
    "        \"highway\",\n",
    "        \"latitude\",\n",
    "        \"longitude\"\n",
    "    ]]\n",
    "    .copy()\n",
    ")\n",
    "\n",
    "print(\"✅ OSM columns selected and renamed:\")\n",
    "print(osm_selected.columns.tolist())\n",
    "osm_selected.head(3)"
   ]
  },
  {
   "cell_type": "markdown",
   "id": "1f7e14aa",
   "metadata": {},
   "source": [
    "#### Radverkehrsanlagen Relevant Colunms for Comparison:"
   ]
  },
  {
   "cell_type": "code",
   "execution_count": 16,
   "id": "e76eb23e",
   "metadata": {},
   "outputs": [
    {
     "name": "stdout",
     "output_type": "stream",
     "text": [
      "✅ Radverkehrsanlagen columns selected and renamed:\n",
      "['street_name', 'geometry', 'lane_type', 'condition', 'length', 'latitude', 'longitude']\n"
     ]
    },
    {
     "data": {
      "text/html": [
       "<div>\n",
       "<style scoped>\n",
       "    .dataframe tbody tr th:only-of-type {\n",
       "        vertical-align: middle;\n",
       "    }\n",
       "\n",
       "    .dataframe tbody tr th {\n",
       "        vertical-align: top;\n",
       "    }\n",
       "\n",
       "    .dataframe thead th {\n",
       "        text-align: right;\n",
       "    }\n",
       "</style>\n",
       "<table border=\"1\" class=\"dataframe\">\n",
       "  <thead>\n",
       "    <tr style=\"text-align: right;\">\n",
       "      <th></th>\n",
       "      <th>street_name</th>\n",
       "      <th>geometry</th>\n",
       "      <th>lane_type</th>\n",
       "      <th>condition</th>\n",
       "      <th>length</th>\n",
       "      <th>latitude</th>\n",
       "      <th>longitude</th>\n",
       "    </tr>\n",
       "  </thead>\n",
       "  <tbody>\n",
       "    <tr>\n",
       "      <th>0</th>\n",
       "      <td>Alt-Kaulsdorf</td>\n",
       "      <td>POINT (13.58237 52.50504)</td>\n",
       "      <td>Radwege</td>\n",
       "      <td>ja</td>\n",
       "      <td>26</td>\n",
       "      <td>52.505039</td>\n",
       "      <td>13.582373</td>\n",
       "    </tr>\n",
       "    <tr>\n",
       "      <th>1</th>\n",
       "      <td>Alt-Mahlsdorf</td>\n",
       "      <td>POINT (13.60639 52.5047)</td>\n",
       "      <td>Radwege</td>\n",
       "      <td>ja</td>\n",
       "      <td>16</td>\n",
       "      <td>52.504697</td>\n",
       "      <td>13.606394</td>\n",
       "    </tr>\n",
       "    <tr>\n",
       "      <th>2</th>\n",
       "      <td>Alt-Mahlsdorf</td>\n",
       "      <td>POINT (13.60253 52.50481)</td>\n",
       "      <td>Radwege</td>\n",
       "      <td>nein</td>\n",
       "      <td>510</td>\n",
       "      <td>52.504813</td>\n",
       "      <td>13.602532</td>\n",
       "    </tr>\n",
       "  </tbody>\n",
       "</table>\n",
       "</div>"
      ],
      "text/plain": [
       "     street_name                   geometry lane_type condition  length  \\\n",
       "0  Alt-Kaulsdorf  POINT (13.58237 52.50504)   Radwege        ja      26   \n",
       "1  Alt-Mahlsdorf   POINT (13.60639 52.5047)   Radwege        ja      16   \n",
       "2  Alt-Mahlsdorf  POINT (13.60253 52.50481)   Radwege      nein     510   \n",
       "\n",
       "    latitude  longitude  \n",
       "0  52.505039  13.582373  \n",
       "1  52.504697  13.606394  \n",
       "2  52.504813  13.602532  "
      ]
     },
     "execution_count": 16,
     "metadata": {},
     "output_type": "execute_result"
    }
   ],
   "source": [
    "gbr_selected = (\n",
    "    gbr.rename(columns={\n",
    "        \"stst_str\": \"street_name\",   # Straße name\n",
    "        \"b_pflicht\": \"condition\",    # Ja/Nein for designated bike path\n",
    "        \"laenge\": \"length\",          # Length in meters\n",
    "        \"rva_typ\": \"lane_type\",      # Type of bike lane\n",
    "    })[[\n",
    "        \"street_name\",\n",
    "        \"geometry\",\n",
    "        \"lane_type\",\n",
    "        \"condition\",\n",
    "        \"length\",\n",
    "        \"latitude\",\n",
    "        \"longitude\"\n",
    "    ]]\n",
    "    .copy()\n",
    ")\n",
    "\n",
    "print(\"✅ Radverkehrsanlagen columns selected and renamed:\")\n",
    "print(gbr_selected.columns.tolist())\n",
    "gbr_selected.head(3)"
   ]
  },
  {
   "cell_type": "markdown",
   "id": "76c4a6dc",
   "metadata": {},
   "source": [
    "#### Fahrradstraße Relevant Colunms for Comparison:"
   ]
  },
  {
   "cell_type": "code",
   "execution_count": 17,
   "id": "053a56a3",
   "metadata": {},
   "outputs": [
    {
     "name": "stdout",
     "output_type": "stream",
     "text": [
      "✅ Fahrradstraßen columns selected and renamed:\n",
      "['street_name', 'geometry', 'latitude', 'longitude']\n"
     ]
    },
    {
     "data": {
      "text/html": [
       "<div>\n",
       "<style scoped>\n",
       "    .dataframe tbody tr th:only-of-type {\n",
       "        vertical-align: middle;\n",
       "    }\n",
       "\n",
       "    .dataframe tbody tr th {\n",
       "        vertical-align: top;\n",
       "    }\n",
       "\n",
       "    .dataframe thead th {\n",
       "        text-align: right;\n",
       "    }\n",
       "</style>\n",
       "<table border=\"1\" class=\"dataframe\">\n",
       "  <thead>\n",
       "    <tr style=\"text-align: right;\">\n",
       "      <th></th>\n",
       "      <th>street_name</th>\n",
       "      <th>geometry</th>\n",
       "      <th>latitude</th>\n",
       "      <th>longitude</th>\n",
       "    </tr>\n",
       "  </thead>\n",
       "  <tbody>\n",
       "    <tr>\n",
       "      <th>0</th>\n",
       "      <td>Alberichstraße</td>\n",
       "      <td>POINT (13.55807 52.48607)</td>\n",
       "      <td>52.486073</td>\n",
       "      <td>13.558070</td>\n",
       "    </tr>\n",
       "    <tr>\n",
       "      <th>1</th>\n",
       "      <td>Norwegerstraße</td>\n",
       "      <td>POINT (13.39943 52.55279)</td>\n",
       "      <td>52.552792</td>\n",
       "      <td>13.399429</td>\n",
       "    </tr>\n",
       "    <tr>\n",
       "      <th>2</th>\n",
       "      <td>Schwedter Straße</td>\n",
       "      <td>POINT (13.40076 52.54785)</td>\n",
       "      <td>52.547852</td>\n",
       "      <td>13.400758</td>\n",
       "    </tr>\n",
       "  </tbody>\n",
       "</table>\n",
       "</div>"
      ],
      "text/plain": [
       "        street_name                   geometry   latitude  longitude\n",
       "0    Alberichstraße  POINT (13.55807 52.48607)  52.486073  13.558070\n",
       "1    Norwegerstraße  POINT (13.39943 52.55279)  52.552792  13.399429\n",
       "2  Schwedter Straße  POINT (13.40076 52.54785)  52.547852  13.400758"
      ]
     },
     "execution_count": 17,
     "metadata": {},
     "output_type": "execute_result"
    }
   ],
   "source": [
    "gbf_selected = (\n",
    "    gbf.rename(columns={\n",
    "        \"strasse\": \"street_name\",\n",
    "    })[[\n",
    "        \"street_name\",\n",
    "        \"geometry\",\n",
    "        \"latitude\",\n",
    "        \"longitude\"\n",
    "    ]]\n",
    "    .copy()\n",
    ")\n",
    "\n",
    "print(\"✅ Fahrradstraßen columns selected and renamed:\")\n",
    "print(gbf_selected.columns.tolist())\n",
    "gbf_selected.head(3)"
   ]
  },
  {
   "cell_type": "code",
   "execution_count": 18,
   "id": "bbf925e4",
   "metadata": {},
   "outputs": [
    {
     "name": "stdout",
     "output_type": "stream",
     "text": [
      "OSM records: 78865\n",
      "GBR records: 18641\n",
      "GBF records: 57\n"
     ]
    }
   ],
   "source": [
    "print(\"OSM records:\", len(osm_selected))\n",
    "print(\"GBR records:\", len(gbr_selected))\n",
    "print(\"GBF records:\", len(gbf_selected))"
   ]
  },
  {
   "cell_type": "markdown",
   "id": "94ee5d68",
   "metadata": {},
   "source": [
    "## 3. Comparing Data Coverage Between OSM & Geoportal Berlin Datasets"
   ]
  },
  {
   "cell_type": "markdown",
   "id": "e29a71df",
   "metadata": {},
   "source": [
    "**Note:** \n",
    "This is a geometry and name based cross check which will help to verify the accuracy of the OSM dataset.\n",
    "\n"
   ]
  },
  {
   "cell_type": "markdown",
   "id": "cd3bbcc1",
   "metadata": {},
   "source": [
    "#### Step 1: **Temporarily** project to metric crs for accurate distance calculations"
   ]
  },
  {
   "cell_type": "code",
   "execution_count": 19,
   "id": "08907e91",
   "metadata": {},
   "outputs": [],
   "source": [
    "osm_m = osm_selected.to_crs(epsg=25833)\n",
    "gbr_m = gbr_selected.to_crs(epsg=25833)\n",
    "gbf_m = gbf_selected.to_crs(epsg=25833)\n"
   ]
  },
  {
   "cell_type": "markdown",
   "id": "d87fbacb",
   "metadata": {},
   "source": [
    "#### Step 2: Identify duplicatues using a nearest-neighbor spatial join"
   ]
  },
  {
   "cell_type": "code",
   "execution_count": 20,
   "id": "9c1b38b1",
   "metadata": {},
   "outputs": [],
   "source": [
    "# GBR\n",
    "gbr_to_osm = sjoin_nearest(\n",
    "    gbr_m,\n",
    "    osm_m[[\"geometry\", \"street_name\"]],\n",
    "    how=\"left\",\n",
    "    distance_col=\"distance_m\"\n",
    ")\n",
    "gbr_to_osm[\"is_duplicate\"] = (\n",
    "    (gbr_to_osm[\"distance_m\"] <= 50) &\n",
    "    (gbr_to_osm[\"street_name_left\"].str.lower().fillna(\"\") ==\n",
    "     gbr_to_osm[\"street_name_right\"].str.lower().fillna(\"\"))\n",
    ")\n",
    "\n",
    "# GBF\n",
    "gbf_to_osm = sjoin_nearest(\n",
    "    gbf_m,\n",
    "    osm_m[[\"geometry\", \"street_name\"]],\n",
    "    how=\"left\",\n",
    "    distance_col=\"distance_m\"\n",
    ")\n",
    "gbf_to_osm[\"is_duplicate\"] = (\n",
    "    (gbf_to_osm[\"distance_m\"] <= 50) &\n",
    "    (gbf_to_osm[\"street_name_left\"].str.lower().fillna(\"\") ==\n",
    "     gbf_to_osm[\"street_name_right\"].str.lower().fillna(\"\"))\n",
    ")"
   ]
  },
  {
   "cell_type": "markdown",
   "id": "4f200e99",
   "metadata": {},
   "source": [
    "#### Step 3: Extract the missing features from Radverkehrsanlagen and Fahrradstraße"
   ]
  },
  {
   "cell_type": "markdown",
   "id": "5a326cef",
   "metadata": {},
   "source": [
    "1 - Ensure alignment by resetting indices"
   ]
  },
  {
   "cell_type": "code",
   "execution_count": 21,
   "id": "c81cb5a5",
   "metadata": {},
   "outputs": [],
   "source": [
    "osm_selected = osm_selected.reset_index(drop=True)\n",
    "gbr_selected = gbr_selected.reset_index(drop=True)\n",
    "gbf_selected = gbf_selected.reset_index(drop=True)"
   ]
  },
  {
   "cell_type": "markdown",
   "id": "d2d5c2be",
   "metadata": {},
   "source": [
    "2 - Flagging the duplicates from the Geoportal Berlin datasets"
   ]
  },
  {
   "cell_type": "code",
   "execution_count": 22,
   "id": "e2f4665c",
   "metadata": {},
   "outputs": [],
   "source": [
    "gbr_selected[\"is_duplicate\"] = gbr_to_osm[\"is_duplicate\"].reset_index(drop=True)\n",
    "gbf_selected[\"is_duplicate\"] = gbf_to_osm[\"is_duplicate\"].reset_index(drop=True)"
   ]
  },
  {
   "cell_type": "markdown",
   "id": "90625c94",
   "metadata": {},
   "source": [
    "3 - Filtering out only the missing features"
   ]
  },
  {
   "cell_type": "code",
   "execution_count": 23,
   "id": "dea4f9ff",
   "metadata": {},
   "outputs": [],
   "source": [
    "gbr_missing = gbr_selected.loc[~gbr_selected[\"is_duplicate\"]].copy()\n",
    "gbf_missing = gbf_selected.loc[~gbf_selected[\"is_duplicate\"]].copy()"
   ]
  },
  {
   "cell_type": "markdown",
   "id": "b2a11579",
   "metadata": {},
   "source": [
    "4 - Dropping the support column"
   ]
  },
  {
   "cell_type": "code",
   "execution_count": 24,
   "id": "6228d248",
   "metadata": {},
   "outputs": [],
   "source": [
    "gbr_missing = gbr_missing.drop(columns=\"is_duplicate\")\n",
    "gbf_missing = gbf_missing.drop(columns=\"is_duplicate\")"
   ]
  },
  {
   "cell_type": "markdown",
   "id": "0f6811c9",
   "metadata": {},
   "source": [
    "5 - Checking the results"
   ]
  },
  {
   "cell_type": "code",
   "execution_count": 25,
   "id": "853fc912",
   "metadata": {},
   "outputs": [
    {
     "name": "stdout",
     "output_type": "stream",
     "text": [
      "New GBR lanes to add: 9470\n",
      "New GBF lanes to add: 39\n"
     ]
    }
   ],
   "source": [
    "print(\"New GBR lanes to add:\", len(gbr_missing))\n",
    "print(\"New GBF lanes to add:\", len(gbf_missing))"
   ]
  },
  {
   "cell_type": "markdown",
   "id": "3beef87f",
   "metadata": {},
   "source": [
    "#### Step 4: Merging the missing featurs from Geoprotal Berlin to the OSM base layer"
   ]
  },
  {
   "cell_type": "code",
   "execution_count": 26,
   "id": "033ac9f4",
   "metadata": {},
   "outputs": [],
   "source": [
    "from shapely.geometry import Point\n",
    "\n",
    "def convert_to_point(gdf):\n",
    "    \"\"\"Convert all geometries to POINT and keep longitude/latitude.\"\"\"\n",
    "    gdf = gdf.to_crs(epsg=4326).copy()\n",
    "    gdf[\"geometry\"] = gdf[\"geometry\"].apply(\n",
    "        lambda geom: geom if geom.geom_type == \"Point\" else geom.representative_point()\n",
    "    )\n",
    "    gdf[\"latitude\"] = gdf.geometry.y\n",
    "    gdf[\"longitude\"] = gdf.geometry.x\n",
    "    return gdf"
   ]
  },
  {
   "cell_type": "markdown",
   "id": "f0c4e648",
   "metadata": {},
   "source": [
    "2 - convert missing features to \"Point\""
   ]
  },
  {
   "cell_type": "code",
   "execution_count": 27,
   "id": "365ebc8e",
   "metadata": {},
   "outputs": [],
   "source": [
    "gbr_missing_points = convert_to_point(gbr_missing)\n",
    "gbf_missing_points = convert_to_point(gbf_missing)\n",
    "osm_points = convert_to_point(osm_selected)"
   ]
  },
  {
   "cell_type": "markdown",
   "id": "d1a484ab",
   "metadata": {},
   "source": [
    "3 - Keep only the relevant columns for the final table"
   ]
  },
  {
   "cell_type": "code",
   "execution_count": 28,
   "id": "9cd40ec5",
   "metadata": {},
   "outputs": [],
   "source": [
    "gbr_cols = [\"street_name\", \"geometry\", \"lane_type\", \"condition\", \"length\", \"latitude\", \"longitude\"]\n",
    "gbf_cols = [\"street_name\", \"geometry\", \"latitude\", \"longitude\"]  \n",
    "osm_cols = [\"bikelane_id\", \"street_name\", \"geometry\", \"cycleway\", \"condition\", \"surface\", \"highway\", \"latitude\", \"longitude\"]\n",
    "\n",
    "gbr_missing_points = gbr_missing_points[gbr_cols]\n",
    "gbf_missing_points = gbf_missing_points[gbf_cols]\n",
    "osm_points = osm_points[osm_cols]"
   ]
  },
  {
   "cell_type": "markdown",
   "id": "3f6cfc72",
   "metadata": {},
   "source": [
    "## 4. Create an Initial Single Unified Dataset\n",
    "\n",
    "**Note:** This is an initial unification, further transformations will be made where there will have to be other integrations into the table"
   ]
  },
  {
   "cell_type": "markdown",
   "id": "0d91cdb6",
   "metadata": {},
   "source": [
    "### Align columns for concatenation"
   ]
  },
  {
   "cell_type": "code",
   "execution_count": 30,
   "id": "47f67381",
   "metadata": {},
   "outputs": [],
   "source": [
    "final_columns = [\n",
    "    \"bikelane_id\", \"street_name\", \"geometry\", \"cycleway\",\n",
    "    \"condition\", \"surface\", \"highway\", \"lane_type\", \"length\",\n",
    "    \"latitude\", \"longitude\"\n",
    "]"
   ]
  },
  {
   "cell_type": "markdown",
   "id": "d898053c",
   "metadata": {},
   "source": [
    "### Ensure all datas have the same columns"
   ]
  },
  {
   "cell_type": "code",
   "execution_count": 31,
   "id": "0b1958db",
   "metadata": {},
   "outputs": [],
   "source": [
    "def align_columns(gdf, columns):\n",
    "    for col in columns:\n",
    "        if col not in gdf.columns:\n",
    "            gdf[col] = None  # Fill missing columns with None\n",
    "    return gdf[columns]\n",
    "\n",
    "osm_aligned = align_columns(osm_points, final_columns)\n",
    "gbr_aligned = align_columns(gbr_missing_points, final_columns)\n",
    "gbf_aligned = align_columns(gbf_missing_points, final_columns)"
   ]
  },
  {
   "cell_type": "markdown",
   "id": "970b5566",
   "metadata": {},
   "source": [
    "### Concatenate the datasets"
   ]
  },
  {
   "cell_type": "code",
   "execution_count": 32,
   "id": "c7dd7ae5",
   "metadata": {},
   "outputs": [],
   "source": [
    "osm_aligned = osm_aligned.loc[:, ~osm_aligned.columns.duplicated()]\n",
    "gbr_aligned = gbr_aligned.loc[:, ~gbr_aligned.columns.duplicated()]\n",
    "gbf_aligned = gbf_aligned.loc[:, ~gbf_aligned.columns.duplicated()]"
   ]
  },
  {
   "cell_type": "code",
   "execution_count": 33,
   "id": "012cc575",
   "metadata": {},
   "outputs": [],
   "source": [
    "bike_lanes_final = pd.concat([osm_aligned, gbr_aligned, gbf_aligned], ignore_index=True)"
   ]
  },
  {
   "cell_type": "code",
   "execution_count": 34,
   "id": "b6b1f714",
   "metadata": {},
   "outputs": [
    {
     "name": "stdout",
     "output_type": "stream",
     "text": [
      "✅ Final unified dataset shape: (88374, 11)\n",
      "✅ Columns: ['bikelane_id', 'street_name', 'geometry', 'cycleway', 'condition', 'surface', 'highway', 'lane_type', 'length', 'latitude', 'longitude']\n"
     ]
    },
    {
     "data": {
      "text/html": [
       "<div>\n",
       "<style scoped>\n",
       "    .dataframe tbody tr th:only-of-type {\n",
       "        vertical-align: middle;\n",
       "    }\n",
       "\n",
       "    .dataframe tbody tr th {\n",
       "        vertical-align: top;\n",
       "    }\n",
       "\n",
       "    .dataframe thead th {\n",
       "        text-align: right;\n",
       "    }\n",
       "</style>\n",
       "<table border=\"1\" class=\"dataframe\">\n",
       "  <thead>\n",
       "    <tr style=\"text-align: right;\">\n",
       "      <th></th>\n",
       "      <th>bikelane_id</th>\n",
       "      <th>street_name</th>\n",
       "      <th>geometry</th>\n",
       "      <th>cycleway</th>\n",
       "      <th>condition</th>\n",
       "      <th>surface</th>\n",
       "      <th>highway</th>\n",
       "      <th>lane_type</th>\n",
       "      <th>length</th>\n",
       "      <th>latitude</th>\n",
       "      <th>longitude</th>\n",
       "    </tr>\n",
       "  </thead>\n",
       "  <tbody>\n",
       "    <tr>\n",
       "      <th>0</th>\n",
       "      <td>way/43998936</td>\n",
       "      <td>Fritz-Lang-Platz</td>\n",
       "      <td>POINT (13.60276 52.53761)</td>\n",
       "      <td>None</td>\n",
       "      <td>None</td>\n",
       "      <td>asphalt</td>\n",
       "      <td>residential</td>\n",
       "      <td>None</td>\n",
       "      <td>None</td>\n",
       "      <td>52.537608</td>\n",
       "      <td>13.602761</td>\n",
       "    </tr>\n",
       "    <tr>\n",
       "      <th>1</th>\n",
       "      <td>way/517805554</td>\n",
       "      <td>None</td>\n",
       "      <td>POINT (13.46352 52.47109)</td>\n",
       "      <td>no</td>\n",
       "      <td>None</td>\n",
       "      <td>paving_stones</td>\n",
       "      <td>service</td>\n",
       "      <td>None</td>\n",
       "      <td>None</td>\n",
       "      <td>52.471086</td>\n",
       "      <td>13.463522</td>\n",
       "    </tr>\n",
       "    <tr>\n",
       "      <th>2</th>\n",
       "      <td>way/1186003574</td>\n",
       "      <td>None</td>\n",
       "      <td>POINT (13.34616 52.58975)</td>\n",
       "      <td>lane</td>\n",
       "      <td>None</td>\n",
       "      <td>None</td>\n",
       "      <td>None</td>\n",
       "      <td>None</td>\n",
       "      <td>None</td>\n",
       "      <td>52.589748</td>\n",
       "      <td>13.346163</td>\n",
       "    </tr>\n",
       "    <tr>\n",
       "      <th>3</th>\n",
       "      <td>way/1186011275</td>\n",
       "      <td>None</td>\n",
       "      <td>POINT (13.34579 52.58965)</td>\n",
       "      <td>lane</td>\n",
       "      <td>None</td>\n",
       "      <td>None</td>\n",
       "      <td>None</td>\n",
       "      <td>None</td>\n",
       "      <td>None</td>\n",
       "      <td>52.589653</td>\n",
       "      <td>13.345786</td>\n",
       "    </tr>\n",
       "    <tr>\n",
       "      <th>4</th>\n",
       "      <td>way/1187324842</td>\n",
       "      <td>None</td>\n",
       "      <td>POINT (13.42564 52.48771)</td>\n",
       "      <td>crossing</td>\n",
       "      <td>None</td>\n",
       "      <td>None</td>\n",
       "      <td>None</td>\n",
       "      <td>None</td>\n",
       "      <td>None</td>\n",
       "      <td>52.487710</td>\n",
       "      <td>13.425639</td>\n",
       "    </tr>\n",
       "  </tbody>\n",
       "</table>\n",
       "</div>"
      ],
      "text/plain": [
       "      bikelane_id       street_name                   geometry  cycleway  \\\n",
       "0    way/43998936  Fritz-Lang-Platz  POINT (13.60276 52.53761)      None   \n",
       "1   way/517805554              None  POINT (13.46352 52.47109)        no   \n",
       "2  way/1186003574              None  POINT (13.34616 52.58975)      lane   \n",
       "3  way/1186011275              None  POINT (13.34579 52.58965)      lane   \n",
       "4  way/1187324842              None  POINT (13.42564 52.48771)  crossing   \n",
       "\n",
       "  condition        surface      highway lane_type length   latitude  longitude  \n",
       "0      None        asphalt  residential      None   None  52.537608  13.602761  \n",
       "1      None  paving_stones      service      None   None  52.471086  13.463522  \n",
       "2      None           None         None      None   None  52.589748  13.346163  \n",
       "3      None           None         None      None   None  52.589653  13.345786  \n",
       "4      None           None         None      None   None  52.487710  13.425639  "
      ]
     },
     "execution_count": 34,
     "metadata": {},
     "output_type": "execute_result"
    }
   ],
   "source": [
    "print(\"✅ Final unified dataset shape:\", bike_lanes_final.shape)\n",
    "print(\"✅ Columns:\", bike_lanes_final.columns.tolist())\n",
    "bike_lanes_final.head(5)"
   ]
  },
  {
   "cell_type": "markdown",
   "id": "51828cc0",
   "metadata": {},
   "source": [
    "## 5. Inspecting the Preliminary table"
   ]
  },
  {
   "cell_type": "markdown",
   "id": "27570110",
   "metadata": {},
   "source": [
    "### Ensuring CRS is `epsg=4326`"
   ]
  },
  {
   "cell_type": "code",
   "execution_count": 35,
   "id": "fc618ff1",
   "metadata": {},
   "outputs": [],
   "source": [
    "bike_lanes_final = bike_lanes_final.set_geometry(\"geometry\").to_crs(epsg=4326)"
   ]
  },
  {
   "cell_type": "markdown",
   "id": "6c79f6dd",
   "metadata": {},
   "source": [
    "### Ensure all geometries are POINT"
   ]
  },
  {
   "cell_type": "code",
   "execution_count": 36,
   "id": "3bf86386",
   "metadata": {},
   "outputs": [],
   "source": [
    "bike_lanes_final[\"geometry\"] = bike_lanes_final[\"geometry\"].apply(\n",
    "    lambda geom: geom if geom.geom_type == \"Point\" else geom.representative_point()\n",
    ")"
   ]
  },
  {
   "cell_type": "markdown",
   "id": "c0d8cf79",
   "metadata": {},
   "source": [
    "### Confirm that Longitude and Latitude have been Extracted from the Geometry"
   ]
  },
  {
   "cell_type": "code",
   "execution_count": 37,
   "id": "d8e1d61a",
   "metadata": {},
   "outputs": [],
   "source": [
    "bike_lanes_final[\"latitude\"] = bike_lanes_final.geometry.y\n",
    "bike_lanes_final[\"longitude\"] = bike_lanes_final.geometry.x"
   ]
  },
  {
   "cell_type": "markdown",
   "id": "e9ce7975",
   "metadata": {},
   "source": [
    "### Quick Confirmation of Table"
   ]
  },
  {
   "cell_type": "code",
   "execution_count": 38,
   "id": "03d86845",
   "metadata": {},
   "outputs": [
    {
     "name": "stdout",
     "output_type": "stream",
     "text": [
      "✅ Final dataset ready for ERD/database\n",
      "Shape: (88374, 11)\n",
      "      bikelane_id       street_name   latitude  longitude\n",
      "0    way/43998936  Fritz-Lang-Platz  52.537608  13.602761\n",
      "1   way/517805554              None  52.471086  13.463522\n",
      "2  way/1186003574              None  52.589748  13.346163\n",
      "3  way/1186011275              None  52.589653  13.345786\n",
      "4  way/1187324842              None  52.487710  13.425639\n"
     ]
    }
   ],
   "source": [
    "print(\"✅ Final dataset ready for ERD/database\")\n",
    "print(\"Shape:\", bike_lanes_final.shape)\n",
    "print(bike_lanes_final[[\"bikelane_id\", \"street_name\", \"latitude\", \"longitude\"]].head())"
   ]
  },
  {
   "cell_type": "code",
   "execution_count": 39,
   "id": "3d493018",
   "metadata": {},
   "outputs": [
    {
     "name": "stdout",
     "output_type": "stream",
     "text": [
      "<class 'geopandas.geodataframe.GeoDataFrame'>\n",
      "RangeIndex: 88374 entries, 0 to 88373\n",
      "Data columns (total 11 columns):\n",
      " #   Column       Non-Null Count  Dtype   \n",
      "---  ------       --------------  -----   \n",
      " 0   bikelane_id  78865 non-null  object  \n",
      " 1   street_name  75437 non-null  object  \n",
      " 2   geometry     88374 non-null  geometry\n",
      " 3   cycleway     6479 non-null   object  \n",
      " 4   condition    9471 non-null   object  \n",
      " 5   surface      76376 non-null  object  \n",
      " 6   highway      78854 non-null  object  \n",
      " 7   lane_type    9470 non-null   object  \n",
      " 8   length       9470 non-null   object  \n",
      " 9   latitude     88374 non-null  float64 \n",
      " 10  longitude    88374 non-null  float64 \n",
      "dtypes: float64(2), geometry(1), object(8)\n",
      "memory usage: 7.4+ MB\n"
     ]
    }
   ],
   "source": [
    "bike_lanes_final.info()"
   ]
  },
  {
   "cell_type": "markdown",
   "id": "6b06e3a4",
   "metadata": {},
   "source": [
    "## 6. Data Summary & Identifying Null Values"
   ]
  },
  {
   "cell_type": "markdown",
   "id": "6633e490",
   "metadata": {},
   "source": [
    "### Initial Summary Table"
   ]
  },
  {
   "cell_type": "code",
   "execution_count": 40,
   "id": "d5001d78",
   "metadata": {},
   "outputs": [
    {
     "name": "stdout",
     "output_type": "stream",
     "text": [
      "         column  total_rows  num_unique  num_nulls  num_non_null_values\n",
      "0   bikelane_id       88374       78865       9509                78865\n",
      "1   street_name       88374        8470      12937                75437\n",
      "2      geometry       88374       84822          0                88374\n",
      "3      cycleway       88374          15      81895                 6479\n",
      "4     condition       88374           3      78903                 9471\n",
      "5       surface       88374          30      11998                76376\n",
      "6       highway       88374          23       9520                78854\n",
      "7     lane_type       88374           4      78904                 9470\n",
      "8        length       88374         651      78904                 9470\n",
      "9      latitude       88374       83382          0                88374\n",
      "10    longitude       88374       84116          0                88374\n"
     ]
    }
   ],
   "source": [
    "summary_data = []\n",
    "\n",
    "# Total number of rows\n",
    "total_rows = len(bike_lanes_final)\n",
    "\n",
    "# Loop through each column\n",
    "for col in bike_lanes_final.columns:\n",
    "    num_nulls = bike_lanes_final[col].isna().sum()\n",
    "    num_unique = bike_lanes_final[col].nunique()\n",
    "    num_non_null_values = total_rows - num_nulls\n",
    "    summary_data.append({\n",
    "        \"column\": col,\n",
    "        \"total_rows\": total_rows,\n",
    "        \"num_unique\": num_unique,\n",
    "        \"num_nulls\": num_nulls,\n",
    "        \"num_non_null_values\": num_non_null_values\n",
    "    })\n",
    "\n",
    "# Convert to DataFrame\n",
    "eda_summary = pd.DataFrame(summary_data)\n",
    "\n",
    "# Display\n",
    "print(eda_summary)"
   ]
  },
  {
   "cell_type": "markdown",
   "id": "be6edd52",
   "metadata": {},
   "source": [
    "### A Closer Look at Null Values"
   ]
  },
  {
   "cell_type": "markdown",
   "id": "2369fa43",
   "metadata": {},
   "source": [
    "#### Missing `bikelane_id`"
   ]
  },
  {
   "cell_type": "code",
   "execution_count": 41,
   "id": "c73b8243",
   "metadata": {},
   "outputs": [
    {
     "name": "stdout",
     "output_type": "stream",
     "text": [
      "Number of missing bikelane_id: 9509\n"
     ]
    },
    {
     "data": {
      "text/html": [
       "<div>\n",
       "<style scoped>\n",
       "    .dataframe tbody tr th:only-of-type {\n",
       "        vertical-align: middle;\n",
       "    }\n",
       "\n",
       "    .dataframe tbody tr th {\n",
       "        vertical-align: top;\n",
       "    }\n",
       "\n",
       "    .dataframe thead th {\n",
       "        text-align: right;\n",
       "    }\n",
       "</style>\n",
       "<table border=\"1\" class=\"dataframe\">\n",
       "  <thead>\n",
       "    <tr style=\"text-align: right;\">\n",
       "      <th></th>\n",
       "      <th>bikelane_id</th>\n",
       "      <th>street_name</th>\n",
       "      <th>geometry</th>\n",
       "      <th>cycleway</th>\n",
       "      <th>condition</th>\n",
       "      <th>surface</th>\n",
       "      <th>highway</th>\n",
       "      <th>lane_type</th>\n",
       "      <th>length</th>\n",
       "      <th>latitude</th>\n",
       "      <th>longitude</th>\n",
       "    </tr>\n",
       "  </thead>\n",
       "  <tbody>\n",
       "    <tr>\n",
       "      <th>78865</th>\n",
       "      <td>None</td>\n",
       "      <td>Alt-Kaulsdorf</td>\n",
       "      <td>POINT (13.58237 52.50504)</td>\n",
       "      <td>None</td>\n",
       "      <td>ja</td>\n",
       "      <td>None</td>\n",
       "      <td>None</td>\n",
       "      <td>Radwege</td>\n",
       "      <td>26</td>\n",
       "      <td>52.505039</td>\n",
       "      <td>13.582373</td>\n",
       "    </tr>\n",
       "    <tr>\n",
       "      <th>78866</th>\n",
       "      <td>None</td>\n",
       "      <td>Alt-Mahlsdorf</td>\n",
       "      <td>POINT (13.60253 52.50481)</td>\n",
       "      <td>None</td>\n",
       "      <td>nein</td>\n",
       "      <td>None</td>\n",
       "      <td>None</td>\n",
       "      <td>Radwege</td>\n",
       "      <td>510</td>\n",
       "      <td>52.504813</td>\n",
       "      <td>13.602532</td>\n",
       "    </tr>\n",
       "    <tr>\n",
       "      <th>78867</th>\n",
       "      <td>None</td>\n",
       "      <td>Tychyer Straße</td>\n",
       "      <td>POINT (13.56535 52.50716)</td>\n",
       "      <td>None</td>\n",
       "      <td>nein</td>\n",
       "      <td>None</td>\n",
       "      <td>None</td>\n",
       "      <td>Schutzstreifen</td>\n",
       "      <td>15</td>\n",
       "      <td>52.507164</td>\n",
       "      <td>13.565349</td>\n",
       "    </tr>\n",
       "    <tr>\n",
       "      <th>78868</th>\n",
       "      <td>None</td>\n",
       "      <td>Alt-Biesdorf</td>\n",
       "      <td>POINT (13.56726 52.5067)</td>\n",
       "      <td>None</td>\n",
       "      <td>ja</td>\n",
       "      <td>None</td>\n",
       "      <td>None</td>\n",
       "      <td>Radwege</td>\n",
       "      <td>216</td>\n",
       "      <td>52.506698</td>\n",
       "      <td>13.567265</td>\n",
       "    </tr>\n",
       "    <tr>\n",
       "      <th>78869</th>\n",
       "      <td>None</td>\n",
       "      <td>Alt-Biesdorf</td>\n",
       "      <td>POINT (13.56861 52.50633)</td>\n",
       "      <td>None</td>\n",
       "      <td>ja</td>\n",
       "      <td>None</td>\n",
       "      <td>None</td>\n",
       "      <td>Radwege</td>\n",
       "      <td>34</td>\n",
       "      <td>52.506328</td>\n",
       "      <td>13.568612</td>\n",
       "    </tr>\n",
       "    <tr>\n",
       "      <th>78870</th>\n",
       "      <td>None</td>\n",
       "      <td>Apollofalterallee</td>\n",
       "      <td>POINT (13.5687 52.50622)</td>\n",
       "      <td>None</td>\n",
       "      <td>nein</td>\n",
       "      <td>None</td>\n",
       "      <td>None</td>\n",
       "      <td>Radwege</td>\n",
       "      <td>20</td>\n",
       "      <td>52.506215</td>\n",
       "      <td>13.568702</td>\n",
       "    </tr>\n",
       "    <tr>\n",
       "      <th>78871</th>\n",
       "      <td>None</td>\n",
       "      <td>Alt-Biesdorf</td>\n",
       "      <td>POINT (13.57144 52.50555)</td>\n",
       "      <td>None</td>\n",
       "      <td>ja</td>\n",
       "      <td>None</td>\n",
       "      <td>None</td>\n",
       "      <td>Radwege</td>\n",
       "      <td>96</td>\n",
       "      <td>52.505555</td>\n",
       "      <td>13.571442</td>\n",
       "    </tr>\n",
       "    <tr>\n",
       "      <th>78872</th>\n",
       "      <td>None</td>\n",
       "      <td>Alt-Biesdorf</td>\n",
       "      <td>POINT (13.57261 52.5053)</td>\n",
       "      <td>None</td>\n",
       "      <td>ja</td>\n",
       "      <td>None</td>\n",
       "      <td>None</td>\n",
       "      <td>Radwege</td>\n",
       "      <td>34</td>\n",
       "      <td>52.505302</td>\n",
       "      <td>13.572610</td>\n",
       "    </tr>\n",
       "    <tr>\n",
       "      <th>78873</th>\n",
       "      <td>None</td>\n",
       "      <td>Alt-Biesdorf</td>\n",
       "      <td>POINT (13.57325 52.5052)</td>\n",
       "      <td>None</td>\n",
       "      <td>ja</td>\n",
       "      <td>None</td>\n",
       "      <td>None</td>\n",
       "      <td>Radwege</td>\n",
       "      <td>79</td>\n",
       "      <td>52.505198</td>\n",
       "      <td>13.573254</td>\n",
       "    </tr>\n",
       "    <tr>\n",
       "      <th>78874</th>\n",
       "      <td>None</td>\n",
       "      <td>Alt-Biesdorf</td>\n",
       "      <td>POINT (13.57375 52.50516)</td>\n",
       "      <td>None</td>\n",
       "      <td>ja</td>\n",
       "      <td>None</td>\n",
       "      <td>None</td>\n",
       "      <td>Radwege</td>\n",
       "      <td>9</td>\n",
       "      <td>52.505162</td>\n",
       "      <td>13.573752</td>\n",
       "    </tr>\n",
       "  </tbody>\n",
       "</table>\n",
       "</div>"
      ],
      "text/plain": [
       "      bikelane_id        street_name                   geometry cycleway  \\\n",
       "78865        None      Alt-Kaulsdorf  POINT (13.58237 52.50504)     None   \n",
       "78866        None      Alt-Mahlsdorf  POINT (13.60253 52.50481)     None   \n",
       "78867        None     Tychyer Straße  POINT (13.56535 52.50716)     None   \n",
       "78868        None       Alt-Biesdorf   POINT (13.56726 52.5067)     None   \n",
       "78869        None       Alt-Biesdorf  POINT (13.56861 52.50633)     None   \n",
       "78870        None  Apollofalterallee   POINT (13.5687 52.50622)     None   \n",
       "78871        None       Alt-Biesdorf  POINT (13.57144 52.50555)     None   \n",
       "78872        None       Alt-Biesdorf   POINT (13.57261 52.5053)     None   \n",
       "78873        None       Alt-Biesdorf   POINT (13.57325 52.5052)     None   \n",
       "78874        None       Alt-Biesdorf  POINT (13.57375 52.50516)     None   \n",
       "\n",
       "      condition surface highway       lane_type length   latitude  longitude  \n",
       "78865        ja    None    None         Radwege     26  52.505039  13.582373  \n",
       "78866      nein    None    None         Radwege    510  52.504813  13.602532  \n",
       "78867      nein    None    None  Schutzstreifen     15  52.507164  13.565349  \n",
       "78868        ja    None    None         Radwege    216  52.506698  13.567265  \n",
       "78869        ja    None    None         Radwege     34  52.506328  13.568612  \n",
       "78870      nein    None    None         Radwege     20  52.506215  13.568702  \n",
       "78871        ja    None    None         Radwege     96  52.505555  13.571442  \n",
       "78872        ja    None    None         Radwege     34  52.505302  13.572610  \n",
       "78873        ja    None    None         Radwege     79  52.505198  13.573254  \n",
       "78874        ja    None    None         Radwege      9  52.505162  13.573752  "
      ]
     },
     "execution_count": 41,
     "metadata": {},
     "output_type": "execute_result"
    }
   ],
   "source": [
    "missing_bikelane_id = bike_lanes_final[bike_lanes_final[\"bikelane_id\"].isna()]\n",
    "print(\"Number of missing bikelane_id:\", len(missing_bikelane_id))\n",
    "missing_bikelane_id.head(10)"
   ]
  },
  {
   "cell_type": "markdown",
   "id": "b3203c04",
   "metadata": {},
   "source": [
    "#### Missing `street_name`"
   ]
  },
  {
   "cell_type": "code",
   "execution_count": 42,
   "id": "c8d1678a",
   "metadata": {},
   "outputs": [
    {
     "name": "stdout",
     "output_type": "stream",
     "text": [
      "Number of missing street names: 12937\n"
     ]
    },
    {
     "data": {
      "text/html": [
       "<div>\n",
       "<style scoped>\n",
       "    .dataframe tbody tr th:only-of-type {\n",
       "        vertical-align: middle;\n",
       "    }\n",
       "\n",
       "    .dataframe tbody tr th {\n",
       "        vertical-align: top;\n",
       "    }\n",
       "\n",
       "    .dataframe thead th {\n",
       "        text-align: right;\n",
       "    }\n",
       "</style>\n",
       "<table border=\"1\" class=\"dataframe\">\n",
       "  <thead>\n",
       "    <tr style=\"text-align: right;\">\n",
       "      <th></th>\n",
       "      <th>bikelane_id</th>\n",
       "      <th>street_name</th>\n",
       "      <th>geometry</th>\n",
       "      <th>cycleway</th>\n",
       "      <th>condition</th>\n",
       "      <th>surface</th>\n",
       "      <th>highway</th>\n",
       "      <th>lane_type</th>\n",
       "      <th>length</th>\n",
       "      <th>latitude</th>\n",
       "      <th>longitude</th>\n",
       "    </tr>\n",
       "  </thead>\n",
       "  <tbody>\n",
       "    <tr>\n",
       "      <th>1</th>\n",
       "      <td>way/517805554</td>\n",
       "      <td>None</td>\n",
       "      <td>POINT (13.46352 52.47109)</td>\n",
       "      <td>no</td>\n",
       "      <td>None</td>\n",
       "      <td>paving_stones</td>\n",
       "      <td>service</td>\n",
       "      <td>None</td>\n",
       "      <td>None</td>\n",
       "      <td>52.471086</td>\n",
       "      <td>13.463522</td>\n",
       "    </tr>\n",
       "    <tr>\n",
       "      <th>2</th>\n",
       "      <td>way/1186003574</td>\n",
       "      <td>None</td>\n",
       "      <td>POINT (13.34616 52.58975)</td>\n",
       "      <td>lane</td>\n",
       "      <td>None</td>\n",
       "      <td>None</td>\n",
       "      <td>None</td>\n",
       "      <td>None</td>\n",
       "      <td>None</td>\n",
       "      <td>52.589748</td>\n",
       "      <td>13.346163</td>\n",
       "    </tr>\n",
       "    <tr>\n",
       "      <th>3</th>\n",
       "      <td>way/1186011275</td>\n",
       "      <td>None</td>\n",
       "      <td>POINT (13.34579 52.58965)</td>\n",
       "      <td>lane</td>\n",
       "      <td>None</td>\n",
       "      <td>None</td>\n",
       "      <td>None</td>\n",
       "      <td>None</td>\n",
       "      <td>None</td>\n",
       "      <td>52.589653</td>\n",
       "      <td>13.345786</td>\n",
       "    </tr>\n",
       "    <tr>\n",
       "      <th>4</th>\n",
       "      <td>way/1187324842</td>\n",
       "      <td>None</td>\n",
       "      <td>POINT (13.42564 52.48771)</td>\n",
       "      <td>crossing</td>\n",
       "      <td>None</td>\n",
       "      <td>None</td>\n",
       "      <td>None</td>\n",
       "      <td>None</td>\n",
       "      <td>None</td>\n",
       "      <td>52.487710</td>\n",
       "      <td>13.425639</td>\n",
       "    </tr>\n",
       "    <tr>\n",
       "      <th>364</th>\n",
       "      <td>way/4410020</td>\n",
       "      <td>None</td>\n",
       "      <td>POINT (13.30642 52.56806)</td>\n",
       "      <td>None</td>\n",
       "      <td>None</td>\n",
       "      <td>asphalt</td>\n",
       "      <td>secondary_link</td>\n",
       "      <td>None</td>\n",
       "      <td>None</td>\n",
       "      <td>52.568058</td>\n",
       "      <td>13.306425</td>\n",
       "    </tr>\n",
       "    <tr>\n",
       "      <th>380</th>\n",
       "      <td>way/4410450</td>\n",
       "      <td>None</td>\n",
       "      <td>POINT (13.32853 52.53295)</td>\n",
       "      <td>None</td>\n",
       "      <td>None</td>\n",
       "      <td>asphalt</td>\n",
       "      <td>secondary</td>\n",
       "      <td>None</td>\n",
       "      <td>None</td>\n",
       "      <td>52.532951</td>\n",
       "      <td>13.328525</td>\n",
       "    </tr>\n",
       "    <tr>\n",
       "      <th>401</th>\n",
       "      <td>way/4413383</td>\n",
       "      <td>None</td>\n",
       "      <td>POINT (13.29855 52.54685)</td>\n",
       "      <td>None</td>\n",
       "      <td>None</td>\n",
       "      <td>asphalt</td>\n",
       "      <td>motorway_link</td>\n",
       "      <td>None</td>\n",
       "      <td>None</td>\n",
       "      <td>52.546853</td>\n",
       "      <td>13.298555</td>\n",
       "    </tr>\n",
       "    <tr>\n",
       "      <th>402</th>\n",
       "      <td>way/4413385</td>\n",
       "      <td>None</td>\n",
       "      <td>POINT (13.29805 52.54621)</td>\n",
       "      <td>None</td>\n",
       "      <td>None</td>\n",
       "      <td>asphalt</td>\n",
       "      <td>motorway_link</td>\n",
       "      <td>None</td>\n",
       "      <td>None</td>\n",
       "      <td>52.546205</td>\n",
       "      <td>13.298048</td>\n",
       "    </tr>\n",
       "    <tr>\n",
       "      <th>410</th>\n",
       "      <td>way/4420986</td>\n",
       "      <td>None</td>\n",
       "      <td>POINT (13.23602 52.46948)</td>\n",
       "      <td>None</td>\n",
       "      <td>None</td>\n",
       "      <td>concrete:plates</td>\n",
       "      <td>service</td>\n",
       "      <td>None</td>\n",
       "      <td>None</td>\n",
       "      <td>52.469481</td>\n",
       "      <td>13.236024</td>\n",
       "    </tr>\n",
       "    <tr>\n",
       "      <th>435</th>\n",
       "      <td>way/4429742</td>\n",
       "      <td>None</td>\n",
       "      <td>POINT (13.29305 52.58273)</td>\n",
       "      <td>None</td>\n",
       "      <td>None</td>\n",
       "      <td>asphalt</td>\n",
       "      <td>cycleway</td>\n",
       "      <td>None</td>\n",
       "      <td>None</td>\n",
       "      <td>52.582734</td>\n",
       "      <td>13.293052</td>\n",
       "    </tr>\n",
       "  </tbody>\n",
       "</table>\n",
       "</div>"
      ],
      "text/plain": [
       "        bikelane_id street_name                   geometry  cycleway  \\\n",
       "1     way/517805554        None  POINT (13.46352 52.47109)        no   \n",
       "2    way/1186003574        None  POINT (13.34616 52.58975)      lane   \n",
       "3    way/1186011275        None  POINT (13.34579 52.58965)      lane   \n",
       "4    way/1187324842        None  POINT (13.42564 52.48771)  crossing   \n",
       "364     way/4410020        None  POINT (13.30642 52.56806)      None   \n",
       "380     way/4410450        None  POINT (13.32853 52.53295)      None   \n",
       "401     way/4413383        None  POINT (13.29855 52.54685)      None   \n",
       "402     way/4413385        None  POINT (13.29805 52.54621)      None   \n",
       "410     way/4420986        None  POINT (13.23602 52.46948)      None   \n",
       "435     way/4429742        None  POINT (13.29305 52.58273)      None   \n",
       "\n",
       "    condition          surface         highway lane_type length   latitude  \\\n",
       "1        None    paving_stones         service      None   None  52.471086   \n",
       "2        None             None            None      None   None  52.589748   \n",
       "3        None             None            None      None   None  52.589653   \n",
       "4        None             None            None      None   None  52.487710   \n",
       "364      None          asphalt  secondary_link      None   None  52.568058   \n",
       "380      None          asphalt       secondary      None   None  52.532951   \n",
       "401      None          asphalt   motorway_link      None   None  52.546853   \n",
       "402      None          asphalt   motorway_link      None   None  52.546205   \n",
       "410      None  concrete:plates         service      None   None  52.469481   \n",
       "435      None          asphalt        cycleway      None   None  52.582734   \n",
       "\n",
       "     longitude  \n",
       "1    13.463522  \n",
       "2    13.346163  \n",
       "3    13.345786  \n",
       "4    13.425639  \n",
       "364  13.306425  \n",
       "380  13.328525  \n",
       "401  13.298555  \n",
       "402  13.298048  \n",
       "410  13.236024  \n",
       "435  13.293052  "
      ]
     },
     "execution_count": 42,
     "metadata": {},
     "output_type": "execute_result"
    }
   ],
   "source": [
    "missing_street_names = bike_lanes_final[bike_lanes_final[\"street_name\"].isna()]\n",
    "print(\"Number of missing street names:\", len(missing_street_names))\n",
    "missing_street_names.head(10)"
   ]
  },
  {
   "cell_type": "markdown",
   "id": "b1e4f20a",
   "metadata": {},
   "source": [
    "#### Missing `cycleway`"
   ]
  },
  {
   "cell_type": "code",
   "execution_count": 43,
   "id": "41308087",
   "metadata": {},
   "outputs": [
    {
     "name": "stdout",
     "output_type": "stream",
     "text": [
      "Number of missing cycleway: 81895\n"
     ]
    },
    {
     "data": {
      "text/html": [
       "<div>\n",
       "<style scoped>\n",
       "    .dataframe tbody tr th:only-of-type {\n",
       "        vertical-align: middle;\n",
       "    }\n",
       "\n",
       "    .dataframe tbody tr th {\n",
       "        vertical-align: top;\n",
       "    }\n",
       "\n",
       "    .dataframe thead th {\n",
       "        text-align: right;\n",
       "    }\n",
       "</style>\n",
       "<table border=\"1\" class=\"dataframe\">\n",
       "  <thead>\n",
       "    <tr style=\"text-align: right;\">\n",
       "      <th></th>\n",
       "      <th>bikelane_id</th>\n",
       "      <th>street_name</th>\n",
       "      <th>geometry</th>\n",
       "      <th>cycleway</th>\n",
       "      <th>condition</th>\n",
       "      <th>surface</th>\n",
       "      <th>highway</th>\n",
       "      <th>lane_type</th>\n",
       "      <th>length</th>\n",
       "      <th>latitude</th>\n",
       "      <th>longitude</th>\n",
       "    </tr>\n",
       "  </thead>\n",
       "  <tbody>\n",
       "    <tr>\n",
       "      <th>0</th>\n",
       "      <td>way/43998936</td>\n",
       "      <td>Fritz-Lang-Platz</td>\n",
       "      <td>POINT (13.60276 52.53761)</td>\n",
       "      <td>None</td>\n",
       "      <td>None</td>\n",
       "      <td>asphalt</td>\n",
       "      <td>residential</td>\n",
       "      <td>None</td>\n",
       "      <td>None</td>\n",
       "      <td>52.537608</td>\n",
       "      <td>13.602761</td>\n",
       "    </tr>\n",
       "    <tr>\n",
       "      <th>5</th>\n",
       "      <td>way/4045194</td>\n",
       "      <td>Ursula-Goetze-Straße</td>\n",
       "      <td>POINT (13.53144 52.49328)</td>\n",
       "      <td>None</td>\n",
       "      <td>None</td>\n",
       "      <td>asphalt</td>\n",
       "      <td>residential</td>\n",
       "      <td>None</td>\n",
       "      <td>None</td>\n",
       "      <td>52.493280</td>\n",
       "      <td>13.531443</td>\n",
       "    </tr>\n",
       "    <tr>\n",
       "      <th>6</th>\n",
       "      <td>way/4045220</td>\n",
       "      <td>Hönower Straße</td>\n",
       "      <td>POINT (13.52639 52.48925)</td>\n",
       "      <td>None</td>\n",
       "      <td>None</td>\n",
       "      <td>sett</td>\n",
       "      <td>residential</td>\n",
       "      <td>None</td>\n",
       "      <td>None</td>\n",
       "      <td>52.489245</td>\n",
       "      <td>13.526386</td>\n",
       "    </tr>\n",
       "    <tr>\n",
       "      <th>7</th>\n",
       "      <td>way/4045223</td>\n",
       "      <td>Gundelfinger Straße</td>\n",
       "      <td>POINT (13.52495 52.48614)</td>\n",
       "      <td>None</td>\n",
       "      <td>None</td>\n",
       "      <td>sett</td>\n",
       "      <td>residential</td>\n",
       "      <td>None</td>\n",
       "      <td>None</td>\n",
       "      <td>52.486142</td>\n",
       "      <td>13.524950</td>\n",
       "    </tr>\n",
       "    <tr>\n",
       "      <th>8</th>\n",
       "      <td>way/4045243</td>\n",
       "      <td>Frankfurter Allee</td>\n",
       "      <td>POINT (13.45472 52.51566)</td>\n",
       "      <td>None</td>\n",
       "      <td>None</td>\n",
       "      <td>asphalt</td>\n",
       "      <td>primary</td>\n",
       "      <td>None</td>\n",
       "      <td>None</td>\n",
       "      <td>52.515659</td>\n",
       "      <td>13.454722</td>\n",
       "    </tr>\n",
       "    <tr>\n",
       "      <th>10</th>\n",
       "      <td>way/4054013</td>\n",
       "      <td>Michael-Brückner-Straße</td>\n",
       "      <td>POINT (13.51531 52.45268)</td>\n",
       "      <td>None</td>\n",
       "      <td>None</td>\n",
       "      <td>asphalt</td>\n",
       "      <td>primary</td>\n",
       "      <td>None</td>\n",
       "      <td>None</td>\n",
       "      <td>52.452676</td>\n",
       "      <td>13.515314</td>\n",
       "    </tr>\n",
       "    <tr>\n",
       "      <th>11</th>\n",
       "      <td>way/4067882</td>\n",
       "      <td>Olympische Straße</td>\n",
       "      <td>POINT (13.24967 52.51549)</td>\n",
       "      <td>None</td>\n",
       "      <td>None</td>\n",
       "      <td>asphalt</td>\n",
       "      <td>secondary</td>\n",
       "      <td>None</td>\n",
       "      <td>None</td>\n",
       "      <td>52.515493</td>\n",
       "      <td>13.249674</td>\n",
       "    </tr>\n",
       "    <tr>\n",
       "      <th>12</th>\n",
       "      <td>way/4067883</td>\n",
       "      <td>Jafféstraße</td>\n",
       "      <td>POINT (13.26336 52.50676)</td>\n",
       "      <td>None</td>\n",
       "      <td>None</td>\n",
       "      <td>asphalt</td>\n",
       "      <td>secondary</td>\n",
       "      <td>None</td>\n",
       "      <td>None</td>\n",
       "      <td>52.506764</td>\n",
       "      <td>13.263359</td>\n",
       "    </tr>\n",
       "    <tr>\n",
       "      <th>13</th>\n",
       "      <td>way/4067902</td>\n",
       "      <td>Müllerstraße</td>\n",
       "      <td>POINT (13.33337 52.56106)</td>\n",
       "      <td>None</td>\n",
       "      <td>None</td>\n",
       "      <td>asphalt</td>\n",
       "      <td>primary</td>\n",
       "      <td>None</td>\n",
       "      <td>None</td>\n",
       "      <td>52.561062</td>\n",
       "      <td>13.333367</td>\n",
       "    </tr>\n",
       "    <tr>\n",
       "      <th>14</th>\n",
       "      <td>way/4067919</td>\n",
       "      <td>Köpenicker Landstraße</td>\n",
       "      <td>POINT (13.49481 52.46688)</td>\n",
       "      <td>None</td>\n",
       "      <td>None</td>\n",
       "      <td>asphalt</td>\n",
       "      <td>primary</td>\n",
       "      <td>None</td>\n",
       "      <td>None</td>\n",
       "      <td>52.466878</td>\n",
       "      <td>13.494808</td>\n",
       "    </tr>\n",
       "  </tbody>\n",
       "</table>\n",
       "</div>"
      ],
      "text/plain": [
       "     bikelane_id              street_name                   geometry cycleway  \\\n",
       "0   way/43998936         Fritz-Lang-Platz  POINT (13.60276 52.53761)     None   \n",
       "5    way/4045194     Ursula-Goetze-Straße  POINT (13.53144 52.49328)     None   \n",
       "6    way/4045220           Hönower Straße  POINT (13.52639 52.48925)     None   \n",
       "7    way/4045223      Gundelfinger Straße  POINT (13.52495 52.48614)     None   \n",
       "8    way/4045243        Frankfurter Allee  POINT (13.45472 52.51566)     None   \n",
       "10   way/4054013  Michael-Brückner-Straße  POINT (13.51531 52.45268)     None   \n",
       "11   way/4067882        Olympische Straße  POINT (13.24967 52.51549)     None   \n",
       "12   way/4067883              Jafféstraße  POINT (13.26336 52.50676)     None   \n",
       "13   way/4067902             Müllerstraße  POINT (13.33337 52.56106)     None   \n",
       "14   way/4067919    Köpenicker Landstraße  POINT (13.49481 52.46688)     None   \n",
       "\n",
       "   condition  surface      highway lane_type length   latitude  longitude  \n",
       "0       None  asphalt  residential      None   None  52.537608  13.602761  \n",
       "5       None  asphalt  residential      None   None  52.493280  13.531443  \n",
       "6       None     sett  residential      None   None  52.489245  13.526386  \n",
       "7       None     sett  residential      None   None  52.486142  13.524950  \n",
       "8       None  asphalt      primary      None   None  52.515659  13.454722  \n",
       "10      None  asphalt      primary      None   None  52.452676  13.515314  \n",
       "11      None  asphalt    secondary      None   None  52.515493  13.249674  \n",
       "12      None  asphalt    secondary      None   None  52.506764  13.263359  \n",
       "13      None  asphalt      primary      None   None  52.561062  13.333367  \n",
       "14      None  asphalt      primary      None   None  52.466878  13.494808  "
      ]
     },
     "execution_count": 43,
     "metadata": {},
     "output_type": "execute_result"
    }
   ],
   "source": [
    "missing_cycleway = bike_lanes_final[bike_lanes_final[\"cycleway\"].isna()]\n",
    "print(\"Number of missing cycleway:\", len(missing_cycleway))\n",
    "missing_cycleway.head(10)"
   ]
  },
  {
   "cell_type": "markdown",
   "id": "6cf09f8b",
   "metadata": {},
   "source": [
    "#### Missing `condition`"
   ]
  },
  {
   "cell_type": "code",
   "execution_count": 44,
   "id": "1672707f",
   "metadata": {},
   "outputs": [
    {
     "name": "stdout",
     "output_type": "stream",
     "text": [
      "Number of missing condition: 78903\n"
     ]
    },
    {
     "data": {
      "text/html": [
       "<div>\n",
       "<style scoped>\n",
       "    .dataframe tbody tr th:only-of-type {\n",
       "        vertical-align: middle;\n",
       "    }\n",
       "\n",
       "    .dataframe tbody tr th {\n",
       "        vertical-align: top;\n",
       "    }\n",
       "\n",
       "    .dataframe thead th {\n",
       "        text-align: right;\n",
       "    }\n",
       "</style>\n",
       "<table border=\"1\" class=\"dataframe\">\n",
       "  <thead>\n",
       "    <tr style=\"text-align: right;\">\n",
       "      <th></th>\n",
       "      <th>bikelane_id</th>\n",
       "      <th>street_name</th>\n",
       "      <th>geometry</th>\n",
       "      <th>cycleway</th>\n",
       "      <th>condition</th>\n",
       "      <th>surface</th>\n",
       "      <th>highway</th>\n",
       "      <th>lane_type</th>\n",
       "      <th>length</th>\n",
       "      <th>latitude</th>\n",
       "      <th>longitude</th>\n",
       "    </tr>\n",
       "  </thead>\n",
       "  <tbody>\n",
       "    <tr>\n",
       "      <th>0</th>\n",
       "      <td>way/43998936</td>\n",
       "      <td>Fritz-Lang-Platz</td>\n",
       "      <td>POINT (13.60276 52.53761)</td>\n",
       "      <td>None</td>\n",
       "      <td>None</td>\n",
       "      <td>asphalt</td>\n",
       "      <td>residential</td>\n",
       "      <td>None</td>\n",
       "      <td>None</td>\n",
       "      <td>52.537608</td>\n",
       "      <td>13.602761</td>\n",
       "    </tr>\n",
       "    <tr>\n",
       "      <th>1</th>\n",
       "      <td>way/517805554</td>\n",
       "      <td>None</td>\n",
       "      <td>POINT (13.46352 52.47109)</td>\n",
       "      <td>no</td>\n",
       "      <td>None</td>\n",
       "      <td>paving_stones</td>\n",
       "      <td>service</td>\n",
       "      <td>None</td>\n",
       "      <td>None</td>\n",
       "      <td>52.471086</td>\n",
       "      <td>13.463522</td>\n",
       "    </tr>\n",
       "    <tr>\n",
       "      <th>2</th>\n",
       "      <td>way/1186003574</td>\n",
       "      <td>None</td>\n",
       "      <td>POINT (13.34616 52.58975)</td>\n",
       "      <td>lane</td>\n",
       "      <td>None</td>\n",
       "      <td>None</td>\n",
       "      <td>None</td>\n",
       "      <td>None</td>\n",
       "      <td>None</td>\n",
       "      <td>52.589748</td>\n",
       "      <td>13.346163</td>\n",
       "    </tr>\n",
       "    <tr>\n",
       "      <th>3</th>\n",
       "      <td>way/1186011275</td>\n",
       "      <td>None</td>\n",
       "      <td>POINT (13.34579 52.58965)</td>\n",
       "      <td>lane</td>\n",
       "      <td>None</td>\n",
       "      <td>None</td>\n",
       "      <td>None</td>\n",
       "      <td>None</td>\n",
       "      <td>None</td>\n",
       "      <td>52.589653</td>\n",
       "      <td>13.345786</td>\n",
       "    </tr>\n",
       "    <tr>\n",
       "      <th>4</th>\n",
       "      <td>way/1187324842</td>\n",
       "      <td>None</td>\n",
       "      <td>POINT (13.42564 52.48771)</td>\n",
       "      <td>crossing</td>\n",
       "      <td>None</td>\n",
       "      <td>None</td>\n",
       "      <td>None</td>\n",
       "      <td>None</td>\n",
       "      <td>None</td>\n",
       "      <td>52.487710</td>\n",
       "      <td>13.425639</td>\n",
       "    </tr>\n",
       "    <tr>\n",
       "      <th>5</th>\n",
       "      <td>way/4045194</td>\n",
       "      <td>Ursula-Goetze-Straße</td>\n",
       "      <td>POINT (13.53144 52.49328)</td>\n",
       "      <td>None</td>\n",
       "      <td>None</td>\n",
       "      <td>asphalt</td>\n",
       "      <td>residential</td>\n",
       "      <td>None</td>\n",
       "      <td>None</td>\n",
       "      <td>52.493280</td>\n",
       "      <td>13.531443</td>\n",
       "    </tr>\n",
       "    <tr>\n",
       "      <th>6</th>\n",
       "      <td>way/4045220</td>\n",
       "      <td>Hönower Straße</td>\n",
       "      <td>POINT (13.52639 52.48925)</td>\n",
       "      <td>None</td>\n",
       "      <td>None</td>\n",
       "      <td>sett</td>\n",
       "      <td>residential</td>\n",
       "      <td>None</td>\n",
       "      <td>None</td>\n",
       "      <td>52.489245</td>\n",
       "      <td>13.526386</td>\n",
       "    </tr>\n",
       "    <tr>\n",
       "      <th>7</th>\n",
       "      <td>way/4045223</td>\n",
       "      <td>Gundelfinger Straße</td>\n",
       "      <td>POINT (13.52495 52.48614)</td>\n",
       "      <td>None</td>\n",
       "      <td>None</td>\n",
       "      <td>sett</td>\n",
       "      <td>residential</td>\n",
       "      <td>None</td>\n",
       "      <td>None</td>\n",
       "      <td>52.486142</td>\n",
       "      <td>13.524950</td>\n",
       "    </tr>\n",
       "    <tr>\n",
       "      <th>8</th>\n",
       "      <td>way/4045243</td>\n",
       "      <td>Frankfurter Allee</td>\n",
       "      <td>POINT (13.45472 52.51566)</td>\n",
       "      <td>None</td>\n",
       "      <td>None</td>\n",
       "      <td>asphalt</td>\n",
       "      <td>primary</td>\n",
       "      <td>None</td>\n",
       "      <td>None</td>\n",
       "      <td>52.515659</td>\n",
       "      <td>13.454722</td>\n",
       "    </tr>\n",
       "    <tr>\n",
       "      <th>9</th>\n",
       "      <td>way/4045656</td>\n",
       "      <td>Hauptstraße</td>\n",
       "      <td>POINT (13.37112 52.5909)</td>\n",
       "      <td>track</td>\n",
       "      <td>None</td>\n",
       "      <td>asphalt</td>\n",
       "      <td>secondary</td>\n",
       "      <td>None</td>\n",
       "      <td>None</td>\n",
       "      <td>52.590897</td>\n",
       "      <td>13.371120</td>\n",
       "    </tr>\n",
       "  </tbody>\n",
       "</table>\n",
       "</div>"
      ],
      "text/plain": [
       "      bikelane_id           street_name                   geometry  cycleway  \\\n",
       "0    way/43998936      Fritz-Lang-Platz  POINT (13.60276 52.53761)      None   \n",
       "1   way/517805554                  None  POINT (13.46352 52.47109)        no   \n",
       "2  way/1186003574                  None  POINT (13.34616 52.58975)      lane   \n",
       "3  way/1186011275                  None  POINT (13.34579 52.58965)      lane   \n",
       "4  way/1187324842                  None  POINT (13.42564 52.48771)  crossing   \n",
       "5     way/4045194  Ursula-Goetze-Straße  POINT (13.53144 52.49328)      None   \n",
       "6     way/4045220        Hönower Straße  POINT (13.52639 52.48925)      None   \n",
       "7     way/4045223   Gundelfinger Straße  POINT (13.52495 52.48614)      None   \n",
       "8     way/4045243     Frankfurter Allee  POINT (13.45472 52.51566)      None   \n",
       "9     way/4045656           Hauptstraße   POINT (13.37112 52.5909)     track   \n",
       "\n",
       "  condition        surface      highway lane_type length   latitude  longitude  \n",
       "0      None        asphalt  residential      None   None  52.537608  13.602761  \n",
       "1      None  paving_stones      service      None   None  52.471086  13.463522  \n",
       "2      None           None         None      None   None  52.589748  13.346163  \n",
       "3      None           None         None      None   None  52.589653  13.345786  \n",
       "4      None           None         None      None   None  52.487710  13.425639  \n",
       "5      None        asphalt  residential      None   None  52.493280  13.531443  \n",
       "6      None           sett  residential      None   None  52.489245  13.526386  \n",
       "7      None           sett  residential      None   None  52.486142  13.524950  \n",
       "8      None        asphalt      primary      None   None  52.515659  13.454722  \n",
       "9      None        asphalt    secondary      None   None  52.590897  13.371120  "
      ]
     },
     "execution_count": 44,
     "metadata": {},
     "output_type": "execute_result"
    }
   ],
   "source": [
    "missing_condition = bike_lanes_final[bike_lanes_final[\"condition\"].isna()]\n",
    "print(\"Number of missing condition:\", len(missing_condition))\n",
    "missing_condition.head(10)"
   ]
  },
  {
   "cell_type": "markdown",
   "id": "5ceee2fb",
   "metadata": {},
   "source": [
    "#### Missing `surface`"
   ]
  },
  {
   "cell_type": "code",
   "execution_count": 45,
   "id": "d51f2101",
   "metadata": {},
   "outputs": [
    {
     "name": "stdout",
     "output_type": "stream",
     "text": [
      "Number of missing surface: 11998\n"
     ]
    },
    {
     "data": {
      "text/html": [
       "<div>\n",
       "<style scoped>\n",
       "    .dataframe tbody tr th:only-of-type {\n",
       "        vertical-align: middle;\n",
       "    }\n",
       "\n",
       "    .dataframe tbody tr th {\n",
       "        vertical-align: top;\n",
       "    }\n",
       "\n",
       "    .dataframe thead th {\n",
       "        text-align: right;\n",
       "    }\n",
       "</style>\n",
       "<table border=\"1\" class=\"dataframe\">\n",
       "  <thead>\n",
       "    <tr style=\"text-align: right;\">\n",
       "      <th></th>\n",
       "      <th>bikelane_id</th>\n",
       "      <th>street_name</th>\n",
       "      <th>geometry</th>\n",
       "      <th>cycleway</th>\n",
       "      <th>condition</th>\n",
       "      <th>surface</th>\n",
       "      <th>highway</th>\n",
       "      <th>lane_type</th>\n",
       "      <th>length</th>\n",
       "      <th>latitude</th>\n",
       "      <th>longitude</th>\n",
       "    </tr>\n",
       "  </thead>\n",
       "  <tbody>\n",
       "    <tr>\n",
       "      <th>2</th>\n",
       "      <td>way/1186003574</td>\n",
       "      <td>None</td>\n",
       "      <td>POINT (13.34616 52.58975)</td>\n",
       "      <td>lane</td>\n",
       "      <td>None</td>\n",
       "      <td>None</td>\n",
       "      <td>None</td>\n",
       "      <td>None</td>\n",
       "      <td>None</td>\n",
       "      <td>52.589748</td>\n",
       "      <td>13.346163</td>\n",
       "    </tr>\n",
       "    <tr>\n",
       "      <th>3</th>\n",
       "      <td>way/1186011275</td>\n",
       "      <td>None</td>\n",
       "      <td>POINT (13.34579 52.58965)</td>\n",
       "      <td>lane</td>\n",
       "      <td>None</td>\n",
       "      <td>None</td>\n",
       "      <td>None</td>\n",
       "      <td>None</td>\n",
       "      <td>None</td>\n",
       "      <td>52.589653</td>\n",
       "      <td>13.345786</td>\n",
       "    </tr>\n",
       "    <tr>\n",
       "      <th>4</th>\n",
       "      <td>way/1187324842</td>\n",
       "      <td>None</td>\n",
       "      <td>POINT (13.42564 52.48771)</td>\n",
       "      <td>crossing</td>\n",
       "      <td>None</td>\n",
       "      <td>None</td>\n",
       "      <td>None</td>\n",
       "      <td>None</td>\n",
       "      <td>None</td>\n",
       "      <td>52.487710</td>\n",
       "      <td>13.425639</td>\n",
       "    </tr>\n",
       "    <tr>\n",
       "      <th>88</th>\n",
       "      <td>way/4359603</td>\n",
       "      <td>Kirchblick</td>\n",
       "      <td>POINT (13.21945 52.43879)</td>\n",
       "      <td>None</td>\n",
       "      <td>None</td>\n",
       "      <td>None</td>\n",
       "      <td>residential</td>\n",
       "      <td>None</td>\n",
       "      <td>None</td>\n",
       "      <td>52.438795</td>\n",
       "      <td>13.219447</td>\n",
       "    </tr>\n",
       "    <tr>\n",
       "      <th>94</th>\n",
       "      <td>way/4359663</td>\n",
       "      <td>Waldsängerpfad</td>\n",
       "      <td>POINT (13.20794 52.43652)</td>\n",
       "      <td>None</td>\n",
       "      <td>None</td>\n",
       "      <td>None</td>\n",
       "      <td>residential</td>\n",
       "      <td>None</td>\n",
       "      <td>None</td>\n",
       "      <td>52.436519</td>\n",
       "      <td>13.207942</td>\n",
       "    </tr>\n",
       "    <tr>\n",
       "      <th>419</th>\n",
       "      <td>way/4424204</td>\n",
       "      <td>Heidestraße</td>\n",
       "      <td>POINT (13.15468 52.41629)</td>\n",
       "      <td>None</td>\n",
       "      <td>None</td>\n",
       "      <td>None</td>\n",
       "      <td>residential</td>\n",
       "      <td>None</td>\n",
       "      <td>None</td>\n",
       "      <td>52.416290</td>\n",
       "      <td>13.154682</td>\n",
       "    </tr>\n",
       "    <tr>\n",
       "      <th>422</th>\n",
       "      <td>way/4424208</td>\n",
       "      <td>Charlottenstraße</td>\n",
       "      <td>POINT (13.14549 52.41526)</td>\n",
       "      <td>None</td>\n",
       "      <td>None</td>\n",
       "      <td>None</td>\n",
       "      <td>residential</td>\n",
       "      <td>None</td>\n",
       "      <td>None</td>\n",
       "      <td>52.415262</td>\n",
       "      <td>13.145488</td>\n",
       "    </tr>\n",
       "    <tr>\n",
       "      <th>425</th>\n",
       "      <td>way/4424211</td>\n",
       "      <td>Wickenhagenweg</td>\n",
       "      <td>POINT (13.15712 52.41725)</td>\n",
       "      <td>None</td>\n",
       "      <td>None</td>\n",
       "      <td>None</td>\n",
       "      <td>residential</td>\n",
       "      <td>None</td>\n",
       "      <td>None</td>\n",
       "      <td>52.417249</td>\n",
       "      <td>13.157123</td>\n",
       "    </tr>\n",
       "    <tr>\n",
       "      <th>1719</th>\n",
       "      <td>way/4588775</td>\n",
       "      <td>Wirmerzeile</td>\n",
       "      <td>POINT (13.30188 52.53692)</td>\n",
       "      <td>None</td>\n",
       "      <td>None</td>\n",
       "      <td>None</td>\n",
       "      <td>residential</td>\n",
       "      <td>None</td>\n",
       "      <td>None</td>\n",
       "      <td>52.536915</td>\n",
       "      <td>13.301883</td>\n",
       "    </tr>\n",
       "    <tr>\n",
       "      <th>1720</th>\n",
       "      <td>way/4588776</td>\n",
       "      <td>Schwambzeile</td>\n",
       "      <td>POINT (13.30118 52.53804)</td>\n",
       "      <td>None</td>\n",
       "      <td>None</td>\n",
       "      <td>None</td>\n",
       "      <td>residential</td>\n",
       "      <td>None</td>\n",
       "      <td>None</td>\n",
       "      <td>52.538042</td>\n",
       "      <td>13.301180</td>\n",
       "    </tr>\n",
       "  </tbody>\n",
       "</table>\n",
       "</div>"
      ],
      "text/plain": [
       "         bikelane_id       street_name                   geometry  cycleway  \\\n",
       "2     way/1186003574              None  POINT (13.34616 52.58975)      lane   \n",
       "3     way/1186011275              None  POINT (13.34579 52.58965)      lane   \n",
       "4     way/1187324842              None  POINT (13.42564 52.48771)  crossing   \n",
       "88       way/4359603        Kirchblick  POINT (13.21945 52.43879)      None   \n",
       "94       way/4359663    Waldsängerpfad  POINT (13.20794 52.43652)      None   \n",
       "419      way/4424204       Heidestraße  POINT (13.15468 52.41629)      None   \n",
       "422      way/4424208  Charlottenstraße  POINT (13.14549 52.41526)      None   \n",
       "425      way/4424211    Wickenhagenweg  POINT (13.15712 52.41725)      None   \n",
       "1719     way/4588775       Wirmerzeile  POINT (13.30188 52.53692)      None   \n",
       "1720     way/4588776      Schwambzeile  POINT (13.30118 52.53804)      None   \n",
       "\n",
       "     condition surface      highway lane_type length   latitude  longitude  \n",
       "2         None    None         None      None   None  52.589748  13.346163  \n",
       "3         None    None         None      None   None  52.589653  13.345786  \n",
       "4         None    None         None      None   None  52.487710  13.425639  \n",
       "88        None    None  residential      None   None  52.438795  13.219447  \n",
       "94        None    None  residential      None   None  52.436519  13.207942  \n",
       "419       None    None  residential      None   None  52.416290  13.154682  \n",
       "422       None    None  residential      None   None  52.415262  13.145488  \n",
       "425       None    None  residential      None   None  52.417249  13.157123  \n",
       "1719      None    None  residential      None   None  52.536915  13.301883  \n",
       "1720      None    None  residential      None   None  52.538042  13.301180  "
      ]
     },
     "execution_count": 45,
     "metadata": {},
     "output_type": "execute_result"
    }
   ],
   "source": [
    "missing_surface = bike_lanes_final[bike_lanes_final[\"surface\"].isna()]\n",
    "print(\"Number of missing surface:\", len(missing_surface))\n",
    "missing_surface.head(10)"
   ]
  },
  {
   "cell_type": "markdown",
   "id": "105a5af5",
   "metadata": {},
   "source": [
    "#### Missing `highway` - 9520"
   ]
  },
  {
   "cell_type": "code",
   "execution_count": 46,
   "id": "ed1763f1",
   "metadata": {},
   "outputs": [
    {
     "name": "stdout",
     "output_type": "stream",
     "text": [
      "Number of missing highway: 9520\n"
     ]
    },
    {
     "data": {
      "text/html": [
       "<div>\n",
       "<style scoped>\n",
       "    .dataframe tbody tr th:only-of-type {\n",
       "        vertical-align: middle;\n",
       "    }\n",
       "\n",
       "    .dataframe tbody tr th {\n",
       "        vertical-align: top;\n",
       "    }\n",
       "\n",
       "    .dataframe thead th {\n",
       "        text-align: right;\n",
       "    }\n",
       "</style>\n",
       "<table border=\"1\" class=\"dataframe\">\n",
       "  <thead>\n",
       "    <tr style=\"text-align: right;\">\n",
       "      <th></th>\n",
       "      <th>bikelane_id</th>\n",
       "      <th>street_name</th>\n",
       "      <th>geometry</th>\n",
       "      <th>cycleway</th>\n",
       "      <th>condition</th>\n",
       "      <th>surface</th>\n",
       "      <th>highway</th>\n",
       "      <th>lane_type</th>\n",
       "      <th>length</th>\n",
       "      <th>latitude</th>\n",
       "      <th>longitude</th>\n",
       "    </tr>\n",
       "  </thead>\n",
       "  <tbody>\n",
       "    <tr>\n",
       "      <th>2</th>\n",
       "      <td>way/1186003574</td>\n",
       "      <td>None</td>\n",
       "      <td>POINT (13.34616 52.58975)</td>\n",
       "      <td>lane</td>\n",
       "      <td>None</td>\n",
       "      <td>None</td>\n",
       "      <td>None</td>\n",
       "      <td>None</td>\n",
       "      <td>None</td>\n",
       "      <td>52.589748</td>\n",
       "      <td>13.346163</td>\n",
       "    </tr>\n",
       "    <tr>\n",
       "      <th>3</th>\n",
       "      <td>way/1186011275</td>\n",
       "      <td>None</td>\n",
       "      <td>POINT (13.34579 52.58965)</td>\n",
       "      <td>lane</td>\n",
       "      <td>None</td>\n",
       "      <td>None</td>\n",
       "      <td>None</td>\n",
       "      <td>None</td>\n",
       "      <td>None</td>\n",
       "      <td>52.589653</td>\n",
       "      <td>13.345786</td>\n",
       "    </tr>\n",
       "    <tr>\n",
       "      <th>4</th>\n",
       "      <td>way/1187324842</td>\n",
       "      <td>None</td>\n",
       "      <td>POINT (13.42564 52.48771)</td>\n",
       "      <td>crossing</td>\n",
       "      <td>None</td>\n",
       "      <td>None</td>\n",
       "      <td>None</td>\n",
       "      <td>None</td>\n",
       "      <td>None</td>\n",
       "      <td>52.487710</td>\n",
       "      <td>13.425639</td>\n",
       "    </tr>\n",
       "    <tr>\n",
       "      <th>3079</th>\n",
       "      <td>way/4696049</td>\n",
       "      <td>Landsberger Allee</td>\n",
       "      <td>POINT (13.53761 52.53921)</td>\n",
       "      <td>None</td>\n",
       "      <td>None</td>\n",
       "      <td>asphalt</td>\n",
       "      <td>None</td>\n",
       "      <td>None</td>\n",
       "      <td>None</td>\n",
       "      <td>52.539211</td>\n",
       "      <td>13.537609</td>\n",
       "    </tr>\n",
       "    <tr>\n",
       "      <th>3080</th>\n",
       "      <td>way/4696050</td>\n",
       "      <td>Landsberger Allee</td>\n",
       "      <td>POINT (13.53768 52.53922)</td>\n",
       "      <td>None</td>\n",
       "      <td>None</td>\n",
       "      <td>asphalt</td>\n",
       "      <td>None</td>\n",
       "      <td>None</td>\n",
       "      <td>None</td>\n",
       "      <td>52.539218</td>\n",
       "      <td>13.537678</td>\n",
       "    </tr>\n",
       "    <tr>\n",
       "      <th>3081</th>\n",
       "      <td>way/4696051</td>\n",
       "      <td>Landsberger Allee</td>\n",
       "      <td>POINT (13.53919 52.53943)</td>\n",
       "      <td>None</td>\n",
       "      <td>None</td>\n",
       "      <td>asphalt</td>\n",
       "      <td>None</td>\n",
       "      <td>None</td>\n",
       "      <td>None</td>\n",
       "      <td>52.539428</td>\n",
       "      <td>13.539190</td>\n",
       "    </tr>\n",
       "    <tr>\n",
       "      <th>23989</th>\n",
       "      <td>way/293906282</td>\n",
       "      <td>Landsberger Allee</td>\n",
       "      <td>POINT (13.53694 52.53914)</td>\n",
       "      <td>None</td>\n",
       "      <td>None</td>\n",
       "      <td>asphalt</td>\n",
       "      <td>None</td>\n",
       "      <td>None</td>\n",
       "      <td>None</td>\n",
       "      <td>52.539140</td>\n",
       "      <td>13.536941</td>\n",
       "    </tr>\n",
       "    <tr>\n",
       "      <th>24175</th>\n",
       "      <td>way/304488118</td>\n",
       "      <td>None</td>\n",
       "      <td>POINT (13.24216 52.52519)</td>\n",
       "      <td>None</td>\n",
       "      <td>None</td>\n",
       "      <td>None</td>\n",
       "      <td>None</td>\n",
       "      <td>None</td>\n",
       "      <td>None</td>\n",
       "      <td>52.525194</td>\n",
       "      <td>13.242161</td>\n",
       "    </tr>\n",
       "    <tr>\n",
       "      <th>24195</th>\n",
       "      <td>way/305265130</td>\n",
       "      <td>None</td>\n",
       "      <td>POINT (13.32199 52.47551)</td>\n",
       "      <td>None</td>\n",
       "      <td>None</td>\n",
       "      <td>None</td>\n",
       "      <td>None</td>\n",
       "      <td>None</td>\n",
       "      <td>None</td>\n",
       "      <td>52.475508</td>\n",
       "      <td>13.321989</td>\n",
       "    </tr>\n",
       "    <tr>\n",
       "      <th>30486</th>\n",
       "      <td>way/663861521</td>\n",
       "      <td>Am Gehrensee</td>\n",
       "      <td>POINT (13.56311 52.57433)</td>\n",
       "      <td>None</td>\n",
       "      <td>None</td>\n",
       "      <td>None</td>\n",
       "      <td>None</td>\n",
       "      <td>None</td>\n",
       "      <td>None</td>\n",
       "      <td>52.574326</td>\n",
       "      <td>13.563105</td>\n",
       "    </tr>\n",
       "  </tbody>\n",
       "</table>\n",
       "</div>"
      ],
      "text/plain": [
       "          bikelane_id        street_name                   geometry  cycleway  \\\n",
       "2      way/1186003574               None  POINT (13.34616 52.58975)      lane   \n",
       "3      way/1186011275               None  POINT (13.34579 52.58965)      lane   \n",
       "4      way/1187324842               None  POINT (13.42564 52.48771)  crossing   \n",
       "3079      way/4696049  Landsberger Allee  POINT (13.53761 52.53921)      None   \n",
       "3080      way/4696050  Landsberger Allee  POINT (13.53768 52.53922)      None   \n",
       "3081      way/4696051  Landsberger Allee  POINT (13.53919 52.53943)      None   \n",
       "23989   way/293906282  Landsberger Allee  POINT (13.53694 52.53914)      None   \n",
       "24175   way/304488118               None  POINT (13.24216 52.52519)      None   \n",
       "24195   way/305265130               None  POINT (13.32199 52.47551)      None   \n",
       "30486   way/663861521       Am Gehrensee  POINT (13.56311 52.57433)      None   \n",
       "\n",
       "      condition  surface highway lane_type length   latitude  longitude  \n",
       "2          None     None    None      None   None  52.589748  13.346163  \n",
       "3          None     None    None      None   None  52.589653  13.345786  \n",
       "4          None     None    None      None   None  52.487710  13.425639  \n",
       "3079       None  asphalt    None      None   None  52.539211  13.537609  \n",
       "3080       None  asphalt    None      None   None  52.539218  13.537678  \n",
       "3081       None  asphalt    None      None   None  52.539428  13.539190  \n",
       "23989      None  asphalt    None      None   None  52.539140  13.536941  \n",
       "24175      None     None    None      None   None  52.525194  13.242161  \n",
       "24195      None     None    None      None   None  52.475508  13.321989  \n",
       "30486      None     None    None      None   None  52.574326  13.563105  "
      ]
     },
     "execution_count": 46,
     "metadata": {},
     "output_type": "execute_result"
    }
   ],
   "source": [
    "missing_highway = bike_lanes_final[bike_lanes_final[\"highway\"].isna()]\n",
    "print(\"Number of missing highway:\", len(missing_highway))\n",
    "missing_highway.head(10)"
   ]
  },
  {
   "cell_type": "markdown",
   "id": "52262683",
   "metadata": {},
   "source": [
    "#### Missing `lane_type` - 78904"
   ]
  },
  {
   "cell_type": "code",
   "execution_count": 47,
   "id": "b888bb2e",
   "metadata": {},
   "outputs": [
    {
     "name": "stdout",
     "output_type": "stream",
     "text": [
      "Number of missing lane_type: 78904\n"
     ]
    },
    {
     "data": {
      "text/html": [
       "<div>\n",
       "<style scoped>\n",
       "    .dataframe tbody tr th:only-of-type {\n",
       "        vertical-align: middle;\n",
       "    }\n",
       "\n",
       "    .dataframe tbody tr th {\n",
       "        vertical-align: top;\n",
       "    }\n",
       "\n",
       "    .dataframe thead th {\n",
       "        text-align: right;\n",
       "    }\n",
       "</style>\n",
       "<table border=\"1\" class=\"dataframe\">\n",
       "  <thead>\n",
       "    <tr style=\"text-align: right;\">\n",
       "      <th></th>\n",
       "      <th>bikelane_id</th>\n",
       "      <th>street_name</th>\n",
       "      <th>geometry</th>\n",
       "      <th>cycleway</th>\n",
       "      <th>condition</th>\n",
       "      <th>surface</th>\n",
       "      <th>highway</th>\n",
       "      <th>lane_type</th>\n",
       "      <th>length</th>\n",
       "      <th>latitude</th>\n",
       "      <th>longitude</th>\n",
       "    </tr>\n",
       "  </thead>\n",
       "  <tbody>\n",
       "    <tr>\n",
       "      <th>0</th>\n",
       "      <td>way/43998936</td>\n",
       "      <td>Fritz-Lang-Platz</td>\n",
       "      <td>POINT (13.60276 52.53761)</td>\n",
       "      <td>None</td>\n",
       "      <td>None</td>\n",
       "      <td>asphalt</td>\n",
       "      <td>residential</td>\n",
       "      <td>None</td>\n",
       "      <td>None</td>\n",
       "      <td>52.537608</td>\n",
       "      <td>13.602761</td>\n",
       "    </tr>\n",
       "    <tr>\n",
       "      <th>1</th>\n",
       "      <td>way/517805554</td>\n",
       "      <td>None</td>\n",
       "      <td>POINT (13.46352 52.47109)</td>\n",
       "      <td>no</td>\n",
       "      <td>None</td>\n",
       "      <td>paving_stones</td>\n",
       "      <td>service</td>\n",
       "      <td>None</td>\n",
       "      <td>None</td>\n",
       "      <td>52.471086</td>\n",
       "      <td>13.463522</td>\n",
       "    </tr>\n",
       "    <tr>\n",
       "      <th>2</th>\n",
       "      <td>way/1186003574</td>\n",
       "      <td>None</td>\n",
       "      <td>POINT (13.34616 52.58975)</td>\n",
       "      <td>lane</td>\n",
       "      <td>None</td>\n",
       "      <td>None</td>\n",
       "      <td>None</td>\n",
       "      <td>None</td>\n",
       "      <td>None</td>\n",
       "      <td>52.589748</td>\n",
       "      <td>13.346163</td>\n",
       "    </tr>\n",
       "    <tr>\n",
       "      <th>3</th>\n",
       "      <td>way/1186011275</td>\n",
       "      <td>None</td>\n",
       "      <td>POINT (13.34579 52.58965)</td>\n",
       "      <td>lane</td>\n",
       "      <td>None</td>\n",
       "      <td>None</td>\n",
       "      <td>None</td>\n",
       "      <td>None</td>\n",
       "      <td>None</td>\n",
       "      <td>52.589653</td>\n",
       "      <td>13.345786</td>\n",
       "    </tr>\n",
       "    <tr>\n",
       "      <th>4</th>\n",
       "      <td>way/1187324842</td>\n",
       "      <td>None</td>\n",
       "      <td>POINT (13.42564 52.48771)</td>\n",
       "      <td>crossing</td>\n",
       "      <td>None</td>\n",
       "      <td>None</td>\n",
       "      <td>None</td>\n",
       "      <td>None</td>\n",
       "      <td>None</td>\n",
       "      <td>52.487710</td>\n",
       "      <td>13.425639</td>\n",
       "    </tr>\n",
       "    <tr>\n",
       "      <th>5</th>\n",
       "      <td>way/4045194</td>\n",
       "      <td>Ursula-Goetze-Straße</td>\n",
       "      <td>POINT (13.53144 52.49328)</td>\n",
       "      <td>None</td>\n",
       "      <td>None</td>\n",
       "      <td>asphalt</td>\n",
       "      <td>residential</td>\n",
       "      <td>None</td>\n",
       "      <td>None</td>\n",
       "      <td>52.493280</td>\n",
       "      <td>13.531443</td>\n",
       "    </tr>\n",
       "    <tr>\n",
       "      <th>6</th>\n",
       "      <td>way/4045220</td>\n",
       "      <td>Hönower Straße</td>\n",
       "      <td>POINT (13.52639 52.48925)</td>\n",
       "      <td>None</td>\n",
       "      <td>None</td>\n",
       "      <td>sett</td>\n",
       "      <td>residential</td>\n",
       "      <td>None</td>\n",
       "      <td>None</td>\n",
       "      <td>52.489245</td>\n",
       "      <td>13.526386</td>\n",
       "    </tr>\n",
       "    <tr>\n",
       "      <th>7</th>\n",
       "      <td>way/4045223</td>\n",
       "      <td>Gundelfinger Straße</td>\n",
       "      <td>POINT (13.52495 52.48614)</td>\n",
       "      <td>None</td>\n",
       "      <td>None</td>\n",
       "      <td>sett</td>\n",
       "      <td>residential</td>\n",
       "      <td>None</td>\n",
       "      <td>None</td>\n",
       "      <td>52.486142</td>\n",
       "      <td>13.524950</td>\n",
       "    </tr>\n",
       "    <tr>\n",
       "      <th>8</th>\n",
       "      <td>way/4045243</td>\n",
       "      <td>Frankfurter Allee</td>\n",
       "      <td>POINT (13.45472 52.51566)</td>\n",
       "      <td>None</td>\n",
       "      <td>None</td>\n",
       "      <td>asphalt</td>\n",
       "      <td>primary</td>\n",
       "      <td>None</td>\n",
       "      <td>None</td>\n",
       "      <td>52.515659</td>\n",
       "      <td>13.454722</td>\n",
       "    </tr>\n",
       "    <tr>\n",
       "      <th>9</th>\n",
       "      <td>way/4045656</td>\n",
       "      <td>Hauptstraße</td>\n",
       "      <td>POINT (13.37112 52.5909)</td>\n",
       "      <td>track</td>\n",
       "      <td>None</td>\n",
       "      <td>asphalt</td>\n",
       "      <td>secondary</td>\n",
       "      <td>None</td>\n",
       "      <td>None</td>\n",
       "      <td>52.590897</td>\n",
       "      <td>13.371120</td>\n",
       "    </tr>\n",
       "  </tbody>\n",
       "</table>\n",
       "</div>"
      ],
      "text/plain": [
       "      bikelane_id           street_name                   geometry  cycleway  \\\n",
       "0    way/43998936      Fritz-Lang-Platz  POINT (13.60276 52.53761)      None   \n",
       "1   way/517805554                  None  POINT (13.46352 52.47109)        no   \n",
       "2  way/1186003574                  None  POINT (13.34616 52.58975)      lane   \n",
       "3  way/1186011275                  None  POINT (13.34579 52.58965)      lane   \n",
       "4  way/1187324842                  None  POINT (13.42564 52.48771)  crossing   \n",
       "5     way/4045194  Ursula-Goetze-Straße  POINT (13.53144 52.49328)      None   \n",
       "6     way/4045220        Hönower Straße  POINT (13.52639 52.48925)      None   \n",
       "7     way/4045223   Gundelfinger Straße  POINT (13.52495 52.48614)      None   \n",
       "8     way/4045243     Frankfurter Allee  POINT (13.45472 52.51566)      None   \n",
       "9     way/4045656           Hauptstraße   POINT (13.37112 52.5909)     track   \n",
       "\n",
       "  condition        surface      highway lane_type length   latitude  longitude  \n",
       "0      None        asphalt  residential      None   None  52.537608  13.602761  \n",
       "1      None  paving_stones      service      None   None  52.471086  13.463522  \n",
       "2      None           None         None      None   None  52.589748  13.346163  \n",
       "3      None           None         None      None   None  52.589653  13.345786  \n",
       "4      None           None         None      None   None  52.487710  13.425639  \n",
       "5      None        asphalt  residential      None   None  52.493280  13.531443  \n",
       "6      None           sett  residential      None   None  52.489245  13.526386  \n",
       "7      None           sett  residential      None   None  52.486142  13.524950  \n",
       "8      None        asphalt      primary      None   None  52.515659  13.454722  \n",
       "9      None        asphalt    secondary      None   None  52.590897  13.371120  "
      ]
     },
     "execution_count": 47,
     "metadata": {},
     "output_type": "execute_result"
    }
   ],
   "source": [
    "missing_lane_type = bike_lanes_final[bike_lanes_final[\"lane_type\"].isna()]\n",
    "print(\"Number of missing lane_type:\", len(missing_lane_type))\n",
    "missing_lane_type.head(10)"
   ]
  },
  {
   "cell_type": "markdown",
   "id": "fe9b4440",
   "metadata": {},
   "source": [
    "#### Missing `length` - 78904"
   ]
  },
  {
   "cell_type": "code",
   "execution_count": 48,
   "id": "9bd2449a",
   "metadata": {},
   "outputs": [
    {
     "name": "stdout",
     "output_type": "stream",
     "text": [
      "Number of missing length: 78904\n"
     ]
    },
    {
     "data": {
      "text/html": [
       "<div>\n",
       "<style scoped>\n",
       "    .dataframe tbody tr th:only-of-type {\n",
       "        vertical-align: middle;\n",
       "    }\n",
       "\n",
       "    .dataframe tbody tr th {\n",
       "        vertical-align: top;\n",
       "    }\n",
       "\n",
       "    .dataframe thead th {\n",
       "        text-align: right;\n",
       "    }\n",
       "</style>\n",
       "<table border=\"1\" class=\"dataframe\">\n",
       "  <thead>\n",
       "    <tr style=\"text-align: right;\">\n",
       "      <th></th>\n",
       "      <th>bikelane_id</th>\n",
       "      <th>street_name</th>\n",
       "      <th>geometry</th>\n",
       "      <th>cycleway</th>\n",
       "      <th>condition</th>\n",
       "      <th>surface</th>\n",
       "      <th>highway</th>\n",
       "      <th>lane_type</th>\n",
       "      <th>length</th>\n",
       "      <th>latitude</th>\n",
       "      <th>longitude</th>\n",
       "    </tr>\n",
       "  </thead>\n",
       "  <tbody>\n",
       "    <tr>\n",
       "      <th>0</th>\n",
       "      <td>way/43998936</td>\n",
       "      <td>Fritz-Lang-Platz</td>\n",
       "      <td>POINT (13.60276 52.53761)</td>\n",
       "      <td>None</td>\n",
       "      <td>None</td>\n",
       "      <td>asphalt</td>\n",
       "      <td>residential</td>\n",
       "      <td>None</td>\n",
       "      <td>None</td>\n",
       "      <td>52.537608</td>\n",
       "      <td>13.602761</td>\n",
       "    </tr>\n",
       "    <tr>\n",
       "      <th>1</th>\n",
       "      <td>way/517805554</td>\n",
       "      <td>None</td>\n",
       "      <td>POINT (13.46352 52.47109)</td>\n",
       "      <td>no</td>\n",
       "      <td>None</td>\n",
       "      <td>paving_stones</td>\n",
       "      <td>service</td>\n",
       "      <td>None</td>\n",
       "      <td>None</td>\n",
       "      <td>52.471086</td>\n",
       "      <td>13.463522</td>\n",
       "    </tr>\n",
       "    <tr>\n",
       "      <th>2</th>\n",
       "      <td>way/1186003574</td>\n",
       "      <td>None</td>\n",
       "      <td>POINT (13.34616 52.58975)</td>\n",
       "      <td>lane</td>\n",
       "      <td>None</td>\n",
       "      <td>None</td>\n",
       "      <td>None</td>\n",
       "      <td>None</td>\n",
       "      <td>None</td>\n",
       "      <td>52.589748</td>\n",
       "      <td>13.346163</td>\n",
       "    </tr>\n",
       "    <tr>\n",
       "      <th>3</th>\n",
       "      <td>way/1186011275</td>\n",
       "      <td>None</td>\n",
       "      <td>POINT (13.34579 52.58965)</td>\n",
       "      <td>lane</td>\n",
       "      <td>None</td>\n",
       "      <td>None</td>\n",
       "      <td>None</td>\n",
       "      <td>None</td>\n",
       "      <td>None</td>\n",
       "      <td>52.589653</td>\n",
       "      <td>13.345786</td>\n",
       "    </tr>\n",
       "    <tr>\n",
       "      <th>4</th>\n",
       "      <td>way/1187324842</td>\n",
       "      <td>None</td>\n",
       "      <td>POINT (13.42564 52.48771)</td>\n",
       "      <td>crossing</td>\n",
       "      <td>None</td>\n",
       "      <td>None</td>\n",
       "      <td>None</td>\n",
       "      <td>None</td>\n",
       "      <td>None</td>\n",
       "      <td>52.487710</td>\n",
       "      <td>13.425639</td>\n",
       "    </tr>\n",
       "    <tr>\n",
       "      <th>5</th>\n",
       "      <td>way/4045194</td>\n",
       "      <td>Ursula-Goetze-Straße</td>\n",
       "      <td>POINT (13.53144 52.49328)</td>\n",
       "      <td>None</td>\n",
       "      <td>None</td>\n",
       "      <td>asphalt</td>\n",
       "      <td>residential</td>\n",
       "      <td>None</td>\n",
       "      <td>None</td>\n",
       "      <td>52.493280</td>\n",
       "      <td>13.531443</td>\n",
       "    </tr>\n",
       "    <tr>\n",
       "      <th>6</th>\n",
       "      <td>way/4045220</td>\n",
       "      <td>Hönower Straße</td>\n",
       "      <td>POINT (13.52639 52.48925)</td>\n",
       "      <td>None</td>\n",
       "      <td>None</td>\n",
       "      <td>sett</td>\n",
       "      <td>residential</td>\n",
       "      <td>None</td>\n",
       "      <td>None</td>\n",
       "      <td>52.489245</td>\n",
       "      <td>13.526386</td>\n",
       "    </tr>\n",
       "    <tr>\n",
       "      <th>7</th>\n",
       "      <td>way/4045223</td>\n",
       "      <td>Gundelfinger Straße</td>\n",
       "      <td>POINT (13.52495 52.48614)</td>\n",
       "      <td>None</td>\n",
       "      <td>None</td>\n",
       "      <td>sett</td>\n",
       "      <td>residential</td>\n",
       "      <td>None</td>\n",
       "      <td>None</td>\n",
       "      <td>52.486142</td>\n",
       "      <td>13.524950</td>\n",
       "    </tr>\n",
       "    <tr>\n",
       "      <th>8</th>\n",
       "      <td>way/4045243</td>\n",
       "      <td>Frankfurter Allee</td>\n",
       "      <td>POINT (13.45472 52.51566)</td>\n",
       "      <td>None</td>\n",
       "      <td>None</td>\n",
       "      <td>asphalt</td>\n",
       "      <td>primary</td>\n",
       "      <td>None</td>\n",
       "      <td>None</td>\n",
       "      <td>52.515659</td>\n",
       "      <td>13.454722</td>\n",
       "    </tr>\n",
       "    <tr>\n",
       "      <th>9</th>\n",
       "      <td>way/4045656</td>\n",
       "      <td>Hauptstraße</td>\n",
       "      <td>POINT (13.37112 52.5909)</td>\n",
       "      <td>track</td>\n",
       "      <td>None</td>\n",
       "      <td>asphalt</td>\n",
       "      <td>secondary</td>\n",
       "      <td>None</td>\n",
       "      <td>None</td>\n",
       "      <td>52.590897</td>\n",
       "      <td>13.371120</td>\n",
       "    </tr>\n",
       "  </tbody>\n",
       "</table>\n",
       "</div>"
      ],
      "text/plain": [
       "      bikelane_id           street_name                   geometry  cycleway  \\\n",
       "0    way/43998936      Fritz-Lang-Platz  POINT (13.60276 52.53761)      None   \n",
       "1   way/517805554                  None  POINT (13.46352 52.47109)        no   \n",
       "2  way/1186003574                  None  POINT (13.34616 52.58975)      lane   \n",
       "3  way/1186011275                  None  POINT (13.34579 52.58965)      lane   \n",
       "4  way/1187324842                  None  POINT (13.42564 52.48771)  crossing   \n",
       "5     way/4045194  Ursula-Goetze-Straße  POINT (13.53144 52.49328)      None   \n",
       "6     way/4045220        Hönower Straße  POINT (13.52639 52.48925)      None   \n",
       "7     way/4045223   Gundelfinger Straße  POINT (13.52495 52.48614)      None   \n",
       "8     way/4045243     Frankfurter Allee  POINT (13.45472 52.51566)      None   \n",
       "9     way/4045656           Hauptstraße   POINT (13.37112 52.5909)     track   \n",
       "\n",
       "  condition        surface      highway lane_type length   latitude  longitude  \n",
       "0      None        asphalt  residential      None   None  52.537608  13.602761  \n",
       "1      None  paving_stones      service      None   None  52.471086  13.463522  \n",
       "2      None           None         None      None   None  52.589748  13.346163  \n",
       "3      None           None         None      None   None  52.589653  13.345786  \n",
       "4      None           None         None      None   None  52.487710  13.425639  \n",
       "5      None        asphalt  residential      None   None  52.493280  13.531443  \n",
       "6      None           sett  residential      None   None  52.489245  13.526386  \n",
       "7      None           sett  residential      None   None  52.486142  13.524950  \n",
       "8      None        asphalt      primary      None   None  52.515659  13.454722  \n",
       "9      None        asphalt    secondary      None   None  52.590897  13.371120  "
      ]
     },
     "execution_count": 48,
     "metadata": {},
     "output_type": "execute_result"
    }
   ],
   "source": [
    "missing_length = bike_lanes_final[bike_lanes_final[\"length\"].isna()]\n",
    "print(\"Number of missing length:\", len(missing_length))\n",
    "missing_length.head(10)"
   ]
  },
  {
   "cell_type": "markdown",
   "id": "bc52a4bd",
   "metadata": {},
   "source": [
    "## 7. Addressing the Missing Values in the `street_name` column\n",
    "**Including:**\n",
    "1. Reverse Geocoding to extract street names using the longitude/latitude that was extracted from the geometry.\n",
    "2. Data quality check.\n",
    "3. Integration of the street names into the main dataset.\n",
    "4. Validating the data merge."
   ]
  },
  {
   "cell_type": "markdown",
   "id": "33350a41",
   "metadata": {},
   "source": [
    "### 7.1. Reverse Geocoding"
   ]
  },
  {
   "cell_type": "markdown",
   "id": "b10e9546",
   "metadata": {},
   "source": [
    "#### Loading Libraries "
   ]
  },
  {
   "cell_type": "code",
   "execution_count": 49,
   "id": "a3fe30c3",
   "metadata": {},
   "outputs": [],
   "source": [
    "from geopy.geocoders import Nominatim\n",
    "from time import sleep\n",
    "from tqdm.notebook import tqdm"
   ]
  },
  {
   "cell_type": "markdown",
   "id": "7afebce2",
   "metadata": {},
   "source": [
    "#### Initialising a New Nominatim Geocoder for Retrieving Street Names"
   ]
  },
  {
   "cell_type": "code",
   "execution_count": 50,
   "id": "a302f325",
   "metadata": {},
   "outputs": [],
   "source": [
    "geolocator = Nominatim(user_agent=\"berlin_bikelanes_locator\")"
   ]
  },
  {
   "cell_type": "markdown",
   "id": "394234ef",
   "metadata": {},
   "source": [
    "#### Defining Reverse Geocoding Function to Extract Street Names"
   ]
  },
  {
   "cell_type": "code",
   "execution_count": 51,
   "id": "2773e80a",
   "metadata": {},
   "outputs": [],
   "source": [
    "def get_street_name(lat, lon):\n",
    "    try:\n",
    "        location = geolocator.reverse((lat, lon), exactly_one=True)\n",
    "        sleep(1)  # respect Nominatim API rate limits\n",
    "        if location and \"address\" in location.raw:\n",
    "            address = location.raw[\"address\"]\n",
    "            # Try multiple possible fields for road name\n",
    "            return (\n",
    "                address.get(\"road\")\n",
    "                or address.get(\"pedestrian\")\n",
    "                or address.get(\"footway\")\n",
    "                or address.get(\"street\")\n",
    "                or None\n",
    "            )\n",
    "        return None\n",
    "    except Exception as e:\n",
    "        print(f\"Error at ({lat}, {lon}): {e}\")\n",
    "        return None"
   ]
  },
  {
   "cell_type": "markdown",
   "id": "0c96a990",
   "metadata": {},
   "source": [
    "#### Selecting the Rows with Missing `street_name`Values"
   ]
  },
  {
   "cell_type": "code",
   "execution_count": 52,
   "id": "114baba5",
   "metadata": {},
   "outputs": [],
   "source": [
    "missing_street_rows = bike_lanes_final[bike_lanes_final[\"street_name\"].isna()].copy()"
   ]
  },
  {
   "cell_type": "markdown",
   "id": "cd92332f",
   "metadata": {},
   "source": [
    "#### Implement Progress Tracking"
   ]
  },
  {
   "cell_type": "code",
   "execution_count": 53,
   "id": "b2c71be7",
   "metadata": {},
   "outputs": [],
   "source": [
    "tqdm.pandas()"
   ]
  },
  {
   "cell_type": "markdown",
   "id": "9d448aac",
   "metadata": {},
   "source": [
    "#### Initial run for the Reverse Geocoding\n",
    "\n",
    "**Note:** There was a failure in this first implementation of the Reverse Geoocoding where I had to cancel the running of the cell and revisit the script to run the Reverse Geocoding successfully"
   ]
  },
  {
   "cell_type": "code",
   "execution_count": 54,
   "id": "01df8c2f",
   "metadata": {},
   "outputs": [],
   "source": [
    "results = []"
   ]
  },
  {
   "cell_type": "code",
   "execution_count": 55,
   "id": "3886b844",
   "metadata": {},
   "outputs": [],
   "source": [
    "SAVE_INTERVAL = 200"
   ]
  },
  {
   "cell_type": "code",
   "execution_count": 56,
   "id": "8bd57666",
   "metadata": {},
   "outputs": [
    {
     "data": {
      "application/vnd.jupyter.widget-view+json": {
       "model_id": "223c60f59d7149968b37ba70ff6c7b51",
       "version_major": 2,
       "version_minor": 0
      },
      "text/plain": [
       "  0%|          | 0/12937 [00:00<?, ?it/s]"
      ]
     },
     "metadata": {},
     "output_type": "display_data"
    },
    {
     "ename": "KeyboardInterrupt",
     "evalue": "",
     "output_type": "error",
     "traceback": [
      "\u001b[0;31m---------------------------------------------------------------------------\u001b[0m",
      "\u001b[0;31mKeyboardInterrupt\u001b[0m                         Traceback (most recent call last)",
      "Cell \u001b[0;32mIn[56], line 3\u001b[0m\n\u001b[1;32m      1\u001b[0m \u001b[38;5;28;01mfor\u001b[39;00m i, row \u001b[38;5;129;01min\u001b[39;00m tqdm(missing_street_rows\u001b[38;5;241m.\u001b[39miterrows(), total\u001b[38;5;241m=\u001b[39m\u001b[38;5;28mlen\u001b[39m(missing_street_rows)):\n\u001b[1;32m      2\u001b[0m     lat, lon \u001b[38;5;241m=\u001b[39m row[\u001b[38;5;124m\"\u001b[39m\u001b[38;5;124mlatitude\u001b[39m\u001b[38;5;124m\"\u001b[39m], row[\u001b[38;5;124m\"\u001b[39m\u001b[38;5;124mlongitude\u001b[39m\u001b[38;5;124m\"\u001b[39m]\n\u001b[0;32m----> 3\u001b[0m     street_name \u001b[38;5;241m=\u001b[39m get_street_name(lat, lon)\n\u001b[1;32m      5\u001b[0m     results\u001b[38;5;241m.\u001b[39mappend({\n\u001b[1;32m      6\u001b[0m         \u001b[38;5;124m\"\u001b[39m\u001b[38;5;124mlatitude\u001b[39m\u001b[38;5;124m\"\u001b[39m: lat,\n\u001b[1;32m      7\u001b[0m         \u001b[38;5;124m\"\u001b[39m\u001b[38;5;124mlongitude\u001b[39m\u001b[38;5;124m\"\u001b[39m: lon,\n\u001b[1;32m      8\u001b[0m         \u001b[38;5;124m\"\u001b[39m\u001b[38;5;124mstreet_name_filled\u001b[39m\u001b[38;5;124m\"\u001b[39m: street_name\n\u001b[1;32m      9\u001b[0m     })\n",
      "Cell \u001b[0;32mIn[51], line 4\u001b[0m, in \u001b[0;36mget_street_name\u001b[0;34m(lat, lon)\u001b[0m\n\u001b[1;32m      2\u001b[0m \u001b[38;5;28;01mtry\u001b[39;00m:\n\u001b[1;32m      3\u001b[0m     location \u001b[38;5;241m=\u001b[39m geolocator\u001b[38;5;241m.\u001b[39mreverse((lat, lon), exactly_one\u001b[38;5;241m=\u001b[39m\u001b[38;5;28;01mTrue\u001b[39;00m)\n\u001b[0;32m----> 4\u001b[0m     sleep(\u001b[38;5;241m1\u001b[39m)  \u001b[38;5;66;03m# respect Nominatim API rate limits\u001b[39;00m\n\u001b[1;32m      5\u001b[0m     \u001b[38;5;28;01mif\u001b[39;00m location \u001b[38;5;129;01mand\u001b[39;00m \u001b[38;5;124m\"\u001b[39m\u001b[38;5;124maddress\u001b[39m\u001b[38;5;124m\"\u001b[39m \u001b[38;5;129;01min\u001b[39;00m location\u001b[38;5;241m.\u001b[39mraw:\n\u001b[1;32m      6\u001b[0m         address \u001b[38;5;241m=\u001b[39m location\u001b[38;5;241m.\u001b[39mraw[\u001b[38;5;124m\"\u001b[39m\u001b[38;5;124maddress\u001b[39m\u001b[38;5;124m\"\u001b[39m]\n",
      "\u001b[0;31mKeyboardInterrupt\u001b[0m: "
     ]
    }
   ],
   "source": [
    "for i, row in tqdm(missing_street_rows.iterrows(), total=len(missing_street_rows)):\n",
    "    lat, lon = row[\"latitude\"], row[\"longitude\"]\n",
    "    street_name = get_street_name(lat, lon)\n",
    "    \n",
    "    results.append({\n",
    "        \"latitude\": lat,\n",
    "        \"longitude\": lon,\n",
    "        \"street_name_filled\": street_name\n",
    "    })"
   ]
  },
  {
   "cell_type": "code",
   "execution_count": null,
   "id": "e74afde6",
   "metadata": {},
   "outputs": [],
   "source": [
    "if (i + 1) % SAVE_INTERVAL == 0:\n",
    "        partial_df = pd.DataFrame(results)\n",
    "        partial_df.to_csv(\"street_name_progress.csv\", index=False)\n",
    "        print(f\"✅ Saved progress after {i + 1} rows...\")"
   ]
  },
  {
   "cell_type": "code",
   "execution_count": null,
   "id": "75b438b6",
   "metadata": {},
   "outputs": [
    {
     "name": "stdout",
     "output_type": "stream",
     "text": [
      "💾 Saved 1864 partial reverse-geocoded results to street_name_progress_partial.csv\n"
     ]
    }
   ],
   "source": [
    "import pandas as pd\n",
    "\n",
    "# Save current progress (whatever is in memory)\n",
    "partial_df = pd.DataFrame(results)\n",
    "partial_df.to_csv(\"street_name_progress_partial.csv\", index=False)\n",
    "print(f\"💾 Saved {len(partial_df)} partial reverse-geocoded results to street_name_progress_partial.csv\")"
   ]
  },
  {
   "cell_type": "markdown",
   "id": "b7dcedc7",
   "metadata": {},
   "source": [
    "#### Revised Reverse Geocoding \n",
    "\n",
    "Below, you will find cells similar to that of the cells above. This is because after 173 minutes of running the reverse geocoding function, I had approximately 14% of the null values processed but the following error message occured: \n",
    "\n",
    "`Error at (52.5255788, 13.5403042): HTTPSConnectionPool(host='nominatim.openstreetmap.org', port=443): Max retries exceeded with url: /reverse?lat=52.5255788&lon=13.5403042&format=json&addressdetails=1 (Caused by ReadTimeoutError(\"HTTPSConnectionPool(host='nominatim.openstreetmap.org', port=443): Read timed out. (read timeout=1)\"))`\n",
    "\n",
    "**According to further research, this error may have occured based on the following:**\n",
    "1. Nominatim is rate-limited and sensitive to many requests or network lags.\n",
    "2. The default timeout miay be too short for such a large dataset (12937 missing `street_name`records)\n",
    "\n",
    "**Suggested solution based on research:**\n",
    "Write an improved version of the code that includes a longer timout and 'retry' logic to skip or retry failed requests. \n",
    "\n",
    "**Adjusted Reverse Geocoding Implementation Plan**\n",
    "1. Rerun library imports to be safe.\n",
    "2. Re-initialise geolocator.\n",
    "3. Redefine reverse geocoding function with retries (a safety mechanism incase issues arise and the sleep rate is reduce by 0.5 seconds for faster processing time while keeping the code limitations in mind).\n",
    "4. Load partial results (saved from first attempt to reverse geocode street names).\n",
    "5. Prepare the missing rows to process.\n",
    "6. Re-run reverse geocoding loop with partial saves as a safety mechanism. (crashed again and had to rewrite some of the code)\n",
    "7. Save the completed results."
   ]
  },
  {
   "cell_type": "code",
   "execution_count": 57,
   "id": "ebe20506",
   "metadata": {},
   "outputs": [],
   "source": [
    "import pandas as pd\n",
    "from geopy.geocoders import Nominatim\n",
    "from geopy.exc import GeocoderTimedOut\n",
    "from time import sleep\n",
    "from tqdm.notebook import tqdm"
   ]
  },
  {
   "cell_type": "code",
   "execution_count": null,
   "id": "e17c0d5a",
   "metadata": {},
   "outputs": [],
   "source": [
    "geolocator = Nominatim(user_agent=\"berlin_bikelanes_locator\")"
   ]
  },
  {
   "cell_type": "code",
   "execution_count": null,
   "id": "6449de91",
   "metadata": {},
   "outputs": [],
   "source": [
    "def get_street_name(lat, lon, max_retries=3):\n",
    "    attempt = 0\n",
    "    while attempt < max_retries:\n",
    "        try:\n",
    "            location = geolocator.reverse((lat, lon), exactly_one=True)\n",
    "            sleep(1) # to avoid being blocked by API\n",
    "            if location and \"address\" in location.raw:\n",
    "                address = location.raw[\"address\"]\n",
    "                return (\n",
    "                    address.get(\"road\")\n",
    "                    or address.get(\"pedestrian\")\n",
    "                    or address.get(\"footway\")\n",
    "                    or address.get(\"street\")\n",
    "                    or None\n",
    "                )\n",
    "            return None\n",
    "        except GeocoderTimedOut:\n",
    "            attempt += 1\n",
    "            print(f\"⚠️ Timeout at ({lat}, {lon}), retrying {attempt}/{max_retries}...\")\n",
    "            sleep(2)  # longer backoff\n",
    "        except Exception as e:\n",
    "            print(f\"❌ Error at ({lat}, {lon}): {e}\")\n",
    "            return None\n",
    "    print(f\"❌ Failed after {max_retries} retries: ({lat}, {lon})\")\n",
    "    return None"
   ]
  },
  {
   "cell_type": "code",
   "execution_count": null,
   "id": "e1a5cfbc",
   "metadata": {},
   "outputs": [],
   "source": [
    "missing_street_rows = bike_lanes_final[bike_lanes_final[\"street_name\"].isna()].copy()\n",
    "tqdm.pandas()\n",
    "results = []\n",
    "\n",
    "SAVE_INTERVAL = 200"
   ]
  },
  {
   "cell_type": "code",
   "execution_count": null,
   "id": "3da6f8d8",
   "metadata": {},
   "outputs": [
    {
     "name": "stdout",
     "output_type": "stream",
     "text": [
      "📂 Found partial progress, loading...\n",
      "⏩ Resuming with 10905 rows remaining...\n"
     ]
    }
   ],
   "source": [
    "import os\n",
    "\n",
    "partial_file = \"street_name_progress_partial.csv\"\n",
    "\n",
    "if os.path.exists(partial_file):\n",
    "    print(\"📂 Found partial progress, loading...\")\n",
    "    partial_df = pd.read_csv(partial_file)\n",
    "    results = partial_df.to_dict(orient=\"records\")\n",
    "    \n",
    "    # Remove rows already processed from missing_street_rows\n",
    "    processed_coords = set(zip(partial_df.latitude, partial_df.longitude))\n",
    "    missing_street_rows = missing_street_rows[\n",
    "        ~missing_street_rows.apply(lambda r: (r.latitude, r.longitude) in processed_coords, axis=1)\n",
    "    ]\n",
    "    \n",
    "    print(f\"⏩ Resuming with {len(missing_street_rows)} rows remaining...\")"
   ]
  },
  {
   "cell_type": "code",
   "execution_count": null,
   "id": "c35e87a3",
   "metadata": {},
   "outputs": [
    {
     "name": "stdout",
     "output_type": "stream",
     "text": [
      "ℹ️ 11041 rows remaining to process.\n"
     ]
    }
   ],
   "source": [
    "# Filter rows that still need street names\n",
    "processed_coords = {(r['latitude'], r['longitude']) for r in results}  # coords already processed\n",
    "missing_street_rows = bike_lanes_final[bike_lanes_final[\"street_name\"].isna()].copy()\n",
    "\n",
    "# Keep only rows not yet processed\n",
    "rows_to_process = missing_street_rows[~missing_street_rows.apply(lambda r: (r[\"latitude\"], r[\"longitude\"]) in processed_coords, axis=1)]\n",
    "print(f\"ℹ️ {len(rows_to_process)} rows remaining to process.\")"
   ]
  },
  {
   "cell_type": "code",
   "execution_count": null,
   "id": "ae30f760",
   "metadata": {},
   "outputs": [
    {
     "data": {
      "application/vnd.jupyter.widget-view+json": {
       "model_id": "ae49f1c4d4414c6ea475cafbf60a68a4",
       "version_major": 2,
       "version_minor": 0
      },
      "text/plain": [
       "  0%|          | 0/10905 [00:00<?, ?it/s]"
      ]
     },
     "metadata": {},
     "output_type": "display_data"
    },
    {
     "name": "stdout",
     "output_type": "stream",
     "text": [
      "💾 Saved progress after 30000 rows...\n",
      "💾 Saved progress after 31000 rows...\n",
      "💾 Saved progress after 32000 rows...\n",
      "💾 Saved progress after 32200 rows...\n",
      "💾 Saved progress after 33000 rows...\n",
      "💾 Saved progress after 33600 rows...\n",
      "💾 Saved progress after 33800 rows...\n",
      "💾 Saved progress after 34200 rows...\n",
      "💾 Saved progress after 34800 rows...\n",
      "❌ Error at (52.5522585, 13.2488022): HTTPSConnectionPool(host='nominatim.openstreetmap.org', port=443): Max retries exceeded with url: /reverse?lat=52.5522585&lon=13.2488022&format=json&addressdetails=1 (Caused by ReadTimeoutError(\"HTTPSConnectionPool(host='nominatim.openstreetmap.org', port=443): Read timed out. (read timeout=1)\"))\n",
      "❌ Error at (52.6028242, 13.3331901): HTTPSConnectionPool(host='nominatim.openstreetmap.org', port=443): Max retries exceeded with url: /reverse?lat=52.6028242&lon=13.3331901&format=json&addressdetails=1 (Caused by ReadTimeoutError(\"HTTPSConnectionPool(host='nominatim.openstreetmap.org', port=443): Read timed out. (read timeout=1)\"))\n",
      "❌ Error at (52.5620909, 13.5162319): HTTPSConnectionPool(host='nominatim.openstreetmap.org', port=443): Max retries exceeded with url: /reverse?lat=52.5620909&lon=13.5162319&format=json&addressdetails=1 (Caused by ReadTimeoutError(\"HTTPSConnectionPool(host='nominatim.openstreetmap.org', port=443): Read timed out. (read timeout=1)\"))\n",
      "❌ Error at (52.5462008, 13.5098114): HTTPSConnectionPool(host='nominatim.openstreetmap.org', port=443): Max retries exceeded with url: /reverse?lat=52.5462008&lon=13.5098114&format=json&addressdetails=1 (Caused by ReadTimeoutError(\"HTTPSConnectionPool(host='nominatim.openstreetmap.org', port=443): Read timed out. (read timeout=1)\"))\n",
      "💾 Saved progress after 35800 rows...\n",
      "💾 Saved progress after 36600 rows...\n",
      "💾 Saved progress after 36800 rows...\n",
      "💾 Saved progress after 37600 rows...\n",
      "💾 Saved progress after 38000 rows...\n",
      "💾 Saved progress after 41200 rows...\n",
      "💾 Saved progress after 44200 rows...\n",
      "💾 Saved progress after 45600 rows...\n",
      "💾 Saved progress after 46200 rows...\n",
      "💾 Saved progress after 46800 rows...\n",
      "💾 Saved progress after 49800 rows...\n",
      "💾 Saved progress after 50200 rows...\n",
      "💾 Saved progress after 50400 rows...\n",
      "💾 Saved progress after 51600 rows...\n",
      "💾 Saved progress after 51800 rows...\n",
      "💾 Saved progress after 52600 rows...\n",
      "💾 Saved progress after 52800 rows...\n",
      "💾 Saved progress after 53200 rows...\n",
      "💾 Saved progress after 53600 rows...\n",
      "💾 Saved progress after 53800 rows...\n",
      "💾 Saved progress after 54000 rows...\n",
      "💾 Saved progress after 54200 rows...\n",
      "💾 Saved progress after 54400 rows...\n",
      "💾 Saved progress after 54600 rows...\n",
      "💾 Saved progress after 54800 rows...\n",
      "💾 Saved progress after 55000 rows...\n",
      "💾 Saved progress after 55400 rows...\n",
      "💾 Saved progress after 55800 rows...\n",
      "💾 Saved progress after 56000 rows...\n",
      "💾 Saved progress after 57600 rows...\n",
      "💾 Saved progress after 58400 rows...\n",
      "💾 Saved progress after 58800 rows...\n",
      "💾 Saved progress after 59000 rows...\n",
      "💾 Saved progress after 59600 rows...\n",
      "💾 Saved progress after 59800 rows...\n",
      "💾 Saved progress after 60000 rows...\n",
      "💾 Saved progress after 60200 rows...\n",
      "💾 Saved progress after 60800 rows...\n",
      "💾 Saved progress after 61400 rows...\n",
      "💾 Saved progress after 61600 rows...\n",
      "💾 Saved progress after 61800 rows...\n",
      "💾 Saved progress after 62200 rows...\n",
      "💾 Saved progress after 62400 rows...\n",
      "❌ Error at (52.4881489, 13.3067569): HTTPSConnectionPool(host='nominatim.openstreetmap.org', port=443): Max retries exceeded with url: /reverse?lat=52.4881489&lon=13.3067569&format=json&addressdetails=1 (Caused by ConnectTimeoutError(<urllib3.connection.HTTPSConnection object at 0x31a7ab9d0>, 'Connection to nominatim.openstreetmap.org timed out. (connect timeout=1)'))\n",
      "💾 Saved progress after 63200 rows...\n",
      "💾 Saved progress after 63600 rows...\n",
      "💾 Saved progress after 63800 rows...\n",
      "💾 Saved progress after 66000 rows...\n",
      "💾 Saved progress after 68800 rows...\n",
      "💾 Saved progress after 74000 rows...\n",
      "✅ Reverse geocoding complete. Total rows processed: 12905\n"
     ]
    }
   ],
   "source": [
    "for i, row in tqdm(missing_street_rows.iterrows(), total=len(missing_street_rows)):\n",
    "    lat, lon = row[\"latitude\"], row[\"longitude\"]\n",
    "    street_name = get_street_name(lat, lon)\n",
    "    \n",
    "    results.append({\n",
    "        \"latitude\": lat,\n",
    "        \"longitude\": lon,\n",
    "        \"street_name_filled\": street_name\n",
    "    })\n",
    "    \n",
    "    if (i + 1) % SAVE_INTERVAL == 0:\n",
    "        partial_df = pd.DataFrame(results)\n",
    "        partial_df.to_csv(partial_file, index=False)\n",
    "        print(f\"💾 Saved progress after {i + 1} rows...\")\n",
    "\n",
    "# Save final results\n",
    "final_results_df = pd.DataFrame(results)\n",
    "final_results_df.to_csv(\"street_name_progress_final.csv\", index=False)\n",
    "print(f\"✅ Reverse geocoding complete. Total rows processed: {len(final_results_df)}\")"
   ]
  },
  {
   "cell_type": "markdown",
   "id": "2571a757",
   "metadata": {},
   "source": [
    "### 7.2. Data Quality Check"
   ]
  },
  {
   "cell_type": "markdown",
   "id": "71d8a40c",
   "metadata": {},
   "source": [
    "#### Loading the final geocoded results"
   ]
  },
  {
   "cell_type": "code",
   "execution_count": 58,
   "id": "1e90660f",
   "metadata": {},
   "outputs": [
    {
     "data": {
      "text/html": [
       "<div>\n",
       "<style scoped>\n",
       "    .dataframe tbody tr th:only-of-type {\n",
       "        vertical-align: middle;\n",
       "    }\n",
       "\n",
       "    .dataframe tbody tr th {\n",
       "        vertical-align: top;\n",
       "    }\n",
       "\n",
       "    .dataframe thead th {\n",
       "        text-align: right;\n",
       "    }\n",
       "</style>\n",
       "<table border=\"1\" class=\"dataframe\">\n",
       "  <thead>\n",
       "    <tr style=\"text-align: right;\">\n",
       "      <th></th>\n",
       "      <th>latitude</th>\n",
       "      <th>longitude</th>\n",
       "      <th>street_name_filled</th>\n",
       "    </tr>\n",
       "  </thead>\n",
       "  <tbody>\n",
       "    <tr>\n",
       "      <th>0</th>\n",
       "      <td>52.471086</td>\n",
       "      <td>13.463522</td>\n",
       "      <td>Sonnenallee</td>\n",
       "    </tr>\n",
       "    <tr>\n",
       "      <th>1</th>\n",
       "      <td>52.589748</td>\n",
       "      <td>13.346163</td>\n",
       "      <td>Schorfheidestraße</td>\n",
       "    </tr>\n",
       "    <tr>\n",
       "      <th>2</th>\n",
       "      <td>52.589653</td>\n",
       "      <td>13.345786</td>\n",
       "      <td>Am Nordgraben</td>\n",
       "    </tr>\n",
       "    <tr>\n",
       "      <th>3</th>\n",
       "      <td>52.487710</td>\n",
       "      <td>13.425639</td>\n",
       "      <td>Sonnenallee</td>\n",
       "    </tr>\n",
       "    <tr>\n",
       "      <th>4</th>\n",
       "      <td>52.568058</td>\n",
       "      <td>13.306425</td>\n",
       "      <td>Scharnweberstraße</td>\n",
       "    </tr>\n",
       "  </tbody>\n",
       "</table>\n",
       "</div>"
      ],
      "text/plain": [
       "    latitude  longitude street_name_filled\n",
       "0  52.471086  13.463522        Sonnenallee\n",
       "1  52.589748  13.346163  Schorfheidestraße\n",
       "2  52.589653  13.345786      Am Nordgraben\n",
       "3  52.487710  13.425639        Sonnenallee\n",
       "4  52.568058  13.306425  Scharnweberstraße"
      ]
     },
     "execution_count": 58,
     "metadata": {},
     "output_type": "execute_result"
    }
   ],
   "source": [
    "geocoded_df = pd.read_csv(\"street_name_progress_final.csv\")\n",
    "geocoded_df.head()"
   ]
  },
  {
   "cell_type": "markdown",
   "id": "8781ebd6",
   "metadata": {},
   "source": [
    "#### Basic Data Quality Check"
   ]
  },
  {
   "cell_type": "code",
   "execution_count": 59,
   "id": "3adde5c7",
   "metadata": {},
   "outputs": [
    {
     "name": "stdout",
     "output_type": "stream",
     "text": [
      "<class 'pandas.core.frame.DataFrame'>\n",
      "RangeIndex: 12905 entries, 0 to 12904\n",
      "Data columns (total 3 columns):\n",
      " #   Column              Non-Null Count  Dtype  \n",
      "---  ------              --------------  -----  \n",
      " 0   latitude            12905 non-null  float64\n",
      " 1   longitude           12905 non-null  float64\n",
      " 2   street_name_filled  12658 non-null  object \n",
      "dtypes: float64(2), object(1)\n",
      "memory usage: 302.6+ KB\n"
     ]
    },
    {
     "data": {
      "text/plain": [
       "2318"
      ]
     },
     "execution_count": 59,
     "metadata": {},
     "output_type": "execute_result"
    }
   ],
   "source": [
    "geocoded_df.info()\n",
    "geocoded_df.isna().sum()\n",
    "geocoded_df[\"street_name_filled\"].nunique()"
   ]
  },
  {
   "cell_type": "markdown",
   "id": "d481a285",
   "metadata": {},
   "source": [
    "Based on the data quality check, we have the following results:\n",
    "1. A total of 12905 records.\n",
    "2. We **still** have *(12905 - 12658)* 247 records missing which makes up *(247/12905 * 100)* 1.91% of the records missing.  "
   ]
  },
  {
   "cell_type": "markdown",
   "id": "9a6e69d0",
   "metadata": {},
   "source": [
    "#### Possible Duplicates"
   ]
  },
  {
   "cell_type": "code",
   "execution_count": 60,
   "id": "807ad754",
   "metadata": {},
   "outputs": [
    {
     "name": "stdout",
     "output_type": "stream",
     "text": [
      "462\n"
     ]
    },
    {
     "data": {
      "text/html": [
       "<div>\n",
       "<style scoped>\n",
       "    .dataframe tbody tr th:only-of-type {\n",
       "        vertical-align: middle;\n",
       "    }\n",
       "\n",
       "    .dataframe tbody tr th {\n",
       "        vertical-align: top;\n",
       "    }\n",
       "\n",
       "    .dataframe thead th {\n",
       "        text-align: right;\n",
       "    }\n",
       "</style>\n",
       "<table border=\"1\" class=\"dataframe\">\n",
       "  <thead>\n",
       "    <tr style=\"text-align: right;\">\n",
       "      <th></th>\n",
       "      <th>latitude</th>\n",
       "      <th>longitude</th>\n",
       "      <th>street_name_filled</th>\n",
       "    </tr>\n",
       "  </thead>\n",
       "  <tbody>\n",
       "    <tr>\n",
       "      <th>3</th>\n",
       "      <td>52.487710</td>\n",
       "      <td>13.425639</td>\n",
       "      <td>Sonnenallee</td>\n",
       "    </tr>\n",
       "    <tr>\n",
       "      <th>32</th>\n",
       "      <td>52.560441</td>\n",
       "      <td>13.321850</td>\n",
       "      <td>Kurt-Schumacher-Damm</td>\n",
       "    </tr>\n",
       "    <tr>\n",
       "      <th>33</th>\n",
       "      <td>52.560441</td>\n",
       "      <td>13.321850</td>\n",
       "      <td>Kurt-Schumacher-Damm</td>\n",
       "    </tr>\n",
       "    <tr>\n",
       "      <th>35</th>\n",
       "      <td>52.550109</td>\n",
       "      <td>13.295809</td>\n",
       "      <td>NaN</td>\n",
       "    </tr>\n",
       "    <tr>\n",
       "      <th>36</th>\n",
       "      <td>52.549612</td>\n",
       "      <td>13.295961</td>\n",
       "      <td>NaN</td>\n",
       "    </tr>\n",
       "  </tbody>\n",
       "</table>\n",
       "</div>"
      ],
      "text/plain": [
       "     latitude  longitude    street_name_filled\n",
       "3   52.487710  13.425639           Sonnenallee\n",
       "32  52.560441  13.321850  Kurt-Schumacher-Damm\n",
       "33  52.560441  13.321850  Kurt-Schumacher-Damm\n",
       "35  52.550109  13.295809                   NaN\n",
       "36  52.549612  13.295961                   NaN"
      ]
     },
     "execution_count": 60,
     "metadata": {},
     "output_type": "execute_result"
    }
   ],
   "source": [
    "duplicates = geocoded_df[geocoded_df.duplicated(subset=[\"latitude\", \"longitude\"], keep=False)]\n",
    "print(len(duplicates))\n",
    "duplicates.head()"
   ]
  },
  {
   "cell_type": "markdown",
   "id": "90ab8c54",
   "metadata": {},
   "source": [
    "Based on the duplicates check, we have the following results:\n",
    "\n",
    "1. 462 rows with the same longitude/latitude.\n",
    "\n",
    "Plan to address duplicates:\n",
    "1. Drop one copy of the duplicate pairs.\n",
    "*Check if one of the duplicates of the longitude/latitude don't have street names (NaN value) and preferably drop the duplicate with the NaN value*"
   ]
  },
  {
   "cell_type": "code",
   "execution_count": 61,
   "id": "bc252d3e",
   "metadata": {},
   "outputs": [
    {
     "data": {
      "text/plain": [
       "np.int64(14)"
      ]
     },
     "execution_count": 61,
     "metadata": {},
     "output_type": "execute_result"
    }
   ],
   "source": [
    "# Check if how many pairs of duplicates possibly have NaN values\n",
    "duplicates[\"street_name_filled\"].isna().sum()"
   ]
  },
  {
   "cell_type": "code",
   "execution_count": 62,
   "id": "3999fb3d",
   "metadata": {},
   "outputs": [
    {
     "data": {
      "text/html": [
       "<div>\n",
       "<style scoped>\n",
       "    .dataframe tbody tr th:only-of-type {\n",
       "        vertical-align: middle;\n",
       "    }\n",
       "\n",
       "    .dataframe tbody tr th {\n",
       "        vertical-align: top;\n",
       "    }\n",
       "\n",
       "    .dataframe thead th {\n",
       "        text-align: right;\n",
       "    }\n",
       "</style>\n",
       "<table border=\"1\" class=\"dataframe\">\n",
       "  <thead>\n",
       "    <tr style=\"text-align: right;\">\n",
       "      <th></th>\n",
       "      <th>latitude</th>\n",
       "      <th>longitude</th>\n",
       "      <th>street_name_filled</th>\n",
       "    </tr>\n",
       "  </thead>\n",
       "  <tbody>\n",
       "    <tr>\n",
       "      <th>35</th>\n",
       "      <td>52.550109</td>\n",
       "      <td>13.295809</td>\n",
       "      <td>NaN</td>\n",
       "    </tr>\n",
       "    <tr>\n",
       "      <th>36</th>\n",
       "      <td>52.549612</td>\n",
       "      <td>13.295961</td>\n",
       "      <td>NaN</td>\n",
       "    </tr>\n",
       "    <tr>\n",
       "      <th>51</th>\n",
       "      <td>52.576305</td>\n",
       "      <td>13.294564</td>\n",
       "      <td>NaN</td>\n",
       "    </tr>\n",
       "    <tr>\n",
       "      <th>61</th>\n",
       "      <td>52.550109</td>\n",
       "      <td>13.295809</td>\n",
       "      <td>NaN</td>\n",
       "    </tr>\n",
       "    <tr>\n",
       "      <th>509</th>\n",
       "      <td>52.576305</td>\n",
       "      <td>13.294564</td>\n",
       "      <td>NaN</td>\n",
       "    </tr>\n",
       "    <tr>\n",
       "      <th>633</th>\n",
       "      <td>52.549612</td>\n",
       "      <td>13.295961</td>\n",
       "      <td>NaN</td>\n",
       "    </tr>\n",
       "    <tr>\n",
       "      <th>1709</th>\n",
       "      <td>52.499386</td>\n",
       "      <td>13.388892</td>\n",
       "      <td>NaN</td>\n",
       "    </tr>\n",
       "    <tr>\n",
       "      <th>1769</th>\n",
       "      <td>52.499386</td>\n",
       "      <td>13.388892</td>\n",
       "      <td>NaN</td>\n",
       "    </tr>\n",
       "    <tr>\n",
       "      <th>2422</th>\n",
       "      <td>52.601794</td>\n",
       "      <td>13.303236</td>\n",
       "      <td>NaN</td>\n",
       "    </tr>\n",
       "    <tr>\n",
       "      <th>3724</th>\n",
       "      <td>52.601794</td>\n",
       "      <td>13.303236</td>\n",
       "      <td>NaN</td>\n",
       "    </tr>\n",
       "    <tr>\n",
       "      <th>5892</th>\n",
       "      <td>52.452587</td>\n",
       "      <td>13.452260</td>\n",
       "      <td>NaN</td>\n",
       "    </tr>\n",
       "    <tr>\n",
       "      <th>5893</th>\n",
       "      <td>52.452587</td>\n",
       "      <td>13.452260</td>\n",
       "      <td>NaN</td>\n",
       "    </tr>\n",
       "    <tr>\n",
       "      <th>5983</th>\n",
       "      <td>52.522420</td>\n",
       "      <td>13.300254</td>\n",
       "      <td>NaN</td>\n",
       "    </tr>\n",
       "    <tr>\n",
       "      <th>8652</th>\n",
       "      <td>52.522420</td>\n",
       "      <td>13.300254</td>\n",
       "      <td>NaN</td>\n",
       "    </tr>\n",
       "  </tbody>\n",
       "</table>\n",
       "</div>"
      ],
      "text/plain": [
       "       latitude  longitude street_name_filled\n",
       "35    52.550109  13.295809                NaN\n",
       "36    52.549612  13.295961                NaN\n",
       "51    52.576305  13.294564                NaN\n",
       "61    52.550109  13.295809                NaN\n",
       "509   52.576305  13.294564                NaN\n",
       "633   52.549612  13.295961                NaN\n",
       "1709  52.499386  13.388892                NaN\n",
       "1769  52.499386  13.388892                NaN\n",
       "2422  52.601794  13.303236                NaN\n",
       "3724  52.601794  13.303236                NaN\n",
       "5892  52.452587  13.452260                NaN\n",
       "5893  52.452587  13.452260                NaN\n",
       "5983  52.522420  13.300254                NaN\n",
       "8652  52.522420  13.300254                NaN"
      ]
     },
     "execution_count": 62,
     "metadata": {},
     "output_type": "execute_result"
    }
   ],
   "source": [
    "# Previewing if both records have duplicate NaN values\n",
    "duplicates[duplicates[\"street_name_filled\"].isna()].head(14)"
   ]
  },
  {
   "cell_type": "code",
   "execution_count": 63,
   "id": "6d58e668",
   "metadata": {},
   "outputs": [
    {
     "data": {
      "text/plain": [
       "street_name_filled\n",
       "False    228\n",
       "Name: count, dtype: int64"
      ]
     },
     "execution_count": 63,
     "metadata": {},
     "output_type": "execute_result"
    }
   ],
   "source": [
    "# Previewing if any of the duplicate values have 1 with a street_name and 1 with an NaN value\n",
    "mixed_groups = (\n",
    "    duplicates.groupby([\"latitude\", \"longitude\"])[\"street_name_filled\"]\n",
    "    .apply(lambda x: x.isna().any() and x.notna().any())\n",
    ")\n",
    "\n",
    "mixed_groups.value_counts()"
   ]
  },
  {
   "cell_type": "code",
   "execution_count": 64,
   "id": "0cbf52bd",
   "metadata": {},
   "outputs": [],
   "source": [
    "# Sort so that non-null street names come first\n",
    "geocoded_df = geocoded_df.sort_values(\n",
    "    by=[\"latitude\", \"longitude\", \"street_name_filled\"],\n",
    "    ascending=[True, True, True]\n",
    ")"
   ]
  },
  {
   "cell_type": "markdown",
   "id": "dce8a44f",
   "metadata": {},
   "source": [
    "#### Conjecture on remaining Missing Values after Reverse Geocoding"
   ]
  },
  {
   "cell_type": "markdown",
   "id": "13ecab62",
   "metadata": {},
   "source": [
    "Based on some further research, I found that there may be a possibility where Nominatim may not be able to pick up some of the names of streets based on the provided longitude/latitude due to clustering in certain areas (like around bodies of water, parks, industrial areas, etc.)  \n"
   ]
  },
  {
   "cell_type": "code",
   "execution_count": 65,
   "id": "77ca6210",
   "metadata": {},
   "outputs": [],
   "source": [
    "import matplotlib.pyplot as plt"
   ]
  },
  {
   "cell_type": "code",
   "execution_count": 66,
   "id": "b7923d11",
   "metadata": {},
   "outputs": [
    {
     "data": {
      "image/png": "[encoded data removed]",
      "text/plain": [
       "<Figure size 600x600 with 1 Axes>"
      ]
     },
     "metadata": {},
     "output_type": "display_data"
    }
   ],
   "source": [
    "# Filter for missing street names\n",
    "missing_streets = geocoded_df[geocoded_df[\"street_name_filled\"].isna()]\n",
    "\n",
    "# Define the plot limits based on the min/max of missing points, with a buffer\n",
    "lon_min, lon_max = missing_streets[\"longitude\"].min() - 0.01, missing_streets[\"longitude\"].max() + 0.01\n",
    "lat_min, lat_max = missing_streets[\"latitude\"].min() - 0.01, missing_streets[\"latitude\"].max() + 0.01\n",
    "\n",
    "plt.figure(figsize=(6, 6))\n",
    "\n",
    "# Plot all points\n",
    "plt.scatter(geocoded_df[\"longitude\"], geocoded_df[\"latitude\"], \n",
    "            s=5, color=\"lightgreen\", label=\"With Street Name\", alpha=0.5)\n",
    "\n",
    "# Plot missing points\n",
    "plt.scatter(missing_streets[\"longitude\"], missing_streets[\"latitude\"], \n",
    "            s=15, color=\"red\", label=\"Missing Street Name\", alpha=0.8)\n",
    "\n",
    "plt.xlim(lon_min, lon_max)\n",
    "plt.ylim(lat_min, lat_max)\n",
    "\n",
    "plt.xlabel(\"Longitude\")\n",
    "plt.ylabel(\"Latitude\")\n",
    "plt.title(f\"Zoomed Geographic Distribution of Missing Street Names ({len(missing_streets)} points)\")\n",
    "plt.legend()\n",
    "plt.grid(True)\n",
    "plt.show()"
   ]
  },
  {
   "cell_type": "code",
   "execution_count": 67,
   "id": "031a2f1c",
   "metadata": {},
   "outputs": [
    {
     "name": "stdout",
     "output_type": "stream",
     "text": [
      "Potential near-duplicate coordinate pairs (within ~1m): 236\n"
     ]
    }
   ],
   "source": [
    "# Round coordinates to 5 decimal places (≈1 meter precision)\n",
    "rounded_dupes = (\n",
    "    geocoded_df\n",
    "    .assign(\n",
    "        lat_round=geocoded_df[\"latitude\"].round(5),\n",
    "        lon_round=geocoded_df[\"longitude\"].round(5)\n",
    "    )\n",
    "    .duplicated(subset=[\"lat_round\", \"lon_round\"])\n",
    "    .sum()\n",
    ")\n",
    "print(f\"Potential near-duplicate coordinate pairs (within ~1m): {rounded_dupes}\")"
   ]
  },
  {
   "cell_type": "markdown",
   "id": "77a73870",
   "metadata": {},
   "source": [
    "### 7.3. Integrating Reverse Geocoded `street_name` Column back into Main Dataset"
   ]
  },
  {
   "cell_type": "markdown",
   "id": "5ac211b7",
   "metadata": {},
   "source": [
    "I only performed the reverse geocoding on the rows that had missing street names  and then I saved those results into a partial (result of the 1st interrupted geocoding run) & final results table, with the following columns: **`latitude`**. **`longitude`**, **`street_name_filled`**. Based on this logic, I can directly reattach the `bikelane_id` column to the relative rows which I will then use as a primary key to merge this data back into the main table. "
   ]
  },
  {
   "cell_type": "markdown",
   "id": "ba45b2e2",
   "metadata": {},
   "source": [
    "#### Step 1: Create the table that will be used to merge later on."
   ]
  },
  {
   "cell_type": "code",
   "execution_count": 68,
   "id": "35003ce1",
   "metadata": {},
   "outputs": [
    {
     "name": "stdout",
     "output_type": "stream",
     "text": [
      "✅ Saved 12937 rows for re-geocoding with IDs.\n"
     ]
    }
   ],
   "source": [
    "coords_with_id = bike_lanes_final.loc[\n",
    "    bike_lanes_final[\"street_name\"].isna(),\n",
    "    [\"bikelane_id\", \"latitude\", \"longitude\"]\n",
    "].copy()\n",
    "\n",
    "coords_with_id.to_csv(\"missing_street_coords_with_id.csv\", index=False)\n",
    "print(f\"✅ Saved {len(coords_with_id)} rows for re-geocoding with IDs.\")"
   ]
  },
  {
   "cell_type": "markdown",
   "id": "fc3da27b",
   "metadata": {},
   "source": [
    "#### Step 2: Link `bikelane_id` Back to Geocoded Results"
   ]
  },
  {
   "cell_type": "code",
   "execution_count": 69,
   "id": "c1498e57",
   "metadata": {},
   "outputs": [
    {
     "name": "stdout",
     "output_type": "stream",
     "text": [
      "✅ Geocoded results with IDs shape: (13413, 4)\n"
     ]
    },
    {
     "data": {
      "text/html": [
       "<div>\n",
       "<style scoped>\n",
       "    .dataframe tbody tr th:only-of-type {\n",
       "        vertical-align: middle;\n",
       "    }\n",
       "\n",
       "    .dataframe tbody tr th {\n",
       "        vertical-align: top;\n",
       "    }\n",
       "\n",
       "    .dataframe thead th {\n",
       "        text-align: right;\n",
       "    }\n",
       "</style>\n",
       "<table border=\"1\" class=\"dataframe\">\n",
       "  <thead>\n",
       "    <tr style=\"text-align: right;\">\n",
       "      <th></th>\n",
       "      <th>bikelane_id</th>\n",
       "      <th>latitude</th>\n",
       "      <th>longitude</th>\n",
       "      <th>street_name_filled</th>\n",
       "    </tr>\n",
       "  </thead>\n",
       "  <tbody>\n",
       "    <tr>\n",
       "      <th>0</th>\n",
       "      <td>way/517805554</td>\n",
       "      <td>52.471086</td>\n",
       "      <td>13.463522</td>\n",
       "      <td>Sonnenallee</td>\n",
       "    </tr>\n",
       "    <tr>\n",
       "      <th>1</th>\n",
       "      <td>way/1186003574</td>\n",
       "      <td>52.589748</td>\n",
       "      <td>13.346163</td>\n",
       "      <td>Schorfheidestraße</td>\n",
       "    </tr>\n",
       "    <tr>\n",
       "      <th>2</th>\n",
       "      <td>way/1186011275</td>\n",
       "      <td>52.589653</td>\n",
       "      <td>13.345786</td>\n",
       "      <td>Am Nordgraben</td>\n",
       "    </tr>\n",
       "    <tr>\n",
       "      <th>3</th>\n",
       "      <td>way/1187324842</td>\n",
       "      <td>52.487710</td>\n",
       "      <td>13.425639</td>\n",
       "      <td>Sonnenallee</td>\n",
       "    </tr>\n",
       "    <tr>\n",
       "      <th>4</th>\n",
       "      <td>way/1187324842</td>\n",
       "      <td>52.487710</td>\n",
       "      <td>13.425639</td>\n",
       "      <td>Sonnenallee</td>\n",
       "    </tr>\n",
       "  </tbody>\n",
       "</table>\n",
       "</div>"
      ],
      "text/plain": [
       "      bikelane_id   latitude  longitude street_name_filled\n",
       "0   way/517805554  52.471086  13.463522        Sonnenallee\n",
       "1  way/1186003574  52.589748  13.346163  Schorfheidestraße\n",
       "2  way/1186011275  52.589653  13.345786      Am Nordgraben\n",
       "3  way/1187324842  52.487710  13.425639        Sonnenallee\n",
       "4  way/1187324842  52.487710  13.425639        Sonnenallee"
      ]
     },
     "execution_count": 69,
     "metadata": {},
     "output_type": "execute_result"
    }
   ],
   "source": [
    "# Load both tables\n",
    "geocoded_results = pd.read_csv(\"street_name_progress_final.csv\")\n",
    "coords_with_id = pd.read_csv(\"missing_street_coords_with_id.csv\")\n",
    "\n",
    "# Merge by coordinates\n",
    "geocoded_with_id = (\n",
    "    coords_with_id\n",
    "    .merge(\n",
    "        geocoded_results,\n",
    "        on=[\"latitude\", \"longitude\"],\n",
    "        how=\"left\"\n",
    "    )\n",
    ")\n",
    "\n",
    "print(\"✅ Geocoded results with IDs shape:\", geocoded_with_id.shape)\n",
    "geocoded_with_id.head()"
   ]
  },
  {
   "cell_type": "markdown",
   "id": "287ce152",
   "metadata": {},
   "source": [
    "#### Merging the `street_name_filled` back into Main Dataset"
   ]
  },
  {
   "cell_type": "code",
   "execution_count": 70,
   "id": "2d7de8c2",
   "metadata": {},
   "outputs": [
    {
     "name": "stdout",
     "output_type": "stream",
     "text": [
      "✅ Merged dataset shape: (88850, 11)\n"
     ]
    }
   ],
   "source": [
    "bike_lanes_enriched = bike_lanes_final.copy()\n",
    "\n",
    "bike_lanes_enriched = (\n",
    "    bike_lanes_enriched\n",
    "    .merge(\n",
    "        geocoded_with_id[[\"bikelane_id\", \"street_name_filled\"]],\n",
    "        on=\"bikelane_id\",\n",
    "        how=\"left\"\n",
    "    )\n",
    ")\n",
    "\n",
    "bike_lanes_enriched[\"street_name\"] = bike_lanes_enriched[\"street_name\"].fillna(\n",
    "    bike_lanes_enriched[\"street_name_filled\"]\n",
    ")\n",
    "\n",
    "bike_lanes_enriched = bike_lanes_enriched.drop(columns=[\"street_name_filled\"])\n",
    "print(\"✅ Merged dataset shape:\", bike_lanes_enriched.shape)"
   ]
  },
  {
   "cell_type": "markdown",
   "id": "6f521596",
   "metadata": {},
   "source": [
    "#### Verifying that all `street_name`s are filled"
   ]
  },
  {
   "cell_type": "code",
   "execution_count": 71,
   "id": "9583fa4a",
   "metadata": {},
   "outputs": [
    {
     "name": "stdout",
     "output_type": "stream",
     "text": [
      "Remaining missing street names: 264\n"
     ]
    }
   ],
   "source": [
    "missing_after_merge = bike_lanes_enriched[\"street_name\"].isna().sum()\n",
    "print(f\"Remaining missing street names: {missing_after_merge}\")"
   ]
  },
  {
   "cell_type": "markdown",
   "id": "c301c6ec",
   "metadata": {},
   "source": [
    "#### Checking Where the remaining missing `street_name` values are"
   ]
  },
  {
   "cell_type": "code",
   "execution_count": 72,
   "id": "601e33c5",
   "metadata": {},
   "outputs": [
    {
     "data": {
      "image/png": "[encoded data removed]",
      "text/plain": [
       "<Figure size 700x700 with 1 Axes>"
      ]
     },
     "metadata": {},
     "output_type": "display_data"
    }
   ],
   "source": [
    "import matplotlib.pyplot as plt\n",
    "\n",
    "# Filter missing street names\n",
    "missing = bike_lanes_enriched[bike_lanes_enriched[\"street_name\"].isna()].copy()\n",
    "\n",
    "# Calculate plot limits with a small buffer\n",
    "lon_min, lon_max = missing[\"longitude\"].min() - 0.01, missing[\"longitude\"].max() + 0.01\n",
    "lat_min, lat_max = missing[\"latitude\"].min() - 0.01, missing[\"latitude\"].max() + 0.01\n",
    "\n",
    "# Create the plot\n",
    "plt.figure(figsize=(7, 7))\n",
    "\n",
    "# Plot all points (with street names)\n",
    "plt.scatter(\n",
    "    bike_lanes_enriched[\"longitude\"], \n",
    "    bike_lanes_enriched[\"latitude\"],\n",
    "    s=5, color=\"lightgreen\", alpha=0.4, label=\"Has Street Name\"\n",
    ")\n",
    "\n",
    "# Plot missing points\n",
    "plt.scatter(\n",
    "    missing[\"longitude\"],\n",
    "    missing[\"latitude\"],\n",
    "    s=25, color=\"red\", alpha=0.9, label=\"Missing Street Name\"\n",
    ")\n",
    "\n",
    "# Apply zoom based on missing data bounds\n",
    "plt.xlim(lon_min, lon_max)\n",
    "plt.ylim(lat_min, lat_max)\n",
    "\n",
    "plt.xlabel(\"Longitude\")\n",
    "plt.ylabel(\"Latitude\")\n",
    "plt.title(f\"Zoomed Map of Remaining Missing Street Names ({len(missing)} points)\")\n",
    "plt.legend()\n",
    "plt.grid(True)\n",
    "plt.show()"
   ]
  },
  {
   "cell_type": "code",
   "execution_count": 73,
   "id": "e3fd2c8f",
   "metadata": {},
   "outputs": [
    {
     "name": "stdout",
     "output_type": "stream",
     "text": [
      "         column  total_rows  num_unique  num_nulls  num_non_null_values\n",
      "0   bikelane_id       88850       78865       9509                79341\n",
      "1   street_name       88850        8590        264                88586\n",
      "2      geometry       88850       84822          0                88850\n",
      "3      cycleway       88850          15      82243                 6607\n",
      "4     condition       88850           3      79379                 9471\n",
      "5       surface       88850          30      12082                76768\n",
      "6       highway       88850          23       9522                79328\n",
      "7     lane_type       88850           4      79380                 9470\n",
      "8        length       88850         651      79380                 9470\n",
      "9      latitude       88850       83382          0                88850\n",
      "10    longitude       88850       84116          0                88850\n"
     ]
    }
   ],
   "source": [
    "summary_data = []\n",
    "\n",
    "# Total number of rows\n",
    "total_rows = len(bike_lanes_enriched)\n",
    "\n",
    "# Loop through each column\n",
    "for col in bike_lanes_enriched.columns:\n",
    "    num_nulls = bike_lanes_enriched[col].isna().sum()\n",
    "    num_unique = bike_lanes_enriched[col].nunique()\n",
    "    num_non_null_values = total_rows - num_nulls\n",
    "    summary_data.append({\n",
    "        \"column\": col,\n",
    "        \"total_rows\": total_rows,\n",
    "        \"num_unique\": num_unique,\n",
    "        \"num_nulls\": num_nulls,\n",
    "        \"num_non_null_values\": num_non_null_values\n",
    "    })\n",
    "\n",
    "# Convert to DataFrame\n",
    "eda_summary = pd.DataFrame(summary_data)\n",
    "\n",
    "# Display\n",
    "print(eda_summary)"
   ]
  },
  {
   "cell_type": "code",
   "execution_count": 75,
   "id": "a26b7200",
   "metadata": {},
   "outputs": [
    {
     "name": "stdout",
     "output_type": "stream",
     "text": [
      "cycleway       92.67%\n",
      "condition      89.28%\n",
      "lane_type      89.28%\n",
      "length         89.28%\n",
      "street_name    14.64%\n",
      "surface        13.58%\n",
      "highway        10.77%\n",
      "bikelane_id    10.76%\n",
      "geometry         0.0%\n",
      "latitude         0.0%\n",
      "longitude        0.0%\n",
      "dtype: object\n"
     ]
    }
   ],
   "source": [
    "missing_percent = (bike_lanes_final.isna().mean() * 100).round(2)\n",
    "missing_percent = missing_percent.astype(str) + '%'\n",
    "print(missing_percent.sort_values(ascending=False))"
   ]
  }
 ],
 "metadata": {
  "kernelspec": {
   "display_name": "base",
   "language": "python",
   "name": "python3"
  },
  "language_info": {
   "codemirror_mode": {
    "name": "ipython",
    "version": 3
   },
   "file_extension": ".py",
   "mimetype": "text/x-python",
   "name": "python",
   "nbconvert_exporter": "python",
   "pygments_lexer": "ipython3",
   "version": "3.13.5"
  }
 },
 "nbformat": 4,
 "nbformat_minor": 5
}
