{
 "cells": [
  {
   "cell_type": "markdown",
   "id": "dd10272e",
   "metadata": {},
   "source": [
    "# Bike Lane Data Transformation"
   ]
  },
  {
   "cell_type": "markdown",
   "id": "e18816c1",
   "metadata": {},
   "source": [
    "## Data Cleaning and Normalisation"
   ]
  },
  {
   "cell_type": "markdown",
   "id": "a63d9ab7",
   "metadata": {},
   "source": [
    "### The Purpose of this Notebook"
   ]
  },
  {
   "cell_type": "markdown",
   "id": "e246c7cb",
   "metadata": {},
   "source": [
    "- Load the necessary Python libraries\n",
    "- Upload the OSM, Fahrradstrassen and radverkehrsanlagen GeoJSON files\n",
    "- Clean data\n",
    "- Standardise column names for consistency\n",
    "- Compare OSM and Datasets from Geoportal Berlin (ie. gaps, mismatches, etc.)\n",
    "- Verify Fahrradstraßen tagging is consistent in the OSM dataset\n",
    "- Create a unified dataset with OSM as the base with validations from the Geoportal Berlin datasets"
   ]
  },
  {
   "cell_type": "markdown",
   "id": "697cb58b",
   "metadata": {},
   "source": [
    "### 1. Importing Libraries"
   ]
  },
  {
   "cell_type": "code",
   "execution_count": 3,
   "id": "33dee9b6",
   "metadata": {},
   "outputs": [],
   "source": [
    "import pandas as pd\n",
    "import geopandas as gpd\n",
    "import numpy as np\n",
    "import osmnx as ox"
   ]
  },
  {
   "cell_type": "markdown",
   "id": "c5f95f7c",
   "metadata": {},
   "source": [
    "### 2. Load Data"
   ]
  },
  {
   "cell_type": "markdown",
   "id": "43ccbaf0",
   "metadata": {},
   "source": [
    "#### Loading local GeoJSON files"
   ]
  },
  {
   "cell_type": "code",
   "execution_count": 14,
   "id": "8b370c8b",
   "metadata": {},
   "outputs": [],
   "source": [
    "osm = gpd.read_file(\"osm_bikelanes_raw.geojson\")\n",
    "frd = gpd.read_file(\"fahrradstrassen.geojson\")\n",
    "rvkr = gpd.read_file(\"radverkehrsanlagen.geojson\")"
   ]
  },
  {
   "cell_type": "markdown",
   "id": "6436b39c",
   "metadata": {},
   "source": [
    "### 3. Overview and Normalisation of Column Names  "
   ]
  },
  {
   "cell_type": "markdown",
   "id": "4ce9f6e1",
   "metadata": {},
   "source": [
    "#### Quick overview of files"
   ]
  },
  {
   "cell_type": "code",
   "execution_count": 15,
   "id": "8b9c9199",
   "metadata": {},
   "outputs": [
    {
     "name": "stdout",
     "output_type": "stream",
     "text": [
      "OSM: (78865, 1064)\n",
      "Fahrradstraßen: (57, 6)\n",
      "Radverkehrsanlagen: (18641, 13)\n"
     ]
    }
   ],
   "source": [
    "print(\"OSM:\", osm.shape)\n",
    "print(\"Fahrradstraßen:\", frd.shape)\n",
    "print(\"Radverkehrsanlagen:\", rvkr.shape)"
   ]
  },
  {
   "cell_type": "markdown",
   "id": "2e861315",
   "metadata": {},
   "source": [
    "#### OSM data"
   ]
  },
  {
   "cell_type": "code",
   "execution_count": 19,
   "id": "3061a2f9",
   "metadata": {},
   "outputs": [
    {
     "name": "stdout",
     "output_type": "stream",
     "text": [
      "OSM Bike Lanes Columns & Data Types\n",
      "<class 'geopandas.geodataframe.GeoDataFrame'>\n",
      "RangeIndex: 78865 entries, 0 to 78864\n",
      "Columns: 1064 entries, id to geometry\n",
      "dtypes: datetime64[ms](22), geometry(1), object(1041)\n",
      "memory usage: 640.2+ MB\n"
     ]
    }
   ],
   "source": [
    "print(\"OSM Bike Lanes Columns & Data Types\")\n",
    "osm.info()"
   ]
  },
  {
   "cell_type": "markdown",
   "id": "ec66354c",
   "metadata": {},
   "source": [
    "##### Selecting the relevant columns"
   ]
  },
  {
   "cell_type": "code",
   "execution_count": 20,
   "id": "18d5e3b7",
   "metadata": {},
   "outputs": [],
   "source": [
    "columns_to_keep = [\"id\", \"geometry\", \"cycleway\", \"surface\", \"smoothness\"]\n",
    "osm_small = osm[columns_to_keep].copy()"
   ]
  },
  {
   "cell_type": "markdown",
   "id": "2f8bc55a",
   "metadata": {},
   "source": [
    "##### Renaming \"id\" to \"bikelane_id\""
   ]
  },
  {
   "cell_type": "code",
   "execution_count": 38,
   "id": "71e806d2",
   "metadata": {},
   "outputs": [],
   "source": [
    "osm_small.rename(columns={\"id\": \"bikelane_id\"}, inplace=True)\n",
    "osm_small.rename(columns={\"smoothness\": \"condition\"}, inplace=True)"
   ]
  },
  {
   "cell_type": "markdown",
   "id": "5f3032ea",
   "metadata": {},
   "source": [
    "##### Checking the Output of the Reduced OSM Data"
   ]
  },
  {
   "cell_type": "code",
   "execution_count": 39,
   "id": "c0501c9e",
   "metadata": {},
   "outputs": [
    {
     "name": "stdout",
     "output_type": "stream",
     "text": [
      "OSM Bike Lanes Columns & Data Types (reduced)\n",
      "<class 'geopandas.geodataframe.GeoDataFrame'>\n",
      "RangeIndex: 78865 entries, 0 to 78864\n",
      "Data columns (total 5 columns):\n",
      " #   Column       Non-Null Count  Dtype   \n",
      "---  ------       --------------  -----   \n",
      " 0   bikelane_id  78865 non-null  object  \n",
      " 1   geometry     78865 non-null  geometry\n",
      " 2   cycleway     6479 non-null   object  \n",
      " 3   surface      76376 non-null  object  \n",
      " 4   condition    48139 non-null  object  \n",
      "dtypes: geometry(1), object(4)\n",
      "memory usage: 3.0+ MB\n"
     ]
    }
   ],
   "source": [
    "print(\"OSM Bike Lanes Columns & Data Types (reduced)\")\n",
    "osm_small.info()\n"
   ]
  },
  {
   "cell_type": "markdown",
   "id": "d1476fe2",
   "metadata": {},
   "source": [
    "##### Note: \n",
    "With a total of 1064 columns, having 1041 object columns, 22 datetime columns and 1 geometry column this is too much to keep for the purposes of the project. \n",
    "\n",
    "Based on the parameters of the project, the following columns will be isolated to keep the relevant fields: \n",
    "\n",
    "- bikelane_id *(which may be used as the bikelane_id)*\n",
    "- geometry *(the line geometry)*\n",
    "- cycleway *(type of bike lane)*\n",
    "- surface *(material type of the lane)*\n",
    "- condition *(condition of bike lane)*"
   ]
  },
  {
   "cell_type": "markdown",
   "id": "94cfc46e",
   "metadata": {},
   "source": [
    "##### OSM Dataset - Columns Overview\n",
    "\n",
    "| Column       | Non-Null Count | Data Type | Description                                   |\n",
    "|--------------|----------------|-----------|-----------------------------------------------|\n",
    "| `bikelane_id`| 78,865         | object    | Unique identifier for each bike lane segment   |\n",
    "| `geometry`   | 78,865         | geometry  | Spatial geometry of the bike lane (line/polygon) |\n",
    "| `cycleway`   | 6,479          | object    | Type of cycleway (tag from OSM, often sparse) |\n",
    "| `surface`    | 76,376         | object    | Surface material of the bike lane (e.g., asphalt, dirt) |\n",
    "| `condition` | 48,139         | object    | Condition/rideability of the bike lane        |"
   ]
  },
  {
   "cell_type": "code",
   "execution_count": 23,
   "id": "902d1994",
   "metadata": {},
   "outputs": [
    {
     "data": {
      "text/html": [
       "<div>\n",
       "<style scoped>\n",
       "    .dataframe tbody tr th:only-of-type {\n",
       "        vertical-align: middle;\n",
       "    }\n",
       "\n",
       "    .dataframe tbody tr th {\n",
       "        vertical-align: top;\n",
       "    }\n",
       "\n",
       "    .dataframe thead th {\n",
       "        text-align: right;\n",
       "    }\n",
       "</style>\n",
       "<table border=\"1\" class=\"dataframe\">\n",
       "  <thead>\n",
       "    <tr style=\"text-align: right;\">\n",
       "      <th></th>\n",
       "      <th>bikelane_id</th>\n",
       "      <th>geometry</th>\n",
       "      <th>cycleway</th>\n",
       "      <th>surface</th>\n",
       "      <th>smoothness</th>\n",
       "    </tr>\n",
       "  </thead>\n",
       "  <tbody>\n",
       "    <tr>\n",
       "      <th>0</th>\n",
       "      <td>way/43998936</td>\n",
       "      <td>POLYGON ((13.60278 52.53787, 13.60269 52.53786...</td>\n",
       "      <td>None</td>\n",
       "      <td>asphalt</td>\n",
       "      <td>good</td>\n",
       "    </tr>\n",
       "    <tr>\n",
       "      <th>1</th>\n",
       "      <td>way/517805554</td>\n",
       "      <td>POLYGON ((13.46367 52.47111, 13.46348 52.47116...</td>\n",
       "      <td>no</td>\n",
       "      <td>paving_stones</td>\n",
       "      <td>good</td>\n",
       "    </tr>\n",
       "    <tr>\n",
       "      <th>2</th>\n",
       "      <td>way/1186003574</td>\n",
       "      <td>POLYGON ((13.34615 52.58978, 13.34614 52.58978...</td>\n",
       "      <td>lane</td>\n",
       "      <td>None</td>\n",
       "      <td>None</td>\n",
       "    </tr>\n",
       "    <tr>\n",
       "      <th>3</th>\n",
       "      <td>way/1186011275</td>\n",
       "      <td>POLYGON ((13.34569 52.58962, 13.3457 52.58961,...</td>\n",
       "      <td>lane</td>\n",
       "      <td>None</td>\n",
       "      <td>None</td>\n",
       "    </tr>\n",
       "    <tr>\n",
       "      <th>4</th>\n",
       "      <td>way/1187324842</td>\n",
       "      <td>POLYGON ((13.42565 52.48772, 13.42563 52.48772...</td>\n",
       "      <td>crossing</td>\n",
       "      <td>None</td>\n",
       "      <td>None</td>\n",
       "    </tr>\n",
       "  </tbody>\n",
       "</table>\n",
       "</div>"
      ],
      "text/plain": [
       "      bikelane_id                                           geometry  \\\n",
       "0    way/43998936  POLYGON ((13.60278 52.53787, 13.60269 52.53786...   \n",
       "1   way/517805554  POLYGON ((13.46367 52.47111, 13.46348 52.47116...   \n",
       "2  way/1186003574  POLYGON ((13.34615 52.58978, 13.34614 52.58978...   \n",
       "3  way/1186011275  POLYGON ((13.34569 52.58962, 13.3457 52.58961,...   \n",
       "4  way/1187324842  POLYGON ((13.42565 52.48772, 13.42563 52.48772...   \n",
       "\n",
       "   cycleway        surface smoothness  \n",
       "0      None        asphalt       good  \n",
       "1        no  paving_stones       good  \n",
       "2      lane           None       None  \n",
       "3      lane           None       None  \n",
       "4  crossing           None       None  "
      ]
     },
     "metadata": {},
     "output_type": "display_data"
    }
   ],
   "source": [
    "display(osm_small.head())"
   ]
  },
  {
   "cell_type": "markdown",
   "id": "8f749625",
   "metadata": {},
   "source": [
    "#### Fahrradstraßen "
   ]
  },
  {
   "cell_type": "code",
   "execution_count": 36,
   "id": "f4394e8b",
   "metadata": {},
   "outputs": [
    {
     "name": "stdout",
     "output_type": "stream",
     "text": [
      "Fahrradstraßen Bike Lanes Columns & Data Types\n",
      "<class 'geopandas.geodataframe.GeoDataFrame'>\n",
      "RangeIndex: 57 entries, 0 to 56\n",
      "Data columns (total 6 columns):\n",
      " #   Column       Non-Null Count  Dtype   \n",
      "---  ------       --------------  -----   \n",
      " 0   bikelane_id  57 non-null     int32   \n",
      " 1   district     57 non-null     object  \n",
      " 2   street_name  57 non-null     object  \n",
      " 3   designation  57 non-null     object  \n",
      " 4   section      33 non-null     object  \n",
      " 5   geometry     57 non-null     geometry\n",
      "dtypes: geometry(1), int32(1), object(4)\n",
      "memory usage: 2.6+ KB\n"
     ]
    }
   ],
   "source": [
    "print(\"Fahrradstraßen Bike Lanes Columns & Data Types\")\n",
    "frd.info()"
   ]
  },
  {
   "cell_type": "markdown",
   "id": "1affd15f",
   "metadata": {},
   "source": [
    "##### Note: \n",
    "Based on the parameters of the project, the following columns will be isolated to keep the relevant fields: \n",
    "\n",
    "- bikelane_id (may differ from id type in OSM table, may need to link to OSM table using geometry)\n",
    "- district_id (link to core districts table in ERD)\n",
    "- district (link to core districts table in ERD)\n",
    "- neighborhood_id (link to core neighborhoods table in ERD)\n",
    "- neighborhood (link to core neighborhoods table in ERD)\n",
    "- geometry (link to OSM table (base dataset for this project))\n",
    "- lane_type (same as cycleway in OSM)\n",
    "- length\n",
    "- condition (same as condition in OSM)"
   ]
  },
  {
   "cell_type": "markdown",
   "id": "56c76545",
   "metadata": {},
   "source": [
    "##### Fahrradstraßen Dataset – Column Translations & Overview\n",
    "| German     | English    | Non-Null Count | Data Type | Description                                                                 |\n",
    "|------------|--------------|----------------|-----------|-----------------------------------------------------------------------------|\n",
    "| `id`       | id           |57             | int32     | Unique identifier for each entry                                            |\n",
    "| `bezirk`   | district     |57             | object    | Berlin district the bike street belongs to                                  |\n",
    "| `strasse`  | street       |57             | object    | Street name                                                                 |\n",
    "| `freigabe` | designation  |57             | object    | Authorization/designation (official confirmation as Fahrradstraße)           |\n",
    "| `abschnitt`| section      |33             | object    | Section of the street (may be missing if not applicable)                     |\n",
    "| `geometry` | geometry     |57             | geometry  | Spatial geometry of the bike street segment                                 |\n"
   ]
  },
  {
   "cell_type": "code",
   "execution_count": 25,
   "id": "3aff3505",
   "metadata": {},
   "outputs": [
    {
     "data": {
      "text/html": [
       "<div>\n",
       "<style scoped>\n",
       "    .dataframe tbody tr th:only-of-type {\n",
       "        vertical-align: middle;\n",
       "    }\n",
       "\n",
       "    .dataframe tbody tr th {\n",
       "        vertical-align: top;\n",
       "    }\n",
       "\n",
       "    .dataframe thead th {\n",
       "        text-align: right;\n",
       "    }\n",
       "</style>\n",
       "<table border=\"1\" class=\"dataframe\">\n",
       "  <thead>\n",
       "    <tr style=\"text-align: right;\">\n",
       "      <th></th>\n",
       "      <th>id</th>\n",
       "      <th>bezirk</th>\n",
       "      <th>strasse</th>\n",
       "      <th>freigabe</th>\n",
       "      <th>abschnitt</th>\n",
       "      <th>geometry</th>\n",
       "    </tr>\n",
       "  </thead>\n",
       "  <tbody>\n",
       "    <tr>\n",
       "      <th>0</th>\n",
       "      <td>1</td>\n",
       "      <td>Marzahn-Hellersdorf</td>\n",
       "      <td>Alberichstraße</td>\n",
       "      <td>2003</td>\n",
       "      <td>Hadubrandweg - Alfelder Straße</td>\n",
       "      <td>MULTILINESTRING ((402133.284 5816807.644, 4021...</td>\n",
       "    </tr>\n",
       "    <tr>\n",
       "      <th>1</th>\n",
       "      <td>2</td>\n",
       "      <td>Pankow</td>\n",
       "      <td>Norwegerstraße</td>\n",
       "      <td>2005</td>\n",
       "      <td>Behmstraße - Bösebrücke Nr. 1 bis Nr. 6, Finnl...</td>\n",
       "      <td>MULTILINESTRING ((391486.356 5823711.95, 39150...</td>\n",
       "    </tr>\n",
       "    <tr>\n",
       "      <th>2</th>\n",
       "      <td>3</td>\n",
       "      <td>Pankow</td>\n",
       "      <td>Schwedter Straße</td>\n",
       "      <td>2005</td>\n",
       "      <td>Gleimstraße - Schwedter Steg von Nr. 76 bis Nr...</td>\n",
       "      <td>MULTILINESTRING ((391537.944 5823276.792, 3915...</td>\n",
       "    </tr>\n",
       "    <tr>\n",
       "      <th>3</th>\n",
       "      <td>4</td>\n",
       "      <td>Lichtenberg</td>\n",
       "      <td>Orankeweg</td>\n",
       "      <td>2007</td>\n",
       "      <td>Hansastraße - Orankestraße</td>\n",
       "      <td>MULTILINESTRING ((396415.785 5823069.715, 3964...</td>\n",
       "    </tr>\n",
       "    <tr>\n",
       "      <th>4</th>\n",
       "      <td>5</td>\n",
       "      <td>Charlottenburg-Wilmersdorf</td>\n",
       "      <td>Teufelsseechaussee</td>\n",
       "      <td>2007</td>\n",
       "      <td>Teufelsseestraße - Grunewald (bzw. Nr. 13 und ...</td>\n",
       "      <td>MULTILINESTRING ((380754.31 5817467.889, 38077...</td>\n",
       "    </tr>\n",
       "  </tbody>\n",
       "</table>\n",
       "</div>"
      ],
      "text/plain": [
       "   id                      bezirk             strasse freigabe  \\\n",
       "0   1         Marzahn-Hellersdorf      Alberichstraße     2003   \n",
       "1   2                      Pankow      Norwegerstraße     2005   \n",
       "2   3                      Pankow    Schwedter Straße     2005   \n",
       "3   4                 Lichtenberg           Orankeweg     2007   \n",
       "4   5  Charlottenburg-Wilmersdorf  Teufelsseechaussee     2007   \n",
       "\n",
       "                                           abschnitt  \\\n",
       "0                     Hadubrandweg - Alfelder Straße   \n",
       "1  Behmstraße - Bösebrücke Nr. 1 bis Nr. 6, Finnl...   \n",
       "2  Gleimstraße - Schwedter Steg von Nr. 76 bis Nr...   \n",
       "3                         Hansastraße - Orankestraße   \n",
       "4  Teufelsseestraße - Grunewald (bzw. Nr. 13 und ...   \n",
       "\n",
       "                                            geometry  \n",
       "0  MULTILINESTRING ((402133.284 5816807.644, 4021...  \n",
       "1  MULTILINESTRING ((391486.356 5823711.95, 39150...  \n",
       "2  MULTILINESTRING ((391537.944 5823276.792, 3915...  \n",
       "3  MULTILINESTRING ((396415.785 5823069.715, 3964...  \n",
       "4  MULTILINESTRING ((380754.31 5817467.889, 38077...  "
      ]
     },
     "metadata": {},
     "output_type": "display_data"
    }
   ],
   "source": [
    "display(frd.head())"
   ]
  },
  {
   "cell_type": "markdown",
   "id": "774bce99",
   "metadata": {},
   "source": [
    "##### Column Name Normalisation"
   ]
  },
  {
   "cell_type": "code",
   "execution_count": 35,
   "id": "735487ac",
   "metadata": {},
   "outputs": [
    {
     "name": "stdout",
     "output_type": "stream",
     "text": [
      "Normalised Fahrradstraßen Columns:\n",
      "Index(['bikelane_id', 'district', 'street_name', 'designation', 'section',\n",
      "       'geometry'],\n",
      "      dtype='object')\n"
     ]
    }
   ],
   "source": [
    "frd = frd.rename(columns={\n",
    "    \"id\": \"bikelane_id\",\n",
    "    \"bezirk\": \"district\",\n",
    "    \"strasse\": \"street_name\",\n",
    "    \"freigabe\": \"designation\",\n",
    "    \"abschnitt\": \"section\"\n",
    "})\n",
    "\n",
    "\n",
    "print(\"Normalised Fahrradstraßen Columns:\")\n",
    "print(frd.columns)"
   ]
  },
  {
   "cell_type": "markdown",
   "id": "1f230fd4",
   "metadata": {},
   "source": [
    "*Note for columns names:* \n",
    "- *Both OSM, Fahrradstraßen and radverkehrsanlagen have columns called `geometry` and `street_name` which will be used after data cleaning to cross-check and integrate the 3 datasets*\n"
   ]
  },
  {
   "cell_type": "markdown",
   "id": "b35739e0",
   "metadata": {},
   "source": [
    "#### Radverkehrsanlagen "
   ]
  },
  {
   "cell_type": "code",
   "execution_count": 37,
   "id": "ceb2a9ef",
   "metadata": {},
   "outputs": [
    {
     "name": "stdout",
     "output_type": "stream",
     "text": [
      "Radverkehrsanlagen Bike Lanes Columns & Data Types\n",
      "<class 'geopandas.geodataframe.GeoDataFrame'>\n",
      "RangeIndex: 18641 entries, 0 to 18640\n",
      "Data columns (total 13 columns):\n",
      " #   Column     Non-Null Count  Dtype   \n",
      "---  ------     --------------  -----   \n",
      " 0   id         18641 non-null  object  \n",
      " 1   importid   18641 non-null  int32   \n",
      " 2   sobj_kz    18641 non-null  object  \n",
      " 3   segm_segm  18641 non-null  object  \n",
      " 4   segm_bez   2430 non-null   object  \n",
      " 5   stst_str   18641 non-null  object  \n",
      " 6   stor_name  18641 non-null  object  \n",
      " 7   ortstl     18641 non-null  object  \n",
      " 8   rva_typ    18641 non-null  object  \n",
      " 9   sorvt_typ  18641 non-null  object  \n",
      " 10  laenge     18641 non-null  int32   \n",
      " 11  b_pflicht  18641 non-null  object  \n",
      " 12  geometry   18641 non-null  geometry\n",
      "dtypes: geometry(1), int32(2), object(10)\n",
      "memory usage: 1.7+ MB\n"
     ]
    }
   ],
   "source": [
    "print(\"Radverkehrsanlagen Bike Lanes Columns & Data Types\")\n",
    "rvkr.info()"
   ]
  },
  {
   "cell_type": "markdown",
   "id": "6470536a",
   "metadata": {},
   "source": [
    "##### Radverkehrsanlagen Dataset – Column Translations & Overview\n",
    "\n",
    "| German | English        | Non-Null Count | Data Type | Description                                                                 |\n",
    "|-----------------|-------------------------|----------------|-----------|-----------------------------------------------------------------------------|\n",
    "| `id`            | id                      | 18,641         | object    | Unique identifier for each entry                                            |\n",
    "| `importid`      | import_id               | 18,641         | int32     | Internal import identifier                                                  |\n",
    "| `sobj_kz`       | object_code             | 18,641         | object    | Object classification code                                                  |\n",
    "| `segm_segm`     | segment_id              | 18,641         | object    | Segment identifier                                                          |\n",
    "| `segm_bez`      | segment_name            | 2,430          | object    | Segment name/label (mostly missing)                                         |\n",
    "| `stst_str`      | street_code             | 18,641         | object    | Encoded street identifier                                                   |\n",
    "| `stor_name`     | street_name             | 18,641         | object    | Street name                                                                 |\n",
    "| `ortstl`        | locality                | 18,641         | object    | Locality / neighborhood                                                     |\n",
    "| `rva_typ`       | bike_facility_type      | 18,641         | object    | Type of bike infrastructure (e.g., lane, track, path)                       |\n",
    "| `sorvt_typ`     | facility_subtype        | 18,641         | object    | Subtype / further classification of the bike facility                       |\n",
    "| `laenge`        | length_m                | 18,641         | int32     | Length of the bike facility segment (meters)                                |\n",
    "| `b_pflicht`     | mandatory_designation   | 18,641         | object    | Indicates if bike lane use is mandatory (German traffic law, “benutzungspflicht”) |\n",
    "| `geometry`      | geometry                | 18,641         | geometry  | Spatial geometry of the bike facility                                       |\n"
   ]
  },
  {
   "cell_type": "markdown",
   "id": "ba2f1dcf",
   "metadata": {},
   "source": [
    "##### Column Name Normalisation"
   ]
  },
  {
   "cell_type": "code",
   "execution_count": null,
   "id": "52f57249",
   "metadata": {},
   "outputs": [
    {
     "name": "stdout",
     "output_type": "stream",
     "text": [
      "Index(['bikelane_id', 'street_name', 'neighborhood', 'lane_type', 'length',\n",
      "       'condition', 'geometry', 'district'],\n",
      "      dtype='object')\n"
     ]
    },
    {
     "data": {
      "text/html": [
       "<div>\n",
       "<style scoped>\n",
       "    .dataframe tbody tr th:only-of-type {\n",
       "        vertical-align: middle;\n",
       "    }\n",
       "\n",
       "    .dataframe tbody tr th {\n",
       "        vertical-align: top;\n",
       "    }\n",
       "\n",
       "    .dataframe thead th {\n",
       "        text-align: right;\n",
       "    }\n",
       "</style>\n",
       "<table border=\"1\" class=\"dataframe\">\n",
       "  <thead>\n",
       "    <tr style=\"text-align: right;\">\n",
       "      <th></th>\n",
       "      <th>bikelane_id</th>\n",
       "      <th>street_name</th>\n",
       "      <th>neighborhood</th>\n",
       "      <th>lane_type</th>\n",
       "      <th>length</th>\n",
       "      <th>condition</th>\n",
       "      <th>geometry</th>\n",
       "      <th>district</th>\n",
       "    </tr>\n",
       "  </thead>\n",
       "  <tbody>\n",
       "    <tr>\n",
       "      <th>0</th>\n",
       "      <td>b_radverkehrsanlagen.1</td>\n",
       "      <td>Marzahn-Hellersdorf</td>\n",
       "      <td>Kaulsdorf</td>\n",
       "      <td>Radwege</td>\n",
       "      <td>26</td>\n",
       "      <td>ja</td>\n",
       "      <td>MULTILINESTRING ((403754.607 5818158.525, 403780.662 5818156.986))</td>\n",
       "      <td>10-000415</td>\n",
       "    </tr>\n",
       "    <tr>\n",
       "      <th>1</th>\n",
       "      <td>b_radverkehrsanlagen.2</td>\n",
       "      <td>Marzahn-Hellersdorf</td>\n",
       "      <td>Mahlsdorf</td>\n",
       "      <td>Radwege</td>\n",
       "      <td>16</td>\n",
       "      <td>ja</td>\n",
       "      <td>MULTILINESTRING ((405403.96 5818088.543, 405410.213 5818087.293, 405415.187 5818087.199, 405420.175 5818087.782))</td>\n",
       "      <td>10-000039</td>\n",
       "    </tr>\n",
       "    <tr>\n",
       "      <th>2</th>\n",
       "      <td>b_radverkehrsanlagen.3</td>\n",
       "      <td>Marzahn-Hellersdorf</td>\n",
       "      <td>Mahlsdorf</td>\n",
       "      <td>Radwege</td>\n",
       "      <td>510</td>\n",
       "      <td>nein</td>\n",
       "      <td>MULTILINESTRING ((404896.216 5818112.451, 404911.818 5818112.154, 404953.426 5818111.589, 404963.819 5818110.939, 405003.38 5818109.734, 405025.991 5818109.304, 405148.339 5818105.167, 405198.014 5818103.544, 405238.601 5818102.772, 405315.166 5818099.732, 405318.505 5818099.895, 405335.86 5818096.624, 405373.16 5818095.462, 405383.939 5818094.353, 405388.461 5818094.267, 405399.024 5818090.673, 405403.96 5818088.543))</td>\n",
       "      <td>10-000038</td>\n",
       "    </tr>\n",
       "    <tr>\n",
       "      <th>3</th>\n",
       "      <td>b_radverkehrsanlagen.4</td>\n",
       "      <td>Marzahn-Hellersdorf</td>\n",
       "      <td>Biesdorf</td>\n",
       "      <td>Radwege</td>\n",
       "      <td>76</td>\n",
       "      <td>ja</td>\n",
       "      <td>MULTILINESTRING ((402391.01 5818565.356, 402415.129 5818554.064, 402456.963 5818527.768))</td>\n",
       "      <td>10-000011</td>\n",
       "    </tr>\n",
       "    <tr>\n",
       "      <th>4</th>\n",
       "      <td>b_radverkehrsanlagen.5</td>\n",
       "      <td>Marzahn-Hellersdorf</td>\n",
       "      <td>Biesdorf</td>\n",
       "      <td>Radwege</td>\n",
       "      <td>192</td>\n",
       "      <td>ja</td>\n",
       "      <td>MULTILINESTRING ((402456.963 5818527.768, 402494.839 5818503.713, 402532.87 5818478.99, 402553.561 5818467.096, 402577.292 5818452.978, 402621.5 5818428.803))</td>\n",
       "      <td>10-000012</td>\n",
       "    </tr>\n",
       "  </tbody>\n",
       "</table>\n",
       "</div>"
      ],
      "text/plain": [
       "              bikelane_id          street_name neighborhood lane_type  length  \\\n",
       "0  b_radverkehrsanlagen.1  Marzahn-Hellersdorf    Kaulsdorf   Radwege      26   \n",
       "1  b_radverkehrsanlagen.2  Marzahn-Hellersdorf    Mahlsdorf   Radwege      16   \n",
       "2  b_radverkehrsanlagen.3  Marzahn-Hellersdorf    Mahlsdorf   Radwege     510   \n",
       "3  b_radverkehrsanlagen.4  Marzahn-Hellersdorf     Biesdorf   Radwege      76   \n",
       "4  b_radverkehrsanlagen.5  Marzahn-Hellersdorf     Biesdorf   Radwege     192   \n",
       "\n",
       "  condition  \\\n",
       "0        ja   \n",
       "1        ja   \n",
       "2      nein   \n",
       "3        ja   \n",
       "4        ja   \n",
       "\n",
       "                                                                                                                                                                                                                                                                                                                                                                                                                                 geometry  \\\n",
       "0                                                                                                                                                                                                                                                                                                                                                                      MULTILINESTRING ((403754.607 5818158.525, 403780.662 5818156.986))   \n",
       "1                                                                                                                                                                                                                                                                                                                       MULTILINESTRING ((405403.96 5818088.543, 405410.213 5818087.293, 405415.187 5818087.199, 405420.175 5818087.782))   \n",
       "2  MULTILINESTRING ((404896.216 5818112.451, 404911.818 5818112.154, 404953.426 5818111.589, 404963.819 5818110.939, 405003.38 5818109.734, 405025.991 5818109.304, 405148.339 5818105.167, 405198.014 5818103.544, 405238.601 5818102.772, 405315.166 5818099.732, 405318.505 5818099.895, 405335.86 5818096.624, 405373.16 5818095.462, 405383.939 5818094.353, 405388.461 5818094.267, 405399.024 5818090.673, 405403.96 5818088.543))   \n",
       "3                                                                                                                                                                                                                                                                                                                                               MULTILINESTRING ((402391.01 5818565.356, 402415.129 5818554.064, 402456.963 5818527.768))   \n",
       "4                                                                                                                                                                                                                                                                          MULTILINESTRING ((402456.963 5818527.768, 402494.839 5818503.713, 402532.87 5818478.99, 402553.561 5818467.096, 402577.292 5818452.978, 402621.5 5818428.803))   \n",
       "\n",
       "    district  \n",
       "0  10-000415  \n",
       "1  10-000039  \n",
       "2  10-000038  \n",
       "3  10-000011  \n",
       "4  10-000012  "
      ]
     },
     "execution_count": 41,
     "metadata": {},
     "output_type": "execute_result"
    }
   ],
   "source": [
    "# Select and rename useful columns\n",
    "rvkr_small = rvkr[[\n",
    "    \"id\", \"stor_name\", \"ortstl\", \"rva_typ\", \"laenge\", \"b_pflicht\", \"geometry\", \"sobj_kz\"\n",
    "]].copy()\n",
    "\n",
    "rvkr_small = rvkr_small.rename(columns={\n",
    "    \"id\": \"bikelane_id\",\n",
    "    \"stor_name\": \"street_name\",\n",
    "    \"ortstl\": \"neighborhood\",\n",
    "    \"rva_typ\": \"lane_type\",\n",
    "    \"laenge\": \"length\",\n",
    "    \"b_pflicht\": \"condition\",\n",
    "    \"geometry\": \"geometry\",\n",
    "    \"sobj_kz\": \"district\"   \n",
    "})\n",
    "\n",
    "# Check the result\n",
    "print(rvkr_small.columns)\n",
    "rvkr_small.head()"
   ]
  },
  {
   "cell_type": "markdown",
   "id": "75a8a6f2",
   "metadata": {},
   "source": [
    "*Note for later standardisation of columns:* \n",
    "- *OSM Geometry dataset column follows the following syntax: `Polygon((....))`*\n",
    "- *Fahrradstraßen & radverkehrsanlagen datasets  Geometry column follows the following syntax: `Multilinestring((...), (...), (...), (...))`*"
   ]
  },
  {
   "cell_type": "markdown",
   "id": "a310750b",
   "metadata": {},
   "source": []
  }
 ],
 "metadata": {
  "kernelspec": {
   "display_name": "base",
   "language": "python",
   "name": "python3"
  },
  "language_info": {
   "codemirror_mode": {
    "name": "ipython",
    "version": 3
   },
   "file_extension": ".py",
   "mimetype": "text/x-python",
   "name": "python",
   "nbconvert_exporter": "python",
   "pygments_lexer": "ipython3",
   "version": "3.13.5"
  }
 },
 "nbformat": 4,
 "nbformat_minor": 5
}
