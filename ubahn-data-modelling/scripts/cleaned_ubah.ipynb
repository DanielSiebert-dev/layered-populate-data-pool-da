{
 "cells": [
  {
   "cell_type": "code",
   "execution_count": null,
   "id": "1260147c",
   "metadata": {},
   "outputs": [],
   "source": [
    "import pandas as pd\n",
    "\n",
    "# Load the CSV\n",
    "df = pd.read_csv(\"ubahn_with_neighborhoods.csv\")\n",
    "\n",
    "# Count how many times each station appears\n",
    "station_counts = df['station'].value_counts()\n",
    "\n",
    "# Identify duplicated stations\n",
    "duplicated_stations = station_counts[station_counts > 1].index\n",
    "\n",
    "# Filter out rows where:\n",
    "# - the station is duplicated AND the 'line' is null → drop these\n",
    "# - all others (non-duplicates or duplicates with line info) are kept\n",
    "filtered_df = df[~((df['station'].isin(duplicated_stations)) & (df['line'].isna()))]\n",
    "\n",
    "\n",
    "filtered_df.to_csv(\"ubahn.csv\", index=False)"
   ]
  }
 ],
 "metadata": {
  "kernelspec": {
   "display_name": "base",
   "language": "python",
   "name": "python3"
  },
  "language_info": {
   "codemirror_mode": {
    "name": "ipython",
    "version": 3
   },
   "file_extension": ".py",
   "mimetype": "text/x-python",
   "name": "python",
   "nbconvert_exporter": "python",
   "pygments_lexer": "ipython3",
   "version": "3.11.7"
  }
 },
 "nbformat": 4,
 "nbformat_minor": 5
}
